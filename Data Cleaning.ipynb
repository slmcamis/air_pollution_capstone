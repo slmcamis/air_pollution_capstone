{
 "cells": [
  {
   "cell_type": "markdown",
   "metadata": {},
   "source": [
    "# Data Cleaning"
   ]
  },
  {
   "cell_type": "markdown",
   "metadata": {},
   "source": [
    "# Table of Contents"
   ]
  },
  {
   "cell_type": "markdown",
   "metadata": {},
   "source": [
    "1. [Import Libraries](#Import-Libraries)\n",
    "1. [Obtain Data](#Obtain-Data)\n",
    "1. [Check For Nulls](#Check-For-Nulls)\n",
    "1. [Format Data](#Format-Data)\n",
    "1. [Standardize Column Names](#Standardize-Column-Names)\n",
    "1. [Filter observation_percent](#Filter-observation_percent)\n",
    "1. [Create Merge Column](#Create-Merge-Column)\n",
    "1. [Eliminate Duplicates in Merge Column](#Eliminate-Duplicates-in-Merge-Column)\n",
    "1. [Filter sample_duration](#Filter-sample_duration)\n",
    "1. [Aggregate data for merge_column](#Aggregate-data-for-merge_column)\n",
    "1. [Format AQI dataframe](#Format-AQI-dataframe)\n",
    "1. [Merge all dataframes](#Merge-all-dataframes)"
   ]
  },
  {
   "cell_type": "markdown",
   "metadata": {},
   "source": [
    "# Import Libraries"
   ]
  },
  {
   "cell_type": "code",
   "execution_count": 1,
   "metadata": {},
   "outputs": [],
   "source": [
    "import pandas as pd\n",
    "import numpy as np"
   ]
  },
  {
   "cell_type": "code",
   "execution_count": 2,
   "metadata": {},
   "outputs": [],
   "source": [
    "pd.set_option('display.max_columns', 40)"
   ]
  },
  {
   "cell_type": "code",
   "execution_count": 3,
   "metadata": {},
   "outputs": [],
   "source": [
    "import warnings\n",
    "warnings.filterwarnings(\"ignore\")"
   ]
  },
  {
   "cell_type": "markdown",
   "metadata": {},
   "source": [
    "# Obtain Data"
   ]
  },
  {
   "cell_type": "markdown",
   "metadata": {},
   "source": [
    "### Add webscraping"
   ]
  },
  {
   "cell_type": "markdown",
   "metadata": {},
   "source": [
    "All data was downloaded from the EPA website and can be found here: https://aqs.epa.gov/aqsweb/airdata/download_files.html. The EPA only allows data to be pulled for one year at a time. I will use my `combine_annual_data` function to combine these yearly files into one big file. \n",
    "\n",
    "For the scope of this project, I have downloaded data for the 20 years from 2000 through 2019. At the time of this project, the quality of the data from the second half of 2019 has yet to be verified by the EPA. I may decide to drop half or all of 2019 during the EDA phase. "
   ]
  },
  {
   "cell_type": "code",
   "execution_count": 4,
   "metadata": {},
   "outputs": [],
   "source": [
    "def combine_annual_data(measure):\n",
    "    \"\"\"\n",
    "    Combines files for each year into one big file for given measure\n",
    "    \n",
    "    Input:\n",
    "    measure (string) - ['co', 'so2', 'no2', 'o3', 'pm10', 'pm25', \n",
    "                        'aqi', 'pressure', 'temperature', 'wind']\n",
    "    \n",
    "    Output:\n",
    "    dataframe\n",
    "    \"\"\"\n",
    "     \n",
    "    measure_codes = {'co': '42101', 'so2': '42401', 'no2': '42602', 'o3': '44201', \n",
    "                     'pm10': '81102', 'pm25': '88101', 'aqi': 'aqi_by_county',\n",
    "                     'pressure': 'PRESS', 'temperature': 'TEMP', 'wind': 'WIND'}\n",
    "    \n",
    "    prefix = 'all_data\\daily_'\n",
    "    code = measure_codes.get(measure)\n",
    "    suffix = '.csv'\n",
    "    \n",
    "    #Create list of filenames for given measure\n",
    "    filenames = []\n",
    "    for i in range(20):\n",
    "        year = 2000+i\n",
    "        file = prefix + code + '_' + str(year) + suffix\n",
    "        print(f'Adding file {file}')\n",
    "        filenames.append(file)\n",
    "    \n",
    "    print('Combining files...')\n",
    "    df = pd.concat([pd.read_csv(f) for f in filenames], ignore_index = True)\n",
    "    print(f'Done! \\nShape of dataframe for {measure} for 2000-2019: {df.shape}')\n",
    "    return df"
   ]
  },
  {
   "cell_type": "code",
   "execution_count": 5,
   "metadata": {},
   "outputs": [
    {
     "name": "stdout",
     "output_type": "stream",
     "text": [
      "Adding file all_data\\daily_42101_2000.csv\n",
      "Adding file all_data\\daily_42101_2001.csv\n",
      "Adding file all_data\\daily_42101_2002.csv\n",
      "Adding file all_data\\daily_42101_2003.csv\n",
      "Adding file all_data\\daily_42101_2004.csv\n",
      "Adding file all_data\\daily_42101_2005.csv\n",
      "Adding file all_data\\daily_42101_2006.csv\n",
      "Adding file all_data\\daily_42101_2007.csv\n",
      "Adding file all_data\\daily_42101_2008.csv\n",
      "Adding file all_data\\daily_42101_2009.csv\n",
      "Adding file all_data\\daily_42101_2010.csv\n",
      "Adding file all_data\\daily_42101_2011.csv\n",
      "Adding file all_data\\daily_42101_2012.csv\n",
      "Adding file all_data\\daily_42101_2013.csv\n",
      "Adding file all_data\\daily_42101_2014.csv\n",
      "Adding file all_data\\daily_42101_2015.csv\n",
      "Adding file all_data\\daily_42101_2016.csv\n",
      "Adding file all_data\\daily_42101_2017.csv\n",
      "Adding file all_data\\daily_42101_2018.csv\n",
      "Adding file all_data\\daily_42101_2019.csv\n",
      "Combining files...\n",
      "Done! \n",
      "Shape of dataframe for co for 2000-2019: (4976812, 29)\n"
     ]
    }
   ],
   "source": [
    "co = combine_annual_data('co')"
   ]
  },
  {
   "cell_type": "code",
   "execution_count": 6,
   "metadata": {},
   "outputs": [
    {
     "name": "stdout",
     "output_type": "stream",
     "text": [
      "Adding file all_data\\daily_42401_2000.csv\n",
      "Adding file all_data\\daily_42401_2001.csv\n",
      "Adding file all_data\\daily_42401_2002.csv\n",
      "Adding file all_data\\daily_42401_2003.csv\n",
      "Adding file all_data\\daily_42401_2004.csv\n",
      "Adding file all_data\\daily_42401_2005.csv\n",
      "Adding file all_data\\daily_42401_2006.csv\n",
      "Adding file all_data\\daily_42401_2007.csv\n",
      "Adding file all_data\\daily_42401_2008.csv\n",
      "Adding file all_data\\daily_42401_2009.csv\n",
      "Adding file all_data\\daily_42401_2010.csv\n",
      "Adding file all_data\\daily_42401_2011.csv\n",
      "Adding file all_data\\daily_42401_2012.csv\n",
      "Adding file all_data\\daily_42401_2013.csv\n",
      "Adding file all_data\\daily_42401_2014.csv\n",
      "Adding file all_data\\daily_42401_2015.csv\n",
      "Adding file all_data\\daily_42401_2016.csv\n",
      "Adding file all_data\\daily_42401_2017.csv\n",
      "Adding file all_data\\daily_42401_2018.csv\n",
      "Adding file all_data\\daily_42401_2019.csv\n",
      "Combining files...\n",
      "Done! \n",
      "Shape of dataframe for so2 for 2000-2019: (6874455, 29)\n"
     ]
    }
   ],
   "source": [
    "so2 = combine_annual_data('so2')"
   ]
  },
  {
   "cell_type": "code",
   "execution_count": 7,
   "metadata": {},
   "outputs": [
    {
     "name": "stdout",
     "output_type": "stream",
     "text": [
      "Adding file all_data\\daily_42602_2000.csv\n",
      "Adding file all_data\\daily_42602_2001.csv\n",
      "Adding file all_data\\daily_42602_2002.csv\n",
      "Adding file all_data\\daily_42602_2003.csv\n",
      "Adding file all_data\\daily_42602_2004.csv\n",
      "Adding file all_data\\daily_42602_2005.csv\n",
      "Adding file all_data\\daily_42602_2006.csv\n",
      "Adding file all_data\\daily_42602_2007.csv\n",
      "Adding file all_data\\daily_42602_2008.csv\n",
      "Adding file all_data\\daily_42602_2009.csv\n",
      "Adding file all_data\\daily_42602_2010.csv\n",
      "Adding file all_data\\daily_42602_2011.csv\n",
      "Adding file all_data\\daily_42602_2012.csv\n",
      "Adding file all_data\\daily_42602_2013.csv\n",
      "Adding file all_data\\daily_42602_2014.csv\n",
      "Adding file all_data\\daily_42602_2015.csv\n",
      "Adding file all_data\\daily_42602_2016.csv\n",
      "Adding file all_data\\daily_42602_2017.csv\n",
      "Adding file all_data\\daily_42602_2018.csv\n",
      "Adding file all_data\\daily_42602_2019.csv\n",
      "Combining files...\n",
      "Done! \n",
      "Shape of dataframe for no2 for 2000-2019: (2829046, 29)\n"
     ]
    }
   ],
   "source": [
    "no2 = combine_annual_data('no2')"
   ]
  },
  {
   "cell_type": "code",
   "execution_count": 8,
   "metadata": {},
   "outputs": [
    {
     "name": "stdout",
     "output_type": "stream",
     "text": [
      "Adding file all_data\\daily_44201_2000.csv\n",
      "Adding file all_data\\daily_44201_2001.csv\n",
      "Adding file all_data\\daily_44201_2002.csv\n",
      "Adding file all_data\\daily_44201_2003.csv\n",
      "Adding file all_data\\daily_44201_2004.csv\n",
      "Adding file all_data\\daily_44201_2005.csv\n",
      "Adding file all_data\\daily_44201_2006.csv\n",
      "Adding file all_data\\daily_44201_2007.csv\n",
      "Adding file all_data\\daily_44201_2008.csv\n",
      "Adding file all_data\\daily_44201_2009.csv\n",
      "Adding file all_data\\daily_44201_2010.csv\n",
      "Adding file all_data\\daily_44201_2011.csv\n",
      "Adding file all_data\\daily_44201_2012.csv\n",
      "Adding file all_data\\daily_44201_2013.csv\n",
      "Adding file all_data\\daily_44201_2014.csv\n",
      "Adding file all_data\\daily_44201_2015.csv\n",
      "Adding file all_data\\daily_44201_2016.csv\n",
      "Adding file all_data\\daily_44201_2017.csv\n",
      "Adding file all_data\\daily_44201_2018.csv\n",
      "Adding file all_data\\daily_44201_2019.csv\n",
      "Combining files...\n",
      "Done! \n",
      "Shape of dataframe for o3 for 2000-2019: (7281203, 29)\n"
     ]
    }
   ],
   "source": [
    "o3 = combine_annual_data('o3')"
   ]
  },
  {
   "cell_type": "code",
   "execution_count": 9,
   "metadata": {},
   "outputs": [
    {
     "name": "stdout",
     "output_type": "stream",
     "text": [
      "Adding file all_data\\daily_81102_2000.csv\n",
      "Adding file all_data\\daily_81102_2001.csv\n",
      "Adding file all_data\\daily_81102_2002.csv\n",
      "Adding file all_data\\daily_81102_2003.csv\n",
      "Adding file all_data\\daily_81102_2004.csv\n",
      "Adding file all_data\\daily_81102_2005.csv\n",
      "Adding file all_data\\daily_81102_2006.csv\n",
      "Adding file all_data\\daily_81102_2007.csv\n",
      "Adding file all_data\\daily_81102_2008.csv\n",
      "Adding file all_data\\daily_81102_2009.csv\n",
      "Adding file all_data\\daily_81102_2010.csv\n",
      "Adding file all_data\\daily_81102_2011.csv\n",
      "Adding file all_data\\daily_81102_2012.csv\n",
      "Adding file all_data\\daily_81102_2013.csv\n",
      "Adding file all_data\\daily_81102_2014.csv\n",
      "Adding file all_data\\daily_81102_2015.csv\n",
      "Adding file all_data\\daily_81102_2016.csv\n",
      "Adding file all_data\\daily_81102_2017.csv\n",
      "Adding file all_data\\daily_81102_2018.csv\n",
      "Adding file all_data\\daily_81102_2019.csv\n",
      "Combining files...\n",
      "Done! \n",
      "Shape of dataframe for pm10 for 2000-2019: (3047476, 29)\n"
     ]
    }
   ],
   "source": [
    "pm10 = combine_annual_data('pm10')"
   ]
  },
  {
   "cell_type": "code",
   "execution_count": 10,
   "metadata": {},
   "outputs": [
    {
     "name": "stdout",
     "output_type": "stream",
     "text": [
      "Adding file all_data\\daily_88101_2000.csv\n",
      "Adding file all_data\\daily_88101_2001.csv\n",
      "Adding file all_data\\daily_88101_2002.csv\n",
      "Adding file all_data\\daily_88101_2003.csv\n",
      "Adding file all_data\\daily_88101_2004.csv\n",
      "Adding file all_data\\daily_88101_2005.csv\n",
      "Adding file all_data\\daily_88101_2006.csv\n",
      "Adding file all_data\\daily_88101_2007.csv\n",
      "Adding file all_data\\daily_88101_2008.csv\n",
      "Adding file all_data\\daily_88101_2009.csv\n",
      "Adding file all_data\\daily_88101_2010.csv\n",
      "Adding file all_data\\daily_88101_2011.csv\n",
      "Adding file all_data\\daily_88101_2012.csv\n",
      "Adding file all_data\\daily_88101_2013.csv\n",
      "Adding file all_data\\daily_88101_2014.csv\n",
      "Adding file all_data\\daily_88101_2015.csv\n",
      "Adding file all_data\\daily_88101_2016.csv\n",
      "Adding file all_data\\daily_88101_2017.csv\n",
      "Adding file all_data\\daily_88101_2018.csv\n",
      "Adding file all_data\\daily_88101_2019.csv\n",
      "Combining files...\n",
      "Done! \n",
      "Shape of dataframe for pm25 for 2000-2019: (5032639, 29)\n"
     ]
    }
   ],
   "source": [
    "pm25 = combine_annual_data('pm25')"
   ]
  },
  {
   "cell_type": "code",
   "execution_count": 11,
   "metadata": {},
   "outputs": [
    {
     "name": "stdout",
     "output_type": "stream",
     "text": [
      "Adding file all_data\\daily_PRESS_2000.csv\n",
      "Adding file all_data\\daily_PRESS_2001.csv\n",
      "Adding file all_data\\daily_PRESS_2002.csv\n",
      "Adding file all_data\\daily_PRESS_2003.csv\n",
      "Adding file all_data\\daily_PRESS_2004.csv\n",
      "Adding file all_data\\daily_PRESS_2005.csv\n",
      "Adding file all_data\\daily_PRESS_2006.csv\n",
      "Adding file all_data\\daily_PRESS_2007.csv\n",
      "Adding file all_data\\daily_PRESS_2008.csv\n",
      "Adding file all_data\\daily_PRESS_2009.csv\n",
      "Adding file all_data\\daily_PRESS_2010.csv\n",
      "Adding file all_data\\daily_PRESS_2011.csv\n",
      "Adding file all_data\\daily_PRESS_2012.csv\n",
      "Adding file all_data\\daily_PRESS_2013.csv\n",
      "Adding file all_data\\daily_PRESS_2014.csv\n",
      "Adding file all_data\\daily_PRESS_2015.csv\n",
      "Adding file all_data\\daily_PRESS_2016.csv\n",
      "Adding file all_data\\daily_PRESS_2017.csv\n",
      "Adding file all_data\\daily_PRESS_2018.csv\n",
      "Adding file all_data\\daily_PRESS_2019.csv\n",
      "Combining files...\n",
      "Done! \n",
      "Shape of dataframe for pressure for 2000-2019: (1758728, 29)\n"
     ]
    }
   ],
   "source": [
    "pressure = combine_annual_data('pressure')"
   ]
  },
  {
   "cell_type": "code",
   "execution_count": 12,
   "metadata": {},
   "outputs": [
    {
     "name": "stdout",
     "output_type": "stream",
     "text": [
      "Adding file all_data\\daily_TEMP_2000.csv\n",
      "Adding file all_data\\daily_TEMP_2001.csv\n",
      "Adding file all_data\\daily_TEMP_2002.csv\n",
      "Adding file all_data\\daily_TEMP_2003.csv\n",
      "Adding file all_data\\daily_TEMP_2004.csv\n",
      "Adding file all_data\\daily_TEMP_2005.csv\n",
      "Adding file all_data\\daily_TEMP_2006.csv\n",
      "Adding file all_data\\daily_TEMP_2007.csv\n",
      "Adding file all_data\\daily_TEMP_2008.csv\n",
      "Adding file all_data\\daily_TEMP_2009.csv\n",
      "Adding file all_data\\daily_TEMP_2010.csv\n",
      "Adding file all_data\\daily_TEMP_2011.csv\n",
      "Adding file all_data\\daily_TEMP_2012.csv\n",
      "Adding file all_data\\daily_TEMP_2013.csv\n",
      "Adding file all_data\\daily_TEMP_2014.csv\n",
      "Adding file all_data\\daily_TEMP_2015.csv\n",
      "Adding file all_data\\daily_TEMP_2016.csv\n",
      "Adding file all_data\\daily_TEMP_2017.csv\n",
      "Adding file all_data\\daily_TEMP_2018.csv\n",
      "Adding file all_data\\daily_TEMP_2019.csv\n",
      "Combining files...\n",
      "Done! \n",
      "Shape of dataframe for temperature for 2000-2019: (5097760, 29)\n"
     ]
    }
   ],
   "source": [
    "temperature = combine_annual_data('temperature')"
   ]
  },
  {
   "cell_type": "code",
   "execution_count": 13,
   "metadata": {},
   "outputs": [
    {
     "name": "stdout",
     "output_type": "stream",
     "text": [
      "Adding file all_data\\daily_WIND_2000.csv\n",
      "Adding file all_data\\daily_WIND_2001.csv\n",
      "Adding file all_data\\daily_WIND_2002.csv\n",
      "Adding file all_data\\daily_WIND_2003.csv\n",
      "Adding file all_data\\daily_WIND_2004.csv\n",
      "Adding file all_data\\daily_WIND_2005.csv\n",
      "Adding file all_data\\daily_WIND_2006.csv\n",
      "Adding file all_data\\daily_WIND_2007.csv\n",
      "Adding file all_data\\daily_WIND_2008.csv\n",
      "Adding file all_data\\daily_WIND_2009.csv\n",
      "Adding file all_data\\daily_WIND_2010.csv\n",
      "Adding file all_data\\daily_WIND_2011.csv\n",
      "Adding file all_data\\daily_WIND_2012.csv\n",
      "Adding file all_data\\daily_WIND_2013.csv\n",
      "Adding file all_data\\daily_WIND_2014.csv\n",
      "Adding file all_data\\daily_WIND_2015.csv\n",
      "Adding file all_data\\daily_WIND_2016.csv\n",
      "Adding file all_data\\daily_WIND_2017.csv\n",
      "Adding file all_data\\daily_WIND_2018.csv\n",
      "Adding file all_data\\daily_WIND_2019.csv\n",
      "Combining files...\n",
      "Done! \n",
      "Shape of dataframe for wind for 2000-2019: (7484243, 29)\n"
     ]
    }
   ],
   "source": [
    "wind = combine_annual_data('wind')"
   ]
  },
  {
   "cell_type": "code",
   "execution_count": 14,
   "metadata": {
    "scrolled": false
   },
   "outputs": [
    {
     "name": "stdout",
     "output_type": "stream",
     "text": [
      "Adding file all_data\\daily_aqi_by_county_2000.csv\n",
      "Adding file all_data\\daily_aqi_by_county_2001.csv\n",
      "Adding file all_data\\daily_aqi_by_county_2002.csv\n",
      "Adding file all_data\\daily_aqi_by_county_2003.csv\n",
      "Adding file all_data\\daily_aqi_by_county_2004.csv\n",
      "Adding file all_data\\daily_aqi_by_county_2005.csv\n",
      "Adding file all_data\\daily_aqi_by_county_2006.csv\n",
      "Adding file all_data\\daily_aqi_by_county_2007.csv\n",
      "Adding file all_data\\daily_aqi_by_county_2008.csv\n",
      "Adding file all_data\\daily_aqi_by_county_2009.csv\n",
      "Adding file all_data\\daily_aqi_by_county_2010.csv\n",
      "Adding file all_data\\daily_aqi_by_county_2011.csv\n",
      "Adding file all_data\\daily_aqi_by_county_2012.csv\n",
      "Adding file all_data\\daily_aqi_by_county_2013.csv\n",
      "Adding file all_data\\daily_aqi_by_county_2014.csv\n",
      "Adding file all_data\\daily_aqi_by_county_2015.csv\n",
      "Adding file all_data\\daily_aqi_by_county_2016.csv\n",
      "Adding file all_data\\daily_aqi_by_county_2017.csv\n",
      "Adding file all_data\\daily_aqi_by_county_2018.csv\n",
      "Adding file all_data\\daily_aqi_by_county_2019.csv\n",
      "Combining files...\n",
      "Done! \n",
      "Shape of dataframe for aqi for 2000-2019: (6352663, 10)\n"
     ]
    }
   ],
   "source": [
    "aqi = combine_annual_data('aqi')"
   ]
  },
  {
   "cell_type": "code",
   "execution_count": 15,
   "metadata": {},
   "outputs": [],
   "source": [
    "# Define variables\n",
    "pollutants = ['co', 'no2', 'o3', 'so2', 'pm10', 'pm25']\n",
    "measures = ['pressure', 'temperature', 'wind']\n",
    "target = aqi\n",
    "dataframes = [co, no2, o3, so2, pm10, pm25, pressure, temperature, wind]"
   ]
  },
  {
   "cell_type": "code",
   "execution_count": 16,
   "metadata": {},
   "outputs": [
    {
     "name": "stdout",
     "output_type": "stream",
     "text": [
      "List of dataframe shapes\n",
      "(4976812, 29)\n",
      "(2829046, 29)\n",
      "(7281203, 29)\n",
      "(6874455, 29)\n",
      "(3047476, 29)\n",
      "(5032639, 29)\n",
      "(1758728, 29)\n",
      "(5097760, 29)\n",
      "(7484243, 29)\n",
      "(6352663, 10)\n",
      "There are 50735025 rows altogether in these dataframes.\n"
     ]
    }
   ],
   "source": [
    "#Total number of rows in all data\n",
    "total = 0\n",
    "print('List of dataframe shapes')\n",
    "for df in dataframes:\n",
    "    print(df.shape)\n",
    "    total += df.shape[0]\n",
    "total += target.shape[0]\n",
    "print(target.shape)\n",
    "print(f'There are {total} rows altogether in these dataframes.')"
   ]
  },
  {
   "cell_type": "markdown",
   "metadata": {},
   "source": [
    "I have combined all annual files into one dataframe for each measure. The dataframes are co, no2, o3, so2, pm10, pm25, pressure, temperature, wind, and aqi. Each dataframe consists of 20 years of daily measurements across the country for the given measure. All together there are over 50 million rows of data. "
   ]
  },
  {
   "cell_type": "markdown",
   "metadata": {},
   "source": [
    "# Check For Nulls"
   ]
  },
  {
   "cell_type": "code",
   "execution_count": 17,
   "metadata": {},
   "outputs": [],
   "source": [
    "def check_nulls(measure, as_percent=False):\n",
    "    \"\"\"\n",
    "    Input \n",
    "    measure\n",
    "    as_percent boolean\n",
    "    \"\"\"\n",
    "    if as_percent==True:\n",
    "        return measure.isna().sum()/len(measure)\n",
    "    else:\n",
    "        return measure.isna().sum()"
   ]
  },
  {
   "cell_type": "code",
   "execution_count": 18,
   "metadata": {
    "scrolled": false
   },
   "outputs": [
    {
     "name": "stdout",
     "output_type": "stream",
     "text": [
      "0\n"
     ]
    },
    {
     "data": {
      "text/plain": [
       "(4976812, 29)"
      ]
     },
     "metadata": {},
     "output_type": "display_data"
    },
    {
     "data": {
      "text/plain": [
       "State Code             0.000000\n",
       "County Code            0.000000\n",
       "Site Num               0.000000\n",
       "Parameter Code         0.000000\n",
       "POC                    0.000000\n",
       "Latitude               0.000000\n",
       "Longitude              0.000000\n",
       "Datum                  0.000000\n",
       "Parameter Name         0.000000\n",
       "Sample Duration        0.000000\n",
       "Pollutant Standard     0.000000\n",
       "Date Local             0.000000\n",
       "Units of Measure       0.000000\n",
       "Event Type             0.000000\n",
       "Observation Count      0.000000\n",
       "Observation Percent    0.000000\n",
       "Arithmetic Mean        0.000000\n",
       "1st Max Value          0.000000\n",
       "1st Max Hour           0.000000\n",
       "AQI                    0.499930\n",
       "Method Code            0.500070\n",
       "Method Name            0.000000\n",
       "Local Site Name        0.128874\n",
       "Address                0.000000\n",
       "State Name             0.000000\n",
       "County Name            0.000000\n",
       "City Name              0.000000\n",
       "CBSA Name              0.029996\n",
       "Date of Last Change    0.000000\n",
       "dtype: float64"
      ]
     },
     "metadata": {},
     "output_type": "display_data"
    },
    {
     "name": "stdout",
     "output_type": "stream",
     "text": [
      "1\n"
     ]
    },
    {
     "data": {
      "text/plain": [
       "(2829046, 29)"
      ]
     },
     "metadata": {},
     "output_type": "display_data"
    },
    {
     "data": {
      "text/plain": [
       "State Code             0.000000\n",
       "County Code            0.000000\n",
       "Site Num               0.000000\n",
       "Parameter Code         0.000000\n",
       "POC                    0.000000\n",
       "Latitude               0.000000\n",
       "Longitude              0.000000\n",
       "Datum                  0.000000\n",
       "Parameter Name         0.000000\n",
       "Sample Duration        0.000000\n",
       "Pollutant Standard     0.000000\n",
       "Date Local             0.000000\n",
       "Units of Measure       0.000000\n",
       "Event Type             0.000000\n",
       "Observation Count      0.000000\n",
       "Observation Percent    0.000000\n",
       "Arithmetic Mean        0.000000\n",
       "1st Max Value          0.000000\n",
       "1st Max Hour           0.000000\n",
       "AQI                    0.000000\n",
       "Method Code            0.000000\n",
       "Method Name            0.000000\n",
       "Local Site Name        0.067927\n",
       "Address                0.000000\n",
       "State Name             0.000000\n",
       "County Name            0.000000\n",
       "City Name              0.000000\n",
       "CBSA Name              0.068083\n",
       "Date of Last Change    0.000000\n",
       "dtype: float64"
      ]
     },
     "metadata": {},
     "output_type": "display_data"
    },
    {
     "name": "stdout",
     "output_type": "stream",
     "text": [
      "2\n"
     ]
    },
    {
     "data": {
      "text/plain": [
       "(7281203, 29)"
      ]
     },
     "metadata": {},
     "output_type": "display_data"
    },
    {
     "data": {
      "text/plain": [
       "State Code             0.000000e+00\n",
       "County Code            0.000000e+00\n",
       "Site Num               0.000000e+00\n",
       "Parameter Code         0.000000e+00\n",
       "POC                    0.000000e+00\n",
       "Latitude               0.000000e+00\n",
       "Longitude              0.000000e+00\n",
       "Datum                  0.000000e+00\n",
       "Parameter Name         0.000000e+00\n",
       "Sample Duration        0.000000e+00\n",
       "Pollutant Standard     0.000000e+00\n",
       "Date Local             0.000000e+00\n",
       "Units of Measure       0.000000e+00\n",
       "Event Type             0.000000e+00\n",
       "Observation Count      0.000000e+00\n",
       "Observation Percent    0.000000e+00\n",
       "Arithmetic Mean        0.000000e+00\n",
       "1st Max Value          0.000000e+00\n",
       "1st Max Hour           0.000000e+00\n",
       "AQI                    8.240397e-07\n",
       "Method Code            1.000000e+00\n",
       "Method Name            0.000000e+00\n",
       "Local Site Name        5.452945e-02\n",
       "Address                0.000000e+00\n",
       "State Name             0.000000e+00\n",
       "County Name            0.000000e+00\n",
       "City Name              0.000000e+00\n",
       "CBSA Name              9.835751e-02\n",
       "Date of Last Change    0.000000e+00\n",
       "dtype: float64"
      ]
     },
     "metadata": {},
     "output_type": "display_data"
    },
    {
     "name": "stdout",
     "output_type": "stream",
     "text": [
      "3\n"
     ]
    },
    {
     "data": {
      "text/plain": [
       "(6874455, 29)"
      ]
     },
     "metadata": {},
     "output_type": "display_data"
    },
    {
     "data": {
      "text/plain": [
       "State Code             0.000000\n",
       "County Code            0.000000\n",
       "Site Num               0.000000\n",
       "Parameter Code         0.000000\n",
       "POC                    0.000000\n",
       "Latitude               0.000000\n",
       "Longitude              0.000000\n",
       "Datum                  0.000000\n",
       "Parameter Name         0.000000\n",
       "Sample Duration        0.000000\n",
       "Pollutant Standard     0.000000\n",
       "Date Local             0.000000\n",
       "Units of Measure       0.000000\n",
       "Event Type             0.000000\n",
       "Observation Count      0.000000\n",
       "Observation Percent    0.000000\n",
       "Arithmetic Mean        0.000000\n",
       "1st Max Value          0.000000\n",
       "1st Max Hour           0.000000\n",
       "AQI                    0.499787\n",
       "Method Code            0.499787\n",
       "Method Name            0.000000\n",
       "Local Site Name        0.153406\n",
       "Address                0.000000\n",
       "State Name             0.000000\n",
       "County Name            0.000000\n",
       "City Name              0.000000\n",
       "CBSA Name              0.095256\n",
       "Date of Last Change    0.000000\n",
       "dtype: float64"
      ]
     },
     "metadata": {},
     "output_type": "display_data"
    },
    {
     "name": "stdout",
     "output_type": "stream",
     "text": [
      "4\n"
     ]
    },
    {
     "data": {
      "text/plain": [
       "(3047476, 29)"
      ]
     },
     "metadata": {},
     "output_type": "display_data"
    },
    {
     "data": {
      "text/plain": [
       "State Code             0.000000\n",
       "County Code            0.000000\n",
       "Site Num               0.000000\n",
       "Parameter Code         0.000000\n",
       "POC                    0.000000\n",
       "Latitude               0.000000\n",
       "Longitude              0.000000\n",
       "Datum                  0.000000\n",
       "Parameter Name         0.000000\n",
       "Sample Duration        0.000000\n",
       "Pollutant Standard     0.000000\n",
       "Date Local             0.000000\n",
       "Units of Measure       0.000000\n",
       "Event Type             0.000000\n",
       "Observation Count      0.000000\n",
       "Observation Percent    0.000000\n",
       "Arithmetic Mean        0.000000\n",
       "1st Max Value          0.000000\n",
       "1st Max Hour           0.000000\n",
       "AQI                    0.000000\n",
       "Method Code            0.540743\n",
       "Method Name            0.000000\n",
       "Local Site Name        0.099312\n",
       "Address                0.000000\n",
       "State Name             0.000000\n",
       "County Name            0.000000\n",
       "City Name              0.000000\n",
       "CBSA Name              0.101266\n",
       "Date of Last Change    0.000000\n",
       "dtype: float64"
      ]
     },
     "metadata": {},
     "output_type": "display_data"
    },
    {
     "name": "stdout",
     "output_type": "stream",
     "text": [
      "5\n"
     ]
    },
    {
     "data": {
      "text/plain": [
       "(5032639, 29)"
      ]
     },
     "metadata": {},
     "output_type": "display_data"
    },
    {
     "data": {
      "text/plain": [
       "State Code             0.000000\n",
       "County Code            0.000000\n",
       "Site Num               0.000000\n",
       "Parameter Code         0.000000\n",
       "POC                    0.000000\n",
       "Latitude               0.000000\n",
       "Longitude              0.000000\n",
       "Datum                  0.000000\n",
       "Parameter Name         0.000000\n",
       "Sample Duration        0.000000\n",
       "Pollutant Standard     0.252377\n",
       "Date Local             0.000000\n",
       "Units of Measure       0.000000\n",
       "Event Type             0.000000\n",
       "Observation Count      0.000000\n",
       "Observation Percent    0.000000\n",
       "Arithmetic Mean        0.000000\n",
       "1st Max Value          0.000000\n",
       "1st Max Hour           0.000000\n",
       "AQI                    0.252377\n",
       "Method Code            0.246239\n",
       "Method Name            0.000000\n",
       "Local Site Name        0.053393\n",
       "Address                0.000156\n",
       "State Name             0.000000\n",
       "County Name            0.000000\n",
       "City Name              0.000000\n",
       "CBSA Name              0.069690\n",
       "Date of Last Change    0.000000\n",
       "dtype: float64"
      ]
     },
     "metadata": {},
     "output_type": "display_data"
    },
    {
     "name": "stdout",
     "output_type": "stream",
     "text": [
      "6\n"
     ]
    },
    {
     "data": {
      "text/plain": [
       "(1758728, 29)"
      ]
     },
     "metadata": {},
     "output_type": "display_data"
    },
    {
     "data": {
      "text/plain": [
       "State Code             0.000000\n",
       "County Code            0.000000\n",
       "Site Num               0.000000\n",
       "Parameter Code         0.000000\n",
       "POC                    0.000000\n",
       "Latitude               0.000000\n",
       "Longitude              0.000000\n",
       "Datum                  0.000000\n",
       "Parameter Name         0.000000\n",
       "Sample Duration        0.000000\n",
       "Pollutant Standard     1.000000\n",
       "Date Local             0.000000\n",
       "Units of Measure       0.000000\n",
       "Event Type             0.000000\n",
       "Observation Count      0.000000\n",
       "Observation Percent    0.000000\n",
       "Arithmetic Mean        0.000000\n",
       "1st Max Value          0.000000\n",
       "1st Max Hour           0.000000\n",
       "AQI                    1.000000\n",
       "Method Code            0.000000\n",
       "Method Name            0.000000\n",
       "Local Site Name        0.084798\n",
       "Address                0.000000\n",
       "State Name             0.000000\n",
       "County Name            0.000000\n",
       "City Name              0.000000\n",
       "CBSA Name              0.134576\n",
       "Date of Last Change    0.000000\n",
       "dtype: float64"
      ]
     },
     "metadata": {},
     "output_type": "display_data"
    },
    {
     "name": "stdout",
     "output_type": "stream",
     "text": [
      "7\n"
     ]
    },
    {
     "data": {
      "text/plain": [
       "(5097760, 29)"
      ]
     },
     "metadata": {},
     "output_type": "display_data"
    },
    {
     "data": {
      "text/plain": [
       "State Code             0.000000\n",
       "County Code            0.000000\n",
       "Site Num               0.000000\n",
       "Parameter Code         0.000000\n",
       "POC                    0.000000\n",
       "Latitude               0.000000\n",
       "Longitude              0.000000\n",
       "Datum                  0.000000\n",
       "Parameter Name         0.000000\n",
       "Sample Duration        0.000000\n",
       "Pollutant Standard     1.000000\n",
       "Date Local             0.000000\n",
       "Units of Measure       0.000000\n",
       "Event Type             0.000000\n",
       "Observation Count      0.000000\n",
       "Observation Percent    0.000000\n",
       "Arithmetic Mean        0.000000\n",
       "1st Max Value          0.000000\n",
       "1st Max Hour           0.000000\n",
       "AQI                    1.000000\n",
       "Method Code            0.000000\n",
       "Method Name            0.000000\n",
       "Local Site Name        0.073660\n",
       "Address                0.000000\n",
       "State Name             0.000000\n",
       "County Name            0.000000\n",
       "City Name              0.000000\n",
       "CBSA Name              0.131998\n",
       "Date of Last Change    0.000000\n",
       "dtype: float64"
      ]
     },
     "metadata": {},
     "output_type": "display_data"
    },
    {
     "name": "stdout",
     "output_type": "stream",
     "text": [
      "8\n"
     ]
    },
    {
     "data": {
      "text/plain": [
       "(7484243, 29)"
      ]
     },
     "metadata": {},
     "output_type": "display_data"
    },
    {
     "data": {
      "text/plain": [
       "State Code             0.000000\n",
       "County Code            0.000000\n",
       "Site Num               0.000000\n",
       "Parameter Code         0.000000\n",
       "POC                    0.000000\n",
       "Latitude               0.000000\n",
       "Longitude              0.000000\n",
       "Datum                  0.000000\n",
       "Parameter Name         0.000000\n",
       "Sample Duration        0.000000\n",
       "Pollutant Standard     1.000000\n",
       "Date Local             0.000000\n",
       "Units of Measure       0.000000\n",
       "Event Type             0.000000\n",
       "Observation Count      0.000000\n",
       "Observation Percent    0.000000\n",
       "Arithmetic Mean        0.000000\n",
       "1st Max Value          0.000000\n",
       "1st Max Hour           0.000000\n",
       "AQI                    1.000000\n",
       "Method Code            0.000000\n",
       "Method Name            0.000000\n",
       "Local Site Name        0.043518\n",
       "Address                0.000000\n",
       "State Name             0.000000\n",
       "County Name            0.000000\n",
       "City Name              0.000000\n",
       "CBSA Name              0.100513\n",
       "Date of Last Change    0.000000\n",
       "dtype: float64"
      ]
     },
     "metadata": {},
     "output_type": "display_data"
    },
    {
     "name": "stdout",
     "output_type": "stream",
     "text": [
      "9\n"
     ]
    },
    {
     "data": {
      "text/plain": [
       "(6352663, 10)"
      ]
     },
     "metadata": {},
     "output_type": "display_data"
    },
    {
     "data": {
      "text/plain": [
       "State Name                   0.0\n",
       "county Name                  0.0\n",
       "State Code                   0.0\n",
       "County Code                  0.0\n",
       "Date                         0.0\n",
       "AQI                          0.0\n",
       "Category                     0.0\n",
       "Defining Parameter           0.0\n",
       "Defining Site                0.0\n",
       "Number of Sites Reporting    0.0\n",
       "dtype: float64"
      ]
     },
     "metadata": {},
     "output_type": "display_data"
    }
   ],
   "source": [
    "dataframes = [co, no2, o3, so2, pm10, pm25, pressure, temperature, wind, aqi]\n",
    "num = 0\n",
    "for df in dataframes: \n",
    "    print(num)\n",
    "    display(df.shape)\n",
    "    display(check_nulls(df, as_percent=True))\n",
    "    num += 1"
   ]
  },
  {
   "cell_type": "markdown",
   "metadata": {},
   "source": [
    "# Format Data"
   ]
  },
  {
   "cell_type": "markdown",
   "metadata": {},
   "source": [
    "I have now combined the daily data for each of the 6 pollutants, 3 meterological measures and AQI for the years 2000 through 2019. The next task is to combine these 10 dataframes into 1 dateframe for modeling. I need to first standardize the column names and pick the features I want to include. Then I will need to check data types and handle null values and placeholders."
   ]
  },
  {
   "cell_type": "code",
   "execution_count": 19,
   "metadata": {
    "scrolled": false
   },
   "outputs": [
    {
     "data": {
      "text/html": [
       "<div>\n",
       "<style scoped>\n",
       "    .dataframe tbody tr th:only-of-type {\n",
       "        vertical-align: middle;\n",
       "    }\n",
       "\n",
       "    .dataframe tbody tr th {\n",
       "        vertical-align: top;\n",
       "    }\n",
       "\n",
       "    .dataframe thead th {\n",
       "        text-align: right;\n",
       "    }\n",
       "</style>\n",
       "<table border=\"1\" class=\"dataframe\">\n",
       "  <thead>\n",
       "    <tr style=\"text-align: right;\">\n",
       "      <th></th>\n",
       "      <th>State Code</th>\n",
       "      <th>County Code</th>\n",
       "      <th>Site Num</th>\n",
       "      <th>Parameter Code</th>\n",
       "      <th>POC</th>\n",
       "      <th>Latitude</th>\n",
       "      <th>Longitude</th>\n",
       "      <th>Datum</th>\n",
       "      <th>Parameter Name</th>\n",
       "      <th>Sample Duration</th>\n",
       "      <th>Pollutant Standard</th>\n",
       "      <th>Date Local</th>\n",
       "      <th>Units of Measure</th>\n",
       "      <th>Event Type</th>\n",
       "      <th>Observation Count</th>\n",
       "      <th>Observation Percent</th>\n",
       "      <th>Arithmetic Mean</th>\n",
       "      <th>1st Max Value</th>\n",
       "      <th>1st Max Hour</th>\n",
       "      <th>AQI</th>\n",
       "      <th>Method Code</th>\n",
       "      <th>Method Name</th>\n",
       "      <th>Local Site Name</th>\n",
       "      <th>Address</th>\n",
       "      <th>State Name</th>\n",
       "      <th>County Name</th>\n",
       "      <th>City Name</th>\n",
       "      <th>CBSA Name</th>\n",
       "      <th>Date of Last Change</th>\n",
       "    </tr>\n",
       "  </thead>\n",
       "  <tbody>\n",
       "    <tr>\n",
       "      <th>0</th>\n",
       "      <td>1</td>\n",
       "      <td>73</td>\n",
       "      <td>28</td>\n",
       "      <td>42101</td>\n",
       "      <td>1</td>\n",
       "      <td>33.529444</td>\n",
       "      <td>-86.850278</td>\n",
       "      <td>WGS84</td>\n",
       "      <td>Carbon monoxide</td>\n",
       "      <td>1 HOUR</td>\n",
       "      <td>CO 1-hour 1971</td>\n",
       "      <td>2000-01-01</td>\n",
       "      <td>Parts per million</td>\n",
       "      <td>None</td>\n",
       "      <td>24</td>\n",
       "      <td>100.0</td>\n",
       "      <td>0.970833</td>\n",
       "      <td>1.4</td>\n",
       "      <td>3</td>\n",
       "      <td>NaN</td>\n",
       "      <td>88.0</td>\n",
       "      <td>INSTRUMENTAL - NONDISPERSIVE INFRARED PHOTOMETRY</td>\n",
       "      <td>NaN</td>\n",
       "      <td>EAST THOMAS, FINLEY, 841 FINLEY AVE. BP.</td>\n",
       "      <td>Alabama</td>\n",
       "      <td>Jefferson</td>\n",
       "      <td>Birmingham</td>\n",
       "      <td>Birmingham-Hoover, AL</td>\n",
       "      <td>2016-04-15</td>\n",
       "    </tr>\n",
       "  </tbody>\n",
       "</table>\n",
       "</div>"
      ],
      "text/plain": [
       "   State Code  County Code  Site Num  Parameter Code  POC   Latitude  \\\n",
       "0           1           73        28           42101    1  33.529444   \n",
       "\n",
       "   Longitude  Datum   Parameter Name Sample Duration Pollutant Standard  \\\n",
       "0 -86.850278  WGS84  Carbon monoxide          1 HOUR     CO 1-hour 1971   \n",
       "\n",
       "   Date Local   Units of Measure Event Type  Observation Count  \\\n",
       "0  2000-01-01  Parts per million       None                 24   \n",
       "\n",
       "   Observation Percent  Arithmetic Mean  1st Max Value  1st Max Hour  AQI  \\\n",
       "0                100.0         0.970833            1.4             3  NaN   \n",
       "\n",
       "   Method Code                                       Method Name  \\\n",
       "0         88.0  INSTRUMENTAL - NONDISPERSIVE INFRARED PHOTOMETRY   \n",
       "\n",
       "  Local Site Name                                   Address State Name  \\\n",
       "0             NaN  EAST THOMAS, FINLEY, 841 FINLEY AVE. BP.    Alabama   \n",
       "\n",
       "  County Name   City Name              CBSA Name Date of Last Change  \n",
       "0   Jefferson  Birmingham  Birmingham-Hoover, AL          2016-04-15  "
      ]
     },
     "execution_count": 19,
     "metadata": {},
     "output_type": "execute_result"
    }
   ],
   "source": [
    "co.head(1)"
   ]
  },
  {
   "cell_type": "code",
   "execution_count": 20,
   "metadata": {
    "scrolled": true
   },
   "outputs": [
    {
     "data": {
      "text/plain": [
       "Index(['State Code', 'County Code', 'Site Num', 'Parameter Code', 'POC',\n",
       "       'Latitude', 'Longitude', 'Datum', 'Parameter Name', 'Sample Duration',\n",
       "       'Pollutant Standard', 'Date Local', 'Units of Measure', 'Event Type',\n",
       "       'Observation Count', 'Observation Percent', 'Arithmetic Mean',\n",
       "       '1st Max Value', '1st Max Hour', 'AQI', 'Method Code', 'Method Name',\n",
       "       'Local Site Name', 'Address', 'State Name', 'County Name', 'City Name',\n",
       "       'CBSA Name', 'Date of Last Change'],\n",
       "      dtype='object')"
      ]
     },
     "execution_count": 20,
     "metadata": {},
     "output_type": "execute_result"
    }
   ],
   "source": [
    "co.columns"
   ]
  },
  {
   "cell_type": "code",
   "execution_count": 21,
   "metadata": {},
   "outputs": [
    {
     "name": "stdout",
     "output_type": "stream",
     "text": [
      "<class 'pandas.core.frame.DataFrame'>\n",
      "RangeIndex: 4976812 entries, 0 to 4976811\n",
      "Data columns (total 29 columns):\n",
      " #   Column               Dtype  \n",
      "---  ------               -----  \n",
      " 0   State Code           int64  \n",
      " 1   County Code          int64  \n",
      " 2   Site Num             int64  \n",
      " 3   Parameter Code       int64  \n",
      " 4   POC                  int64  \n",
      " 5   Latitude             float64\n",
      " 6   Longitude            float64\n",
      " 7   Datum                object \n",
      " 8   Parameter Name       object \n",
      " 9   Sample Duration      object \n",
      " 10  Pollutant Standard   object \n",
      " 11  Date Local           object \n",
      " 12  Units of Measure     object \n",
      " 13  Event Type           object \n",
      " 14  Observation Count    int64  \n",
      " 15  Observation Percent  float64\n",
      " 16  Arithmetic Mean      float64\n",
      " 17  1st Max Value        float64\n",
      " 18  1st Max Hour         int64  \n",
      " 19  AQI                  float64\n",
      " 20  Method Code          float64\n",
      " 21  Method Name          object \n",
      " 22  Local Site Name      object \n",
      " 23  Address              object \n",
      " 24  State Name           object \n",
      " 25  County Name          object \n",
      " 26  City Name            object \n",
      " 27  CBSA Name            object \n",
      " 28  Date of Last Change  object \n",
      "dtypes: float64(7), int64(7), object(15)\n",
      "memory usage: 1.1+ GB\n"
     ]
    }
   ],
   "source": [
    "co.info()"
   ]
  },
  {
   "cell_type": "code",
   "execution_count": 22,
   "metadata": {},
   "outputs": [
    {
     "name": "stdout",
     "output_type": "stream",
     "text": [
      "<class 'pandas.core.frame.DataFrame'>\n",
      "RangeIndex: 6352663 entries, 0 to 6352662\n",
      "Data columns (total 10 columns):\n",
      " #   Column                     Dtype \n",
      "---  ------                     ----- \n",
      " 0   State Name                 object\n",
      " 1   county Name                object\n",
      " 2   State Code                 object\n",
      " 3   County Code                int64 \n",
      " 4   Date                       object\n",
      " 5   AQI                        int64 \n",
      " 6   Category                   object\n",
      " 7   Defining Parameter         object\n",
      " 8   Defining Site              object\n",
      " 9   Number of Sites Reporting  int64 \n",
      "dtypes: int64(3), object(7)\n",
      "memory usage: 484.7+ MB\n"
     ]
    }
   ],
   "source": [
    "aqi.info()"
   ]
  },
  {
   "cell_type": "code",
   "execution_count": 23,
   "metadata": {
    "scrolled": true
   },
   "outputs": [],
   "source": [
    "#Convert date_local to datetime format\n",
    "dataframes = [co, no2, o3, so2, pm10, pm25, pressure, temperature, wind]\n",
    "for df in dataframes:\n",
    "    df['Date Local'] = pd.to_datetime(df['Date Local'], format='%Y-%m-%d')\n",
    "aqi['Date'] = pd.to_datetime(aqi['Date'], format='%Y-%m-%d')"
   ]
  },
  {
   "cell_type": "code",
   "execution_count": 24,
   "metadata": {},
   "outputs": [
    {
     "name": "stdout",
     "output_type": "stream",
     "text": [
      "<class 'pandas.core.frame.DataFrame'>\n",
      "RangeIndex: 6352663 entries, 0 to 6352662\n",
      "Data columns (total 10 columns):\n",
      " #   Column                     Dtype         \n",
      "---  ------                     -----         \n",
      " 0   State Name                 object        \n",
      " 1   county Name                object        \n",
      " 2   State Code                 object        \n",
      " 3   County Code                int64         \n",
      " 4   Date                       datetime64[ns]\n",
      " 5   AQI                        int64         \n",
      " 6   Category                   object        \n",
      " 7   Defining Parameter         object        \n",
      " 8   Defining Site              object        \n",
      " 9   Number of Sites Reporting  int64         \n",
      "dtypes: datetime64[ns](1), int64(3), object(6)\n",
      "memory usage: 484.7+ MB\n"
     ]
    }
   ],
   "source": [
    "aqi.info()"
   ]
  },
  {
   "cell_type": "code",
   "execution_count": 25,
   "metadata": {},
   "outputs": [
    {
     "name": "stdout",
     "output_type": "stream",
     "text": [
      "<class 'pandas.core.frame.DataFrame'>\n",
      "RangeIndex: 4976812 entries, 0 to 4976811\n",
      "Data columns (total 29 columns):\n",
      " #   Column               Dtype         \n",
      "---  ------               -----         \n",
      " 0   State Code           int64         \n",
      " 1   County Code          int64         \n",
      " 2   Site Num             int64         \n",
      " 3   Parameter Code       int64         \n",
      " 4   POC                  int64         \n",
      " 5   Latitude             float64       \n",
      " 6   Longitude            float64       \n",
      " 7   Datum                object        \n",
      " 8   Parameter Name       object        \n",
      " 9   Sample Duration      object        \n",
      " 10  Pollutant Standard   object        \n",
      " 11  Date Local           datetime64[ns]\n",
      " 12  Units of Measure     object        \n",
      " 13  Event Type           object        \n",
      " 14  Observation Count    int64         \n",
      " 15  Observation Percent  float64       \n",
      " 16  Arithmetic Mean      float64       \n",
      " 17  1st Max Value        float64       \n",
      " 18  1st Max Hour         int64         \n",
      " 19  AQI                  float64       \n",
      " 20  Method Code          float64       \n",
      " 21  Method Name          object        \n",
      " 22  Local Site Name      object        \n",
      " 23  Address              object        \n",
      " 24  State Name           object        \n",
      " 25  County Name          object        \n",
      " 26  City Name            object        \n",
      " 27  CBSA Name            object        \n",
      " 28  Date of Last Change  object        \n",
      "dtypes: datetime64[ns](1), float64(7), int64(7), object(14)\n",
      "memory usage: 1.1+ GB\n"
     ]
    }
   ],
   "source": [
    "co.info()"
   ]
  },
  {
   "cell_type": "markdown",
   "metadata": {},
   "source": [
    "## Standardize Column Names"
   ]
  },
  {
   "cell_type": "markdown",
   "metadata": {},
   "source": [
    "All dataframes have identical column names except for aqi."
   ]
  },
  {
   "cell_type": "code",
   "execution_count": 26,
   "metadata": {
    "scrolled": false
   },
   "outputs": [
    {
     "name": "stdout",
     "output_type": "stream",
     "text": [
      "[ True  True  True  True  True  True  True  True  True  True  True  True\n",
      "  True  True  True  True  True  True  True  True  True  True  True  True\n",
      "  True  True  True  True  True]\n",
      "[ True  True  True  True  True  True  True  True  True  True  True  True\n",
      "  True  True  True  True  True  True  True  True  True  True  True  True\n",
      "  True  True  True  True  True]\n",
      "[ True  True  True  True  True  True  True  True  True  True  True  True\n",
      "  True  True  True  True  True  True  True  True  True  True  True  True\n",
      "  True  True  True  True  True]\n",
      "[ True  True  True  True  True  True  True  True  True  True  True  True\n",
      "  True  True  True  True  True  True  True  True  True  True  True  True\n",
      "  True  True  True  True  True]\n",
      "[ True  True  True  True  True  True  True  True  True  True  True  True\n",
      "  True  True  True  True  True  True  True  True  True  True  True  True\n",
      "  True  True  True  True  True]\n",
      "[ True  True  True  True  True  True  True  True  True  True  True  True\n",
      "  True  True  True  True  True  True  True  True  True  True  True  True\n",
      "  True  True  True  True  True]\n",
      "[ True  True  True  True  True  True  True  True  True  True  True  True\n",
      "  True  True  True  True  True  True  True  True  True  True  True  True\n",
      "  True  True  True  True  True]\n",
      "[ True  True  True  True  True  True  True  True  True  True  True  True\n",
      "  True  True  True  True  True  True  True  True  True  True  True  True\n",
      "  True  True  True  True  True]\n",
      "False\n"
     ]
    }
   ],
   "source": [
    "#Check if columns are the same across all dataframes\n",
    "print(co.columns == no2.columns)\n",
    "print(co.columns == o3.columns)\n",
    "print(co.columns == so2.columns)\n",
    "print(co.columns == pm10.columns)\n",
    "print(co.columns == pm25.columns)\n",
    "print(co.columns == pressure.columns)\n",
    "print(co.columns == temperature.columns)\n",
    "print(co.columns == wind.columns)\n",
    "print(co.shape == aqi.shape)"
   ]
  },
  {
   "cell_type": "code",
   "execution_count": 27,
   "metadata": {
    "scrolled": false
   },
   "outputs": [
    {
     "data": {
      "text/plain": [
       "Index(['State Code', 'County Code', 'Site Num', 'Parameter Code', 'POC',\n",
       "       'Latitude', 'Longitude', 'Datum', 'Parameter Name', 'Sample Duration',\n",
       "       'Pollutant Standard', 'Date Local', 'Units of Measure', 'Event Type',\n",
       "       'Observation Count', 'Observation Percent', 'Arithmetic Mean',\n",
       "       '1st Max Value', '1st Max Hour', 'AQI', 'Method Code', 'Method Name',\n",
       "       'Local Site Name', 'Address', 'State Name', 'County Name', 'City Name',\n",
       "       'CBSA Name', 'Date of Last Change'],\n",
       "      dtype='object')"
      ]
     },
     "execution_count": 27,
     "metadata": {},
     "output_type": "execute_result"
    }
   ],
   "source": [
    "o3.columns"
   ]
  },
  {
   "cell_type": "code",
   "execution_count": 28,
   "metadata": {},
   "outputs": [],
   "source": [
    "#Standardize column names\n",
    "for dataframe in dataframes:\n",
    "    dataframe.columns = dataframe.columns.str.replace(' ', '_')\n",
    "    dataframe.columns = dataframe.columns.str.lower()"
   ]
  },
  {
   "cell_type": "code",
   "execution_count": 29,
   "metadata": {},
   "outputs": [],
   "source": [
    "aqi.columns = aqi.columns.str.replace(' ', '_')\n",
    "aqi.columns = aqi.columns.str.lower()"
   ]
  },
  {
   "cell_type": "code",
   "execution_count": 30,
   "metadata": {},
   "outputs": [
    {
     "data": {
      "text/plain": [
       "Index(['state_code', 'county_code', 'site_num', 'parameter_code', 'poc',\n",
       "       'latitude', 'longitude', 'datum', 'parameter_name', 'sample_duration',\n",
       "       'pollutant_standard', 'date_local', 'units_of_measure', 'event_type',\n",
       "       'observation_count', 'observation_percent', 'arithmetic_mean',\n",
       "       '1st_max_value', '1st_max_hour', 'aqi', 'method_code', 'method_name',\n",
       "       'local_site_name', 'address', 'state_name', 'county_name', 'city_name',\n",
       "       'cbsa_name', 'date_of_last_change'],\n",
       "      dtype='object')"
      ]
     },
     "execution_count": 30,
     "metadata": {},
     "output_type": "execute_result"
    }
   ],
   "source": [
    "co.columns"
   ]
  },
  {
   "cell_type": "code",
   "execution_count": 31,
   "metadata": {},
   "outputs": [
    {
     "data": {
      "text/plain": [
       "Index(['state_name', 'county_name', 'state_code', 'county_code', 'date', 'aqi',\n",
       "       'category', 'defining_parameter', 'defining_site',\n",
       "       'number_of_sites_reporting'],\n",
       "      dtype='object')"
      ]
     },
     "execution_count": 31,
     "metadata": {},
     "output_type": "execute_result"
    }
   ],
   "source": [
    "aqi.columns"
   ]
  },
  {
   "cell_type": "code",
   "execution_count": 32,
   "metadata": {},
   "outputs": [
    {
     "data": {
      "text/html": [
       "<div>\n",
       "<style scoped>\n",
       "    .dataframe tbody tr th:only-of-type {\n",
       "        vertical-align: middle;\n",
       "    }\n",
       "\n",
       "    .dataframe tbody tr th {\n",
       "        vertical-align: top;\n",
       "    }\n",
       "\n",
       "    .dataframe thead th {\n",
       "        text-align: right;\n",
       "    }\n",
       "</style>\n",
       "<table border=\"1\" class=\"dataframe\">\n",
       "  <thead>\n",
       "    <tr style=\"text-align: right;\">\n",
       "      <th></th>\n",
       "      <th>state_name</th>\n",
       "      <th>county_name</th>\n",
       "      <th>state_code</th>\n",
       "      <th>county_code</th>\n",
       "      <th>date</th>\n",
       "      <th>aqi</th>\n",
       "      <th>category</th>\n",
       "      <th>defining_parameter</th>\n",
       "      <th>defining_site</th>\n",
       "      <th>number_of_sites_reporting</th>\n",
       "    </tr>\n",
       "  </thead>\n",
       "  <tbody>\n",
       "    <tr>\n",
       "      <th>0</th>\n",
       "      <td>Alabama</td>\n",
       "      <td>Baldwin</td>\n",
       "      <td>01</td>\n",
       "      <td>3</td>\n",
       "      <td>2000-01-16</td>\n",
       "      <td>25</td>\n",
       "      <td>Good</td>\n",
       "      <td>PM2.5</td>\n",
       "      <td>01-003-0010</td>\n",
       "      <td>1</td>\n",
       "    </tr>\n",
       "  </tbody>\n",
       "</table>\n",
       "</div>"
      ],
      "text/plain": [
       "  state_name county_name state_code  county_code       date  aqi category  \\\n",
       "0    Alabama     Baldwin         01            3 2000-01-16   25     Good   \n",
       "\n",
       "  defining_parameter defining_site  number_of_sites_reporting  \n",
       "0              PM2.5   01-003-0010                          1  "
      ]
     },
     "execution_count": 32,
     "metadata": {},
     "output_type": "execute_result"
    }
   ],
   "source": [
    "aqi.head(1)"
   ]
  },
  {
   "cell_type": "code",
   "execution_count": 33,
   "metadata": {},
   "outputs": [
    {
     "data": {
      "text/html": [
       "<div>\n",
       "<style scoped>\n",
       "    .dataframe tbody tr th:only-of-type {\n",
       "        vertical-align: middle;\n",
       "    }\n",
       "\n",
       "    .dataframe tbody tr th {\n",
       "        vertical-align: top;\n",
       "    }\n",
       "\n",
       "    .dataframe thead th {\n",
       "        text-align: right;\n",
       "    }\n",
       "</style>\n",
       "<table border=\"1\" class=\"dataframe\">\n",
       "  <thead>\n",
       "    <tr style=\"text-align: right;\">\n",
       "      <th></th>\n",
       "      <th>state_name</th>\n",
       "      <th>county_name</th>\n",
       "      <th>state_code</th>\n",
       "      <th>county_code</th>\n",
       "      <th>date_local</th>\n",
       "      <th>aqi</th>\n",
       "      <th>category</th>\n",
       "      <th>defining_parameter</th>\n",
       "      <th>defining_site</th>\n",
       "      <th>number_of_sites_reporting</th>\n",
       "    </tr>\n",
       "  </thead>\n",
       "  <tbody>\n",
       "    <tr>\n",
       "      <th>0</th>\n",
       "      <td>Alabama</td>\n",
       "      <td>Baldwin</td>\n",
       "      <td>01</td>\n",
       "      <td>3</td>\n",
       "      <td>2000-01-16</td>\n",
       "      <td>25</td>\n",
       "      <td>Good</td>\n",
       "      <td>PM2.5</td>\n",
       "      <td>01-003-0010</td>\n",
       "      <td>1</td>\n",
       "    </tr>\n",
       "  </tbody>\n",
       "</table>\n",
       "</div>"
      ],
      "text/plain": [
       "  state_name county_name state_code  county_code date_local  aqi category  \\\n",
       "0    Alabama     Baldwin         01            3 2000-01-16   25     Good   \n",
       "\n",
       "  defining_parameter defining_site  number_of_sites_reporting  \n",
       "0              PM2.5   01-003-0010                          1  "
      ]
     },
     "execution_count": 33,
     "metadata": {},
     "output_type": "execute_result"
    }
   ],
   "source": [
    "aqi.rename(columns={'date': 'date_local'}, inplace=True)\n",
    "aqi.head(1)"
   ]
  },
  {
   "cell_type": "code",
   "execution_count": 34,
   "metadata": {},
   "outputs": [
    {
     "data": {
      "text/html": [
       "<div>\n",
       "<style scoped>\n",
       "    .dataframe tbody tr th:only-of-type {\n",
       "        vertical-align: middle;\n",
       "    }\n",
       "\n",
       "    .dataframe tbody tr th {\n",
       "        vertical-align: top;\n",
       "    }\n",
       "\n",
       "    .dataframe thead th {\n",
       "        text-align: right;\n",
       "    }\n",
       "</style>\n",
       "<table border=\"1\" class=\"dataframe\">\n",
       "  <thead>\n",
       "    <tr style=\"text-align: right;\">\n",
       "      <th></th>\n",
       "      <th>state_code</th>\n",
       "      <th>county_code</th>\n",
       "      <th>site_num</th>\n",
       "      <th>parameter_code</th>\n",
       "      <th>poc</th>\n",
       "      <th>latitude</th>\n",
       "      <th>longitude</th>\n",
       "      <th>datum</th>\n",
       "      <th>parameter_name</th>\n",
       "      <th>sample_duration</th>\n",
       "      <th>pollutant_standard</th>\n",
       "      <th>date_local</th>\n",
       "      <th>units_of_measure</th>\n",
       "      <th>event_type</th>\n",
       "      <th>observation_count</th>\n",
       "      <th>observation_percent</th>\n",
       "      <th>arithmetic_mean</th>\n",
       "      <th>1st_max_value</th>\n",
       "      <th>1st_max_hour</th>\n",
       "      <th>aqi</th>\n",
       "      <th>method_code</th>\n",
       "      <th>method_name</th>\n",
       "      <th>local_site_name</th>\n",
       "      <th>address</th>\n",
       "      <th>state_name</th>\n",
       "      <th>county_name</th>\n",
       "      <th>city_name</th>\n",
       "      <th>cbsa_name</th>\n",
       "      <th>date_of_last_change</th>\n",
       "    </tr>\n",
       "  </thead>\n",
       "  <tbody>\n",
       "    <tr>\n",
       "      <th>0</th>\n",
       "      <td>1</td>\n",
       "      <td>73</td>\n",
       "      <td>28</td>\n",
       "      <td>42101</td>\n",
       "      <td>1</td>\n",
       "      <td>33.529444</td>\n",
       "      <td>-86.850278</td>\n",
       "      <td>WGS84</td>\n",
       "      <td>Carbon monoxide</td>\n",
       "      <td>1 HOUR</td>\n",
       "      <td>CO 1-hour 1971</td>\n",
       "      <td>2000-01-01</td>\n",
       "      <td>Parts per million</td>\n",
       "      <td>None</td>\n",
       "      <td>24</td>\n",
       "      <td>100.0</td>\n",
       "      <td>0.970833</td>\n",
       "      <td>1.4</td>\n",
       "      <td>3</td>\n",
       "      <td>NaN</td>\n",
       "      <td>88.0</td>\n",
       "      <td>INSTRUMENTAL - NONDISPERSIVE INFRARED PHOTOMETRY</td>\n",
       "      <td>NaN</td>\n",
       "      <td>EAST THOMAS, FINLEY, 841 FINLEY AVE. BP.</td>\n",
       "      <td>Alabama</td>\n",
       "      <td>Jefferson</td>\n",
       "      <td>Birmingham</td>\n",
       "      <td>Birmingham-Hoover, AL</td>\n",
       "      <td>2016-04-15</td>\n",
       "    </tr>\n",
       "  </tbody>\n",
       "</table>\n",
       "</div>"
      ],
      "text/plain": [
       "   state_code  county_code  site_num  parameter_code  poc   latitude  \\\n",
       "0           1           73        28           42101    1  33.529444   \n",
       "\n",
       "   longitude  datum   parameter_name sample_duration pollutant_standard  \\\n",
       "0 -86.850278  WGS84  Carbon monoxide          1 HOUR     CO 1-hour 1971   \n",
       "\n",
       "  date_local   units_of_measure event_type  observation_count  \\\n",
       "0 2000-01-01  Parts per million       None                 24   \n",
       "\n",
       "   observation_percent  arithmetic_mean  1st_max_value  1st_max_hour  aqi  \\\n",
       "0                100.0         0.970833            1.4             3  NaN   \n",
       "\n",
       "   method_code                                       method_name  \\\n",
       "0         88.0  INSTRUMENTAL - NONDISPERSIVE INFRARED PHOTOMETRY   \n",
       "\n",
       "  local_site_name                                   address state_name  \\\n",
       "0             NaN  EAST THOMAS, FINLEY, 841 FINLEY AVE. BP.    Alabama   \n",
       "\n",
       "  county_name   city_name              cbsa_name date_of_last_change  \n",
       "0   Jefferson  Birmingham  Birmingham-Hoover, AL          2016-04-15  "
      ]
     },
     "metadata": {},
     "output_type": "display_data"
    },
    {
     "data": {
      "text/html": [
       "<div>\n",
       "<style scoped>\n",
       "    .dataframe tbody tr th:only-of-type {\n",
       "        vertical-align: middle;\n",
       "    }\n",
       "\n",
       "    .dataframe tbody tr th {\n",
       "        vertical-align: top;\n",
       "    }\n",
       "\n",
       "    .dataframe thead th {\n",
       "        text-align: right;\n",
       "    }\n",
       "</style>\n",
       "<table border=\"1\" class=\"dataframe\">\n",
       "  <thead>\n",
       "    <tr style=\"text-align: right;\">\n",
       "      <th></th>\n",
       "      <th>state_code</th>\n",
       "      <th>county_code</th>\n",
       "      <th>site_num</th>\n",
       "      <th>parameter_code</th>\n",
       "      <th>poc</th>\n",
       "      <th>latitude</th>\n",
       "      <th>longitude</th>\n",
       "      <th>datum</th>\n",
       "      <th>parameter_name</th>\n",
       "      <th>sample_duration</th>\n",
       "      <th>pollutant_standard</th>\n",
       "      <th>date_local</th>\n",
       "      <th>units_of_measure</th>\n",
       "      <th>event_type</th>\n",
       "      <th>observation_count</th>\n",
       "      <th>observation_percent</th>\n",
       "      <th>arithmetic_mean</th>\n",
       "      <th>1st_max_value</th>\n",
       "      <th>1st_max_hour</th>\n",
       "      <th>aqi</th>\n",
       "      <th>method_code</th>\n",
       "      <th>method_name</th>\n",
       "      <th>local_site_name</th>\n",
       "      <th>address</th>\n",
       "      <th>state_name</th>\n",
       "      <th>county_name</th>\n",
       "      <th>city_name</th>\n",
       "      <th>cbsa_name</th>\n",
       "      <th>date_of_last_change</th>\n",
       "    </tr>\n",
       "  </thead>\n",
       "  <tbody>\n",
       "    <tr>\n",
       "      <th>0</th>\n",
       "      <td>1</td>\n",
       "      <td>117</td>\n",
       "      <td>4</td>\n",
       "      <td>42602</td>\n",
       "      <td>1</td>\n",
       "      <td>33.317142</td>\n",
       "      <td>-86.825754</td>\n",
       "      <td>NAD83</td>\n",
       "      <td>Nitrogen dioxide (NO2)</td>\n",
       "      <td>1 HOUR</td>\n",
       "      <td>NO2 1-hour</td>\n",
       "      <td>2000-03-01</td>\n",
       "      <td>Parts per billion</td>\n",
       "      <td>None</td>\n",
       "      <td>24</td>\n",
       "      <td>100.0</td>\n",
       "      <td>7.875</td>\n",
       "      <td>20.0</td>\n",
       "      <td>5</td>\n",
       "      <td>19</td>\n",
       "      <td>90</td>\n",
       "      <td>INSTRUMENTAL - GAS-PHASE CHEMILUMINESCENCE</td>\n",
       "      <td>HELENA</td>\n",
       "      <td>HELENA, BEARDEN FARM</td>\n",
       "      <td>Alabama</td>\n",
       "      <td>Shelby</td>\n",
       "      <td>Helena</td>\n",
       "      <td>Birmingham-Hoover, AL</td>\n",
       "      <td>2013-06-11</td>\n",
       "    </tr>\n",
       "  </tbody>\n",
       "</table>\n",
       "</div>"
      ],
      "text/plain": [
       "  state_code  county_code  site_num  parameter_code  poc   latitude  \\\n",
       "0          1          117         4           42602    1  33.317142   \n",
       "\n",
       "   longitude  datum          parameter_name sample_duration  \\\n",
       "0 -86.825754  NAD83  Nitrogen dioxide (NO2)          1 HOUR   \n",
       "\n",
       "  pollutant_standard date_local   units_of_measure event_type  \\\n",
       "0         NO2 1-hour 2000-03-01  Parts per billion       None   \n",
       "\n",
       "   observation_count  observation_percent  arithmetic_mean  1st_max_value  \\\n",
       "0                 24                100.0            7.875           20.0   \n",
       "\n",
       "   1st_max_hour  aqi  method_code                                 method_name  \\\n",
       "0             5   19           90  INSTRUMENTAL - GAS-PHASE CHEMILUMINESCENCE   \n",
       "\n",
       "  local_site_name               address state_name county_name city_name  \\\n",
       "0          HELENA  HELENA, BEARDEN FARM    Alabama      Shelby    Helena   \n",
       "\n",
       "               cbsa_name date_of_last_change  \n",
       "0  Birmingham-Hoover, AL          2013-06-11  "
      ]
     },
     "metadata": {},
     "output_type": "display_data"
    },
    {
     "data": {
      "text/html": [
       "<div>\n",
       "<style scoped>\n",
       "    .dataframe tbody tr th:only-of-type {\n",
       "        vertical-align: middle;\n",
       "    }\n",
       "\n",
       "    .dataframe tbody tr th {\n",
       "        vertical-align: top;\n",
       "    }\n",
       "\n",
       "    .dataframe thead th {\n",
       "        text-align: right;\n",
       "    }\n",
       "</style>\n",
       "<table border=\"1\" class=\"dataframe\">\n",
       "  <thead>\n",
       "    <tr style=\"text-align: right;\">\n",
       "      <th></th>\n",
       "      <th>state_code</th>\n",
       "      <th>county_code</th>\n",
       "      <th>site_num</th>\n",
       "      <th>parameter_code</th>\n",
       "      <th>poc</th>\n",
       "      <th>latitude</th>\n",
       "      <th>longitude</th>\n",
       "      <th>datum</th>\n",
       "      <th>parameter_name</th>\n",
       "      <th>sample_duration</th>\n",
       "      <th>pollutant_standard</th>\n",
       "      <th>date_local</th>\n",
       "      <th>units_of_measure</th>\n",
       "      <th>event_type</th>\n",
       "      <th>observation_count</th>\n",
       "      <th>observation_percent</th>\n",
       "      <th>arithmetic_mean</th>\n",
       "      <th>1st_max_value</th>\n",
       "      <th>1st_max_hour</th>\n",
       "      <th>aqi</th>\n",
       "      <th>method_code</th>\n",
       "      <th>method_name</th>\n",
       "      <th>local_site_name</th>\n",
       "      <th>address</th>\n",
       "      <th>state_name</th>\n",
       "      <th>county_name</th>\n",
       "      <th>city_name</th>\n",
       "      <th>cbsa_name</th>\n",
       "      <th>date_of_last_change</th>\n",
       "    </tr>\n",
       "  </thead>\n",
       "  <tbody>\n",
       "    <tr>\n",
       "      <th>0</th>\n",
       "      <td>1</td>\n",
       "      <td>3</td>\n",
       "      <td>10</td>\n",
       "      <td>44201</td>\n",
       "      <td>1</td>\n",
       "      <td>30.497478</td>\n",
       "      <td>-87.880258</td>\n",
       "      <td>NAD83</td>\n",
       "      <td>Ozone</td>\n",
       "      <td>8-HR RUN AVG BEGIN HOUR</td>\n",
       "      <td>Ozone 8-hour 2015</td>\n",
       "      <td>2000-02-29</td>\n",
       "      <td>Parts per million</td>\n",
       "      <td>None</td>\n",
       "      <td>1</td>\n",
       "      <td>6.0</td>\n",
       "      <td>0.023</td>\n",
       "      <td>0.023</td>\n",
       "      <td>23</td>\n",
       "      <td>21.0</td>\n",
       "      <td>NaN</td>\n",
       "      <td>-</td>\n",
       "      <td>FAIRHOPE, Alabama</td>\n",
       "      <td>FAIRHOPE HIGH SCHOOL, 1 PIRATE DRIVE, FAIRHOPE...</td>\n",
       "      <td>Alabama</td>\n",
       "      <td>Baldwin</td>\n",
       "      <td>Fairhope</td>\n",
       "      <td>Daphne-Fairhope-Foley, AL</td>\n",
       "      <td>2018-07-18</td>\n",
       "    </tr>\n",
       "  </tbody>\n",
       "</table>\n",
       "</div>"
      ],
      "text/plain": [
       "  state_code  county_code  site_num  parameter_code  poc   latitude  \\\n",
       "0          1            3        10           44201    1  30.497478   \n",
       "\n",
       "   longitude  datum parameter_name          sample_duration  \\\n",
       "0 -87.880258  NAD83          Ozone  8-HR RUN AVG BEGIN HOUR   \n",
       "\n",
       "  pollutant_standard date_local   units_of_measure event_type  \\\n",
       "0  Ozone 8-hour 2015 2000-02-29  Parts per million       None   \n",
       "\n",
       "   observation_count  observation_percent  arithmetic_mean  1st_max_value  \\\n",
       "0                  1                  6.0            0.023          0.023   \n",
       "\n",
       "   1st_max_hour   aqi  method_code method_name    local_site_name  \\\n",
       "0            23  21.0          NaN          -   FAIRHOPE, Alabama   \n",
       "\n",
       "                                             address state_name county_name  \\\n",
       "0  FAIRHOPE HIGH SCHOOL, 1 PIRATE DRIVE, FAIRHOPE...    Alabama     Baldwin   \n",
       "\n",
       "  city_name                  cbsa_name date_of_last_change  \n",
       "0  Fairhope  Daphne-Fairhope-Foley, AL          2018-07-18  "
      ]
     },
     "metadata": {},
     "output_type": "display_data"
    },
    {
     "data": {
      "text/html": [
       "<div>\n",
       "<style scoped>\n",
       "    .dataframe tbody tr th:only-of-type {\n",
       "        vertical-align: middle;\n",
       "    }\n",
       "\n",
       "    .dataframe tbody tr th {\n",
       "        vertical-align: top;\n",
       "    }\n",
       "\n",
       "    .dataframe thead th {\n",
       "        text-align: right;\n",
       "    }\n",
       "</style>\n",
       "<table border=\"1\" class=\"dataframe\">\n",
       "  <thead>\n",
       "    <tr style=\"text-align: right;\">\n",
       "      <th></th>\n",
       "      <th>state_code</th>\n",
       "      <th>county_code</th>\n",
       "      <th>site_num</th>\n",
       "      <th>parameter_code</th>\n",
       "      <th>poc</th>\n",
       "      <th>latitude</th>\n",
       "      <th>longitude</th>\n",
       "      <th>datum</th>\n",
       "      <th>parameter_name</th>\n",
       "      <th>sample_duration</th>\n",
       "      <th>pollutant_standard</th>\n",
       "      <th>date_local</th>\n",
       "      <th>units_of_measure</th>\n",
       "      <th>event_type</th>\n",
       "      <th>observation_count</th>\n",
       "      <th>observation_percent</th>\n",
       "      <th>arithmetic_mean</th>\n",
       "      <th>1st_max_value</th>\n",
       "      <th>1st_max_hour</th>\n",
       "      <th>aqi</th>\n",
       "      <th>method_code</th>\n",
       "      <th>method_name</th>\n",
       "      <th>local_site_name</th>\n",
       "      <th>address</th>\n",
       "      <th>state_name</th>\n",
       "      <th>county_name</th>\n",
       "      <th>city_name</th>\n",
       "      <th>cbsa_name</th>\n",
       "      <th>date_of_last_change</th>\n",
       "    </tr>\n",
       "  </thead>\n",
       "  <tbody>\n",
       "    <tr>\n",
       "      <th>0</th>\n",
       "      <td>1</td>\n",
       "      <td>33</td>\n",
       "      <td>44</td>\n",
       "      <td>42401</td>\n",
       "      <td>1</td>\n",
       "      <td>34.690647</td>\n",
       "      <td>-87.821422</td>\n",
       "      <td>WGS84</td>\n",
       "      <td>Sulfur dioxide</td>\n",
       "      <td>1 HOUR</td>\n",
       "      <td>SO2 1-hour 2010</td>\n",
       "      <td>2000-01-01</td>\n",
       "      <td>Parts per billion</td>\n",
       "      <td>None</td>\n",
       "      <td>24</td>\n",
       "      <td>100.0</td>\n",
       "      <td>1.625</td>\n",
       "      <td>7.0</td>\n",
       "      <td>0</td>\n",
       "      <td>10.0</td>\n",
       "      <td>20.0</td>\n",
       "      <td>INSTRUMENTAL - PULSED FLUORESCENT</td>\n",
       "      <td>NaN</td>\n",
       "      <td>TVA COLBERT 14___3.98 MI SE COLBERT FP</td>\n",
       "      <td>Alabama</td>\n",
       "      <td>Colbert</td>\n",
       "      <td>Not in a city</td>\n",
       "      <td>Florence-Muscle Shoals, AL</td>\n",
       "      <td>2013-06-11</td>\n",
       "    </tr>\n",
       "  </tbody>\n",
       "</table>\n",
       "</div>"
      ],
      "text/plain": [
       "  state_code  county_code  site_num  parameter_code  poc   latitude  \\\n",
       "0          1           33        44           42401    1  34.690647   \n",
       "\n",
       "   longitude  datum  parameter_name sample_duration pollutant_standard  \\\n",
       "0 -87.821422  WGS84  Sulfur dioxide          1 HOUR    SO2 1-hour 2010   \n",
       "\n",
       "  date_local   units_of_measure event_type  observation_count  \\\n",
       "0 2000-01-01  Parts per billion       None                 24   \n",
       "\n",
       "   observation_percent  arithmetic_mean  1st_max_value  1st_max_hour   aqi  \\\n",
       "0                100.0            1.625            7.0             0  10.0   \n",
       "\n",
       "   method_code                        method_name local_site_name  \\\n",
       "0         20.0  INSTRUMENTAL - PULSED FLUORESCENT             NaN   \n",
       "\n",
       "                                  address state_name county_name  \\\n",
       "0  TVA COLBERT 14___3.98 MI SE COLBERT FP    Alabama     Colbert   \n",
       "\n",
       "       city_name                   cbsa_name date_of_last_change  \n",
       "0  Not in a city  Florence-Muscle Shoals, AL          2013-06-11  "
      ]
     },
     "metadata": {},
     "output_type": "display_data"
    },
    {
     "data": {
      "text/html": [
       "<div>\n",
       "<style scoped>\n",
       "    .dataframe tbody tr th:only-of-type {\n",
       "        vertical-align: middle;\n",
       "    }\n",
       "\n",
       "    .dataframe tbody tr th {\n",
       "        vertical-align: top;\n",
       "    }\n",
       "\n",
       "    .dataframe thead th {\n",
       "        text-align: right;\n",
       "    }\n",
       "</style>\n",
       "<table border=\"1\" class=\"dataframe\">\n",
       "  <thead>\n",
       "    <tr style=\"text-align: right;\">\n",
       "      <th></th>\n",
       "      <th>state_code</th>\n",
       "      <th>county_code</th>\n",
       "      <th>site_num</th>\n",
       "      <th>parameter_code</th>\n",
       "      <th>poc</th>\n",
       "      <th>latitude</th>\n",
       "      <th>longitude</th>\n",
       "      <th>datum</th>\n",
       "      <th>parameter_name</th>\n",
       "      <th>sample_duration</th>\n",
       "      <th>pollutant_standard</th>\n",
       "      <th>date_local</th>\n",
       "      <th>units_of_measure</th>\n",
       "      <th>event_type</th>\n",
       "      <th>observation_count</th>\n",
       "      <th>observation_percent</th>\n",
       "      <th>arithmetic_mean</th>\n",
       "      <th>1st_max_value</th>\n",
       "      <th>1st_max_hour</th>\n",
       "      <th>aqi</th>\n",
       "      <th>method_code</th>\n",
       "      <th>method_name</th>\n",
       "      <th>local_site_name</th>\n",
       "      <th>address</th>\n",
       "      <th>state_name</th>\n",
       "      <th>county_name</th>\n",
       "      <th>city_name</th>\n",
       "      <th>cbsa_name</th>\n",
       "      <th>date_of_last_change</th>\n",
       "    </tr>\n",
       "  </thead>\n",
       "  <tbody>\n",
       "    <tr>\n",
       "      <th>0</th>\n",
       "      <td>1</td>\n",
       "      <td>49</td>\n",
       "      <td>1002</td>\n",
       "      <td>81102</td>\n",
       "      <td>1</td>\n",
       "      <td>34.456199</td>\n",
       "      <td>-85.707189</td>\n",
       "      <td>WGS84</td>\n",
       "      <td>PM10 Total 0-10um STP</td>\n",
       "      <td>24 HOUR</td>\n",
       "      <td>PM10 24-hour 2006</td>\n",
       "      <td>2000-01-01</td>\n",
       "      <td>Micrograms/cubic meter (25 C)</td>\n",
       "      <td>None</td>\n",
       "      <td>1</td>\n",
       "      <td>100.0</td>\n",
       "      <td>13.0</td>\n",
       "      <td>13.0</td>\n",
       "      <td>0</td>\n",
       "      <td>12</td>\n",
       "      <td>63.0</td>\n",
       "      <td>HI-VOL SA/GMW-1200 - GRAVIMETRIC</td>\n",
       "      <td>FT.PAYNE (CLOSED)</td>\n",
       "      <td>1500 WILLIAMS AVE. N.E.</td>\n",
       "      <td>Alabama</td>\n",
       "      <td>DeKalb</td>\n",
       "      <td>Fort Payne</td>\n",
       "      <td>Fort Payne, AL</td>\n",
       "      <td>2019-09-09</td>\n",
       "    </tr>\n",
       "  </tbody>\n",
       "</table>\n",
       "</div>"
      ],
      "text/plain": [
       "   state_code  county_code  site_num  parameter_code  poc   latitude  \\\n",
       "0           1           49      1002           81102    1  34.456199   \n",
       "\n",
       "   longitude  datum         parameter_name sample_duration pollutant_standard  \\\n",
       "0 -85.707189  WGS84  PM10 Total 0-10um STP         24 HOUR  PM10 24-hour 2006   \n",
       "\n",
       "  date_local               units_of_measure event_type  observation_count  \\\n",
       "0 2000-01-01  Micrograms/cubic meter (25 C)       None                  1   \n",
       "\n",
       "   observation_percent  arithmetic_mean  1st_max_value  1st_max_hour  aqi  \\\n",
       "0                100.0             13.0           13.0             0   12   \n",
       "\n",
       "   method_code                       method_name    local_site_name  \\\n",
       "0         63.0  HI-VOL SA/GMW-1200 - GRAVIMETRIC  FT.PAYNE (CLOSED)   \n",
       "\n",
       "                   address state_name county_name   city_name       cbsa_name  \\\n",
       "0  1500 WILLIAMS AVE. N.E.    Alabama      DeKalb  Fort Payne  Fort Payne, AL   \n",
       "\n",
       "  date_of_last_change  \n",
       "0          2019-09-09  "
      ]
     },
     "metadata": {},
     "output_type": "display_data"
    },
    {
     "data": {
      "text/html": [
       "<div>\n",
       "<style scoped>\n",
       "    .dataframe tbody tr th:only-of-type {\n",
       "        vertical-align: middle;\n",
       "    }\n",
       "\n",
       "    .dataframe tbody tr th {\n",
       "        vertical-align: top;\n",
       "    }\n",
       "\n",
       "    .dataframe thead th {\n",
       "        text-align: right;\n",
       "    }\n",
       "</style>\n",
       "<table border=\"1\" class=\"dataframe\">\n",
       "  <thead>\n",
       "    <tr style=\"text-align: right;\">\n",
       "      <th></th>\n",
       "      <th>state_code</th>\n",
       "      <th>county_code</th>\n",
       "      <th>site_num</th>\n",
       "      <th>parameter_code</th>\n",
       "      <th>poc</th>\n",
       "      <th>latitude</th>\n",
       "      <th>longitude</th>\n",
       "      <th>datum</th>\n",
       "      <th>parameter_name</th>\n",
       "      <th>sample_duration</th>\n",
       "      <th>pollutant_standard</th>\n",
       "      <th>date_local</th>\n",
       "      <th>units_of_measure</th>\n",
       "      <th>event_type</th>\n",
       "      <th>observation_count</th>\n",
       "      <th>observation_percent</th>\n",
       "      <th>arithmetic_mean</th>\n",
       "      <th>1st_max_value</th>\n",
       "      <th>1st_max_hour</th>\n",
       "      <th>aqi</th>\n",
       "      <th>method_code</th>\n",
       "      <th>method_name</th>\n",
       "      <th>local_site_name</th>\n",
       "      <th>address</th>\n",
       "      <th>state_name</th>\n",
       "      <th>county_name</th>\n",
       "      <th>city_name</th>\n",
       "      <th>cbsa_name</th>\n",
       "      <th>date_of_last_change</th>\n",
       "    </tr>\n",
       "  </thead>\n",
       "  <tbody>\n",
       "    <tr>\n",
       "      <th>0</th>\n",
       "      <td>1</td>\n",
       "      <td>3</td>\n",
       "      <td>10</td>\n",
       "      <td>88101</td>\n",
       "      <td>1</td>\n",
       "      <td>30.497478</td>\n",
       "      <td>-87.880258</td>\n",
       "      <td>NAD83</td>\n",
       "      <td>PM2.5 - Local Conditions</td>\n",
       "      <td>24 HOUR</td>\n",
       "      <td>PM25 24-hour 2012</td>\n",
       "      <td>2000-01-16</td>\n",
       "      <td>Micrograms/cubic meter (LC)</td>\n",
       "      <td>None</td>\n",
       "      <td>1</td>\n",
       "      <td>100.0</td>\n",
       "      <td>5.9</td>\n",
       "      <td>5.9</td>\n",
       "      <td>0</td>\n",
       "      <td>25.0</td>\n",
       "      <td>120.0</td>\n",
       "      <td>Andersen RAAS2.5-300 PM2.5 SEQ w/WINS - GRAVIM...</td>\n",
       "      <td>FAIRHOPE, Alabama</td>\n",
       "      <td>FAIRHOPE HIGH SCHOOL, 1 PIRATE DRIVE, FAIRHOPE...</td>\n",
       "      <td>Alabama</td>\n",
       "      <td>Baldwin</td>\n",
       "      <td>Fairhope</td>\n",
       "      <td>Daphne-Fairhope-Foley, AL</td>\n",
       "      <td>2015-04-02</td>\n",
       "    </tr>\n",
       "  </tbody>\n",
       "</table>\n",
       "</div>"
      ],
      "text/plain": [
       "  state_code  county_code  site_num  parameter_code  poc   latitude  \\\n",
       "0          1            3        10           88101    1  30.497478   \n",
       "\n",
       "   longitude  datum            parameter_name sample_duration  \\\n",
       "0 -87.880258  NAD83  PM2.5 - Local Conditions         24 HOUR   \n",
       "\n",
       "  pollutant_standard date_local             units_of_measure event_type  \\\n",
       "0  PM25 24-hour 2012 2000-01-16  Micrograms/cubic meter (LC)       None   \n",
       "\n",
       "   observation_count  observation_percent  arithmetic_mean  1st_max_value  \\\n",
       "0                  1                100.0              5.9            5.9   \n",
       "\n",
       "   1st_max_hour   aqi  method_code  \\\n",
       "0             0  25.0        120.0   \n",
       "\n",
       "                                         method_name    local_site_name  \\\n",
       "0  Andersen RAAS2.5-300 PM2.5 SEQ w/WINS - GRAVIM...  FAIRHOPE, Alabama   \n",
       "\n",
       "                                             address state_name county_name  \\\n",
       "0  FAIRHOPE HIGH SCHOOL, 1 PIRATE DRIVE, FAIRHOPE...    Alabama     Baldwin   \n",
       "\n",
       "  city_name                  cbsa_name date_of_last_change  \n",
       "0  Fairhope  Daphne-Fairhope-Foley, AL          2015-04-02  "
      ]
     },
     "metadata": {},
     "output_type": "display_data"
    },
    {
     "data": {
      "text/html": [
       "<div>\n",
       "<style scoped>\n",
       "    .dataframe tbody tr th:only-of-type {\n",
       "        vertical-align: middle;\n",
       "    }\n",
       "\n",
       "    .dataframe tbody tr th {\n",
       "        vertical-align: top;\n",
       "    }\n",
       "\n",
       "    .dataframe thead th {\n",
       "        text-align: right;\n",
       "    }\n",
       "</style>\n",
       "<table border=\"1\" class=\"dataframe\">\n",
       "  <thead>\n",
       "    <tr style=\"text-align: right;\">\n",
       "      <th></th>\n",
       "      <th>state_code</th>\n",
       "      <th>county_code</th>\n",
       "      <th>site_num</th>\n",
       "      <th>parameter_code</th>\n",
       "      <th>poc</th>\n",
       "      <th>latitude</th>\n",
       "      <th>longitude</th>\n",
       "      <th>datum</th>\n",
       "      <th>parameter_name</th>\n",
       "      <th>sample_duration</th>\n",
       "      <th>pollutant_standard</th>\n",
       "      <th>date_local</th>\n",
       "      <th>units_of_measure</th>\n",
       "      <th>event_type</th>\n",
       "      <th>observation_count</th>\n",
       "      <th>observation_percent</th>\n",
       "      <th>arithmetic_mean</th>\n",
       "      <th>1st_max_value</th>\n",
       "      <th>1st_max_hour</th>\n",
       "      <th>aqi</th>\n",
       "      <th>method_code</th>\n",
       "      <th>method_name</th>\n",
       "      <th>local_site_name</th>\n",
       "      <th>address</th>\n",
       "      <th>state_name</th>\n",
       "      <th>county_name</th>\n",
       "      <th>city_name</th>\n",
       "      <th>cbsa_name</th>\n",
       "      <th>date_of_last_change</th>\n",
       "    </tr>\n",
       "  </thead>\n",
       "  <tbody>\n",
       "    <tr>\n",
       "      <th>0</th>\n",
       "      <td>6</td>\n",
       "      <td>7</td>\n",
       "      <td>2</td>\n",
       "      <td>64101</td>\n",
       "      <td>1</td>\n",
       "      <td>39.757371</td>\n",
       "      <td>-121.843286</td>\n",
       "      <td>WGS84</td>\n",
       "      <td>Barometric pressure</td>\n",
       "      <td>1 HOUR</td>\n",
       "      <td>NaN</td>\n",
       "      <td>2000-01-01</td>\n",
       "      <td>Millibars</td>\n",
       "      <td>None</td>\n",
       "      <td>24</td>\n",
       "      <td>100.0</td>\n",
       "      <td>1007.9</td>\n",
       "      <td>1009.2</td>\n",
       "      <td>9</td>\n",
       "      <td>NaN</td>\n",
       "      <td>14</td>\n",
       "      <td>INSTRUMENTAL - BAROMETRIC SENSOR</td>\n",
       "      <td>Chico-Manzanita Ave.</td>\n",
       "      <td>468 MANZANITA AVE, CHICO</td>\n",
       "      <td>California</td>\n",
       "      <td>Butte</td>\n",
       "      <td>Not in a city</td>\n",
       "      <td>Chico, CA</td>\n",
       "      <td>2013-06-11</td>\n",
       "    </tr>\n",
       "  </tbody>\n",
       "</table>\n",
       "</div>"
      ],
      "text/plain": [
       "   state_code  county_code  site_num  parameter_code  poc   latitude  \\\n",
       "0           6            7         2           64101    1  39.757371   \n",
       "\n",
       "    longitude  datum       parameter_name sample_duration  pollutant_standard  \\\n",
       "0 -121.843286  WGS84  Barometric pressure          1 HOUR                 NaN   \n",
       "\n",
       "  date_local units_of_measure event_type  observation_count  \\\n",
       "0 2000-01-01        Millibars       None                 24   \n",
       "\n",
       "   observation_percent  arithmetic_mean  1st_max_value  1st_max_hour  aqi  \\\n",
       "0                100.0           1007.9         1009.2             9  NaN   \n",
       "\n",
       "   method_code                       method_name       local_site_name  \\\n",
       "0           14  INSTRUMENTAL - BAROMETRIC SENSOR  Chico-Manzanita Ave.   \n",
       "\n",
       "                    address  state_name county_name      city_name  cbsa_name  \\\n",
       "0  468 MANZANITA AVE, CHICO  California       Butte  Not in a city  Chico, CA   \n",
       "\n",
       "  date_of_last_change  \n",
       "0          2013-06-11  "
      ]
     },
     "metadata": {},
     "output_type": "display_data"
    },
    {
     "data": {
      "text/html": [
       "<div>\n",
       "<style scoped>\n",
       "    .dataframe tbody tr th:only-of-type {\n",
       "        vertical-align: middle;\n",
       "    }\n",
       "\n",
       "    .dataframe tbody tr th {\n",
       "        vertical-align: top;\n",
       "    }\n",
       "\n",
       "    .dataframe thead th {\n",
       "        text-align: right;\n",
       "    }\n",
       "</style>\n",
       "<table border=\"1\" class=\"dataframe\">\n",
       "  <thead>\n",
       "    <tr style=\"text-align: right;\">\n",
       "      <th></th>\n",
       "      <th>state_code</th>\n",
       "      <th>county_code</th>\n",
       "      <th>site_num</th>\n",
       "      <th>parameter_code</th>\n",
       "      <th>poc</th>\n",
       "      <th>latitude</th>\n",
       "      <th>longitude</th>\n",
       "      <th>datum</th>\n",
       "      <th>parameter_name</th>\n",
       "      <th>sample_duration</th>\n",
       "      <th>pollutant_standard</th>\n",
       "      <th>date_local</th>\n",
       "      <th>units_of_measure</th>\n",
       "      <th>event_type</th>\n",
       "      <th>observation_count</th>\n",
       "      <th>observation_percent</th>\n",
       "      <th>arithmetic_mean</th>\n",
       "      <th>1st_max_value</th>\n",
       "      <th>1st_max_hour</th>\n",
       "      <th>aqi</th>\n",
       "      <th>method_code</th>\n",
       "      <th>method_name</th>\n",
       "      <th>local_site_name</th>\n",
       "      <th>address</th>\n",
       "      <th>state_name</th>\n",
       "      <th>county_name</th>\n",
       "      <th>city_name</th>\n",
       "      <th>cbsa_name</th>\n",
       "      <th>date_of_last_change</th>\n",
       "    </tr>\n",
       "  </thead>\n",
       "  <tbody>\n",
       "    <tr>\n",
       "      <th>0</th>\n",
       "      <td>2</td>\n",
       "      <td>68</td>\n",
       "      <td>3</td>\n",
       "      <td>62101</td>\n",
       "      <td>1</td>\n",
       "      <td>63.7232</td>\n",
       "      <td>-148.9676</td>\n",
       "      <td>WGS84</td>\n",
       "      <td>Outdoor Temperature</td>\n",
       "      <td>1 HOUR</td>\n",
       "      <td>NaN</td>\n",
       "      <td>2000-01-01</td>\n",
       "      <td>Degrees Fahrenheit</td>\n",
       "      <td>None</td>\n",
       "      <td>24</td>\n",
       "      <td>100.0</td>\n",
       "      <td>-25.541667</td>\n",
       "      <td>-18.0</td>\n",
       "      <td>23</td>\n",
       "      <td>NaN</td>\n",
       "      <td>41</td>\n",
       "      <td>INSTRUMENTAL - ELEC. OR MACH. AVG. LEVEL 1</td>\n",
       "      <td>Denali NP &amp; PRES - Headquarters</td>\n",
       "      <td>DENALI NATIONAL PARK</td>\n",
       "      <td>Alaska</td>\n",
       "      <td>Denali</td>\n",
       "      <td>Not in a city</td>\n",
       "      <td>NaN</td>\n",
       "      <td>2013-06-11</td>\n",
       "    </tr>\n",
       "  </tbody>\n",
       "</table>\n",
       "</div>"
      ],
      "text/plain": [
       "   state_code  county_code  site_num  parameter_code  poc  latitude  \\\n",
       "0           2           68         3           62101    1   63.7232   \n",
       "\n",
       "   longitude  datum       parameter_name sample_duration  pollutant_standard  \\\n",
       "0  -148.9676  WGS84  Outdoor Temperature          1 HOUR                 NaN   \n",
       "\n",
       "  date_local    units_of_measure event_type  observation_count  \\\n",
       "0 2000-01-01  Degrees Fahrenheit       None                 24   \n",
       "\n",
       "   observation_percent  arithmetic_mean  1st_max_value  1st_max_hour  aqi  \\\n",
       "0                100.0       -25.541667          -18.0            23  NaN   \n",
       "\n",
       "   method_code                                 method_name  \\\n",
       "0           41  INSTRUMENTAL - ELEC. OR MACH. AVG. LEVEL 1   \n",
       "\n",
       "                   local_site_name               address state_name  \\\n",
       "0  Denali NP & PRES - Headquarters  DENALI NATIONAL PARK     Alaska   \n",
       "\n",
       "  county_name      city_name cbsa_name date_of_last_change  \n",
       "0     Denali   Not in a city       NaN          2013-06-11  "
      ]
     },
     "metadata": {},
     "output_type": "display_data"
    },
    {
     "data": {
      "text/html": [
       "<div>\n",
       "<style scoped>\n",
       "    .dataframe tbody tr th:only-of-type {\n",
       "        vertical-align: middle;\n",
       "    }\n",
       "\n",
       "    .dataframe tbody tr th {\n",
       "        vertical-align: top;\n",
       "    }\n",
       "\n",
       "    .dataframe thead th {\n",
       "        text-align: right;\n",
       "    }\n",
       "</style>\n",
       "<table border=\"1\" class=\"dataframe\">\n",
       "  <thead>\n",
       "    <tr style=\"text-align: right;\">\n",
       "      <th></th>\n",
       "      <th>state_code</th>\n",
       "      <th>county_code</th>\n",
       "      <th>site_num</th>\n",
       "      <th>parameter_code</th>\n",
       "      <th>poc</th>\n",
       "      <th>latitude</th>\n",
       "      <th>longitude</th>\n",
       "      <th>datum</th>\n",
       "      <th>parameter_name</th>\n",
       "      <th>sample_duration</th>\n",
       "      <th>pollutant_standard</th>\n",
       "      <th>date_local</th>\n",
       "      <th>units_of_measure</th>\n",
       "      <th>event_type</th>\n",
       "      <th>observation_count</th>\n",
       "      <th>observation_percent</th>\n",
       "      <th>arithmetic_mean</th>\n",
       "      <th>1st_max_value</th>\n",
       "      <th>1st_max_hour</th>\n",
       "      <th>aqi</th>\n",
       "      <th>method_code</th>\n",
       "      <th>method_name</th>\n",
       "      <th>local_site_name</th>\n",
       "      <th>address</th>\n",
       "      <th>state_name</th>\n",
       "      <th>county_name</th>\n",
       "      <th>city_name</th>\n",
       "      <th>cbsa_name</th>\n",
       "      <th>date_of_last_change</th>\n",
       "    </tr>\n",
       "  </thead>\n",
       "  <tbody>\n",
       "    <tr>\n",
       "      <th>0</th>\n",
       "      <td>2</td>\n",
       "      <td>68</td>\n",
       "      <td>3</td>\n",
       "      <td>61103</td>\n",
       "      <td>1</td>\n",
       "      <td>63.7232</td>\n",
       "      <td>-148.9676</td>\n",
       "      <td>WGS84</td>\n",
       "      <td>Wind Speed - Resultant</td>\n",
       "      <td>1 HOUR</td>\n",
       "      <td>NaN</td>\n",
       "      <td>2000-01-16</td>\n",
       "      <td>Knots</td>\n",
       "      <td>None</td>\n",
       "      <td>7</td>\n",
       "      <td>29.0</td>\n",
       "      <td>2.271429</td>\n",
       "      <td>3.3</td>\n",
       "      <td>21</td>\n",
       "      <td>NaN</td>\n",
       "      <td>20</td>\n",
       "      <td>INSTRUMENTAL - VECTOR SUMMATION</td>\n",
       "      <td>Denali NP &amp; PRES - Headquarters</td>\n",
       "      <td>DENALI NATIONAL PARK</td>\n",
       "      <td>Alaska</td>\n",
       "      <td>Denali</td>\n",
       "      <td>Not in a city</td>\n",
       "      <td>NaN</td>\n",
       "      <td>2016-04-29</td>\n",
       "    </tr>\n",
       "  </tbody>\n",
       "</table>\n",
       "</div>"
      ],
      "text/plain": [
       "   state_code  county_code  site_num  parameter_code  poc  latitude  \\\n",
       "0           2           68         3           61103    1   63.7232   \n",
       "\n",
       "   longitude  datum          parameter_name sample_duration  \\\n",
       "0  -148.9676  WGS84  Wind Speed - Resultant          1 HOUR   \n",
       "\n",
       "   pollutant_standard date_local units_of_measure event_type  \\\n",
       "0                 NaN 2000-01-16            Knots       None   \n",
       "\n",
       "   observation_count  observation_percent  arithmetic_mean  1st_max_value  \\\n",
       "0                  7                 29.0         2.271429            3.3   \n",
       "\n",
       "   1st_max_hour  aqi  method_code                      method_name  \\\n",
       "0            21  NaN           20  INSTRUMENTAL - VECTOR SUMMATION   \n",
       "\n",
       "                   local_site_name               address state_name  \\\n",
       "0  Denali NP & PRES - Headquarters  DENALI NATIONAL PARK     Alaska   \n",
       "\n",
       "  county_name      city_name cbsa_name date_of_last_change  \n",
       "0     Denali   Not in a city       NaN          2016-04-29  "
      ]
     },
     "metadata": {},
     "output_type": "display_data"
    }
   ],
   "source": [
    "# Check\n",
    "for dataframe in dataframes:\n",
    "    display(dataframe.head(1))"
   ]
  },
  {
   "cell_type": "markdown",
   "metadata": {},
   "source": [
    "All column names have now been standardized. "
   ]
  },
  {
   "cell_type": "markdown",
   "metadata": {},
   "source": [
    "## Create Merge Column"
   ]
  },
  {
   "cell_type": "code",
   "execution_count": 35,
   "metadata": {},
   "outputs": [],
   "source": [
    "#Create column for each dataframe with location and date information to use for merging dataframes\n",
    "for df in dataframes:\n",
    "    df['merge_column'] = [f'{x}-{y}-{z}' for x, y, z in zip(df['state_name'], df['county_name'], df['date_local'])]"
   ]
  },
  {
   "cell_type": "code",
   "execution_count": 36,
   "metadata": {},
   "outputs": [],
   "source": [
    "aqi['merge_column'] = [f'{x}-{y}-{z}' for x, y, z in zip(aqi['state_name'], aqi['county_name'], aqi['date_local'])]"
   ]
  },
  {
   "cell_type": "code",
   "execution_count": 37,
   "metadata": {
    "scrolled": true
   },
   "outputs": [
    {
     "data": {
      "text/html": [
       "<div>\n",
       "<style scoped>\n",
       "    .dataframe tbody tr th:only-of-type {\n",
       "        vertical-align: middle;\n",
       "    }\n",
       "\n",
       "    .dataframe tbody tr th {\n",
       "        vertical-align: top;\n",
       "    }\n",
       "\n",
       "    .dataframe thead th {\n",
       "        text-align: right;\n",
       "    }\n",
       "</style>\n",
       "<table border=\"1\" class=\"dataframe\">\n",
       "  <thead>\n",
       "    <tr style=\"text-align: right;\">\n",
       "      <th></th>\n",
       "      <th>state_name</th>\n",
       "      <th>county_name</th>\n",
       "      <th>state_code</th>\n",
       "      <th>county_code</th>\n",
       "      <th>date_local</th>\n",
       "      <th>aqi</th>\n",
       "      <th>category</th>\n",
       "      <th>defining_parameter</th>\n",
       "      <th>defining_site</th>\n",
       "      <th>number_of_sites_reporting</th>\n",
       "      <th>merge_column</th>\n",
       "    </tr>\n",
       "  </thead>\n",
       "  <tbody>\n",
       "    <tr>\n",
       "      <th>0</th>\n",
       "      <td>Alabama</td>\n",
       "      <td>Baldwin</td>\n",
       "      <td>01</td>\n",
       "      <td>3</td>\n",
       "      <td>2000-01-16</td>\n",
       "      <td>25</td>\n",
       "      <td>Good</td>\n",
       "      <td>PM2.5</td>\n",
       "      <td>01-003-0010</td>\n",
       "      <td>1</td>\n",
       "      <td>Alabama-Baldwin-2000-01-16 00:00:00</td>\n",
       "    </tr>\n",
       "  </tbody>\n",
       "</table>\n",
       "</div>"
      ],
      "text/plain": [
       "  state_name county_name state_code  county_code date_local  aqi category  \\\n",
       "0    Alabama     Baldwin         01            3 2000-01-16   25     Good   \n",
       "\n",
       "  defining_parameter defining_site  number_of_sites_reporting  \\\n",
       "0              PM2.5   01-003-0010                          1   \n",
       "\n",
       "                          merge_column  \n",
       "0  Alabama-Baldwin-2000-01-16 00:00:00  "
      ]
     },
     "execution_count": 37,
     "metadata": {},
     "output_type": "execute_result"
    }
   ],
   "source": [
    "aqi.head(1)"
   ]
  },
  {
   "cell_type": "code",
   "execution_count": 38,
   "metadata": {},
   "outputs": [
    {
     "data": {
      "text/html": [
       "<div>\n",
       "<style scoped>\n",
       "    .dataframe tbody tr th:only-of-type {\n",
       "        vertical-align: middle;\n",
       "    }\n",
       "\n",
       "    .dataframe tbody tr th {\n",
       "        vertical-align: top;\n",
       "    }\n",
       "\n",
       "    .dataframe thead th {\n",
       "        text-align: right;\n",
       "    }\n",
       "</style>\n",
       "<table border=\"1\" class=\"dataframe\">\n",
       "  <thead>\n",
       "    <tr style=\"text-align: right;\">\n",
       "      <th></th>\n",
       "      <th>state_code</th>\n",
       "      <th>county_code</th>\n",
       "      <th>site_num</th>\n",
       "      <th>parameter_code</th>\n",
       "      <th>poc</th>\n",
       "      <th>latitude</th>\n",
       "      <th>longitude</th>\n",
       "      <th>datum</th>\n",
       "      <th>parameter_name</th>\n",
       "      <th>sample_duration</th>\n",
       "      <th>pollutant_standard</th>\n",
       "      <th>date_local</th>\n",
       "      <th>units_of_measure</th>\n",
       "      <th>event_type</th>\n",
       "      <th>observation_count</th>\n",
       "      <th>observation_percent</th>\n",
       "      <th>arithmetic_mean</th>\n",
       "      <th>1st_max_value</th>\n",
       "      <th>1st_max_hour</th>\n",
       "      <th>aqi</th>\n",
       "      <th>method_code</th>\n",
       "      <th>method_name</th>\n",
       "      <th>local_site_name</th>\n",
       "      <th>address</th>\n",
       "      <th>state_name</th>\n",
       "      <th>county_name</th>\n",
       "      <th>city_name</th>\n",
       "      <th>cbsa_name</th>\n",
       "      <th>date_of_last_change</th>\n",
       "      <th>merge_column</th>\n",
       "    </tr>\n",
       "  </thead>\n",
       "  <tbody>\n",
       "    <tr>\n",
       "      <th>0</th>\n",
       "      <td>1</td>\n",
       "      <td>3</td>\n",
       "      <td>10</td>\n",
       "      <td>44201</td>\n",
       "      <td>1</td>\n",
       "      <td>30.497478</td>\n",
       "      <td>-87.880258</td>\n",
       "      <td>NAD83</td>\n",
       "      <td>Ozone</td>\n",
       "      <td>8-HR RUN AVG BEGIN HOUR</td>\n",
       "      <td>Ozone 8-hour 2015</td>\n",
       "      <td>2000-02-29</td>\n",
       "      <td>Parts per million</td>\n",
       "      <td>None</td>\n",
       "      <td>1</td>\n",
       "      <td>6.0</td>\n",
       "      <td>0.023000</td>\n",
       "      <td>0.023</td>\n",
       "      <td>23</td>\n",
       "      <td>21.0</td>\n",
       "      <td>NaN</td>\n",
       "      <td>-</td>\n",
       "      <td>FAIRHOPE, Alabama</td>\n",
       "      <td>FAIRHOPE HIGH SCHOOL, 1 PIRATE DRIVE, FAIRHOPE...</td>\n",
       "      <td>Alabama</td>\n",
       "      <td>Baldwin</td>\n",
       "      <td>Fairhope</td>\n",
       "      <td>Daphne-Fairhope-Foley, AL</td>\n",
       "      <td>2018-07-18</td>\n",
       "      <td>Alabama-Baldwin-2000-02-29 00:00:00</td>\n",
       "    </tr>\n",
       "    <tr>\n",
       "      <th>1</th>\n",
       "      <td>1</td>\n",
       "      <td>3</td>\n",
       "      <td>10</td>\n",
       "      <td>44201</td>\n",
       "      <td>1</td>\n",
       "      <td>30.497478</td>\n",
       "      <td>-87.880258</td>\n",
       "      <td>NAD83</td>\n",
       "      <td>Ozone</td>\n",
       "      <td>8-HR RUN AVG BEGIN HOUR</td>\n",
       "      <td>Ozone 8-hour 2015</td>\n",
       "      <td>2000-03-01</td>\n",
       "      <td>Parts per million</td>\n",
       "      <td>None</td>\n",
       "      <td>17</td>\n",
       "      <td>100.0</td>\n",
       "      <td>0.036471</td>\n",
       "      <td>0.046</td>\n",
       "      <td>11</td>\n",
       "      <td>43.0</td>\n",
       "      <td>NaN</td>\n",
       "      <td>-</td>\n",
       "      <td>FAIRHOPE, Alabama</td>\n",
       "      <td>FAIRHOPE HIGH SCHOOL, 1 PIRATE DRIVE, FAIRHOPE...</td>\n",
       "      <td>Alabama</td>\n",
       "      <td>Baldwin</td>\n",
       "      <td>Fairhope</td>\n",
       "      <td>Daphne-Fairhope-Foley, AL</td>\n",
       "      <td>2018-07-18</td>\n",
       "      <td>Alabama-Baldwin-2000-03-01 00:00:00</td>\n",
       "    </tr>\n",
       "    <tr>\n",
       "      <th>2</th>\n",
       "      <td>1</td>\n",
       "      <td>3</td>\n",
       "      <td>10</td>\n",
       "      <td>44201</td>\n",
       "      <td>1</td>\n",
       "      <td>30.497478</td>\n",
       "      <td>-87.880258</td>\n",
       "      <td>NAD83</td>\n",
       "      <td>Ozone</td>\n",
       "      <td>8-HR RUN AVG BEGIN HOUR</td>\n",
       "      <td>Ozone 8-hour 2015</td>\n",
       "      <td>2000-03-02</td>\n",
       "      <td>Parts per million</td>\n",
       "      <td>None</td>\n",
       "      <td>17</td>\n",
       "      <td>100.0</td>\n",
       "      <td>0.037765</td>\n",
       "      <td>0.062</td>\n",
       "      <td>11</td>\n",
       "      <td>74.0</td>\n",
       "      <td>NaN</td>\n",
       "      <td>-</td>\n",
       "      <td>FAIRHOPE, Alabama</td>\n",
       "      <td>FAIRHOPE HIGH SCHOOL, 1 PIRATE DRIVE, FAIRHOPE...</td>\n",
       "      <td>Alabama</td>\n",
       "      <td>Baldwin</td>\n",
       "      <td>Fairhope</td>\n",
       "      <td>Daphne-Fairhope-Foley, AL</td>\n",
       "      <td>2018-07-18</td>\n",
       "      <td>Alabama-Baldwin-2000-03-02 00:00:00</td>\n",
       "    </tr>\n",
       "    <tr>\n",
       "      <th>3</th>\n",
       "      <td>1</td>\n",
       "      <td>3</td>\n",
       "      <td>10</td>\n",
       "      <td>44201</td>\n",
       "      <td>1</td>\n",
       "      <td>30.497478</td>\n",
       "      <td>-87.880258</td>\n",
       "      <td>NAD83</td>\n",
       "      <td>Ozone</td>\n",
       "      <td>8-HR RUN AVG BEGIN HOUR</td>\n",
       "      <td>Ozone 8-hour 2015</td>\n",
       "      <td>2000-03-03</td>\n",
       "      <td>Parts per million</td>\n",
       "      <td>None</td>\n",
       "      <td>17</td>\n",
       "      <td>100.0</td>\n",
       "      <td>0.034941</td>\n",
       "      <td>0.037</td>\n",
       "      <td>10</td>\n",
       "      <td>34.0</td>\n",
       "      <td>NaN</td>\n",
       "      <td>-</td>\n",
       "      <td>FAIRHOPE, Alabama</td>\n",
       "      <td>FAIRHOPE HIGH SCHOOL, 1 PIRATE DRIVE, FAIRHOPE...</td>\n",
       "      <td>Alabama</td>\n",
       "      <td>Baldwin</td>\n",
       "      <td>Fairhope</td>\n",
       "      <td>Daphne-Fairhope-Foley, AL</td>\n",
       "      <td>2018-07-18</td>\n",
       "      <td>Alabama-Baldwin-2000-03-03 00:00:00</td>\n",
       "    </tr>\n",
       "    <tr>\n",
       "      <th>4</th>\n",
       "      <td>1</td>\n",
       "      <td>3</td>\n",
       "      <td>10</td>\n",
       "      <td>44201</td>\n",
       "      <td>1</td>\n",
       "      <td>30.497478</td>\n",
       "      <td>-87.880258</td>\n",
       "      <td>NAD83</td>\n",
       "      <td>Ozone</td>\n",
       "      <td>8-HR RUN AVG BEGIN HOUR</td>\n",
       "      <td>Ozone 8-hour 2015</td>\n",
       "      <td>2000-03-04</td>\n",
       "      <td>Parts per million</td>\n",
       "      <td>None</td>\n",
       "      <td>17</td>\n",
       "      <td>100.0</td>\n",
       "      <td>0.028882</td>\n",
       "      <td>0.038</td>\n",
       "      <td>11</td>\n",
       "      <td>35.0</td>\n",
       "      <td>NaN</td>\n",
       "      <td>-</td>\n",
       "      <td>FAIRHOPE, Alabama</td>\n",
       "      <td>FAIRHOPE HIGH SCHOOL, 1 PIRATE DRIVE, FAIRHOPE...</td>\n",
       "      <td>Alabama</td>\n",
       "      <td>Baldwin</td>\n",
       "      <td>Fairhope</td>\n",
       "      <td>Daphne-Fairhope-Foley, AL</td>\n",
       "      <td>2018-07-18</td>\n",
       "      <td>Alabama-Baldwin-2000-03-04 00:00:00</td>\n",
       "    </tr>\n",
       "    <tr>\n",
       "      <th>5</th>\n",
       "      <td>1</td>\n",
       "      <td>3</td>\n",
       "      <td>10</td>\n",
       "      <td>44201</td>\n",
       "      <td>1</td>\n",
       "      <td>30.497478</td>\n",
       "      <td>-87.880258</td>\n",
       "      <td>NAD83</td>\n",
       "      <td>Ozone</td>\n",
       "      <td>8-HR RUN AVG BEGIN HOUR</td>\n",
       "      <td>Ozone 8-hour 2015</td>\n",
       "      <td>2000-03-05</td>\n",
       "      <td>Parts per million</td>\n",
       "      <td>None</td>\n",
       "      <td>17</td>\n",
       "      <td>100.0</td>\n",
       "      <td>0.036471</td>\n",
       "      <td>0.056</td>\n",
       "      <td>12</td>\n",
       "      <td>54.0</td>\n",
       "      <td>NaN</td>\n",
       "      <td>-</td>\n",
       "      <td>FAIRHOPE, Alabama</td>\n",
       "      <td>FAIRHOPE HIGH SCHOOL, 1 PIRATE DRIVE, FAIRHOPE...</td>\n",
       "      <td>Alabama</td>\n",
       "      <td>Baldwin</td>\n",
       "      <td>Fairhope</td>\n",
       "      <td>Daphne-Fairhope-Foley, AL</td>\n",
       "      <td>2018-07-18</td>\n",
       "      <td>Alabama-Baldwin-2000-03-05 00:00:00</td>\n",
       "    </tr>\n",
       "    <tr>\n",
       "      <th>6</th>\n",
       "      <td>1</td>\n",
       "      <td>3</td>\n",
       "      <td>10</td>\n",
       "      <td>44201</td>\n",
       "      <td>1</td>\n",
       "      <td>30.497478</td>\n",
       "      <td>-87.880258</td>\n",
       "      <td>NAD83</td>\n",
       "      <td>Ozone</td>\n",
       "      <td>8-HR RUN AVG BEGIN HOUR</td>\n",
       "      <td>Ozone 8-hour 2015</td>\n",
       "      <td>2000-03-06</td>\n",
       "      <td>Parts per million</td>\n",
       "      <td>None</td>\n",
       "      <td>17</td>\n",
       "      <td>100.0</td>\n",
       "      <td>0.038941</td>\n",
       "      <td>0.065</td>\n",
       "      <td>10</td>\n",
       "      <td>84.0</td>\n",
       "      <td>NaN</td>\n",
       "      <td>-</td>\n",
       "      <td>FAIRHOPE, Alabama</td>\n",
       "      <td>FAIRHOPE HIGH SCHOOL, 1 PIRATE DRIVE, FAIRHOPE...</td>\n",
       "      <td>Alabama</td>\n",
       "      <td>Baldwin</td>\n",
       "      <td>Fairhope</td>\n",
       "      <td>Daphne-Fairhope-Foley, AL</td>\n",
       "      <td>2018-07-18</td>\n",
       "      <td>Alabama-Baldwin-2000-03-06 00:00:00</td>\n",
       "    </tr>\n",
       "    <tr>\n",
       "      <th>7</th>\n",
       "      <td>1</td>\n",
       "      <td>3</td>\n",
       "      <td>10</td>\n",
       "      <td>44201</td>\n",
       "      <td>1</td>\n",
       "      <td>30.497478</td>\n",
       "      <td>-87.880258</td>\n",
       "      <td>NAD83</td>\n",
       "      <td>Ozone</td>\n",
       "      <td>8-HR RUN AVG BEGIN HOUR</td>\n",
       "      <td>Ozone 8-hour 2015</td>\n",
       "      <td>2000-03-07</td>\n",
       "      <td>Parts per million</td>\n",
       "      <td>None</td>\n",
       "      <td>17</td>\n",
       "      <td>100.0</td>\n",
       "      <td>0.050882</td>\n",
       "      <td>0.072</td>\n",
       "      <td>10</td>\n",
       "      <td>105.0</td>\n",
       "      <td>NaN</td>\n",
       "      <td>-</td>\n",
       "      <td>FAIRHOPE, Alabama</td>\n",
       "      <td>FAIRHOPE HIGH SCHOOL, 1 PIRATE DRIVE, FAIRHOPE...</td>\n",
       "      <td>Alabama</td>\n",
       "      <td>Baldwin</td>\n",
       "      <td>Fairhope</td>\n",
       "      <td>Daphne-Fairhope-Foley, AL</td>\n",
       "      <td>2018-07-18</td>\n",
       "      <td>Alabama-Baldwin-2000-03-07 00:00:00</td>\n",
       "    </tr>\n",
       "    <tr>\n",
       "      <th>8</th>\n",
       "      <td>1</td>\n",
       "      <td>3</td>\n",
       "      <td>10</td>\n",
       "      <td>44201</td>\n",
       "      <td>1</td>\n",
       "      <td>30.497478</td>\n",
       "      <td>-87.880258</td>\n",
       "      <td>NAD83</td>\n",
       "      <td>Ozone</td>\n",
       "      <td>8-HR RUN AVG BEGIN HOUR</td>\n",
       "      <td>Ozone 8-hour 2015</td>\n",
       "      <td>2000-03-08</td>\n",
       "      <td>Parts per million</td>\n",
       "      <td>None</td>\n",
       "      <td>17</td>\n",
       "      <td>100.0</td>\n",
       "      <td>0.043059</td>\n",
       "      <td>0.056</td>\n",
       "      <td>10</td>\n",
       "      <td>54.0</td>\n",
       "      <td>NaN</td>\n",
       "      <td>-</td>\n",
       "      <td>FAIRHOPE, Alabama</td>\n",
       "      <td>FAIRHOPE HIGH SCHOOL, 1 PIRATE DRIVE, FAIRHOPE...</td>\n",
       "      <td>Alabama</td>\n",
       "      <td>Baldwin</td>\n",
       "      <td>Fairhope</td>\n",
       "      <td>Daphne-Fairhope-Foley, AL</td>\n",
       "      <td>2018-07-18</td>\n",
       "      <td>Alabama-Baldwin-2000-03-08 00:00:00</td>\n",
       "    </tr>\n",
       "    <tr>\n",
       "      <th>9</th>\n",
       "      <td>1</td>\n",
       "      <td>3</td>\n",
       "      <td>10</td>\n",
       "      <td>44201</td>\n",
       "      <td>1</td>\n",
       "      <td>30.497478</td>\n",
       "      <td>-87.880258</td>\n",
       "      <td>NAD83</td>\n",
       "      <td>Ozone</td>\n",
       "      <td>8-HR RUN AVG BEGIN HOUR</td>\n",
       "      <td>Ozone 8-hour 2015</td>\n",
       "      <td>2000-03-09</td>\n",
       "      <td>Parts per million</td>\n",
       "      <td>None</td>\n",
       "      <td>17</td>\n",
       "      <td>100.0</td>\n",
       "      <td>0.033000</td>\n",
       "      <td>0.039</td>\n",
       "      <td>9</td>\n",
       "      <td>36.0</td>\n",
       "      <td>NaN</td>\n",
       "      <td>-</td>\n",
       "      <td>FAIRHOPE, Alabama</td>\n",
       "      <td>FAIRHOPE HIGH SCHOOL, 1 PIRATE DRIVE, FAIRHOPE...</td>\n",
       "      <td>Alabama</td>\n",
       "      <td>Baldwin</td>\n",
       "      <td>Fairhope</td>\n",
       "      <td>Daphne-Fairhope-Foley, AL</td>\n",
       "      <td>2018-07-18</td>\n",
       "      <td>Alabama-Baldwin-2000-03-09 00:00:00</td>\n",
       "    </tr>\n",
       "  </tbody>\n",
       "</table>\n",
       "</div>"
      ],
      "text/plain": [
       "  state_code  county_code  site_num  parameter_code  poc   latitude  \\\n",
       "0          1            3        10           44201    1  30.497478   \n",
       "1          1            3        10           44201    1  30.497478   \n",
       "2          1            3        10           44201    1  30.497478   \n",
       "3          1            3        10           44201    1  30.497478   \n",
       "4          1            3        10           44201    1  30.497478   \n",
       "5          1            3        10           44201    1  30.497478   \n",
       "6          1            3        10           44201    1  30.497478   \n",
       "7          1            3        10           44201    1  30.497478   \n",
       "8          1            3        10           44201    1  30.497478   \n",
       "9          1            3        10           44201    1  30.497478   \n",
       "\n",
       "   longitude  datum parameter_name          sample_duration  \\\n",
       "0 -87.880258  NAD83          Ozone  8-HR RUN AVG BEGIN HOUR   \n",
       "1 -87.880258  NAD83          Ozone  8-HR RUN AVG BEGIN HOUR   \n",
       "2 -87.880258  NAD83          Ozone  8-HR RUN AVG BEGIN HOUR   \n",
       "3 -87.880258  NAD83          Ozone  8-HR RUN AVG BEGIN HOUR   \n",
       "4 -87.880258  NAD83          Ozone  8-HR RUN AVG BEGIN HOUR   \n",
       "5 -87.880258  NAD83          Ozone  8-HR RUN AVG BEGIN HOUR   \n",
       "6 -87.880258  NAD83          Ozone  8-HR RUN AVG BEGIN HOUR   \n",
       "7 -87.880258  NAD83          Ozone  8-HR RUN AVG BEGIN HOUR   \n",
       "8 -87.880258  NAD83          Ozone  8-HR RUN AVG BEGIN HOUR   \n",
       "9 -87.880258  NAD83          Ozone  8-HR RUN AVG BEGIN HOUR   \n",
       "\n",
       "  pollutant_standard date_local   units_of_measure event_type  \\\n",
       "0  Ozone 8-hour 2015 2000-02-29  Parts per million       None   \n",
       "1  Ozone 8-hour 2015 2000-03-01  Parts per million       None   \n",
       "2  Ozone 8-hour 2015 2000-03-02  Parts per million       None   \n",
       "3  Ozone 8-hour 2015 2000-03-03  Parts per million       None   \n",
       "4  Ozone 8-hour 2015 2000-03-04  Parts per million       None   \n",
       "5  Ozone 8-hour 2015 2000-03-05  Parts per million       None   \n",
       "6  Ozone 8-hour 2015 2000-03-06  Parts per million       None   \n",
       "7  Ozone 8-hour 2015 2000-03-07  Parts per million       None   \n",
       "8  Ozone 8-hour 2015 2000-03-08  Parts per million       None   \n",
       "9  Ozone 8-hour 2015 2000-03-09  Parts per million       None   \n",
       "\n",
       "   observation_count  observation_percent  arithmetic_mean  1st_max_value  \\\n",
       "0                  1                  6.0         0.023000          0.023   \n",
       "1                 17                100.0         0.036471          0.046   \n",
       "2                 17                100.0         0.037765          0.062   \n",
       "3                 17                100.0         0.034941          0.037   \n",
       "4                 17                100.0         0.028882          0.038   \n",
       "5                 17                100.0         0.036471          0.056   \n",
       "6                 17                100.0         0.038941          0.065   \n",
       "7                 17                100.0         0.050882          0.072   \n",
       "8                 17                100.0         0.043059          0.056   \n",
       "9                 17                100.0         0.033000          0.039   \n",
       "\n",
       "   1st_max_hour    aqi  method_code method_name    local_site_name  \\\n",
       "0            23   21.0          NaN          -   FAIRHOPE, Alabama   \n",
       "1            11   43.0          NaN          -   FAIRHOPE, Alabama   \n",
       "2            11   74.0          NaN          -   FAIRHOPE, Alabama   \n",
       "3            10   34.0          NaN          -   FAIRHOPE, Alabama   \n",
       "4            11   35.0          NaN          -   FAIRHOPE, Alabama   \n",
       "5            12   54.0          NaN          -   FAIRHOPE, Alabama   \n",
       "6            10   84.0          NaN          -   FAIRHOPE, Alabama   \n",
       "7            10  105.0          NaN          -   FAIRHOPE, Alabama   \n",
       "8            10   54.0          NaN          -   FAIRHOPE, Alabama   \n",
       "9             9   36.0          NaN          -   FAIRHOPE, Alabama   \n",
       "\n",
       "                                             address state_name county_name  \\\n",
       "0  FAIRHOPE HIGH SCHOOL, 1 PIRATE DRIVE, FAIRHOPE...    Alabama     Baldwin   \n",
       "1  FAIRHOPE HIGH SCHOOL, 1 PIRATE DRIVE, FAIRHOPE...    Alabama     Baldwin   \n",
       "2  FAIRHOPE HIGH SCHOOL, 1 PIRATE DRIVE, FAIRHOPE...    Alabama     Baldwin   \n",
       "3  FAIRHOPE HIGH SCHOOL, 1 PIRATE DRIVE, FAIRHOPE...    Alabama     Baldwin   \n",
       "4  FAIRHOPE HIGH SCHOOL, 1 PIRATE DRIVE, FAIRHOPE...    Alabama     Baldwin   \n",
       "5  FAIRHOPE HIGH SCHOOL, 1 PIRATE DRIVE, FAIRHOPE...    Alabama     Baldwin   \n",
       "6  FAIRHOPE HIGH SCHOOL, 1 PIRATE DRIVE, FAIRHOPE...    Alabama     Baldwin   \n",
       "7  FAIRHOPE HIGH SCHOOL, 1 PIRATE DRIVE, FAIRHOPE...    Alabama     Baldwin   \n",
       "8  FAIRHOPE HIGH SCHOOL, 1 PIRATE DRIVE, FAIRHOPE...    Alabama     Baldwin   \n",
       "9  FAIRHOPE HIGH SCHOOL, 1 PIRATE DRIVE, FAIRHOPE...    Alabama     Baldwin   \n",
       "\n",
       "  city_name                  cbsa_name date_of_last_change  \\\n",
       "0  Fairhope  Daphne-Fairhope-Foley, AL          2018-07-18   \n",
       "1  Fairhope  Daphne-Fairhope-Foley, AL          2018-07-18   \n",
       "2  Fairhope  Daphne-Fairhope-Foley, AL          2018-07-18   \n",
       "3  Fairhope  Daphne-Fairhope-Foley, AL          2018-07-18   \n",
       "4  Fairhope  Daphne-Fairhope-Foley, AL          2018-07-18   \n",
       "5  Fairhope  Daphne-Fairhope-Foley, AL          2018-07-18   \n",
       "6  Fairhope  Daphne-Fairhope-Foley, AL          2018-07-18   \n",
       "7  Fairhope  Daphne-Fairhope-Foley, AL          2018-07-18   \n",
       "8  Fairhope  Daphne-Fairhope-Foley, AL          2018-07-18   \n",
       "9  Fairhope  Daphne-Fairhope-Foley, AL          2018-07-18   \n",
       "\n",
       "                          merge_column  \n",
       "0  Alabama-Baldwin-2000-02-29 00:00:00  \n",
       "1  Alabama-Baldwin-2000-03-01 00:00:00  \n",
       "2  Alabama-Baldwin-2000-03-02 00:00:00  \n",
       "3  Alabama-Baldwin-2000-03-03 00:00:00  \n",
       "4  Alabama-Baldwin-2000-03-04 00:00:00  \n",
       "5  Alabama-Baldwin-2000-03-05 00:00:00  \n",
       "6  Alabama-Baldwin-2000-03-06 00:00:00  \n",
       "7  Alabama-Baldwin-2000-03-07 00:00:00  \n",
       "8  Alabama-Baldwin-2000-03-08 00:00:00  \n",
       "9  Alabama-Baldwin-2000-03-09 00:00:00  "
      ]
     },
     "execution_count": 38,
     "metadata": {},
     "output_type": "execute_result"
    }
   ],
   "source": [
    "o3.head(10)"
   ]
  },
  {
   "cell_type": "code",
   "execution_count": 39,
   "metadata": {},
   "outputs": [],
   "source": [
    "#Remove spaces from all entries in merge_column\n",
    "for df in dataframes:\n",
    "    df['merge_column'] = df['merge_column'].apply(lambda x: x.replace(' ', '',))\n",
    "aqi['merge_column'] = aqi['merge_column'].apply(lambda x: x.replace(' ', '',))"
   ]
  },
  {
   "cell_type": "markdown",
   "metadata": {},
   "source": [
    "## Filter observation_percent"
   ]
  },
  {
   "cell_type": "markdown",
   "metadata": {},
   "source": [
    "To ensure I am using quality data, I will drop any rows where the observation percent is less than 75% using my `filter_observation_percent` function."
   ]
  },
  {
   "cell_type": "code",
   "execution_count": 40,
   "metadata": {},
   "outputs": [],
   "source": [
    "def filter_observation_percent(df, threshold=75):\n",
    "    df = df.loc[df['observation_percent'] >= threshold]\n",
    "    print(f'New value counts: {df.observation_percent.value_counts()}')\n",
    "    return df"
   ]
  },
  {
   "cell_type": "code",
   "execution_count": 41,
   "metadata": {},
   "outputs": [
    {
     "data": {
      "text/plain": [
       "100.0    3823344\n",
       "96.0      708344\n",
       "92.0      184931\n",
       "88.0       60838\n",
       "75.0       40600\n",
       "83.0       26688\n",
       "79.0       21758\n",
       "71.0       21153\n",
       "67.0       14439\n",
       "63.0       11207\n",
       "58.0        8897\n",
       "54.0        7565\n",
       "50.0        7067\n",
       "46.0        6264\n",
       "42.0        5748\n",
       "38.0        5287\n",
       "33.0        4365\n",
       "29.0        3621\n",
       "8.0         3228\n",
       "25.0        3158\n",
       "21.0        2637\n",
       "17.0        2311\n",
       "13.0        1921\n",
       "4.0         1441\n",
       "Name: observation_percent, dtype: int64"
      ]
     },
     "execution_count": 41,
     "metadata": {},
     "output_type": "execute_result"
    }
   ],
   "source": [
    "co.observation_percent.value_counts()"
   ]
  },
  {
   "cell_type": "code",
   "execution_count": 42,
   "metadata": {},
   "outputs": [
    {
     "name": "stdout",
     "output_type": "stream",
     "text": [
      "New value counts: 100.0    3823344\n",
      "96.0      708344\n",
      "92.0      184931\n",
      "88.0       60838\n",
      "75.0       40600\n",
      "83.0       26688\n",
      "79.0       21758\n",
      "Name: observation_percent, dtype: int64\n"
     ]
    }
   ],
   "source": [
    "co = filter_observation_percent(co)"
   ]
  },
  {
   "cell_type": "code",
   "execution_count": 43,
   "metadata": {},
   "outputs": [
    {
     "name": "stdout",
     "output_type": "stream",
     "text": [
      "New value counts: 100.0    1522978\n",
      "96.0      801798\n",
      "92.0      259490\n",
      "88.0       91131\n",
      "83.0       48704\n",
      "79.0       25317\n",
      "75.0       16345\n",
      "Name: observation_percent, dtype: int64\n"
     ]
    }
   ],
   "source": [
    "no2 = filter_observation_percent(no2)"
   ]
  },
  {
   "cell_type": "code",
   "execution_count": 44,
   "metadata": {},
   "outputs": [
    {
     "name": "stdout",
     "output_type": "stream",
     "text": [
      "New value counts: 100.0    7006426\n",
      "76.0       37375\n",
      "82.0       34635\n",
      "88.0       27072\n",
      "94.0       20616\n",
      "Name: observation_percent, dtype: int64\n"
     ]
    }
   ],
   "source": [
    "o3 = filter_observation_percent(o3)"
   ]
  },
  {
   "cell_type": "code",
   "execution_count": 45,
   "metadata": {},
   "outputs": [
    {
     "name": "stdout",
     "output_type": "stream",
     "text": [
      "New value counts: 100.0    4309494\n",
      "88.0     1110413\n",
      "96.0      871125\n",
      "92.0      228755\n",
      "75.0      173175\n",
      "83.0       32325\n",
      "79.0       15961\n",
      "Name: observation_percent, dtype: int64\n"
     ]
    }
   ],
   "source": [
    "so2 = filter_observation_percent(so2)"
   ]
  },
  {
   "cell_type": "code",
   "execution_count": 46,
   "metadata": {},
   "outputs": [
    {
     "name": "stdout",
     "output_type": "stream",
     "text": [
      "New value counts: 100.0    3047476\n",
      "Name: observation_percent, dtype: int64\n"
     ]
    }
   ],
   "source": [
    "pm10 = filter_observation_percent(pm10)"
   ]
  },
  {
   "cell_type": "code",
   "execution_count": 47,
   "metadata": {},
   "outputs": [
    {
     "data": {
      "text/plain": [
       "100.0    4830845\n",
       "96.0       80910\n",
       "92.0       39185\n",
       "200.0      17510\n",
       "88.0       17059\n",
       "83.0        8043\n",
       "79.0        4683\n",
       "75.0        3171\n",
       "54.0        3142\n",
       "50.0        3072\n",
       "58.0        2962\n",
       "46.0        2957\n",
       "42.0        2742\n",
       "63.0        2650\n",
       "67.0        2502\n",
       "71.0        2460\n",
       "38.0        2423\n",
       "33.0        1898\n",
       "29.0        1189\n",
       "25.0         780\n",
       "4.0          529\n",
       "21.0         499\n",
       "17.0         429\n",
       "8.0          348\n",
       "13.0         346\n",
       "175.0        145\n",
       "183.0         39\n",
       "167.0         38\n",
       "192.0         37\n",
       "158.0         15\n",
       "150.0         10\n",
       "125.0          6\n",
       "142.0          4\n",
       "108.0          4\n",
       "117.0          4\n",
       "133.0          3\n",
       "Name: observation_percent, dtype: int64"
      ]
     },
     "execution_count": 47,
     "metadata": {},
     "output_type": "execute_result"
    }
   ],
   "source": [
    "#### This one is different so I will have to handle it manually.\n",
    "pm25.observation_percent.value_counts()"
   ]
  },
  {
   "cell_type": "code",
   "execution_count": 48,
   "metadata": {
    "scrolled": true
   },
   "outputs": [
    {
     "name": "stdout",
     "output_type": "stream",
     "text": [
      "New value counts: 100.0    4830845\n",
      "Name: observation_percent, dtype: int64\n"
     ]
    }
   ],
   "source": [
    "pm25 = pm25.loc[pm25['observation_percent'] == 100]\n",
    "print(f'New value counts: {pm25.observation_percent.value_counts()}')"
   ]
  },
  {
   "cell_type": "code",
   "execution_count": 51,
   "metadata": {
    "scrolled": true
   },
   "outputs": [
    {
     "data": {
      "text/plain": [
       "100.0    4971551\n",
       "96.0       47337\n",
       "92.0       22361\n",
       "88.0       10240\n",
       "83.0        6278\n",
       "79.0        4265\n",
       "75.0        3467\n",
       "63.0        3291\n",
       "67.0        3282\n",
       "71.0        3279\n",
       "58.0        3159\n",
       "54.0        3018\n",
       "50.0        2734\n",
       "46.0        2541\n",
       "42.0        2312\n",
       "38.0        2054\n",
       "33.0        1559\n",
       "29.0        1164\n",
       "4.0          804\n",
       "25.0         790\n",
       "21.0         634\n",
       "17.0         611\n",
       "13.0         548\n",
       "8.0          481\n",
       "Name: observation_percent, dtype: int64"
      ]
     },
     "execution_count": 51,
     "metadata": {},
     "output_type": "execute_result"
    }
   ],
   "source": [
    "temperature.observation_percent.value_counts()"
   ]
  },
  {
   "cell_type": "code",
   "execution_count": 53,
   "metadata": {},
   "outputs": [
    {
     "ename": "MemoryError",
     "evalue": "Unable to allocate 544. MiB for an array with shape (14, 5097760) and data type object",
     "output_type": "error",
     "traceback": [
      "\u001b[1;31m---------------------------------------------------------------------------\u001b[0m",
      "\u001b[1;31mMemoryError\u001b[0m                               Traceback (most recent call last)",
      "\u001b[1;32m<ipython-input-53-da29a8317848>\u001b[0m in \u001b[0;36m<module>\u001b[1;34m\u001b[0m\n\u001b[1;32m----> 1\u001b[1;33m \u001b[0mtemperature\u001b[0m \u001b[1;33m=\u001b[0m \u001b[0mtemperature\u001b[0m\u001b[1;33m.\u001b[0m\u001b[0mloc\u001b[0m\u001b[1;33m[\u001b[0m\u001b[0mtemperature\u001b[0m\u001b[1;33m[\u001b[0m\u001b[1;34m'observation_percent'\u001b[0m\u001b[1;33m]\u001b[0m \u001b[1;33m>=\u001b[0m \u001b[1;36m75\u001b[0m\u001b[1;33m]\u001b[0m\u001b[1;33m\u001b[0m\u001b[1;33m\u001b[0m\u001b[0m\n\u001b[0m",
      "\u001b[1;32m~\\anaconda3\\lib\\site-packages\\pandas\\core\\indexing.py\u001b[0m in \u001b[0;36m__getitem__\u001b[1;34m(self, key)\u001b[0m\n\u001b[0;32m   1765\u001b[0m \u001b[1;33m\u001b[0m\u001b[0m\n\u001b[0;32m   1766\u001b[0m             \u001b[0mmaybe_callable\u001b[0m \u001b[1;33m=\u001b[0m \u001b[0mcom\u001b[0m\u001b[1;33m.\u001b[0m\u001b[0mapply_if_callable\u001b[0m\u001b[1;33m(\u001b[0m\u001b[0mkey\u001b[0m\u001b[1;33m,\u001b[0m \u001b[0mself\u001b[0m\u001b[1;33m.\u001b[0m\u001b[0mobj\u001b[0m\u001b[1;33m)\u001b[0m\u001b[1;33m\u001b[0m\u001b[1;33m\u001b[0m\u001b[0m\n\u001b[1;32m-> 1767\u001b[1;33m             \u001b[1;32mreturn\u001b[0m \u001b[0mself\u001b[0m\u001b[1;33m.\u001b[0m\u001b[0m_getitem_axis\u001b[0m\u001b[1;33m(\u001b[0m\u001b[0mmaybe_callable\u001b[0m\u001b[1;33m,\u001b[0m \u001b[0maxis\u001b[0m\u001b[1;33m=\u001b[0m\u001b[0maxis\u001b[0m\u001b[1;33m)\u001b[0m\u001b[1;33m\u001b[0m\u001b[1;33m\u001b[0m\u001b[0m\n\u001b[0m\u001b[0;32m   1768\u001b[0m \u001b[1;33m\u001b[0m\u001b[0m\n\u001b[0;32m   1769\u001b[0m     \u001b[1;32mdef\u001b[0m \u001b[0m_is_scalar_access\u001b[0m\u001b[1;33m(\u001b[0m\u001b[0mself\u001b[0m\u001b[1;33m,\u001b[0m \u001b[0mkey\u001b[0m\u001b[1;33m:\u001b[0m \u001b[0mTuple\u001b[0m\u001b[1;33m)\u001b[0m\u001b[1;33m:\u001b[0m\u001b[1;33m\u001b[0m\u001b[1;33m\u001b[0m\u001b[0m\n",
      "\u001b[1;32m~\\anaconda3\\lib\\site-packages\\pandas\\core\\indexing.py\u001b[0m in \u001b[0;36m_getitem_axis\u001b[1;34m(self, key, axis)\u001b[0m\n\u001b[0;32m   1911\u001b[0m             \u001b[1;32mreturn\u001b[0m \u001b[0mself\u001b[0m\u001b[1;33m.\u001b[0m\u001b[0m_get_slice_axis\u001b[0m\u001b[1;33m(\u001b[0m\u001b[0mkey\u001b[0m\u001b[1;33m,\u001b[0m \u001b[0maxis\u001b[0m\u001b[1;33m=\u001b[0m\u001b[0maxis\u001b[0m\u001b[1;33m)\u001b[0m\u001b[1;33m\u001b[0m\u001b[1;33m\u001b[0m\u001b[0m\n\u001b[0;32m   1912\u001b[0m         \u001b[1;32melif\u001b[0m \u001b[0mcom\u001b[0m\u001b[1;33m.\u001b[0m\u001b[0mis_bool_indexer\u001b[0m\u001b[1;33m(\u001b[0m\u001b[0mkey\u001b[0m\u001b[1;33m)\u001b[0m\u001b[1;33m:\u001b[0m\u001b[1;33m\u001b[0m\u001b[1;33m\u001b[0m\u001b[0m\n\u001b[1;32m-> 1913\u001b[1;33m             \u001b[1;32mreturn\u001b[0m \u001b[0mself\u001b[0m\u001b[1;33m.\u001b[0m\u001b[0m_getbool_axis\u001b[0m\u001b[1;33m(\u001b[0m\u001b[0mkey\u001b[0m\u001b[1;33m,\u001b[0m \u001b[0maxis\u001b[0m\u001b[1;33m=\u001b[0m\u001b[0maxis\u001b[0m\u001b[1;33m)\u001b[0m\u001b[1;33m\u001b[0m\u001b[1;33m\u001b[0m\u001b[0m\n\u001b[0m\u001b[0;32m   1914\u001b[0m         \u001b[1;32melif\u001b[0m \u001b[0mis_list_like_indexer\u001b[0m\u001b[1;33m(\u001b[0m\u001b[0mkey\u001b[0m\u001b[1;33m)\u001b[0m\u001b[1;33m:\u001b[0m\u001b[1;33m\u001b[0m\u001b[1;33m\u001b[0m\u001b[0m\n\u001b[0;32m   1915\u001b[0m \u001b[1;33m\u001b[0m\u001b[0m\n",
      "\u001b[1;32m~\\anaconda3\\lib\\site-packages\\pandas\\core\\indexing.py\u001b[0m in \u001b[0;36m_getbool_axis\u001b[1;34m(self, key, axis)\u001b[0m\n\u001b[0;32m   1781\u001b[0m         \u001b[0mkey\u001b[0m \u001b[1;33m=\u001b[0m \u001b[0mcheck_bool_indexer\u001b[0m\u001b[1;33m(\u001b[0m\u001b[0mlabels\u001b[0m\u001b[1;33m,\u001b[0m \u001b[0mkey\u001b[0m\u001b[1;33m)\u001b[0m\u001b[1;33m\u001b[0m\u001b[1;33m\u001b[0m\u001b[0m\n\u001b[0;32m   1782\u001b[0m         \u001b[0minds\u001b[0m \u001b[1;33m=\u001b[0m \u001b[0mkey\u001b[0m\u001b[1;33m.\u001b[0m\u001b[0mnonzero\u001b[0m\u001b[1;33m(\u001b[0m\u001b[1;33m)\u001b[0m\u001b[1;33m[\u001b[0m\u001b[1;36m0\u001b[0m\u001b[1;33m]\u001b[0m\u001b[1;33m\u001b[0m\u001b[1;33m\u001b[0m\u001b[0m\n\u001b[1;32m-> 1783\u001b[1;33m         \u001b[1;32mreturn\u001b[0m \u001b[0mself\u001b[0m\u001b[1;33m.\u001b[0m\u001b[0mobj\u001b[0m\u001b[1;33m.\u001b[0m\u001b[0m_take_with_is_copy\u001b[0m\u001b[1;33m(\u001b[0m\u001b[0minds\u001b[0m\u001b[1;33m,\u001b[0m \u001b[0maxis\u001b[0m\u001b[1;33m=\u001b[0m\u001b[0maxis\u001b[0m\u001b[1;33m)\u001b[0m\u001b[1;33m\u001b[0m\u001b[1;33m\u001b[0m\u001b[0m\n\u001b[0m\u001b[0;32m   1784\u001b[0m \u001b[1;33m\u001b[0m\u001b[0m\n\u001b[0;32m   1785\u001b[0m     \u001b[1;32mdef\u001b[0m \u001b[0m_get_slice_axis\u001b[0m\u001b[1;33m(\u001b[0m\u001b[0mself\u001b[0m\u001b[1;33m,\u001b[0m \u001b[0mslice_obj\u001b[0m\u001b[1;33m:\u001b[0m \u001b[0mslice\u001b[0m\u001b[1;33m,\u001b[0m \u001b[0maxis\u001b[0m\u001b[1;33m:\u001b[0m \u001b[0mint\u001b[0m\u001b[1;33m)\u001b[0m\u001b[1;33m:\u001b[0m\u001b[1;33m\u001b[0m\u001b[1;33m\u001b[0m\u001b[0m\n",
      "\u001b[1;32m~\\anaconda3\\lib\\site-packages\\pandas\\core\\generic.py\u001b[0m in \u001b[0;36m_take_with_is_copy\u001b[1;34m(self, indices, axis, **kwargs)\u001b[0m\n\u001b[0;32m   3407\u001b[0m         \u001b[0mSee\u001b[0m \u001b[0mthe\u001b[0m \u001b[0mdocstring\u001b[0m \u001b[0mof\u001b[0m\u001b[0;31m \u001b[0m\u001b[0;31m`\u001b[0m\u001b[0mtake\u001b[0m\u001b[0;31m`\u001b[0m \u001b[1;32mfor\u001b[0m \u001b[0mfull\u001b[0m \u001b[0mexplanation\u001b[0m \u001b[0mof\u001b[0m \u001b[0mthe\u001b[0m \u001b[0mparameters\u001b[0m\u001b[1;33m.\u001b[0m\u001b[1;33m\u001b[0m\u001b[1;33m\u001b[0m\u001b[0m\n\u001b[0;32m   3408\u001b[0m         \"\"\"\n\u001b[1;32m-> 3409\u001b[1;33m         \u001b[0mresult\u001b[0m \u001b[1;33m=\u001b[0m \u001b[0mself\u001b[0m\u001b[1;33m.\u001b[0m\u001b[0mtake\u001b[0m\u001b[1;33m(\u001b[0m\u001b[0mindices\u001b[0m\u001b[1;33m=\u001b[0m\u001b[0mindices\u001b[0m\u001b[1;33m,\u001b[0m \u001b[0maxis\u001b[0m\u001b[1;33m=\u001b[0m\u001b[0maxis\u001b[0m\u001b[1;33m,\u001b[0m \u001b[1;33m**\u001b[0m\u001b[0mkwargs\u001b[0m\u001b[1;33m)\u001b[0m\u001b[1;33m\u001b[0m\u001b[1;33m\u001b[0m\u001b[0m\n\u001b[0m\u001b[0;32m   3410\u001b[0m         \u001b[1;31m# Maybe set copy if we didn't actually change the index.\u001b[0m\u001b[1;33m\u001b[0m\u001b[1;33m\u001b[0m\u001b[1;33m\u001b[0m\u001b[0m\n\u001b[0;32m   3411\u001b[0m         \u001b[1;32mif\u001b[0m \u001b[1;32mnot\u001b[0m \u001b[0mresult\u001b[0m\u001b[1;33m.\u001b[0m\u001b[0m_get_axis\u001b[0m\u001b[1;33m(\u001b[0m\u001b[0maxis\u001b[0m\u001b[1;33m)\u001b[0m\u001b[1;33m.\u001b[0m\u001b[0mequals\u001b[0m\u001b[1;33m(\u001b[0m\u001b[0mself\u001b[0m\u001b[1;33m.\u001b[0m\u001b[0m_get_axis\u001b[0m\u001b[1;33m(\u001b[0m\u001b[0maxis\u001b[0m\u001b[1;33m)\u001b[0m\u001b[1;33m)\u001b[0m\u001b[1;33m:\u001b[0m\u001b[1;33m\u001b[0m\u001b[1;33m\u001b[0m\u001b[0m\n",
      "\u001b[1;32m~\\anaconda3\\lib\\site-packages\\pandas\\core\\generic.py\u001b[0m in \u001b[0;36mtake\u001b[1;34m(self, indices, axis, is_copy, **kwargs)\u001b[0m\n\u001b[0;32m   3390\u001b[0m         \u001b[0mnv\u001b[0m\u001b[1;33m.\u001b[0m\u001b[0mvalidate_take\u001b[0m\u001b[1;33m(\u001b[0m\u001b[0mtuple\u001b[0m\u001b[1;33m(\u001b[0m\u001b[1;33m)\u001b[0m\u001b[1;33m,\u001b[0m \u001b[0mkwargs\u001b[0m\u001b[1;33m)\u001b[0m\u001b[1;33m\u001b[0m\u001b[1;33m\u001b[0m\u001b[0m\n\u001b[0;32m   3391\u001b[0m \u001b[1;33m\u001b[0m\u001b[0m\n\u001b[1;32m-> 3392\u001b[1;33m         \u001b[0mself\u001b[0m\u001b[1;33m.\u001b[0m\u001b[0m_consolidate_inplace\u001b[0m\u001b[1;33m(\u001b[0m\u001b[1;33m)\u001b[0m\u001b[1;33m\u001b[0m\u001b[1;33m\u001b[0m\u001b[0m\n\u001b[0m\u001b[0;32m   3393\u001b[0m \u001b[1;33m\u001b[0m\u001b[0m\n\u001b[0;32m   3394\u001b[0m         new_data = self._data.take(\n",
      "\u001b[1;32m~\\anaconda3\\lib\\site-packages\\pandas\\core\\generic.py\u001b[0m in \u001b[0;36m_consolidate_inplace\u001b[1;34m(self)\u001b[0m\n\u001b[0;32m   5345\u001b[0m             \u001b[0mself\u001b[0m\u001b[1;33m.\u001b[0m\u001b[0m_data\u001b[0m \u001b[1;33m=\u001b[0m \u001b[0mself\u001b[0m\u001b[1;33m.\u001b[0m\u001b[0m_data\u001b[0m\u001b[1;33m.\u001b[0m\u001b[0mconsolidate\u001b[0m\u001b[1;33m(\u001b[0m\u001b[1;33m)\u001b[0m\u001b[1;33m\u001b[0m\u001b[1;33m\u001b[0m\u001b[0m\n\u001b[0;32m   5346\u001b[0m \u001b[1;33m\u001b[0m\u001b[0m\n\u001b[1;32m-> 5347\u001b[1;33m         \u001b[0mself\u001b[0m\u001b[1;33m.\u001b[0m\u001b[0m_protect_consolidate\u001b[0m\u001b[1;33m(\u001b[0m\u001b[0mf\u001b[0m\u001b[1;33m)\u001b[0m\u001b[1;33m\u001b[0m\u001b[1;33m\u001b[0m\u001b[0m\n\u001b[0m\u001b[0;32m   5348\u001b[0m \u001b[1;33m\u001b[0m\u001b[0m\n\u001b[0;32m   5349\u001b[0m     \u001b[1;32mdef\u001b[0m \u001b[0m_consolidate\u001b[0m\u001b[1;33m(\u001b[0m\u001b[0mself\u001b[0m\u001b[1;33m,\u001b[0m \u001b[0minplace\u001b[0m\u001b[1;33m:\u001b[0m \u001b[0mbool_t\u001b[0m \u001b[1;33m=\u001b[0m \u001b[1;32mFalse\u001b[0m\u001b[1;33m)\u001b[0m\u001b[1;33m:\u001b[0m\u001b[1;33m\u001b[0m\u001b[1;33m\u001b[0m\u001b[0m\n",
      "\u001b[1;32m~\\anaconda3\\lib\\site-packages\\pandas\\core\\generic.py\u001b[0m in \u001b[0;36m_protect_consolidate\u001b[1;34m(self, f)\u001b[0m\n\u001b[0;32m   5334\u001b[0m         \"\"\"\n\u001b[0;32m   5335\u001b[0m         \u001b[0mblocks_before\u001b[0m \u001b[1;33m=\u001b[0m \u001b[0mlen\u001b[0m\u001b[1;33m(\u001b[0m\u001b[0mself\u001b[0m\u001b[1;33m.\u001b[0m\u001b[0m_data\u001b[0m\u001b[1;33m.\u001b[0m\u001b[0mblocks\u001b[0m\u001b[1;33m)\u001b[0m\u001b[1;33m\u001b[0m\u001b[1;33m\u001b[0m\u001b[0m\n\u001b[1;32m-> 5336\u001b[1;33m         \u001b[0mresult\u001b[0m \u001b[1;33m=\u001b[0m \u001b[0mf\u001b[0m\u001b[1;33m(\u001b[0m\u001b[1;33m)\u001b[0m\u001b[1;33m\u001b[0m\u001b[1;33m\u001b[0m\u001b[0m\n\u001b[0m\u001b[0;32m   5337\u001b[0m         \u001b[1;32mif\u001b[0m \u001b[0mlen\u001b[0m\u001b[1;33m(\u001b[0m\u001b[0mself\u001b[0m\u001b[1;33m.\u001b[0m\u001b[0m_data\u001b[0m\u001b[1;33m.\u001b[0m\u001b[0mblocks\u001b[0m\u001b[1;33m)\u001b[0m \u001b[1;33m!=\u001b[0m \u001b[0mblocks_before\u001b[0m\u001b[1;33m:\u001b[0m\u001b[1;33m\u001b[0m\u001b[1;33m\u001b[0m\u001b[0m\n\u001b[0;32m   5338\u001b[0m             \u001b[0mself\u001b[0m\u001b[1;33m.\u001b[0m\u001b[0m_clear_item_cache\u001b[0m\u001b[1;33m(\u001b[0m\u001b[1;33m)\u001b[0m\u001b[1;33m\u001b[0m\u001b[1;33m\u001b[0m\u001b[0m\n",
      "\u001b[1;32m~\\anaconda3\\lib\\site-packages\\pandas\\core\\generic.py\u001b[0m in \u001b[0;36mf\u001b[1;34m()\u001b[0m\n\u001b[0;32m   5343\u001b[0m \u001b[1;33m\u001b[0m\u001b[0m\n\u001b[0;32m   5344\u001b[0m         \u001b[1;32mdef\u001b[0m \u001b[0mf\u001b[0m\u001b[1;33m(\u001b[0m\u001b[1;33m)\u001b[0m\u001b[1;33m:\u001b[0m\u001b[1;33m\u001b[0m\u001b[1;33m\u001b[0m\u001b[0m\n\u001b[1;32m-> 5345\u001b[1;33m             \u001b[0mself\u001b[0m\u001b[1;33m.\u001b[0m\u001b[0m_data\u001b[0m \u001b[1;33m=\u001b[0m \u001b[0mself\u001b[0m\u001b[1;33m.\u001b[0m\u001b[0m_data\u001b[0m\u001b[1;33m.\u001b[0m\u001b[0mconsolidate\u001b[0m\u001b[1;33m(\u001b[0m\u001b[1;33m)\u001b[0m\u001b[1;33m\u001b[0m\u001b[1;33m\u001b[0m\u001b[0m\n\u001b[0m\u001b[0;32m   5346\u001b[0m \u001b[1;33m\u001b[0m\u001b[0m\n\u001b[0;32m   5347\u001b[0m         \u001b[0mself\u001b[0m\u001b[1;33m.\u001b[0m\u001b[0m_protect_consolidate\u001b[0m\u001b[1;33m(\u001b[0m\u001b[0mf\u001b[0m\u001b[1;33m)\u001b[0m\u001b[1;33m\u001b[0m\u001b[1;33m\u001b[0m\u001b[0m\n",
      "\u001b[1;32m~\\anaconda3\\lib\\site-packages\\pandas\\core\\internals\\managers.py\u001b[0m in \u001b[0;36mconsolidate\u001b[1;34m(self)\u001b[0m\n\u001b[0;32m    938\u001b[0m         \u001b[0mbm\u001b[0m \u001b[1;33m=\u001b[0m \u001b[0mtype\u001b[0m\u001b[1;33m(\u001b[0m\u001b[0mself\u001b[0m\u001b[1;33m)\u001b[0m\u001b[1;33m(\u001b[0m\u001b[0mself\u001b[0m\u001b[1;33m.\u001b[0m\u001b[0mblocks\u001b[0m\u001b[1;33m,\u001b[0m \u001b[0mself\u001b[0m\u001b[1;33m.\u001b[0m\u001b[0maxes\u001b[0m\u001b[1;33m)\u001b[0m\u001b[1;33m\u001b[0m\u001b[1;33m\u001b[0m\u001b[0m\n\u001b[0;32m    939\u001b[0m         \u001b[0mbm\u001b[0m\u001b[1;33m.\u001b[0m\u001b[0m_is_consolidated\u001b[0m \u001b[1;33m=\u001b[0m \u001b[1;32mFalse\u001b[0m\u001b[1;33m\u001b[0m\u001b[1;33m\u001b[0m\u001b[0m\n\u001b[1;32m--> 940\u001b[1;33m         \u001b[0mbm\u001b[0m\u001b[1;33m.\u001b[0m\u001b[0m_consolidate_inplace\u001b[0m\u001b[1;33m(\u001b[0m\u001b[1;33m)\u001b[0m\u001b[1;33m\u001b[0m\u001b[1;33m\u001b[0m\u001b[0m\n\u001b[0m\u001b[0;32m    941\u001b[0m         \u001b[1;32mreturn\u001b[0m \u001b[0mbm\u001b[0m\u001b[1;33m\u001b[0m\u001b[1;33m\u001b[0m\u001b[0m\n\u001b[0;32m    942\u001b[0m \u001b[1;33m\u001b[0m\u001b[0m\n",
      "\u001b[1;32m~\\anaconda3\\lib\\site-packages\\pandas\\core\\internals\\managers.py\u001b[0m in \u001b[0;36m_consolidate_inplace\u001b[1;34m(self)\u001b[0m\n\u001b[0;32m    943\u001b[0m     \u001b[1;32mdef\u001b[0m \u001b[0m_consolidate_inplace\u001b[0m\u001b[1;33m(\u001b[0m\u001b[0mself\u001b[0m\u001b[1;33m)\u001b[0m\u001b[1;33m:\u001b[0m\u001b[1;33m\u001b[0m\u001b[1;33m\u001b[0m\u001b[0m\n\u001b[0;32m    944\u001b[0m         \u001b[1;32mif\u001b[0m \u001b[1;32mnot\u001b[0m \u001b[0mself\u001b[0m\u001b[1;33m.\u001b[0m\u001b[0mis_consolidated\u001b[0m\u001b[1;33m(\u001b[0m\u001b[1;33m)\u001b[0m\u001b[1;33m:\u001b[0m\u001b[1;33m\u001b[0m\u001b[1;33m\u001b[0m\u001b[0m\n\u001b[1;32m--> 945\u001b[1;33m             \u001b[0mself\u001b[0m\u001b[1;33m.\u001b[0m\u001b[0mblocks\u001b[0m \u001b[1;33m=\u001b[0m \u001b[0mtuple\u001b[0m\u001b[1;33m(\u001b[0m\u001b[0m_consolidate\u001b[0m\u001b[1;33m(\u001b[0m\u001b[0mself\u001b[0m\u001b[1;33m.\u001b[0m\u001b[0mblocks\u001b[0m\u001b[1;33m)\u001b[0m\u001b[1;33m)\u001b[0m\u001b[1;33m\u001b[0m\u001b[1;33m\u001b[0m\u001b[0m\n\u001b[0m\u001b[0;32m    946\u001b[0m             \u001b[0mself\u001b[0m\u001b[1;33m.\u001b[0m\u001b[0m_is_consolidated\u001b[0m \u001b[1;33m=\u001b[0m \u001b[1;32mTrue\u001b[0m\u001b[1;33m\u001b[0m\u001b[1;33m\u001b[0m\u001b[0m\n\u001b[0;32m    947\u001b[0m             \u001b[0mself\u001b[0m\u001b[1;33m.\u001b[0m\u001b[0m_known_consolidated\u001b[0m \u001b[1;33m=\u001b[0m \u001b[1;32mTrue\u001b[0m\u001b[1;33m\u001b[0m\u001b[1;33m\u001b[0m\u001b[0m\n",
      "\u001b[1;32m~\\anaconda3\\lib\\site-packages\\pandas\\core\\internals\\managers.py\u001b[0m in \u001b[0;36m_consolidate\u001b[1;34m(blocks)\u001b[0m\n\u001b[0;32m   1885\u001b[0m     \u001b[1;32mfor\u001b[0m \u001b[1;33m(\u001b[0m\u001b[0m_can_consolidate\u001b[0m\u001b[1;33m,\u001b[0m \u001b[0mdtype\u001b[0m\u001b[1;33m)\u001b[0m\u001b[1;33m,\u001b[0m \u001b[0mgroup_blocks\u001b[0m \u001b[1;32min\u001b[0m \u001b[0mgrouper\u001b[0m\u001b[1;33m:\u001b[0m\u001b[1;33m\u001b[0m\u001b[1;33m\u001b[0m\u001b[0m\n\u001b[0;32m   1886\u001b[0m         merged_blocks = _merge_blocks(\n\u001b[1;32m-> 1887\u001b[1;33m             \u001b[0mlist\u001b[0m\u001b[1;33m(\u001b[0m\u001b[0mgroup_blocks\u001b[0m\u001b[1;33m)\u001b[0m\u001b[1;33m,\u001b[0m \u001b[0mdtype\u001b[0m\u001b[1;33m=\u001b[0m\u001b[0mdtype\u001b[0m\u001b[1;33m,\u001b[0m \u001b[0m_can_consolidate\u001b[0m\u001b[1;33m=\u001b[0m\u001b[0m_can_consolidate\u001b[0m\u001b[1;33m\u001b[0m\u001b[1;33m\u001b[0m\u001b[0m\n\u001b[0m\u001b[0;32m   1888\u001b[0m         )\n\u001b[0;32m   1889\u001b[0m         \u001b[0mnew_blocks\u001b[0m \u001b[1;33m=\u001b[0m \u001b[0m_extend_blocks\u001b[0m\u001b[1;33m(\u001b[0m\u001b[0mmerged_blocks\u001b[0m\u001b[1;33m,\u001b[0m \u001b[0mnew_blocks\u001b[0m\u001b[1;33m)\u001b[0m\u001b[1;33m\u001b[0m\u001b[1;33m\u001b[0m\u001b[0m\n",
      "\u001b[1;32m~\\anaconda3\\lib\\site-packages\\pandas\\core\\internals\\blocks.py\u001b[0m in \u001b[0;36m_merge_blocks\u001b[1;34m(blocks, dtype, _can_consolidate)\u001b[0m\n\u001b[0;32m   3091\u001b[0m         \u001b[1;31m# combination of those slices is a slice, too.\u001b[0m\u001b[1;33m\u001b[0m\u001b[1;33m\u001b[0m\u001b[1;33m\u001b[0m\u001b[0m\n\u001b[0;32m   3092\u001b[0m         \u001b[0mnew_mgr_locs\u001b[0m \u001b[1;33m=\u001b[0m \u001b[0mnp\u001b[0m\u001b[1;33m.\u001b[0m\u001b[0mconcatenate\u001b[0m\u001b[1;33m(\u001b[0m\u001b[1;33m[\u001b[0m\u001b[0mb\u001b[0m\u001b[1;33m.\u001b[0m\u001b[0mmgr_locs\u001b[0m\u001b[1;33m.\u001b[0m\u001b[0mas_array\u001b[0m \u001b[1;32mfor\u001b[0m \u001b[0mb\u001b[0m \u001b[1;32min\u001b[0m \u001b[0mblocks\u001b[0m\u001b[1;33m]\u001b[0m\u001b[1;33m)\u001b[0m\u001b[1;33m\u001b[0m\u001b[1;33m\u001b[0m\u001b[0m\n\u001b[1;32m-> 3093\u001b[1;33m         \u001b[0mnew_values\u001b[0m \u001b[1;33m=\u001b[0m \u001b[0mnp\u001b[0m\u001b[1;33m.\u001b[0m\u001b[0mvstack\u001b[0m\u001b[1;33m(\u001b[0m\u001b[1;33m[\u001b[0m\u001b[0mb\u001b[0m\u001b[1;33m.\u001b[0m\u001b[0mvalues\u001b[0m \u001b[1;32mfor\u001b[0m \u001b[0mb\u001b[0m \u001b[1;32min\u001b[0m \u001b[0mblocks\u001b[0m\u001b[1;33m]\u001b[0m\u001b[1;33m)\u001b[0m\u001b[1;33m\u001b[0m\u001b[1;33m\u001b[0m\u001b[0m\n\u001b[0m\u001b[0;32m   3094\u001b[0m \u001b[1;33m\u001b[0m\u001b[0m\n\u001b[0;32m   3095\u001b[0m         \u001b[0margsort\u001b[0m \u001b[1;33m=\u001b[0m \u001b[0mnp\u001b[0m\u001b[1;33m.\u001b[0m\u001b[0margsort\u001b[0m\u001b[1;33m(\u001b[0m\u001b[0mnew_mgr_locs\u001b[0m\u001b[1;33m)\u001b[0m\u001b[1;33m\u001b[0m\u001b[1;33m\u001b[0m\u001b[0m\n",
      "\u001b[1;32m<__array_function__ internals>\u001b[0m in \u001b[0;36mvstack\u001b[1;34m(*args, **kwargs)\u001b[0m\n",
      "\u001b[1;32m~\\anaconda3\\lib\\site-packages\\numpy\\core\\shape_base.py\u001b[0m in \u001b[0;36mvstack\u001b[1;34m(tup)\u001b[0m\n\u001b[0;32m    281\u001b[0m     \u001b[1;32mif\u001b[0m \u001b[1;32mnot\u001b[0m \u001b[0misinstance\u001b[0m\u001b[1;33m(\u001b[0m\u001b[0marrs\u001b[0m\u001b[1;33m,\u001b[0m \u001b[0mlist\u001b[0m\u001b[1;33m)\u001b[0m\u001b[1;33m:\u001b[0m\u001b[1;33m\u001b[0m\u001b[1;33m\u001b[0m\u001b[0m\n\u001b[0;32m    282\u001b[0m         \u001b[0marrs\u001b[0m \u001b[1;33m=\u001b[0m \u001b[1;33m[\u001b[0m\u001b[0marrs\u001b[0m\u001b[1;33m]\u001b[0m\u001b[1;33m\u001b[0m\u001b[1;33m\u001b[0m\u001b[0m\n\u001b[1;32m--> 283\u001b[1;33m     \u001b[1;32mreturn\u001b[0m \u001b[0m_nx\u001b[0m\u001b[1;33m.\u001b[0m\u001b[0mconcatenate\u001b[0m\u001b[1;33m(\u001b[0m\u001b[0marrs\u001b[0m\u001b[1;33m,\u001b[0m \u001b[1;36m0\u001b[0m\u001b[1;33m)\u001b[0m\u001b[1;33m\u001b[0m\u001b[1;33m\u001b[0m\u001b[0m\n\u001b[0m\u001b[0;32m    284\u001b[0m \u001b[1;33m\u001b[0m\u001b[0m\n\u001b[0;32m    285\u001b[0m \u001b[1;33m\u001b[0m\u001b[0m\n",
      "\u001b[1;32m<__array_function__ internals>\u001b[0m in \u001b[0;36mconcatenate\u001b[1;34m(*args, **kwargs)\u001b[0m\n",
      "\u001b[1;31mMemoryError\u001b[0m: Unable to allocate 544. MiB for an array with shape (14, 5097760) and data type object"
     ]
    }
   ],
   "source": [
    "temperature = temperature.loc[temperature['observation_percent'] >= 75]"
   ]
  },
  {
   "cell_type": "code",
   "execution_count": 52,
   "metadata": {},
   "outputs": [
    {
     "ename": "MemoryError",
     "evalue": "Unable to allocate 544. MiB for an array with shape (14, 5097760) and data type object",
     "output_type": "error",
     "traceback": [
      "\u001b[1;31m---------------------------------------------------------------------------\u001b[0m",
      "\u001b[1;31mMemoryError\u001b[0m                               Traceback (most recent call last)",
      "\u001b[1;32m<ipython-input-52-35a91681b5a9>\u001b[0m in \u001b[0;36m<module>\u001b[1;34m\u001b[0m\n\u001b[1;32m----> 1\u001b[1;33m \u001b[0mtemperature\u001b[0m \u001b[1;33m=\u001b[0m \u001b[0mfilter_observation_percent\u001b[0m\u001b[1;33m(\u001b[0m\u001b[0mtemperature\u001b[0m\u001b[1;33m)\u001b[0m\u001b[1;33m\u001b[0m\u001b[1;33m\u001b[0m\u001b[0m\n\u001b[0m",
      "\u001b[1;32m<ipython-input-40-89c4a71bc10e>\u001b[0m in \u001b[0;36mfilter_observation_percent\u001b[1;34m(df, threshold)\u001b[0m\n\u001b[0;32m      1\u001b[0m \u001b[1;32mdef\u001b[0m \u001b[0mfilter_observation_percent\u001b[0m\u001b[1;33m(\u001b[0m\u001b[0mdf\u001b[0m\u001b[1;33m,\u001b[0m \u001b[0mthreshold\u001b[0m\u001b[1;33m=\u001b[0m\u001b[1;36m75\u001b[0m\u001b[1;33m)\u001b[0m\u001b[1;33m:\u001b[0m\u001b[1;33m\u001b[0m\u001b[1;33m\u001b[0m\u001b[0m\n\u001b[1;32m----> 2\u001b[1;33m     \u001b[0mdf\u001b[0m \u001b[1;33m=\u001b[0m \u001b[0mdf\u001b[0m\u001b[1;33m.\u001b[0m\u001b[0mloc\u001b[0m\u001b[1;33m[\u001b[0m\u001b[0mdf\u001b[0m\u001b[1;33m[\u001b[0m\u001b[1;34m'observation_percent'\u001b[0m\u001b[1;33m]\u001b[0m \u001b[1;33m>=\u001b[0m \u001b[0mthreshold\u001b[0m\u001b[1;33m]\u001b[0m\u001b[1;33m\u001b[0m\u001b[1;33m\u001b[0m\u001b[0m\n\u001b[0m\u001b[0;32m      3\u001b[0m     \u001b[0mprint\u001b[0m\u001b[1;33m(\u001b[0m\u001b[1;34mf'New value counts: {df.observation_percent.value_counts()}'\u001b[0m\u001b[1;33m)\u001b[0m\u001b[1;33m\u001b[0m\u001b[1;33m\u001b[0m\u001b[0m\n\u001b[0;32m      4\u001b[0m     \u001b[1;32mreturn\u001b[0m \u001b[0mdf\u001b[0m\u001b[1;33m\u001b[0m\u001b[1;33m\u001b[0m\u001b[0m\n",
      "\u001b[1;32m~\\anaconda3\\lib\\site-packages\\pandas\\core\\indexing.py\u001b[0m in \u001b[0;36m__getitem__\u001b[1;34m(self, key)\u001b[0m\n\u001b[0;32m   1765\u001b[0m \u001b[1;33m\u001b[0m\u001b[0m\n\u001b[0;32m   1766\u001b[0m             \u001b[0mmaybe_callable\u001b[0m \u001b[1;33m=\u001b[0m \u001b[0mcom\u001b[0m\u001b[1;33m.\u001b[0m\u001b[0mapply_if_callable\u001b[0m\u001b[1;33m(\u001b[0m\u001b[0mkey\u001b[0m\u001b[1;33m,\u001b[0m \u001b[0mself\u001b[0m\u001b[1;33m.\u001b[0m\u001b[0mobj\u001b[0m\u001b[1;33m)\u001b[0m\u001b[1;33m\u001b[0m\u001b[1;33m\u001b[0m\u001b[0m\n\u001b[1;32m-> 1767\u001b[1;33m             \u001b[1;32mreturn\u001b[0m \u001b[0mself\u001b[0m\u001b[1;33m.\u001b[0m\u001b[0m_getitem_axis\u001b[0m\u001b[1;33m(\u001b[0m\u001b[0mmaybe_callable\u001b[0m\u001b[1;33m,\u001b[0m \u001b[0maxis\u001b[0m\u001b[1;33m=\u001b[0m\u001b[0maxis\u001b[0m\u001b[1;33m)\u001b[0m\u001b[1;33m\u001b[0m\u001b[1;33m\u001b[0m\u001b[0m\n\u001b[0m\u001b[0;32m   1768\u001b[0m \u001b[1;33m\u001b[0m\u001b[0m\n\u001b[0;32m   1769\u001b[0m     \u001b[1;32mdef\u001b[0m \u001b[0m_is_scalar_access\u001b[0m\u001b[1;33m(\u001b[0m\u001b[0mself\u001b[0m\u001b[1;33m,\u001b[0m \u001b[0mkey\u001b[0m\u001b[1;33m:\u001b[0m \u001b[0mTuple\u001b[0m\u001b[1;33m)\u001b[0m\u001b[1;33m:\u001b[0m\u001b[1;33m\u001b[0m\u001b[1;33m\u001b[0m\u001b[0m\n",
      "\u001b[1;32m~\\anaconda3\\lib\\site-packages\\pandas\\core\\indexing.py\u001b[0m in \u001b[0;36m_getitem_axis\u001b[1;34m(self, key, axis)\u001b[0m\n\u001b[0;32m   1911\u001b[0m             \u001b[1;32mreturn\u001b[0m \u001b[0mself\u001b[0m\u001b[1;33m.\u001b[0m\u001b[0m_get_slice_axis\u001b[0m\u001b[1;33m(\u001b[0m\u001b[0mkey\u001b[0m\u001b[1;33m,\u001b[0m \u001b[0maxis\u001b[0m\u001b[1;33m=\u001b[0m\u001b[0maxis\u001b[0m\u001b[1;33m)\u001b[0m\u001b[1;33m\u001b[0m\u001b[1;33m\u001b[0m\u001b[0m\n\u001b[0;32m   1912\u001b[0m         \u001b[1;32melif\u001b[0m \u001b[0mcom\u001b[0m\u001b[1;33m.\u001b[0m\u001b[0mis_bool_indexer\u001b[0m\u001b[1;33m(\u001b[0m\u001b[0mkey\u001b[0m\u001b[1;33m)\u001b[0m\u001b[1;33m:\u001b[0m\u001b[1;33m\u001b[0m\u001b[1;33m\u001b[0m\u001b[0m\n\u001b[1;32m-> 1913\u001b[1;33m             \u001b[1;32mreturn\u001b[0m \u001b[0mself\u001b[0m\u001b[1;33m.\u001b[0m\u001b[0m_getbool_axis\u001b[0m\u001b[1;33m(\u001b[0m\u001b[0mkey\u001b[0m\u001b[1;33m,\u001b[0m \u001b[0maxis\u001b[0m\u001b[1;33m=\u001b[0m\u001b[0maxis\u001b[0m\u001b[1;33m)\u001b[0m\u001b[1;33m\u001b[0m\u001b[1;33m\u001b[0m\u001b[0m\n\u001b[0m\u001b[0;32m   1914\u001b[0m         \u001b[1;32melif\u001b[0m \u001b[0mis_list_like_indexer\u001b[0m\u001b[1;33m(\u001b[0m\u001b[0mkey\u001b[0m\u001b[1;33m)\u001b[0m\u001b[1;33m:\u001b[0m\u001b[1;33m\u001b[0m\u001b[1;33m\u001b[0m\u001b[0m\n\u001b[0;32m   1915\u001b[0m \u001b[1;33m\u001b[0m\u001b[0m\n",
      "\u001b[1;32m~\\anaconda3\\lib\\site-packages\\pandas\\core\\indexing.py\u001b[0m in \u001b[0;36m_getbool_axis\u001b[1;34m(self, key, axis)\u001b[0m\n\u001b[0;32m   1781\u001b[0m         \u001b[0mkey\u001b[0m \u001b[1;33m=\u001b[0m \u001b[0mcheck_bool_indexer\u001b[0m\u001b[1;33m(\u001b[0m\u001b[0mlabels\u001b[0m\u001b[1;33m,\u001b[0m \u001b[0mkey\u001b[0m\u001b[1;33m)\u001b[0m\u001b[1;33m\u001b[0m\u001b[1;33m\u001b[0m\u001b[0m\n\u001b[0;32m   1782\u001b[0m         \u001b[0minds\u001b[0m \u001b[1;33m=\u001b[0m \u001b[0mkey\u001b[0m\u001b[1;33m.\u001b[0m\u001b[0mnonzero\u001b[0m\u001b[1;33m(\u001b[0m\u001b[1;33m)\u001b[0m\u001b[1;33m[\u001b[0m\u001b[1;36m0\u001b[0m\u001b[1;33m]\u001b[0m\u001b[1;33m\u001b[0m\u001b[1;33m\u001b[0m\u001b[0m\n\u001b[1;32m-> 1783\u001b[1;33m         \u001b[1;32mreturn\u001b[0m \u001b[0mself\u001b[0m\u001b[1;33m.\u001b[0m\u001b[0mobj\u001b[0m\u001b[1;33m.\u001b[0m\u001b[0m_take_with_is_copy\u001b[0m\u001b[1;33m(\u001b[0m\u001b[0minds\u001b[0m\u001b[1;33m,\u001b[0m \u001b[0maxis\u001b[0m\u001b[1;33m=\u001b[0m\u001b[0maxis\u001b[0m\u001b[1;33m)\u001b[0m\u001b[1;33m\u001b[0m\u001b[1;33m\u001b[0m\u001b[0m\n\u001b[0m\u001b[0;32m   1784\u001b[0m \u001b[1;33m\u001b[0m\u001b[0m\n\u001b[0;32m   1785\u001b[0m     \u001b[1;32mdef\u001b[0m \u001b[0m_get_slice_axis\u001b[0m\u001b[1;33m(\u001b[0m\u001b[0mself\u001b[0m\u001b[1;33m,\u001b[0m \u001b[0mslice_obj\u001b[0m\u001b[1;33m:\u001b[0m \u001b[0mslice\u001b[0m\u001b[1;33m,\u001b[0m \u001b[0maxis\u001b[0m\u001b[1;33m:\u001b[0m \u001b[0mint\u001b[0m\u001b[1;33m)\u001b[0m\u001b[1;33m:\u001b[0m\u001b[1;33m\u001b[0m\u001b[1;33m\u001b[0m\u001b[0m\n",
      "\u001b[1;32m~\\anaconda3\\lib\\site-packages\\pandas\\core\\generic.py\u001b[0m in \u001b[0;36m_take_with_is_copy\u001b[1;34m(self, indices, axis, **kwargs)\u001b[0m\n\u001b[0;32m   3407\u001b[0m         \u001b[0mSee\u001b[0m \u001b[0mthe\u001b[0m \u001b[0mdocstring\u001b[0m \u001b[0mof\u001b[0m\u001b[0;31m \u001b[0m\u001b[0;31m`\u001b[0m\u001b[0mtake\u001b[0m\u001b[0;31m`\u001b[0m \u001b[1;32mfor\u001b[0m \u001b[0mfull\u001b[0m \u001b[0mexplanation\u001b[0m \u001b[0mof\u001b[0m \u001b[0mthe\u001b[0m \u001b[0mparameters\u001b[0m\u001b[1;33m.\u001b[0m\u001b[1;33m\u001b[0m\u001b[1;33m\u001b[0m\u001b[0m\n\u001b[0;32m   3408\u001b[0m         \"\"\"\n\u001b[1;32m-> 3409\u001b[1;33m         \u001b[0mresult\u001b[0m \u001b[1;33m=\u001b[0m \u001b[0mself\u001b[0m\u001b[1;33m.\u001b[0m\u001b[0mtake\u001b[0m\u001b[1;33m(\u001b[0m\u001b[0mindices\u001b[0m\u001b[1;33m=\u001b[0m\u001b[0mindices\u001b[0m\u001b[1;33m,\u001b[0m \u001b[0maxis\u001b[0m\u001b[1;33m=\u001b[0m\u001b[0maxis\u001b[0m\u001b[1;33m,\u001b[0m \u001b[1;33m**\u001b[0m\u001b[0mkwargs\u001b[0m\u001b[1;33m)\u001b[0m\u001b[1;33m\u001b[0m\u001b[1;33m\u001b[0m\u001b[0m\n\u001b[0m\u001b[0;32m   3410\u001b[0m         \u001b[1;31m# Maybe set copy if we didn't actually change the index.\u001b[0m\u001b[1;33m\u001b[0m\u001b[1;33m\u001b[0m\u001b[1;33m\u001b[0m\u001b[0m\n\u001b[0;32m   3411\u001b[0m         \u001b[1;32mif\u001b[0m \u001b[1;32mnot\u001b[0m \u001b[0mresult\u001b[0m\u001b[1;33m.\u001b[0m\u001b[0m_get_axis\u001b[0m\u001b[1;33m(\u001b[0m\u001b[0maxis\u001b[0m\u001b[1;33m)\u001b[0m\u001b[1;33m.\u001b[0m\u001b[0mequals\u001b[0m\u001b[1;33m(\u001b[0m\u001b[0mself\u001b[0m\u001b[1;33m.\u001b[0m\u001b[0m_get_axis\u001b[0m\u001b[1;33m(\u001b[0m\u001b[0maxis\u001b[0m\u001b[1;33m)\u001b[0m\u001b[1;33m)\u001b[0m\u001b[1;33m:\u001b[0m\u001b[1;33m\u001b[0m\u001b[1;33m\u001b[0m\u001b[0m\n",
      "\u001b[1;32m~\\anaconda3\\lib\\site-packages\\pandas\\core\\generic.py\u001b[0m in \u001b[0;36mtake\u001b[1;34m(self, indices, axis, is_copy, **kwargs)\u001b[0m\n\u001b[0;32m   3390\u001b[0m         \u001b[0mnv\u001b[0m\u001b[1;33m.\u001b[0m\u001b[0mvalidate_take\u001b[0m\u001b[1;33m(\u001b[0m\u001b[0mtuple\u001b[0m\u001b[1;33m(\u001b[0m\u001b[1;33m)\u001b[0m\u001b[1;33m,\u001b[0m \u001b[0mkwargs\u001b[0m\u001b[1;33m)\u001b[0m\u001b[1;33m\u001b[0m\u001b[1;33m\u001b[0m\u001b[0m\n\u001b[0;32m   3391\u001b[0m \u001b[1;33m\u001b[0m\u001b[0m\n\u001b[1;32m-> 3392\u001b[1;33m         \u001b[0mself\u001b[0m\u001b[1;33m.\u001b[0m\u001b[0m_consolidate_inplace\u001b[0m\u001b[1;33m(\u001b[0m\u001b[1;33m)\u001b[0m\u001b[1;33m\u001b[0m\u001b[1;33m\u001b[0m\u001b[0m\n\u001b[0m\u001b[0;32m   3393\u001b[0m \u001b[1;33m\u001b[0m\u001b[0m\n\u001b[0;32m   3394\u001b[0m         new_data = self._data.take(\n",
      "\u001b[1;32m~\\anaconda3\\lib\\site-packages\\pandas\\core\\generic.py\u001b[0m in \u001b[0;36m_consolidate_inplace\u001b[1;34m(self)\u001b[0m\n\u001b[0;32m   5345\u001b[0m             \u001b[0mself\u001b[0m\u001b[1;33m.\u001b[0m\u001b[0m_data\u001b[0m \u001b[1;33m=\u001b[0m \u001b[0mself\u001b[0m\u001b[1;33m.\u001b[0m\u001b[0m_data\u001b[0m\u001b[1;33m.\u001b[0m\u001b[0mconsolidate\u001b[0m\u001b[1;33m(\u001b[0m\u001b[1;33m)\u001b[0m\u001b[1;33m\u001b[0m\u001b[1;33m\u001b[0m\u001b[0m\n\u001b[0;32m   5346\u001b[0m \u001b[1;33m\u001b[0m\u001b[0m\n\u001b[1;32m-> 5347\u001b[1;33m         \u001b[0mself\u001b[0m\u001b[1;33m.\u001b[0m\u001b[0m_protect_consolidate\u001b[0m\u001b[1;33m(\u001b[0m\u001b[0mf\u001b[0m\u001b[1;33m)\u001b[0m\u001b[1;33m\u001b[0m\u001b[1;33m\u001b[0m\u001b[0m\n\u001b[0m\u001b[0;32m   5348\u001b[0m \u001b[1;33m\u001b[0m\u001b[0m\n\u001b[0;32m   5349\u001b[0m     \u001b[1;32mdef\u001b[0m \u001b[0m_consolidate\u001b[0m\u001b[1;33m(\u001b[0m\u001b[0mself\u001b[0m\u001b[1;33m,\u001b[0m \u001b[0minplace\u001b[0m\u001b[1;33m:\u001b[0m \u001b[0mbool_t\u001b[0m \u001b[1;33m=\u001b[0m \u001b[1;32mFalse\u001b[0m\u001b[1;33m)\u001b[0m\u001b[1;33m:\u001b[0m\u001b[1;33m\u001b[0m\u001b[1;33m\u001b[0m\u001b[0m\n",
      "\u001b[1;32m~\\anaconda3\\lib\\site-packages\\pandas\\core\\generic.py\u001b[0m in \u001b[0;36m_protect_consolidate\u001b[1;34m(self, f)\u001b[0m\n\u001b[0;32m   5334\u001b[0m         \"\"\"\n\u001b[0;32m   5335\u001b[0m         \u001b[0mblocks_before\u001b[0m \u001b[1;33m=\u001b[0m \u001b[0mlen\u001b[0m\u001b[1;33m(\u001b[0m\u001b[0mself\u001b[0m\u001b[1;33m.\u001b[0m\u001b[0m_data\u001b[0m\u001b[1;33m.\u001b[0m\u001b[0mblocks\u001b[0m\u001b[1;33m)\u001b[0m\u001b[1;33m\u001b[0m\u001b[1;33m\u001b[0m\u001b[0m\n\u001b[1;32m-> 5336\u001b[1;33m         \u001b[0mresult\u001b[0m \u001b[1;33m=\u001b[0m \u001b[0mf\u001b[0m\u001b[1;33m(\u001b[0m\u001b[1;33m)\u001b[0m\u001b[1;33m\u001b[0m\u001b[1;33m\u001b[0m\u001b[0m\n\u001b[0m\u001b[0;32m   5337\u001b[0m         \u001b[1;32mif\u001b[0m \u001b[0mlen\u001b[0m\u001b[1;33m(\u001b[0m\u001b[0mself\u001b[0m\u001b[1;33m.\u001b[0m\u001b[0m_data\u001b[0m\u001b[1;33m.\u001b[0m\u001b[0mblocks\u001b[0m\u001b[1;33m)\u001b[0m \u001b[1;33m!=\u001b[0m \u001b[0mblocks_before\u001b[0m\u001b[1;33m:\u001b[0m\u001b[1;33m\u001b[0m\u001b[1;33m\u001b[0m\u001b[0m\n\u001b[0;32m   5338\u001b[0m             \u001b[0mself\u001b[0m\u001b[1;33m.\u001b[0m\u001b[0m_clear_item_cache\u001b[0m\u001b[1;33m(\u001b[0m\u001b[1;33m)\u001b[0m\u001b[1;33m\u001b[0m\u001b[1;33m\u001b[0m\u001b[0m\n",
      "\u001b[1;32m~\\anaconda3\\lib\\site-packages\\pandas\\core\\generic.py\u001b[0m in \u001b[0;36mf\u001b[1;34m()\u001b[0m\n\u001b[0;32m   5343\u001b[0m \u001b[1;33m\u001b[0m\u001b[0m\n\u001b[0;32m   5344\u001b[0m         \u001b[1;32mdef\u001b[0m \u001b[0mf\u001b[0m\u001b[1;33m(\u001b[0m\u001b[1;33m)\u001b[0m\u001b[1;33m:\u001b[0m\u001b[1;33m\u001b[0m\u001b[1;33m\u001b[0m\u001b[0m\n\u001b[1;32m-> 5345\u001b[1;33m             \u001b[0mself\u001b[0m\u001b[1;33m.\u001b[0m\u001b[0m_data\u001b[0m \u001b[1;33m=\u001b[0m \u001b[0mself\u001b[0m\u001b[1;33m.\u001b[0m\u001b[0m_data\u001b[0m\u001b[1;33m.\u001b[0m\u001b[0mconsolidate\u001b[0m\u001b[1;33m(\u001b[0m\u001b[1;33m)\u001b[0m\u001b[1;33m\u001b[0m\u001b[1;33m\u001b[0m\u001b[0m\n\u001b[0m\u001b[0;32m   5346\u001b[0m \u001b[1;33m\u001b[0m\u001b[0m\n\u001b[0;32m   5347\u001b[0m         \u001b[0mself\u001b[0m\u001b[1;33m.\u001b[0m\u001b[0m_protect_consolidate\u001b[0m\u001b[1;33m(\u001b[0m\u001b[0mf\u001b[0m\u001b[1;33m)\u001b[0m\u001b[1;33m\u001b[0m\u001b[1;33m\u001b[0m\u001b[0m\n",
      "\u001b[1;32m~\\anaconda3\\lib\\site-packages\\pandas\\core\\internals\\managers.py\u001b[0m in \u001b[0;36mconsolidate\u001b[1;34m(self)\u001b[0m\n\u001b[0;32m    938\u001b[0m         \u001b[0mbm\u001b[0m \u001b[1;33m=\u001b[0m \u001b[0mtype\u001b[0m\u001b[1;33m(\u001b[0m\u001b[0mself\u001b[0m\u001b[1;33m)\u001b[0m\u001b[1;33m(\u001b[0m\u001b[0mself\u001b[0m\u001b[1;33m.\u001b[0m\u001b[0mblocks\u001b[0m\u001b[1;33m,\u001b[0m \u001b[0mself\u001b[0m\u001b[1;33m.\u001b[0m\u001b[0maxes\u001b[0m\u001b[1;33m)\u001b[0m\u001b[1;33m\u001b[0m\u001b[1;33m\u001b[0m\u001b[0m\n\u001b[0;32m    939\u001b[0m         \u001b[0mbm\u001b[0m\u001b[1;33m.\u001b[0m\u001b[0m_is_consolidated\u001b[0m \u001b[1;33m=\u001b[0m \u001b[1;32mFalse\u001b[0m\u001b[1;33m\u001b[0m\u001b[1;33m\u001b[0m\u001b[0m\n\u001b[1;32m--> 940\u001b[1;33m         \u001b[0mbm\u001b[0m\u001b[1;33m.\u001b[0m\u001b[0m_consolidate_inplace\u001b[0m\u001b[1;33m(\u001b[0m\u001b[1;33m)\u001b[0m\u001b[1;33m\u001b[0m\u001b[1;33m\u001b[0m\u001b[0m\n\u001b[0m\u001b[0;32m    941\u001b[0m         \u001b[1;32mreturn\u001b[0m \u001b[0mbm\u001b[0m\u001b[1;33m\u001b[0m\u001b[1;33m\u001b[0m\u001b[0m\n\u001b[0;32m    942\u001b[0m \u001b[1;33m\u001b[0m\u001b[0m\n",
      "\u001b[1;32m~\\anaconda3\\lib\\site-packages\\pandas\\core\\internals\\managers.py\u001b[0m in \u001b[0;36m_consolidate_inplace\u001b[1;34m(self)\u001b[0m\n\u001b[0;32m    943\u001b[0m     \u001b[1;32mdef\u001b[0m \u001b[0m_consolidate_inplace\u001b[0m\u001b[1;33m(\u001b[0m\u001b[0mself\u001b[0m\u001b[1;33m)\u001b[0m\u001b[1;33m:\u001b[0m\u001b[1;33m\u001b[0m\u001b[1;33m\u001b[0m\u001b[0m\n\u001b[0;32m    944\u001b[0m         \u001b[1;32mif\u001b[0m \u001b[1;32mnot\u001b[0m \u001b[0mself\u001b[0m\u001b[1;33m.\u001b[0m\u001b[0mis_consolidated\u001b[0m\u001b[1;33m(\u001b[0m\u001b[1;33m)\u001b[0m\u001b[1;33m:\u001b[0m\u001b[1;33m\u001b[0m\u001b[1;33m\u001b[0m\u001b[0m\n\u001b[1;32m--> 945\u001b[1;33m             \u001b[0mself\u001b[0m\u001b[1;33m.\u001b[0m\u001b[0mblocks\u001b[0m \u001b[1;33m=\u001b[0m \u001b[0mtuple\u001b[0m\u001b[1;33m(\u001b[0m\u001b[0m_consolidate\u001b[0m\u001b[1;33m(\u001b[0m\u001b[0mself\u001b[0m\u001b[1;33m.\u001b[0m\u001b[0mblocks\u001b[0m\u001b[1;33m)\u001b[0m\u001b[1;33m)\u001b[0m\u001b[1;33m\u001b[0m\u001b[1;33m\u001b[0m\u001b[0m\n\u001b[0m\u001b[0;32m    946\u001b[0m             \u001b[0mself\u001b[0m\u001b[1;33m.\u001b[0m\u001b[0m_is_consolidated\u001b[0m \u001b[1;33m=\u001b[0m \u001b[1;32mTrue\u001b[0m\u001b[1;33m\u001b[0m\u001b[1;33m\u001b[0m\u001b[0m\n\u001b[0;32m    947\u001b[0m             \u001b[0mself\u001b[0m\u001b[1;33m.\u001b[0m\u001b[0m_known_consolidated\u001b[0m \u001b[1;33m=\u001b[0m \u001b[1;32mTrue\u001b[0m\u001b[1;33m\u001b[0m\u001b[1;33m\u001b[0m\u001b[0m\n",
      "\u001b[1;32m~\\anaconda3\\lib\\site-packages\\pandas\\core\\internals\\managers.py\u001b[0m in \u001b[0;36m_consolidate\u001b[1;34m(blocks)\u001b[0m\n\u001b[0;32m   1885\u001b[0m     \u001b[1;32mfor\u001b[0m \u001b[1;33m(\u001b[0m\u001b[0m_can_consolidate\u001b[0m\u001b[1;33m,\u001b[0m \u001b[0mdtype\u001b[0m\u001b[1;33m)\u001b[0m\u001b[1;33m,\u001b[0m \u001b[0mgroup_blocks\u001b[0m \u001b[1;32min\u001b[0m \u001b[0mgrouper\u001b[0m\u001b[1;33m:\u001b[0m\u001b[1;33m\u001b[0m\u001b[1;33m\u001b[0m\u001b[0m\n\u001b[0;32m   1886\u001b[0m         merged_blocks = _merge_blocks(\n\u001b[1;32m-> 1887\u001b[1;33m             \u001b[0mlist\u001b[0m\u001b[1;33m(\u001b[0m\u001b[0mgroup_blocks\u001b[0m\u001b[1;33m)\u001b[0m\u001b[1;33m,\u001b[0m \u001b[0mdtype\u001b[0m\u001b[1;33m=\u001b[0m\u001b[0mdtype\u001b[0m\u001b[1;33m,\u001b[0m \u001b[0m_can_consolidate\u001b[0m\u001b[1;33m=\u001b[0m\u001b[0m_can_consolidate\u001b[0m\u001b[1;33m\u001b[0m\u001b[1;33m\u001b[0m\u001b[0m\n\u001b[0m\u001b[0;32m   1888\u001b[0m         )\n\u001b[0;32m   1889\u001b[0m         \u001b[0mnew_blocks\u001b[0m \u001b[1;33m=\u001b[0m \u001b[0m_extend_blocks\u001b[0m\u001b[1;33m(\u001b[0m\u001b[0mmerged_blocks\u001b[0m\u001b[1;33m,\u001b[0m \u001b[0mnew_blocks\u001b[0m\u001b[1;33m)\u001b[0m\u001b[1;33m\u001b[0m\u001b[1;33m\u001b[0m\u001b[0m\n",
      "\u001b[1;32m~\\anaconda3\\lib\\site-packages\\pandas\\core\\internals\\blocks.py\u001b[0m in \u001b[0;36m_merge_blocks\u001b[1;34m(blocks, dtype, _can_consolidate)\u001b[0m\n\u001b[0;32m   3091\u001b[0m         \u001b[1;31m# combination of those slices is a slice, too.\u001b[0m\u001b[1;33m\u001b[0m\u001b[1;33m\u001b[0m\u001b[1;33m\u001b[0m\u001b[0m\n\u001b[0;32m   3092\u001b[0m         \u001b[0mnew_mgr_locs\u001b[0m \u001b[1;33m=\u001b[0m \u001b[0mnp\u001b[0m\u001b[1;33m.\u001b[0m\u001b[0mconcatenate\u001b[0m\u001b[1;33m(\u001b[0m\u001b[1;33m[\u001b[0m\u001b[0mb\u001b[0m\u001b[1;33m.\u001b[0m\u001b[0mmgr_locs\u001b[0m\u001b[1;33m.\u001b[0m\u001b[0mas_array\u001b[0m \u001b[1;32mfor\u001b[0m \u001b[0mb\u001b[0m \u001b[1;32min\u001b[0m \u001b[0mblocks\u001b[0m\u001b[1;33m]\u001b[0m\u001b[1;33m)\u001b[0m\u001b[1;33m\u001b[0m\u001b[1;33m\u001b[0m\u001b[0m\n\u001b[1;32m-> 3093\u001b[1;33m         \u001b[0mnew_values\u001b[0m \u001b[1;33m=\u001b[0m \u001b[0mnp\u001b[0m\u001b[1;33m.\u001b[0m\u001b[0mvstack\u001b[0m\u001b[1;33m(\u001b[0m\u001b[1;33m[\u001b[0m\u001b[0mb\u001b[0m\u001b[1;33m.\u001b[0m\u001b[0mvalues\u001b[0m \u001b[1;32mfor\u001b[0m \u001b[0mb\u001b[0m \u001b[1;32min\u001b[0m \u001b[0mblocks\u001b[0m\u001b[1;33m]\u001b[0m\u001b[1;33m)\u001b[0m\u001b[1;33m\u001b[0m\u001b[1;33m\u001b[0m\u001b[0m\n\u001b[0m\u001b[0;32m   3094\u001b[0m \u001b[1;33m\u001b[0m\u001b[0m\n\u001b[0;32m   3095\u001b[0m         \u001b[0margsort\u001b[0m \u001b[1;33m=\u001b[0m \u001b[0mnp\u001b[0m\u001b[1;33m.\u001b[0m\u001b[0margsort\u001b[0m\u001b[1;33m(\u001b[0m\u001b[0mnew_mgr_locs\u001b[0m\u001b[1;33m)\u001b[0m\u001b[1;33m\u001b[0m\u001b[1;33m\u001b[0m\u001b[0m\n",
      "\u001b[1;32m<__array_function__ internals>\u001b[0m in \u001b[0;36mvstack\u001b[1;34m(*args, **kwargs)\u001b[0m\n",
      "\u001b[1;32m~\\anaconda3\\lib\\site-packages\\numpy\\core\\shape_base.py\u001b[0m in \u001b[0;36mvstack\u001b[1;34m(tup)\u001b[0m\n\u001b[0;32m    281\u001b[0m     \u001b[1;32mif\u001b[0m \u001b[1;32mnot\u001b[0m \u001b[0misinstance\u001b[0m\u001b[1;33m(\u001b[0m\u001b[0marrs\u001b[0m\u001b[1;33m,\u001b[0m \u001b[0mlist\u001b[0m\u001b[1;33m)\u001b[0m\u001b[1;33m:\u001b[0m\u001b[1;33m\u001b[0m\u001b[1;33m\u001b[0m\u001b[0m\n\u001b[0;32m    282\u001b[0m         \u001b[0marrs\u001b[0m \u001b[1;33m=\u001b[0m \u001b[1;33m[\u001b[0m\u001b[0marrs\u001b[0m\u001b[1;33m]\u001b[0m\u001b[1;33m\u001b[0m\u001b[1;33m\u001b[0m\u001b[0m\n\u001b[1;32m--> 283\u001b[1;33m     \u001b[1;32mreturn\u001b[0m \u001b[0m_nx\u001b[0m\u001b[1;33m.\u001b[0m\u001b[0mconcatenate\u001b[0m\u001b[1;33m(\u001b[0m\u001b[0marrs\u001b[0m\u001b[1;33m,\u001b[0m \u001b[1;36m0\u001b[0m\u001b[1;33m)\u001b[0m\u001b[1;33m\u001b[0m\u001b[1;33m\u001b[0m\u001b[0m\n\u001b[0m\u001b[0;32m    284\u001b[0m \u001b[1;33m\u001b[0m\u001b[0m\n\u001b[0;32m    285\u001b[0m \u001b[1;33m\u001b[0m\u001b[0m\n",
      "\u001b[1;32m<__array_function__ internals>\u001b[0m in \u001b[0;36mconcatenate\u001b[1;34m(*args, **kwargs)\u001b[0m\n",
      "\u001b[1;31mMemoryError\u001b[0m: Unable to allocate 544. MiB for an array with shape (14, 5097760) and data type object"
     ]
    }
   ],
   "source": [
    "temperature = filter_observation_percent(temperature)"
   ]
  },
  {
   "cell_type": "code",
   "execution_count": null,
   "metadata": {},
   "outputs": [],
   "source": [
    "pressure = filter_observation_percent(pressure)"
   ]
  },
  {
   "cell_type": "code",
   "execution_count": null,
   "metadata": {},
   "outputs": [],
   "source": [
    "wind = filter_observation_percent(wind)"
   ]
  },
  {
   "cell_type": "markdown",
   "metadata": {},
   "source": [
    "## Eliminate Duplicates in Merge Column"
   ]
  },
  {
   "cell_type": "code",
   "execution_count": null,
   "metadata": {},
   "outputs": [],
   "source": [
    "def check_merge_column(data, string):\n",
    "    \"\"\"\n",
    "    Input\n",
    "    dataframe\n",
    "    string\n",
    "    \n",
    "    return dataframe of rows with merge_column entry matching string\n",
    "    \"\"\"\n",
    "    return data.loc[data.merge_column == string]"
   ]
  },
  {
   "cell_type": "code",
   "execution_count": null,
   "metadata": {
    "scrolled": true
   },
   "outputs": [],
   "source": [
    "check_merge_column(co, 'Alabama-Jefferson-2000-01-0100:00:00')"
   ]
  },
  {
   "cell_type": "markdown",
   "metadata": {},
   "source": [
    "I have the column I want to merge my data on but I have multiple entries for some values. I need to eliminate duplicate entries somehow so that each value is unique across all 10 dataframes. \n",
    "\n",
    "The columns that have differences are site_num, sample_duration, pollutant_standard, observation_count, observation_percent, arithmetic_mean, 1st_max_value, 1st_max_hour, aqi, and city_name.\n",
    "\n",
    "I think sample_duration is the easiest column with which to start. I will try filtering all dataframes to just one sample duration."
   ]
  },
  {
   "cell_type": "markdown",
   "metadata": {},
   "source": [
    "## Filter sample_duration"
   ]
  },
  {
   "cell_type": "code",
   "execution_count": null,
   "metadata": {},
   "outputs": [],
   "source": [
    "for df in [co, no2, o3, so2, pm10, pm25, pressure, temperature, wind]:\n",
    "    display(df.sample_duration.value_counts())"
   ]
  },
  {
   "cell_type": "code",
   "execution_count": null,
   "metadata": {},
   "outputs": [],
   "source": [
    "co = co.loc[co.sample_duration == '1 HOUR']\n",
    "co.sample_duration.value_counts()"
   ]
  },
  {
   "cell_type": "code",
   "execution_count": null,
   "metadata": {},
   "outputs": [],
   "source": [
    "so2 = so2.loc[so2.sample_duration == '1 HOUR']\n",
    "so2.sample_duration.value_counts()"
   ]
  },
  {
   "cell_type": "code",
   "execution_count": null,
   "metadata": {
    "scrolled": true
   },
   "outputs": [],
   "source": [
    "pm10 = pm10.loc[pm10.sample_duration == '24 HOUR']\n",
    "pm10.sample_duration.value_counts()"
   ]
  },
  {
   "cell_type": "code",
   "execution_count": null,
   "metadata": {},
   "outputs": [],
   "source": [
    "pm25 = pm25.loc[pm25.sample_duration == '24 HOUR']\n",
    "pm25.sample_duration.value_counts()"
   ]
  },
  {
   "cell_type": "code",
   "execution_count": null,
   "metadata": {
    "scrolled": false
   },
   "outputs": [],
   "source": [
    "for df in [co, no2, o3, so2, pm10, pm25, pressure, temperature, wind]:\n",
    "    display(df.sample_duration.value_counts())"
   ]
  },
  {
   "cell_type": "code",
   "execution_count": null,
   "metadata": {},
   "outputs": [],
   "source": [
    "#Total number of rows in all data\n",
    "total = 0\n",
    "for df in [co, no2, o3, so2, pm10, pm25, pressure, temperature, wind, aqi]:\n",
    "    total += df.shape[0]\n",
    "print(f'There are {total} rows altogether in these dataframes.')"
   ]
  },
  {
   "cell_type": "markdown",
   "metadata": {},
   "source": [
    "## Aggregate data for merge_column"
   ]
  },
  {
   "cell_type": "code",
   "execution_count": 62,
   "metadata": {},
   "outputs": [],
   "source": [
    "def check_for_duplicates(dfs):\n",
    "    \"\"\"\n",
    "    Inputs\n",
    "    dfs = list of dataframes\n",
    "    \n",
    "    Returns\n",
    "    length of each dataframe\n",
    "    number of duplicates in merge_column of each dataframe\n",
    "    percent of duplicates in merge_column of each dataframe\n",
    "    \"\"\"\n",
    "    num = 0\n",
    "    for df in dfs:\n",
    "        print(num)\n",
    "        print(f'Length of dataframe {len(df)}')\n",
    "        duplicates = pd.DataFrame()\n",
    "        duplicates = df[df.duplicated(['merge_column'], keep=False)]\n",
    "        print(f'Number of duplicates in merge_column: {len(duplicates)}')\n",
    "        print(f'Percent of duplicates in merge_column: {len(duplicates)/len(df) * 100}')\n",
    "        num += 1"
   ]
  },
  {
   "cell_type": "code",
   "execution_count": 63,
   "metadata": {},
   "outputs": [
    {
     "data": {
      "text/html": [
       "<div>\n",
       "<style scoped>\n",
       "    .dataframe tbody tr th:only-of-type {\n",
       "        vertical-align: middle;\n",
       "    }\n",
       "\n",
       "    .dataframe tbody tr th {\n",
       "        vertical-align: top;\n",
       "    }\n",
       "\n",
       "    .dataframe thead th {\n",
       "        text-align: right;\n",
       "    }\n",
       "</style>\n",
       "<table border=\"1\" class=\"dataframe\">\n",
       "  <thead>\n",
       "    <tr style=\"text-align: right;\">\n",
       "      <th></th>\n",
       "      <th>state_code</th>\n",
       "      <th>county_code</th>\n",
       "      <th>site_num</th>\n",
       "      <th>parameter_code</th>\n",
       "      <th>poc</th>\n",
       "      <th>latitude</th>\n",
       "      <th>longitude</th>\n",
       "      <th>datum</th>\n",
       "      <th>parameter_name</th>\n",
       "      <th>sample_duration</th>\n",
       "      <th>pollutant_standard</th>\n",
       "      <th>date_local</th>\n",
       "      <th>units_of_measure</th>\n",
       "      <th>event_type</th>\n",
       "      <th>observation_count</th>\n",
       "      <th>observation_percent</th>\n",
       "      <th>arithmetic_mean</th>\n",
       "      <th>1st_max_value</th>\n",
       "      <th>1st_max_hour</th>\n",
       "      <th>aqi</th>\n",
       "      <th>method_code</th>\n",
       "      <th>method_name</th>\n",
       "      <th>local_site_name</th>\n",
       "      <th>address</th>\n",
       "      <th>state_name</th>\n",
       "      <th>county_name</th>\n",
       "      <th>city_name</th>\n",
       "      <th>cbsa_name</th>\n",
       "      <th>date_of_last_change</th>\n",
       "      <th>merge_column</th>\n",
       "    </tr>\n",
       "  </thead>\n",
       "  <tbody>\n",
       "    <tr>\n",
       "      <td>0</td>\n",
       "      <td>1</td>\n",
       "      <td>73</td>\n",
       "      <td>28</td>\n",
       "      <td>42101</td>\n",
       "      <td>1</td>\n",
       "      <td>33.529444</td>\n",
       "      <td>-86.850278</td>\n",
       "      <td>WGS84</td>\n",
       "      <td>Carbon monoxide</td>\n",
       "      <td>1 HOUR</td>\n",
       "      <td>CO 1-hour 1971</td>\n",
       "      <td>2000-01-01</td>\n",
       "      <td>Parts per million</td>\n",
       "      <td>None</td>\n",
       "      <td>24</td>\n",
       "      <td>100.0</td>\n",
       "      <td>0.970833</td>\n",
       "      <td>1.4</td>\n",
       "      <td>3</td>\n",
       "      <td>NaN</td>\n",
       "      <td>88.0</td>\n",
       "      <td>INSTRUMENTAL - NONDISPERSIVE INFRARED PHOTOMETRY</td>\n",
       "      <td>NaN</td>\n",
       "      <td>EAST THOMAS, FINLEY, 841 FINLEY AVE. BP.</td>\n",
       "      <td>Alabama</td>\n",
       "      <td>Jefferson</td>\n",
       "      <td>Birmingham</td>\n",
       "      <td>Birmingham-Hoover, AL</td>\n",
       "      <td>2016-04-15</td>\n",
       "      <td>Alabama-Jefferson-2000-01-0100:00:00</td>\n",
       "    </tr>\n",
       "    <tr>\n",
       "      <td>732</td>\n",
       "      <td>1</td>\n",
       "      <td>73</td>\n",
       "      <td>1003</td>\n",
       "      <td>42101</td>\n",
       "      <td>1</td>\n",
       "      <td>33.485556</td>\n",
       "      <td>-86.915000</td>\n",
       "      <td>WGS84</td>\n",
       "      <td>Carbon monoxide</td>\n",
       "      <td>1 HOUR</td>\n",
       "      <td>CO 1-hour 1971</td>\n",
       "      <td>2000-01-01</td>\n",
       "      <td>Parts per million</td>\n",
       "      <td>None</td>\n",
       "      <td>24</td>\n",
       "      <td>100.0</td>\n",
       "      <td>0.504167</td>\n",
       "      <td>2.0</td>\n",
       "      <td>18</td>\n",
       "      <td>NaN</td>\n",
       "      <td>66.0</td>\n",
       "      <td>INSTRUMENTAL - NONDISPERSIVE INFRARED</td>\n",
       "      <td>Fairfield</td>\n",
       "      <td>FAIRFIELD, PFD, 5229 COURT B</td>\n",
       "      <td>Alabama</td>\n",
       "      <td>Jefferson</td>\n",
       "      <td>Fairfield</td>\n",
       "      <td>Birmingham-Hoover, AL</td>\n",
       "      <td>2016-04-15</td>\n",
       "      <td>Alabama-Jefferson-2000-01-0100:00:00</td>\n",
       "    </tr>\n",
       "    <tr>\n",
       "      <td>1424</td>\n",
       "      <td>1</td>\n",
       "      <td>73</td>\n",
       "      <td>6004</td>\n",
       "      <td>42101</td>\n",
       "      <td>1</td>\n",
       "      <td>33.565278</td>\n",
       "      <td>-86.796389</td>\n",
       "      <td>WGS84</td>\n",
       "      <td>Carbon monoxide</td>\n",
       "      <td>1 HOUR</td>\n",
       "      <td>CO 1-hour 1971</td>\n",
       "      <td>2000-01-01</td>\n",
       "      <td>Parts per million</td>\n",
       "      <td>None</td>\n",
       "      <td>24</td>\n",
       "      <td>100.0</td>\n",
       "      <td>0.145833</td>\n",
       "      <td>0.6</td>\n",
       "      <td>18</td>\n",
       "      <td>NaN</td>\n",
       "      <td>66.0</td>\n",
       "      <td>INSTRUMENTAL - NONDISPERSIVE INFRARED</td>\n",
       "      <td>Sloss Shuttlesworth</td>\n",
       "      <td>4113 SHUTTLESWORTH DRIVE</td>\n",
       "      <td>Alabama</td>\n",
       "      <td>Jefferson</td>\n",
       "      <td>Birmingham</td>\n",
       "      <td>Birmingham-Hoover, AL</td>\n",
       "      <td>2016-04-15</td>\n",
       "      <td>Alabama-Jefferson-2000-01-0100:00:00</td>\n",
       "    </tr>\n",
       "  </tbody>\n",
       "</table>\n",
       "</div>"
      ],
      "text/plain": [
       "      state_code  county_code  site_num  parameter_code  poc   latitude  \\\n",
       "0              1           73        28           42101    1  33.529444   \n",
       "732            1           73      1003           42101    1  33.485556   \n",
       "1424           1           73      6004           42101    1  33.565278   \n",
       "\n",
       "      longitude  datum   parameter_name sample_duration pollutant_standard  \\\n",
       "0    -86.850278  WGS84  Carbon monoxide          1 HOUR     CO 1-hour 1971   \n",
       "732  -86.915000  WGS84  Carbon monoxide          1 HOUR     CO 1-hour 1971   \n",
       "1424 -86.796389  WGS84  Carbon monoxide          1 HOUR     CO 1-hour 1971   \n",
       "\n",
       "     date_local   units_of_measure event_type  observation_count  \\\n",
       "0    2000-01-01  Parts per million       None                 24   \n",
       "732  2000-01-01  Parts per million       None                 24   \n",
       "1424 2000-01-01  Parts per million       None                 24   \n",
       "\n",
       "      observation_percent  arithmetic_mean  1st_max_value  1st_max_hour  aqi  \\\n",
       "0                   100.0         0.970833            1.4             3  NaN   \n",
       "732                 100.0         0.504167            2.0            18  NaN   \n",
       "1424                100.0         0.145833            0.6            18  NaN   \n",
       "\n",
       "      method_code                                       method_name  \\\n",
       "0            88.0  INSTRUMENTAL - NONDISPERSIVE INFRARED PHOTOMETRY   \n",
       "732          66.0             INSTRUMENTAL - NONDISPERSIVE INFRARED   \n",
       "1424         66.0             INSTRUMENTAL - NONDISPERSIVE INFRARED   \n",
       "\n",
       "          local_site_name                                   address  \\\n",
       "0                     NaN  EAST THOMAS, FINLEY, 841 FINLEY AVE. BP.   \n",
       "732             Fairfield              FAIRFIELD, PFD, 5229 COURT B   \n",
       "1424  Sloss Shuttlesworth                  4113 SHUTTLESWORTH DRIVE   \n",
       "\n",
       "     state_name county_name   city_name              cbsa_name  \\\n",
       "0       Alabama   Jefferson  Birmingham  Birmingham-Hoover, AL   \n",
       "732     Alabama   Jefferson   Fairfield  Birmingham-Hoover, AL   \n",
       "1424    Alabama   Jefferson  Birmingham  Birmingham-Hoover, AL   \n",
       "\n",
       "     date_of_last_change                          merge_column  \n",
       "0             2016-04-15  Alabama-Jefferson-2000-01-0100:00:00  \n",
       "732           2016-04-15  Alabama-Jefferson-2000-01-0100:00:00  \n",
       "1424          2016-04-15  Alabama-Jefferson-2000-01-0100:00:00  "
      ]
     },
     "execution_count": 63,
     "metadata": {},
     "output_type": "execute_result"
    }
   ],
   "source": [
    "check_merge_column(co, 'Alabama-Jefferson-2000-01-0100:00:00')"
   ]
  },
  {
   "cell_type": "code",
   "execution_count": 64,
   "metadata": {
    "scrolled": false
   },
   "outputs": [
    {
     "name": "stdout",
     "output_type": "stream",
     "text": [
      "0\n",
      "Length of dataframe 2447179\n",
      "Number of duplicates in merge_column: 1526573\n",
      "Percent of duplicates in merge_column: 62.380929225038294\n",
      "1\n",
      "Length of dataframe 2765763\n",
      "Number of duplicates in merge_column: 1598809\n",
      "Percent of duplicates in merge_column: 57.80715845862425\n",
      "2\n",
      "Length of dataframe 7126124\n",
      "Number of duplicates in merge_column: 4078978\n",
      "Percent of duplicates in merge_column: 57.239784208077204\n",
      "3\n",
      "Length of dataframe 3389144\n",
      "Number of duplicates in merge_column: 1782162\n",
      "Percent of duplicates in merge_column: 52.58442839843925\n",
      "4\n",
      "Length of dataframe 1399576\n",
      "Number of duplicates in merge_column: 1005726\n",
      "Percent of duplicates in merge_column: 71.85933454131823\n",
      "5\n",
      "Length of dataframe 2508063\n",
      "Number of duplicates in merge_column: 1387597\n",
      "Percent of duplicates in merge_column: 55.325444376795964\n",
      "6\n",
      "Length of dataframe 1748077\n",
      "Number of duplicates in merge_column: 785698\n",
      "Percent of duplicates in merge_column: 44.94641826418401\n",
      "7\n",
      "Length of dataframe 5065499\n",
      "Number of duplicates in merge_column: 3371621\n",
      "Percent of duplicates in merge_column: 66.56049088154987\n",
      "8\n",
      "Length of dataframe 7412898\n",
      "Number of duplicates in merge_column: 7381136\n",
      "Percent of duplicates in merge_column: 99.57153059437753\n",
      "9\n",
      "Length of dataframe 6352663\n",
      "Number of duplicates in merge_column: 0\n",
      "Percent of duplicates in merge_column: 0.0\n"
     ]
    }
   ],
   "source": [
    "#Check dataframe for duplicate values in merge_column\n",
    "dfs = [co, no2, o3, so2, pm10, pm25, pressure, \n",
    "       temperature, wind, aqi]\n",
    "check_for_duplicates(dfs)"
   ]
  },
  {
   "cell_type": "code",
   "execution_count": 65,
   "metadata": {
    "scrolled": true
   },
   "outputs": [
    {
     "data": {
      "text/plain": [
       "Index(['state_code', 'county_code', 'site_num', 'parameter_code', 'poc',\n",
       "       'latitude', 'longitude', 'datum', 'parameter_name', 'sample_duration',\n",
       "       'pollutant_standard', 'date_local', 'units_of_measure', 'event_type',\n",
       "       'observation_count', 'observation_percent', 'arithmetic_mean',\n",
       "       '1st_max_value', '1st_max_hour', 'aqi', 'method_code', 'method_name',\n",
       "       'local_site_name', 'address', 'state_name', 'county_name', 'city_name',\n",
       "       'cbsa_name', 'date_of_last_change', 'merge_column'],\n",
       "      dtype='object')"
      ]
     },
     "execution_count": 65,
     "metadata": {},
     "output_type": "execute_result"
    }
   ],
   "source": [
    "co.columns"
   ]
  },
  {
   "cell_type": "code",
   "execution_count": 66,
   "metadata": {},
   "outputs": [],
   "source": [
    "final_columns = ['merge_column', 'state_code', 'county_code', 'state_name', \n",
    "                 'county_name', 'site_num', 'latitude', 'longitude', 'date_local', \n",
    "                 'co_arithmetic_mean', 'no2_arithmetic_mean',  'o3_arithmetic_mean',  \n",
    "                 'so2_arithmetic_mean',  'pm10_arithmetic_mean',  'pm25_arithmetic_mean',  \n",
    "                 'pressure_arithmetic_mean',  'temperature_arithmetic_mean',  'wind_arithmetic_mean', \n",
    "                 'aqi']"
   ]
  },
  {
   "cell_type": "code",
   "execution_count": 67,
   "metadata": {},
   "outputs": [],
   "source": [
    "joint_columns = ['merge_column', 'state_code', 'county_code', 'state_name', \n",
    "        'county_name', 'site_num', 'poc', 'latitude', 'longitude', \n",
    "        'date_local', 'arithmetic_mean', '1st_max_value', '1st_max_hour', \n",
    "        'aqi']"
   ]
  },
  {
   "cell_type": "code",
   "execution_count": 68,
   "metadata": {},
   "outputs": [],
   "source": [
    "keep_columns = ['merge_column', 'state_name', 'county_name', 'date_local', 'state_code', 'county_code']"
   ]
  },
  {
   "cell_type": "code",
   "execution_count": 69,
   "metadata": {},
   "outputs": [],
   "source": [
    "def average_by_county(df, measure):\n",
    "    \"\"\"\n",
    "    Takes average of measures from multiple sites within the same county on the same day\n",
    "    merge_column = state-county-date\n",
    "    \n",
    "    Input:\n",
    "    df - dataframe\n",
    "    measure - string, suffix for name of new column\n",
    "    \"\"\"\n",
    "    keep_columns = ['merge_column', 'state_name', 'county_name', 'date_local']\n",
    "    column_name = str(measure)\n",
    "    aggregate = df.groupby(keep_columns)[\"arithmetic_mean\"].mean()\n",
    "    agg_df = aggregate.to_frame(name=column_name).reset_index()\n",
    "    return agg_df"
   ]
  },
  {
   "cell_type": "code",
   "execution_count": 70,
   "metadata": {},
   "outputs": [],
   "source": [
    "co_merged = average_by_county(co, 'co')\n",
    "no2_merged = average_by_county(no2, 'no2')\n",
    "o3_merged = average_by_county(o3, 'o3')"
   ]
  },
  {
   "cell_type": "code",
   "execution_count": 71,
   "metadata": {
    "scrolled": true
   },
   "outputs": [
    {
     "data": {
      "text/html": [
       "<div>\n",
       "<style scoped>\n",
       "    .dataframe tbody tr th:only-of-type {\n",
       "        vertical-align: middle;\n",
       "    }\n",
       "\n",
       "    .dataframe tbody tr th {\n",
       "        vertical-align: top;\n",
       "    }\n",
       "\n",
       "    .dataframe thead th {\n",
       "        text-align: right;\n",
       "    }\n",
       "</style>\n",
       "<table border=\"1\" class=\"dataframe\">\n",
       "  <thead>\n",
       "    <tr style=\"text-align: right;\">\n",
       "      <th></th>\n",
       "      <th>state_code</th>\n",
       "      <th>county_code</th>\n",
       "      <th>site_num</th>\n",
       "      <th>parameter_code</th>\n",
       "      <th>poc</th>\n",
       "      <th>latitude</th>\n",
       "      <th>longitude</th>\n",
       "      <th>datum</th>\n",
       "      <th>parameter_name</th>\n",
       "      <th>sample_duration</th>\n",
       "      <th>pollutant_standard</th>\n",
       "      <th>date_local</th>\n",
       "      <th>units_of_measure</th>\n",
       "      <th>event_type</th>\n",
       "      <th>observation_count</th>\n",
       "      <th>observation_percent</th>\n",
       "      <th>arithmetic_mean</th>\n",
       "      <th>1st_max_value</th>\n",
       "      <th>1st_max_hour</th>\n",
       "      <th>aqi</th>\n",
       "      <th>method_code</th>\n",
       "      <th>method_name</th>\n",
       "      <th>local_site_name</th>\n",
       "      <th>address</th>\n",
       "      <th>state_name</th>\n",
       "      <th>county_name</th>\n",
       "      <th>city_name</th>\n",
       "      <th>cbsa_name</th>\n",
       "      <th>date_of_last_change</th>\n",
       "      <th>merge_column</th>\n",
       "    </tr>\n",
       "  </thead>\n",
       "  <tbody>\n",
       "    <tr>\n",
       "      <td>0</td>\n",
       "      <td>1</td>\n",
       "      <td>73</td>\n",
       "      <td>28</td>\n",
       "      <td>42101</td>\n",
       "      <td>1</td>\n",
       "      <td>33.529444</td>\n",
       "      <td>-86.850278</td>\n",
       "      <td>WGS84</td>\n",
       "      <td>Carbon monoxide</td>\n",
       "      <td>1 HOUR</td>\n",
       "      <td>CO 1-hour 1971</td>\n",
       "      <td>2000-01-01</td>\n",
       "      <td>Parts per million</td>\n",
       "      <td>None</td>\n",
       "      <td>24</td>\n",
       "      <td>100.0</td>\n",
       "      <td>0.970833</td>\n",
       "      <td>1.4</td>\n",
       "      <td>3</td>\n",
       "      <td>NaN</td>\n",
       "      <td>88.0</td>\n",
       "      <td>INSTRUMENTAL - NONDISPERSIVE INFRARED PHOTOMETRY</td>\n",
       "      <td>NaN</td>\n",
       "      <td>EAST THOMAS, FINLEY, 841 FINLEY AVE. BP.</td>\n",
       "      <td>Alabama</td>\n",
       "      <td>Jefferson</td>\n",
       "      <td>Birmingham</td>\n",
       "      <td>Birmingham-Hoover, AL</td>\n",
       "      <td>2016-04-15</td>\n",
       "      <td>Alabama-Jefferson-2000-01-0100:00:00</td>\n",
       "    </tr>\n",
       "  </tbody>\n",
       "</table>\n",
       "</div>"
      ],
      "text/plain": [
       "   state_code  county_code  site_num  parameter_code  poc   latitude  \\\n",
       "0           1           73        28           42101    1  33.529444   \n",
       "\n",
       "   longitude  datum   parameter_name sample_duration pollutant_standard  \\\n",
       "0 -86.850278  WGS84  Carbon monoxide          1 HOUR     CO 1-hour 1971   \n",
       "\n",
       "  date_local   units_of_measure event_type  observation_count  \\\n",
       "0 2000-01-01  Parts per million       None                 24   \n",
       "\n",
       "   observation_percent  arithmetic_mean  1st_max_value  1st_max_hour  aqi  \\\n",
       "0                100.0         0.970833            1.4             3  NaN   \n",
       "\n",
       "   method_code                                       method_name  \\\n",
       "0         88.0  INSTRUMENTAL - NONDISPERSIVE INFRARED PHOTOMETRY   \n",
       "\n",
       "  local_site_name                                   address state_name  \\\n",
       "0             NaN  EAST THOMAS, FINLEY, 841 FINLEY AVE. BP.    Alabama   \n",
       "\n",
       "  county_name   city_name              cbsa_name date_of_last_change  \\\n",
       "0   Jefferson  Birmingham  Birmingham-Hoover, AL          2016-04-15   \n",
       "\n",
       "                           merge_column  \n",
       "0  Alabama-Jefferson-2000-01-0100:00:00  "
      ]
     },
     "execution_count": 71,
     "metadata": {},
     "output_type": "execute_result"
    }
   ],
   "source": [
    "co.head(1)"
   ]
  },
  {
   "cell_type": "code",
   "execution_count": 72,
   "metadata": {},
   "outputs": [
    {
     "data": {
      "text/html": [
       "<div>\n",
       "<style scoped>\n",
       "    .dataframe tbody tr th:only-of-type {\n",
       "        vertical-align: middle;\n",
       "    }\n",
       "\n",
       "    .dataframe tbody tr th {\n",
       "        vertical-align: top;\n",
       "    }\n",
       "\n",
       "    .dataframe thead th {\n",
       "        text-align: right;\n",
       "    }\n",
       "</style>\n",
       "<table border=\"1\" class=\"dataframe\">\n",
       "  <thead>\n",
       "    <tr style=\"text-align: right;\">\n",
       "      <th></th>\n",
       "      <th>merge_column</th>\n",
       "      <th>state_name</th>\n",
       "      <th>county_name</th>\n",
       "      <th>date_local</th>\n",
       "      <th>co</th>\n",
       "    </tr>\n",
       "  </thead>\n",
       "  <tbody>\n",
       "    <tr>\n",
       "      <td>0</td>\n",
       "      <td>Alabama-Jefferson-2000-01-0100:00:00</td>\n",
       "      <td>Alabama</td>\n",
       "      <td>Jefferson</td>\n",
       "      <td>2000-01-01</td>\n",
       "      <td>0.540278</td>\n",
       "    </tr>\n",
       "  </tbody>\n",
       "</table>\n",
       "</div>"
      ],
      "text/plain": [
       "                           merge_column state_name county_name date_local  \\\n",
       "0  Alabama-Jefferson-2000-01-0100:00:00    Alabama   Jefferson 2000-01-01   \n",
       "\n",
       "         co  \n",
       "0  0.540278  "
      ]
     },
     "execution_count": 72,
     "metadata": {},
     "output_type": "execute_result"
    }
   ],
   "source": [
    "co_merged.head(1)"
   ]
  },
  {
   "cell_type": "code",
   "execution_count": 73,
   "metadata": {},
   "outputs": [],
   "source": [
    "so2_merged = average_by_county(so2, 'so2')\n",
    "pm10_merged = average_by_county(pm10, 'pm10')\n",
    "pm25_merged = average_by_county(pm25, 'pm25')"
   ]
  },
  {
   "cell_type": "code",
   "execution_count": 74,
   "metadata": {},
   "outputs": [],
   "source": [
    "wind_merged = average_by_county(wind, 'wind')\n",
    "temperature_merged = average_by_county(temperature, 'temperature')\n",
    "pressure_merged = average_by_county(pressure, 'pressure')"
   ]
  },
  {
   "cell_type": "code",
   "execution_count": 75,
   "metadata": {},
   "outputs": [
    {
     "data": {
      "text/plain": [
       "Index(['merge_column', 'state_name', 'county_name', 'date_local',\n",
       "       'temperature'],\n",
       "      dtype='object')"
      ]
     },
     "execution_count": 75,
     "metadata": {},
     "output_type": "execute_result"
    }
   ],
   "source": [
    "temperature_merged.columns"
   ]
  },
  {
   "cell_type": "code",
   "execution_count": 76,
   "metadata": {
    "scrolled": true
   },
   "outputs": [
    {
     "data": {
      "text/html": [
       "<div>\n",
       "<style scoped>\n",
       "    .dataframe tbody tr th:only-of-type {\n",
       "        vertical-align: middle;\n",
       "    }\n",
       "\n",
       "    .dataframe tbody tr th {\n",
       "        vertical-align: top;\n",
       "    }\n",
       "\n",
       "    .dataframe thead th {\n",
       "        text-align: right;\n",
       "    }\n",
       "</style>\n",
       "<table border=\"1\" class=\"dataframe\">\n",
       "  <thead>\n",
       "    <tr style=\"text-align: right;\">\n",
       "      <th></th>\n",
       "      <th>merge_column</th>\n",
       "      <th>state_name</th>\n",
       "      <th>county_name</th>\n",
       "      <th>date_local</th>\n",
       "      <th>wind</th>\n",
       "    </tr>\n",
       "  </thead>\n",
       "  <tbody>\n",
       "    <tr>\n",
       "      <td>0</td>\n",
       "      <td>Alabama-Escambia-2016-01-0100:00:00</td>\n",
       "      <td>Alabama</td>\n",
       "      <td>Escambia</td>\n",
       "      <td>2016-01-01</td>\n",
       "      <td>166.066667</td>\n",
       "    </tr>\n",
       "    <tr>\n",
       "      <td>1</td>\n",
       "      <td>Alabama-Escambia-2016-01-0200:00:00</td>\n",
       "      <td>Alabama</td>\n",
       "      <td>Escambia</td>\n",
       "      <td>2016-01-02</td>\n",
       "      <td>162.158333</td>\n",
       "    </tr>\n",
       "    <tr>\n",
       "      <td>2</td>\n",
       "      <td>Alabama-Escambia-2016-01-0300:00:00</td>\n",
       "      <td>Alabama</td>\n",
       "      <td>Escambia</td>\n",
       "      <td>2016-01-03</td>\n",
       "      <td>149.443750</td>\n",
       "    </tr>\n",
       "    <tr>\n",
       "      <td>3</td>\n",
       "      <td>Alabama-Escambia-2016-01-0400:00:00</td>\n",
       "      <td>Alabama</td>\n",
       "      <td>Escambia</td>\n",
       "      <td>2016-01-04</td>\n",
       "      <td>153.475000</td>\n",
       "    </tr>\n",
       "    <tr>\n",
       "      <td>4</td>\n",
       "      <td>Alabama-Escambia-2016-01-0500:00:00</td>\n",
       "      <td>Alabama</td>\n",
       "      <td>Escambia</td>\n",
       "      <td>2016-01-05</td>\n",
       "      <td>38.243750</td>\n",
       "    </tr>\n",
       "  </tbody>\n",
       "</table>\n",
       "</div>"
      ],
      "text/plain": [
       "                          merge_column state_name county_name date_local  \\\n",
       "0  Alabama-Escambia-2016-01-0100:00:00    Alabama    Escambia 2016-01-01   \n",
       "1  Alabama-Escambia-2016-01-0200:00:00    Alabama    Escambia 2016-01-02   \n",
       "2  Alabama-Escambia-2016-01-0300:00:00    Alabama    Escambia 2016-01-03   \n",
       "3  Alabama-Escambia-2016-01-0400:00:00    Alabama    Escambia 2016-01-04   \n",
       "4  Alabama-Escambia-2016-01-0500:00:00    Alabama    Escambia 2016-01-05   \n",
       "\n",
       "         wind  \n",
       "0  166.066667  \n",
       "1  162.158333  \n",
       "2  149.443750  \n",
       "3  153.475000  \n",
       "4   38.243750  "
      ]
     },
     "execution_count": 76,
     "metadata": {},
     "output_type": "execute_result"
    }
   ],
   "source": [
    "wind_merged.head()"
   ]
  },
  {
   "cell_type": "code",
   "execution_count": 77,
   "metadata": {},
   "outputs": [
    {
     "name": "stdout",
     "output_type": "stream",
     "text": [
      "0\n",
      "Length of dataframe 1393316\n",
      "Number of duplicates in merge_column: 0\n",
      "Percent of duplicates in merge_column: 0.0\n",
      "1\n",
      "Length of dataframe 1638427\n",
      "Number of duplicates in merge_column: 0\n",
      "Percent of duplicates in merge_column: 0.0\n",
      "2\n",
      "Length of dataframe 4259749\n",
      "Number of duplicates in merge_column: 0\n",
      "Percent of duplicates in merge_column: 0.0\n",
      "3\n",
      "Length of dataframe 2211066\n",
      "Number of duplicates in merge_column: 0\n",
      "Percent of duplicates in merge_column: 0.0\n",
      "4\n",
      "Length of dataframe 642874\n",
      "Number of duplicates in merge_column: 0\n",
      "Percent of duplicates in merge_column: 0.0\n",
      "5\n",
      "Length of dataframe 1622631\n",
      "Number of duplicates in merge_column: 0\n",
      "Percent of duplicates in merge_column: 0.0\n",
      "6\n",
      "Length of dataframe 1219584\n",
      "Number of duplicates in merge_column: 0\n",
      "Percent of duplicates in merge_column: 0.0\n",
      "7\n",
      "Length of dataframe 2546015\n",
      "Number of duplicates in merge_column: 0\n",
      "Percent of duplicates in merge_column: 0.0\n",
      "8\n",
      "Length of dataframe 2004847\n",
      "Number of duplicates in merge_column: 0\n",
      "Percent of duplicates in merge_column: 0.0\n"
     ]
    }
   ],
   "source": [
    "#Check dataframe for duplicate values in merge_column\n",
    "dfs = [co_merged, no2_merged, o3_merged, so2_merged,\n",
    "       pm10_merged, pm25_merged, pressure_merged, \n",
    "       temperature_merged, wind_merged]\n",
    "check_for_duplicates(dfs)"
   ]
  },
  {
   "cell_type": "code",
   "execution_count": 78,
   "metadata": {
    "scrolled": true
   },
   "outputs": [
    {
     "name": "stdout",
     "output_type": "stream",
     "text": [
      "0\n"
     ]
    },
    {
     "data": {
      "text/plain": [
       "(1393316, 5)"
      ]
     },
     "metadata": {},
     "output_type": "display_data"
    },
    {
     "data": {
      "text/plain": [
       "merge_column    0.0\n",
       "state_name      0.0\n",
       "county_name     0.0\n",
       "date_local      0.0\n",
       "co              0.0\n",
       "dtype: float64"
      ]
     },
     "metadata": {},
     "output_type": "display_data"
    },
    {
     "name": "stdout",
     "output_type": "stream",
     "text": [
      "1\n"
     ]
    },
    {
     "data": {
      "text/plain": [
       "(1638427, 5)"
      ]
     },
     "metadata": {},
     "output_type": "display_data"
    },
    {
     "data": {
      "text/plain": [
       "merge_column    0.0\n",
       "state_name      0.0\n",
       "county_name     0.0\n",
       "date_local      0.0\n",
       "no2             0.0\n",
       "dtype: float64"
      ]
     },
     "metadata": {},
     "output_type": "display_data"
    },
    {
     "name": "stdout",
     "output_type": "stream",
     "text": [
      "2\n"
     ]
    },
    {
     "data": {
      "text/plain": [
       "(4259749, 5)"
      ]
     },
     "metadata": {},
     "output_type": "display_data"
    },
    {
     "data": {
      "text/plain": [
       "merge_column    0.0\n",
       "state_name      0.0\n",
       "county_name     0.0\n",
       "date_local      0.0\n",
       "o3              0.0\n",
       "dtype: float64"
      ]
     },
     "metadata": {},
     "output_type": "display_data"
    },
    {
     "name": "stdout",
     "output_type": "stream",
     "text": [
      "3\n"
     ]
    },
    {
     "data": {
      "text/plain": [
       "(2211066, 5)"
      ]
     },
     "metadata": {},
     "output_type": "display_data"
    },
    {
     "data": {
      "text/plain": [
       "merge_column    0.0\n",
       "state_name      0.0\n",
       "county_name     0.0\n",
       "date_local      0.0\n",
       "so2             0.0\n",
       "dtype: float64"
      ]
     },
     "metadata": {},
     "output_type": "display_data"
    },
    {
     "name": "stdout",
     "output_type": "stream",
     "text": [
      "4\n"
     ]
    },
    {
     "data": {
      "text/plain": [
       "(642874, 5)"
      ]
     },
     "metadata": {},
     "output_type": "display_data"
    },
    {
     "data": {
      "text/plain": [
       "merge_column    0.0\n",
       "state_name      0.0\n",
       "county_name     0.0\n",
       "date_local      0.0\n",
       "pm10            0.0\n",
       "dtype: float64"
      ]
     },
     "metadata": {},
     "output_type": "display_data"
    },
    {
     "name": "stdout",
     "output_type": "stream",
     "text": [
      "5\n"
     ]
    },
    {
     "data": {
      "text/plain": [
       "(1622631, 5)"
      ]
     },
     "metadata": {},
     "output_type": "display_data"
    },
    {
     "data": {
      "text/plain": [
       "merge_column    0.0\n",
       "state_name      0.0\n",
       "county_name     0.0\n",
       "date_local      0.0\n",
       "pm25            0.0\n",
       "dtype: float64"
      ]
     },
     "metadata": {},
     "output_type": "display_data"
    },
    {
     "name": "stdout",
     "output_type": "stream",
     "text": [
      "6\n"
     ]
    },
    {
     "data": {
      "text/plain": [
       "(1219584, 5)"
      ]
     },
     "metadata": {},
     "output_type": "display_data"
    },
    {
     "data": {
      "text/plain": [
       "merge_column    0.0\n",
       "state_name      0.0\n",
       "county_name     0.0\n",
       "date_local      0.0\n",
       "pressure        0.0\n",
       "dtype: float64"
      ]
     },
     "metadata": {},
     "output_type": "display_data"
    },
    {
     "name": "stdout",
     "output_type": "stream",
     "text": [
      "7\n"
     ]
    },
    {
     "data": {
      "text/plain": [
       "(2546015, 5)"
      ]
     },
     "metadata": {},
     "output_type": "display_data"
    },
    {
     "data": {
      "text/plain": [
       "merge_column    0.0\n",
       "state_name      0.0\n",
       "county_name     0.0\n",
       "date_local      0.0\n",
       "temperature     0.0\n",
       "dtype: float64"
      ]
     },
     "metadata": {},
     "output_type": "display_data"
    },
    {
     "name": "stdout",
     "output_type": "stream",
     "text": [
      "8\n"
     ]
    },
    {
     "data": {
      "text/plain": [
       "(2004847, 5)"
      ]
     },
     "metadata": {},
     "output_type": "display_data"
    },
    {
     "data": {
      "text/plain": [
       "merge_column    0.0\n",
       "state_name      0.0\n",
       "county_name     0.0\n",
       "date_local      0.0\n",
       "wind            0.0\n",
       "dtype: float64"
      ]
     },
     "metadata": {},
     "output_type": "display_data"
    },
    {
     "name": "stdout",
     "output_type": "stream",
     "text": [
      "9\n"
     ]
    },
    {
     "data": {
      "text/plain": [
       "(6352663, 11)"
      ]
     },
     "metadata": {},
     "output_type": "display_data"
    },
    {
     "data": {
      "text/plain": [
       "state_name                   0.0\n",
       "county_name                  0.0\n",
       "state_code                   0.0\n",
       "county_code                  0.0\n",
       "date_local                   0.0\n",
       "aqi                          0.0\n",
       "category                     0.0\n",
       "defining_parameter           0.0\n",
       "defining_site                0.0\n",
       "number_of_sites_reporting    0.0\n",
       "merge_column                 0.0\n",
       "dtype: float64"
      ]
     },
     "metadata": {},
     "output_type": "display_data"
    }
   ],
   "source": [
    "dataframes = [co_merged, no2_merged, o3_merged, so2_merged,\n",
    "       pm10_merged, pm25_merged, pressure_merged, \n",
    "       temperature_merged, wind_merged, aqi]\n",
    "num = 0\n",
    "for df in dataframes: \n",
    "    print(num)\n",
    "    display(df.shape)\n",
    "    display(check_nulls(df, as_percent=True))\n",
    "    num += 1"
   ]
  },
  {
   "cell_type": "code",
   "execution_count": 79,
   "metadata": {
    "scrolled": true
   },
   "outputs": [
    {
     "data": {
      "text/html": [
       "<div>\n",
       "<style scoped>\n",
       "    .dataframe tbody tr th:only-of-type {\n",
       "        vertical-align: middle;\n",
       "    }\n",
       "\n",
       "    .dataframe tbody tr th {\n",
       "        vertical-align: top;\n",
       "    }\n",
       "\n",
       "    .dataframe thead th {\n",
       "        text-align: right;\n",
       "    }\n",
       "</style>\n",
       "<table border=\"1\" class=\"dataframe\">\n",
       "  <thead>\n",
       "    <tr style=\"text-align: right;\">\n",
       "      <th></th>\n",
       "      <th>merge_column</th>\n",
       "      <th>state_name</th>\n",
       "      <th>county_name</th>\n",
       "      <th>date_local</th>\n",
       "      <th>so2</th>\n",
       "    </tr>\n",
       "  </thead>\n",
       "  <tbody>\n",
       "    <tr>\n",
       "      <td>0</td>\n",
       "      <td>Alabama-Colbert-2000-01-0100:00:00</td>\n",
       "      <td>Alabama</td>\n",
       "      <td>Colbert</td>\n",
       "      <td>2000-01-01</td>\n",
       "      <td>1.625000</td>\n",
       "    </tr>\n",
       "    <tr>\n",
       "      <td>1</td>\n",
       "      <td>Alabama-Colbert-2000-01-0200:00:00</td>\n",
       "      <td>Alabama</td>\n",
       "      <td>Colbert</td>\n",
       "      <td>2000-01-02</td>\n",
       "      <td>1.291667</td>\n",
       "    </tr>\n",
       "    <tr>\n",
       "      <td>2</td>\n",
       "      <td>Alabama-Colbert-2000-01-0300:00:00</td>\n",
       "      <td>Alabama</td>\n",
       "      <td>Colbert</td>\n",
       "      <td>2000-01-03</td>\n",
       "      <td>1.000000</td>\n",
       "    </tr>\n",
       "    <tr>\n",
       "      <td>3</td>\n",
       "      <td>Alabama-Colbert-2000-01-0400:00:00</td>\n",
       "      <td>Alabama</td>\n",
       "      <td>Colbert</td>\n",
       "      <td>2000-01-04</td>\n",
       "      <td>1.333333</td>\n",
       "    </tr>\n",
       "    <tr>\n",
       "      <td>4</td>\n",
       "      <td>Alabama-Colbert-2000-01-0500:00:00</td>\n",
       "      <td>Alabama</td>\n",
       "      <td>Colbert</td>\n",
       "      <td>2000-01-05</td>\n",
       "      <td>1.833333</td>\n",
       "    </tr>\n",
       "    <tr>\n",
       "      <td>5</td>\n",
       "      <td>Alabama-Colbert-2000-01-0600:00:00</td>\n",
       "      <td>Alabama</td>\n",
       "      <td>Colbert</td>\n",
       "      <td>2000-01-06</td>\n",
       "      <td>4.291667</td>\n",
       "    </tr>\n",
       "    <tr>\n",
       "      <td>6</td>\n",
       "      <td>Alabama-Colbert-2000-01-0700:00:00</td>\n",
       "      <td>Alabama</td>\n",
       "      <td>Colbert</td>\n",
       "      <td>2000-01-07</td>\n",
       "      <td>2.583333</td>\n",
       "    </tr>\n",
       "    <tr>\n",
       "      <td>7</td>\n",
       "      <td>Alabama-Colbert-2000-01-0800:00:00</td>\n",
       "      <td>Alabama</td>\n",
       "      <td>Colbert</td>\n",
       "      <td>2000-01-08</td>\n",
       "      <td>4.875000</td>\n",
       "    </tr>\n",
       "    <tr>\n",
       "      <td>8</td>\n",
       "      <td>Alabama-Colbert-2000-01-0900:00:00</td>\n",
       "      <td>Alabama</td>\n",
       "      <td>Colbert</td>\n",
       "      <td>2000-01-09</td>\n",
       "      <td>1.250000</td>\n",
       "    </tr>\n",
       "    <tr>\n",
       "      <td>9</td>\n",
       "      <td>Alabama-Colbert-2000-01-1000:00:00</td>\n",
       "      <td>Alabama</td>\n",
       "      <td>Colbert</td>\n",
       "      <td>2000-01-10</td>\n",
       "      <td>1.000000</td>\n",
       "    </tr>\n",
       "  </tbody>\n",
       "</table>\n",
       "</div>"
      ],
      "text/plain": [
       "                         merge_column state_name county_name date_local  \\\n",
       "0  Alabama-Colbert-2000-01-0100:00:00    Alabama     Colbert 2000-01-01   \n",
       "1  Alabama-Colbert-2000-01-0200:00:00    Alabama     Colbert 2000-01-02   \n",
       "2  Alabama-Colbert-2000-01-0300:00:00    Alabama     Colbert 2000-01-03   \n",
       "3  Alabama-Colbert-2000-01-0400:00:00    Alabama     Colbert 2000-01-04   \n",
       "4  Alabama-Colbert-2000-01-0500:00:00    Alabama     Colbert 2000-01-05   \n",
       "5  Alabama-Colbert-2000-01-0600:00:00    Alabama     Colbert 2000-01-06   \n",
       "6  Alabama-Colbert-2000-01-0700:00:00    Alabama     Colbert 2000-01-07   \n",
       "7  Alabama-Colbert-2000-01-0800:00:00    Alabama     Colbert 2000-01-08   \n",
       "8  Alabama-Colbert-2000-01-0900:00:00    Alabama     Colbert 2000-01-09   \n",
       "9  Alabama-Colbert-2000-01-1000:00:00    Alabama     Colbert 2000-01-10   \n",
       "\n",
       "        so2  \n",
       "0  1.625000  \n",
       "1  1.291667  \n",
       "2  1.000000  \n",
       "3  1.333333  \n",
       "4  1.833333  \n",
       "5  4.291667  \n",
       "6  2.583333  \n",
       "7  4.875000  \n",
       "8  1.250000  \n",
       "9  1.000000  "
      ]
     },
     "execution_count": 79,
     "metadata": {},
     "output_type": "execute_result"
    }
   ],
   "source": [
    "so2_merged.head(10)"
   ]
  },
  {
   "cell_type": "markdown",
   "metadata": {},
   "source": [
    "# Format AQI dataframe"
   ]
  },
  {
   "cell_type": "code",
   "execution_count": 80,
   "metadata": {
    "scrolled": false
   },
   "outputs": [
    {
     "data": {
      "text/html": [
       "<div>\n",
       "<style scoped>\n",
       "    .dataframe tbody tr th:only-of-type {\n",
       "        vertical-align: middle;\n",
       "    }\n",
       "\n",
       "    .dataframe tbody tr th {\n",
       "        vertical-align: top;\n",
       "    }\n",
       "\n",
       "    .dataframe thead th {\n",
       "        text-align: right;\n",
       "    }\n",
       "</style>\n",
       "<table border=\"1\" class=\"dataframe\">\n",
       "  <thead>\n",
       "    <tr style=\"text-align: right;\">\n",
       "      <th></th>\n",
       "      <th>state_name</th>\n",
       "      <th>county_name</th>\n",
       "      <th>state_code</th>\n",
       "      <th>county_code</th>\n",
       "      <th>date_local</th>\n",
       "      <th>aqi</th>\n",
       "      <th>category</th>\n",
       "      <th>defining_parameter</th>\n",
       "      <th>defining_site</th>\n",
       "      <th>number_of_sites_reporting</th>\n",
       "      <th>merge_column</th>\n",
       "    </tr>\n",
       "  </thead>\n",
       "  <tbody>\n",
       "    <tr>\n",
       "      <td>0</td>\n",
       "      <td>Alabama</td>\n",
       "      <td>Baldwin</td>\n",
       "      <td>01</td>\n",
       "      <td>3</td>\n",
       "      <td>2000-01-16</td>\n",
       "      <td>25</td>\n",
       "      <td>Good</td>\n",
       "      <td>PM2.5</td>\n",
       "      <td>01-003-0010</td>\n",
       "      <td>1</td>\n",
       "      <td>Alabama-Baldwin-2000-01-1600:00:00</td>\n",
       "    </tr>\n",
       "    <tr>\n",
       "      <td>1</td>\n",
       "      <td>Alabama</td>\n",
       "      <td>Baldwin</td>\n",
       "      <td>01</td>\n",
       "      <td>3</td>\n",
       "      <td>2000-01-19</td>\n",
       "      <td>46</td>\n",
       "      <td>Good</td>\n",
       "      <td>PM2.5</td>\n",
       "      <td>01-003-0010</td>\n",
       "      <td>1</td>\n",
       "      <td>Alabama-Baldwin-2000-01-1900:00:00</td>\n",
       "    </tr>\n",
       "    <tr>\n",
       "      <td>2</td>\n",
       "      <td>Alabama</td>\n",
       "      <td>Baldwin</td>\n",
       "      <td>01</td>\n",
       "      <td>3</td>\n",
       "      <td>2000-01-22</td>\n",
       "      <td>36</td>\n",
       "      <td>Good</td>\n",
       "      <td>PM2.5</td>\n",
       "      <td>01-003-0010</td>\n",
       "      <td>1</td>\n",
       "      <td>Alabama-Baldwin-2000-01-2200:00:00</td>\n",
       "    </tr>\n",
       "    <tr>\n",
       "      <td>3</td>\n",
       "      <td>Alabama</td>\n",
       "      <td>Baldwin</td>\n",
       "      <td>01</td>\n",
       "      <td>3</td>\n",
       "      <td>2000-01-25</td>\n",
       "      <td>26</td>\n",
       "      <td>Good</td>\n",
       "      <td>PM2.5</td>\n",
       "      <td>01-003-0010</td>\n",
       "      <td>1</td>\n",
       "      <td>Alabama-Baldwin-2000-01-2500:00:00</td>\n",
       "    </tr>\n",
       "    <tr>\n",
       "      <td>4</td>\n",
       "      <td>Alabama</td>\n",
       "      <td>Baldwin</td>\n",
       "      <td>01</td>\n",
       "      <td>3</td>\n",
       "      <td>2000-01-28</td>\n",
       "      <td>32</td>\n",
       "      <td>Good</td>\n",
       "      <td>PM2.5</td>\n",
       "      <td>01-003-0010</td>\n",
       "      <td>1</td>\n",
       "      <td>Alabama-Baldwin-2000-01-2800:00:00</td>\n",
       "    </tr>\n",
       "  </tbody>\n",
       "</table>\n",
       "</div>"
      ],
      "text/plain": [
       "  state_name county_name state_code  county_code date_local  aqi category  \\\n",
       "0    Alabama     Baldwin         01            3 2000-01-16   25     Good   \n",
       "1    Alabama     Baldwin         01            3 2000-01-19   46     Good   \n",
       "2    Alabama     Baldwin         01            3 2000-01-22   36     Good   \n",
       "3    Alabama     Baldwin         01            3 2000-01-25   26     Good   \n",
       "4    Alabama     Baldwin         01            3 2000-01-28   32     Good   \n",
       "\n",
       "  defining_parameter defining_site  number_of_sites_reporting  \\\n",
       "0              PM2.5   01-003-0010                          1   \n",
       "1              PM2.5   01-003-0010                          1   \n",
       "2              PM2.5   01-003-0010                          1   \n",
       "3              PM2.5   01-003-0010                          1   \n",
       "4              PM2.5   01-003-0010                          1   \n",
       "\n",
       "                         merge_column  \n",
       "0  Alabama-Baldwin-2000-01-1600:00:00  \n",
       "1  Alabama-Baldwin-2000-01-1900:00:00  \n",
       "2  Alabama-Baldwin-2000-01-2200:00:00  \n",
       "3  Alabama-Baldwin-2000-01-2500:00:00  \n",
       "4  Alabama-Baldwin-2000-01-2800:00:00  "
      ]
     },
     "execution_count": 80,
     "metadata": {},
     "output_type": "execute_result"
    }
   ],
   "source": [
    "aqi.head()"
   ]
  },
  {
   "cell_type": "code",
   "execution_count": 81,
   "metadata": {},
   "outputs": [
    {
     "name": "stdout",
     "output_type": "stream",
     "text": [
      "0\n",
      "Length of dataframe 6352663\n",
      "Number of duplicates in merge_column: 0\n",
      "Percent of duplicates in merge_column: 0.0\n"
     ]
    }
   ],
   "source": [
    "check_for_duplicates([aqi])"
   ]
  },
  {
   "cell_type": "code",
   "execution_count": 82,
   "metadata": {},
   "outputs": [],
   "source": [
    "aqi_short = aqi[['merge_column', 'state_name', 'county_name', 'date_local', 'aqi', 'category', 'defining_parameter']]"
   ]
  },
  {
   "cell_type": "code",
   "execution_count": 83,
   "metadata": {
    "scrolled": true
   },
   "outputs": [
    {
     "data": {
      "text/html": [
       "<div>\n",
       "<style scoped>\n",
       "    .dataframe tbody tr th:only-of-type {\n",
       "        vertical-align: middle;\n",
       "    }\n",
       "\n",
       "    .dataframe tbody tr th {\n",
       "        vertical-align: top;\n",
       "    }\n",
       "\n",
       "    .dataframe thead th {\n",
       "        text-align: right;\n",
       "    }\n",
       "</style>\n",
       "<table border=\"1\" class=\"dataframe\">\n",
       "  <thead>\n",
       "    <tr style=\"text-align: right;\">\n",
       "      <th></th>\n",
       "      <th>merge_column</th>\n",
       "      <th>state_name</th>\n",
       "      <th>county_name</th>\n",
       "      <th>date_local</th>\n",
       "      <th>aqi</th>\n",
       "      <th>category</th>\n",
       "      <th>defining_parameter</th>\n",
       "    </tr>\n",
       "  </thead>\n",
       "  <tbody>\n",
       "    <tr>\n",
       "      <td>0</td>\n",
       "      <td>Alabama-Baldwin-2000-01-1600:00:00</td>\n",
       "      <td>Alabama</td>\n",
       "      <td>Baldwin</td>\n",
       "      <td>2000-01-16</td>\n",
       "      <td>25</td>\n",
       "      <td>Good</td>\n",
       "      <td>PM2.5</td>\n",
       "    </tr>\n",
       "    <tr>\n",
       "      <td>1</td>\n",
       "      <td>Alabama-Baldwin-2000-01-1900:00:00</td>\n",
       "      <td>Alabama</td>\n",
       "      <td>Baldwin</td>\n",
       "      <td>2000-01-19</td>\n",
       "      <td>46</td>\n",
       "      <td>Good</td>\n",
       "      <td>PM2.5</td>\n",
       "    </tr>\n",
       "    <tr>\n",
       "      <td>2</td>\n",
       "      <td>Alabama-Baldwin-2000-01-2200:00:00</td>\n",
       "      <td>Alabama</td>\n",
       "      <td>Baldwin</td>\n",
       "      <td>2000-01-22</td>\n",
       "      <td>36</td>\n",
       "      <td>Good</td>\n",
       "      <td>PM2.5</td>\n",
       "    </tr>\n",
       "    <tr>\n",
       "      <td>3</td>\n",
       "      <td>Alabama-Baldwin-2000-01-2500:00:00</td>\n",
       "      <td>Alabama</td>\n",
       "      <td>Baldwin</td>\n",
       "      <td>2000-01-25</td>\n",
       "      <td>26</td>\n",
       "      <td>Good</td>\n",
       "      <td>PM2.5</td>\n",
       "    </tr>\n",
       "    <tr>\n",
       "      <td>4</td>\n",
       "      <td>Alabama-Baldwin-2000-01-2800:00:00</td>\n",
       "      <td>Alabama</td>\n",
       "      <td>Baldwin</td>\n",
       "      <td>2000-01-28</td>\n",
       "      <td>32</td>\n",
       "      <td>Good</td>\n",
       "      <td>PM2.5</td>\n",
       "    </tr>\n",
       "  </tbody>\n",
       "</table>\n",
       "</div>"
      ],
      "text/plain": [
       "                         merge_column state_name county_name date_local  aqi  \\\n",
       "0  Alabama-Baldwin-2000-01-1600:00:00    Alabama     Baldwin 2000-01-16   25   \n",
       "1  Alabama-Baldwin-2000-01-1900:00:00    Alabama     Baldwin 2000-01-19   46   \n",
       "2  Alabama-Baldwin-2000-01-2200:00:00    Alabama     Baldwin 2000-01-22   36   \n",
       "3  Alabama-Baldwin-2000-01-2500:00:00    Alabama     Baldwin 2000-01-25   26   \n",
       "4  Alabama-Baldwin-2000-01-2800:00:00    Alabama     Baldwin 2000-01-28   32   \n",
       "\n",
       "  category defining_parameter  \n",
       "0     Good              PM2.5  \n",
       "1     Good              PM2.5  \n",
       "2     Good              PM2.5  \n",
       "3     Good              PM2.5  \n",
       "4     Good              PM2.5  "
      ]
     },
     "execution_count": 83,
     "metadata": {},
     "output_type": "execute_result"
    }
   ],
   "source": [
    "aqi_short.head()"
   ]
  },
  {
   "cell_type": "code",
   "execution_count": 84,
   "metadata": {},
   "outputs": [
    {
     "data": {
      "text/html": [
       "<div>\n",
       "<style scoped>\n",
       "    .dataframe tbody tr th:only-of-type {\n",
       "        vertical-align: middle;\n",
       "    }\n",
       "\n",
       "    .dataframe tbody tr th {\n",
       "        vertical-align: top;\n",
       "    }\n",
       "\n",
       "    .dataframe thead th {\n",
       "        text-align: right;\n",
       "    }\n",
       "</style>\n",
       "<table border=\"1\" class=\"dataframe\">\n",
       "  <thead>\n",
       "    <tr style=\"text-align: right;\">\n",
       "      <th></th>\n",
       "      <th>merge_column</th>\n",
       "      <th>state_name</th>\n",
       "      <th>county_name</th>\n",
       "      <th>date_local</th>\n",
       "      <th>co</th>\n",
       "    </tr>\n",
       "  </thead>\n",
       "  <tbody>\n",
       "  </tbody>\n",
       "</table>\n",
       "</div>"
      ],
      "text/plain": [
       "Empty DataFrame\n",
       "Columns: [merge_column, state_name, county_name, date_local, co]\n",
       "Index: []"
      ]
     },
     "execution_count": 84,
     "metadata": {},
     "output_type": "execute_result"
    }
   ],
   "source": [
    "check_merge_column(co_merged, 'Alabama-Baldwin-2000-01-1600:00:00')"
   ]
  },
  {
   "cell_type": "code",
   "execution_count": 85,
   "metadata": {
    "scrolled": false
   },
   "outputs": [
    {
     "data": {
      "text/html": [
       "<div>\n",
       "<style scoped>\n",
       "    .dataframe tbody tr th:only-of-type {\n",
       "        vertical-align: middle;\n",
       "    }\n",
       "\n",
       "    .dataframe tbody tr th {\n",
       "        vertical-align: top;\n",
       "    }\n",
       "\n",
       "    .dataframe thead th {\n",
       "        text-align: right;\n",
       "    }\n",
       "</style>\n",
       "<table border=\"1\" class=\"dataframe\">\n",
       "  <thead>\n",
       "    <tr style=\"text-align: right;\">\n",
       "      <th></th>\n",
       "      <th>merge_column</th>\n",
       "      <th>state_name</th>\n",
       "      <th>county_name</th>\n",
       "      <th>date_local</th>\n",
       "      <th>pm25</th>\n",
       "    </tr>\n",
       "  </thead>\n",
       "  <tbody>\n",
       "    <tr>\n",
       "      <td>0</td>\n",
       "      <td>Alabama-Baldwin-2000-01-1600:00:00</td>\n",
       "      <td>Alabama</td>\n",
       "      <td>Baldwin</td>\n",
       "      <td>2000-01-16</td>\n",
       "      <td>5.9</td>\n",
       "    </tr>\n",
       "  </tbody>\n",
       "</table>\n",
       "</div>"
      ],
      "text/plain": [
       "                         merge_column state_name county_name date_local  pm25\n",
       "0  Alabama-Baldwin-2000-01-1600:00:00    Alabama     Baldwin 2000-01-16   5.9"
      ]
     },
     "execution_count": 85,
     "metadata": {},
     "output_type": "execute_result"
    }
   ],
   "source": [
    "check_merge_column(pm25_merged, 'Alabama-Baldwin-2000-01-1600:00:00')"
   ]
  },
  {
   "cell_type": "code",
   "execution_count": 86,
   "metadata": {
    "scrolled": false
   },
   "outputs": [
    {
     "data": {
      "text/html": [
       "<div>\n",
       "<style scoped>\n",
       "    .dataframe tbody tr th:only-of-type {\n",
       "        vertical-align: middle;\n",
       "    }\n",
       "\n",
       "    .dataframe tbody tr th {\n",
       "        vertical-align: top;\n",
       "    }\n",
       "\n",
       "    .dataframe thead th {\n",
       "        text-align: right;\n",
       "    }\n",
       "</style>\n",
       "<table border=\"1\" class=\"dataframe\">\n",
       "  <thead>\n",
       "    <tr style=\"text-align: right;\">\n",
       "      <th></th>\n",
       "      <th>merge_column</th>\n",
       "      <th>state_name</th>\n",
       "      <th>county_name</th>\n",
       "      <th>date_local</th>\n",
       "      <th>aqi</th>\n",
       "      <th>category</th>\n",
       "      <th>defining_parameter</th>\n",
       "    </tr>\n",
       "  </thead>\n",
       "  <tbody>\n",
       "    <tr>\n",
       "      <td>0</td>\n",
       "      <td>Alabama-Baldwin-2000-01-1600:00:00</td>\n",
       "      <td>Alabama</td>\n",
       "      <td>Baldwin</td>\n",
       "      <td>2000-01-16</td>\n",
       "      <td>25</td>\n",
       "      <td>Good</td>\n",
       "      <td>PM2.5</td>\n",
       "    </tr>\n",
       "  </tbody>\n",
       "</table>\n",
       "</div>"
      ],
      "text/plain": [
       "                         merge_column state_name county_name date_local  aqi  \\\n",
       "0  Alabama-Baldwin-2000-01-1600:00:00    Alabama     Baldwin 2000-01-16   25   \n",
       "\n",
       "  category defining_parameter  \n",
       "0     Good              PM2.5  "
      ]
     },
     "execution_count": 86,
     "metadata": {},
     "output_type": "execute_result"
    }
   ],
   "source": [
    "check_merge_column(aqi_short, 'Alabama-Baldwin-2000-01-1600:00:00')"
   ]
  },
  {
   "cell_type": "markdown",
   "metadata": {},
   "source": [
    "# Merge all dataframes"
   ]
  },
  {
   "cell_type": "code",
   "execution_count": 2,
   "metadata": {},
   "outputs": [],
   "source": [
    "def merge_dataframes(df1, df2):\n",
    "    \"\"\"\n",
    "    Merges dateframes on these columns:\n",
    "    'merge_column', 'state_name', 'county_name', 'date_local'\n",
    "    \"\"\"\n",
    "    full_merge = pd.merge(df1, df2, \n",
    "                          on=['merge_column', 'state_name', 'county_name', 'date_local'], \n",
    "                          how='outer')\n",
    "    return full_merge"
   ]
  },
  {
   "cell_type": "code",
   "execution_count": 87,
   "metadata": {},
   "outputs": [
    {
     "data": {
      "text/html": [
       "<div>\n",
       "<style scoped>\n",
       "    .dataframe tbody tr th:only-of-type {\n",
       "        vertical-align: middle;\n",
       "    }\n",
       "\n",
       "    .dataframe tbody tr th {\n",
       "        vertical-align: top;\n",
       "    }\n",
       "\n",
       "    .dataframe thead th {\n",
       "        text-align: right;\n",
       "    }\n",
       "</style>\n",
       "<table border=\"1\" class=\"dataframe\">\n",
       "  <thead>\n",
       "    <tr style=\"text-align: right;\">\n",
       "      <th></th>\n",
       "      <th>merge_column</th>\n",
       "      <th>state_name</th>\n",
       "      <th>county_name</th>\n",
       "      <th>date_local</th>\n",
       "      <th>co</th>\n",
       "    </tr>\n",
       "  </thead>\n",
       "  <tbody>\n",
       "    <tr>\n",
       "      <td>0</td>\n",
       "      <td>Alabama-Jefferson-2000-01-0100:00:00</td>\n",
       "      <td>Alabama</td>\n",
       "      <td>Jefferson</td>\n",
       "      <td>2000-01-01</td>\n",
       "      <td>0.540278</td>\n",
       "    </tr>\n",
       "    <tr>\n",
       "      <td>1</td>\n",
       "      <td>Alabama-Jefferson-2000-01-0200:00:00</td>\n",
       "      <td>Alabama</td>\n",
       "      <td>Jefferson</td>\n",
       "      <td>2000-01-02</td>\n",
       "      <td>0.534722</td>\n",
       "    </tr>\n",
       "    <tr>\n",
       "      <td>2</td>\n",
       "      <td>Alabama-Jefferson-2000-01-0300:00:00</td>\n",
       "      <td>Alabama</td>\n",
       "      <td>Jefferson</td>\n",
       "      <td>2000-01-03</td>\n",
       "      <td>0.319444</td>\n",
       "    </tr>\n",
       "    <tr>\n",
       "      <td>3</td>\n",
       "      <td>Alabama-Jefferson-2000-01-0400:00:00</td>\n",
       "      <td>Alabama</td>\n",
       "      <td>Jefferson</td>\n",
       "      <td>2000-01-04</td>\n",
       "      <td>0.920833</td>\n",
       "    </tr>\n",
       "    <tr>\n",
       "      <td>4</td>\n",
       "      <td>Alabama-Jefferson-2000-01-0500:00:00</td>\n",
       "      <td>Alabama</td>\n",
       "      <td>Jefferson</td>\n",
       "      <td>2000-01-05</td>\n",
       "      <td>1.008333</td>\n",
       "    </tr>\n",
       "  </tbody>\n",
       "</table>\n",
       "</div>"
      ],
      "text/plain": [
       "                           merge_column state_name county_name date_local  \\\n",
       "0  Alabama-Jefferson-2000-01-0100:00:00    Alabama   Jefferson 2000-01-01   \n",
       "1  Alabama-Jefferson-2000-01-0200:00:00    Alabama   Jefferson 2000-01-02   \n",
       "2  Alabama-Jefferson-2000-01-0300:00:00    Alabama   Jefferson 2000-01-03   \n",
       "3  Alabama-Jefferson-2000-01-0400:00:00    Alabama   Jefferson 2000-01-04   \n",
       "4  Alabama-Jefferson-2000-01-0500:00:00    Alabama   Jefferson 2000-01-05   \n",
       "\n",
       "         co  \n",
       "0  0.540278  \n",
       "1  0.534722  \n",
       "2  0.319444  \n",
       "3  0.920833  \n",
       "4  1.008333  "
      ]
     },
     "execution_count": 87,
     "metadata": {},
     "output_type": "execute_result"
    }
   ],
   "source": [
    "co_merged.head()"
   ]
  },
  {
   "cell_type": "code",
   "execution_count": 88,
   "metadata": {},
   "outputs": [
    {
     "data": {
      "text/html": [
       "<div>\n",
       "<style scoped>\n",
       "    .dataframe tbody tr th:only-of-type {\n",
       "        vertical-align: middle;\n",
       "    }\n",
       "\n",
       "    .dataframe tbody tr th {\n",
       "        vertical-align: top;\n",
       "    }\n",
       "\n",
       "    .dataframe thead th {\n",
       "        text-align: right;\n",
       "    }\n",
       "</style>\n",
       "<table border=\"1\" class=\"dataframe\">\n",
       "  <thead>\n",
       "    <tr style=\"text-align: right;\">\n",
       "      <th></th>\n",
       "      <th>merge_column</th>\n",
       "      <th>state_name</th>\n",
       "      <th>county_name</th>\n",
       "      <th>date_local</th>\n",
       "      <th>o3</th>\n",
       "    </tr>\n",
       "  </thead>\n",
       "  <tbody>\n",
       "    <tr>\n",
       "      <td>0</td>\n",
       "      <td>Alabama-Baldwin-2000-03-0100:00:00</td>\n",
       "      <td>Alabama</td>\n",
       "      <td>Baldwin</td>\n",
       "      <td>2000-03-01</td>\n",
       "      <td>0.036471</td>\n",
       "    </tr>\n",
       "    <tr>\n",
       "      <td>1</td>\n",
       "      <td>Alabama-Baldwin-2000-03-0200:00:00</td>\n",
       "      <td>Alabama</td>\n",
       "      <td>Baldwin</td>\n",
       "      <td>2000-03-02</td>\n",
       "      <td>0.037765</td>\n",
       "    </tr>\n",
       "    <tr>\n",
       "      <td>2</td>\n",
       "      <td>Alabama-Baldwin-2000-03-0300:00:00</td>\n",
       "      <td>Alabama</td>\n",
       "      <td>Baldwin</td>\n",
       "      <td>2000-03-03</td>\n",
       "      <td>0.034941</td>\n",
       "    </tr>\n",
       "    <tr>\n",
       "      <td>3</td>\n",
       "      <td>Alabama-Baldwin-2000-03-0400:00:00</td>\n",
       "      <td>Alabama</td>\n",
       "      <td>Baldwin</td>\n",
       "      <td>2000-03-04</td>\n",
       "      <td>0.028882</td>\n",
       "    </tr>\n",
       "    <tr>\n",
       "      <td>4</td>\n",
       "      <td>Alabama-Baldwin-2000-03-0500:00:00</td>\n",
       "      <td>Alabama</td>\n",
       "      <td>Baldwin</td>\n",
       "      <td>2000-03-05</td>\n",
       "      <td>0.036471</td>\n",
       "    </tr>\n",
       "  </tbody>\n",
       "</table>\n",
       "</div>"
      ],
      "text/plain": [
       "                         merge_column state_name county_name date_local  \\\n",
       "0  Alabama-Baldwin-2000-03-0100:00:00    Alabama     Baldwin 2000-03-01   \n",
       "1  Alabama-Baldwin-2000-03-0200:00:00    Alabama     Baldwin 2000-03-02   \n",
       "2  Alabama-Baldwin-2000-03-0300:00:00    Alabama     Baldwin 2000-03-03   \n",
       "3  Alabama-Baldwin-2000-03-0400:00:00    Alabama     Baldwin 2000-03-04   \n",
       "4  Alabama-Baldwin-2000-03-0500:00:00    Alabama     Baldwin 2000-03-05   \n",
       "\n",
       "         o3  \n",
       "0  0.036471  \n",
       "1  0.037765  \n",
       "2  0.034941  \n",
       "3  0.028882  \n",
       "4  0.036471  "
      ]
     },
     "execution_count": 88,
     "metadata": {},
     "output_type": "execute_result"
    }
   ],
   "source": [
    "o3_merged.head()"
   ]
  },
  {
   "cell_type": "code",
   "execution_count": 91,
   "metadata": {},
   "outputs": [],
   "source": [
    "merge1 = merge_dataframes(o3_merged, co_merged)"
   ]
  },
  {
   "cell_type": "code",
   "execution_count": 92,
   "metadata": {},
   "outputs": [],
   "source": [
    "merge2 = merge_dataframes(merge1, no2_merged)"
   ]
  },
  {
   "cell_type": "code",
   "execution_count": 93,
   "metadata": {},
   "outputs": [],
   "source": [
    "merge3 = merge_dataframes(merge2, so2_merged)"
   ]
  },
  {
   "cell_type": "code",
   "execution_count": 94,
   "metadata": {},
   "outputs": [],
   "source": [
    "merge4 = merge_dataframes(merge3, pm10_merged)"
   ]
  },
  {
   "cell_type": "code",
   "execution_count": 95,
   "metadata": {},
   "outputs": [],
   "source": [
    "merge5 = merge_dataframes(merge4, pm25_merged)"
   ]
  },
  {
   "cell_type": "code",
   "execution_count": 108,
   "metadata": {},
   "outputs": [],
   "source": [
    "merge6 = merge_dataframes(merge5, pressure_merged)"
   ]
  },
  {
   "cell_type": "code",
   "execution_count": 109,
   "metadata": {},
   "outputs": [],
   "source": [
    "merge7 = merge_dataframes(merge6, temperature_merged)"
   ]
  },
  {
   "cell_type": "code",
   "execution_count": 110,
   "metadata": {},
   "outputs": [],
   "source": [
    "merge8 = merge_dataframes(merge7, wind_merged)"
   ]
  },
  {
   "cell_type": "code",
   "execution_count": 111,
   "metadata": {},
   "outputs": [],
   "source": [
    "final_merge = merge_dataframes(merge8, aqi_short)"
   ]
  },
  {
   "cell_type": "code",
   "execution_count": 121,
   "metadata": {},
   "outputs": [
    {
     "data": {
      "text/html": [
       "<div>\n",
       "<style scoped>\n",
       "    .dataframe tbody tr th:only-of-type {\n",
       "        vertical-align: middle;\n",
       "    }\n",
       "\n",
       "    .dataframe tbody tr th {\n",
       "        vertical-align: top;\n",
       "    }\n",
       "\n",
       "    .dataframe thead th {\n",
       "        text-align: right;\n",
       "    }\n",
       "</style>\n",
       "<table border=\"1\" class=\"dataframe\">\n",
       "  <thead>\n",
       "    <tr style=\"text-align: right;\">\n",
       "      <th></th>\n",
       "      <th>merge_column</th>\n",
       "      <th>state_name</th>\n",
       "      <th>county_name</th>\n",
       "      <th>date_local</th>\n",
       "      <th>o3</th>\n",
       "      <th>co</th>\n",
       "      <th>no2</th>\n",
       "      <th>so2</th>\n",
       "      <th>pm10</th>\n",
       "      <th>pm25</th>\n",
       "      <th>pressure</th>\n",
       "      <th>temperature</th>\n",
       "      <th>wind</th>\n",
       "      <th>aqi</th>\n",
       "      <th>category</th>\n",
       "      <th>defining_parameter</th>\n",
       "    </tr>\n",
       "  </thead>\n",
       "  <tbody>\n",
       "    <tr>\n",
       "      <td>0</td>\n",
       "      <td>Alabama-Baldwin-2000-03-0100:00:00</td>\n",
       "      <td>Alabama</td>\n",
       "      <td>Baldwin</td>\n",
       "      <td>2000-03-01</td>\n",
       "      <td>0.036471</td>\n",
       "      <td>NaN</td>\n",
       "      <td>NaN</td>\n",
       "      <td>NaN</td>\n",
       "      <td>NaN</td>\n",
       "      <td>NaN</td>\n",
       "      <td>NaN</td>\n",
       "      <td>NaN</td>\n",
       "      <td>NaN</td>\n",
       "      <td>43.0</td>\n",
       "      <td>Good</td>\n",
       "      <td>Ozone</td>\n",
       "    </tr>\n",
       "    <tr>\n",
       "      <td>1</td>\n",
       "      <td>Alabama-Baldwin-2000-03-0200:00:00</td>\n",
       "      <td>Alabama</td>\n",
       "      <td>Baldwin</td>\n",
       "      <td>2000-03-02</td>\n",
       "      <td>0.037765</td>\n",
       "      <td>NaN</td>\n",
       "      <td>NaN</td>\n",
       "      <td>NaN</td>\n",
       "      <td>NaN</td>\n",
       "      <td>NaN</td>\n",
       "      <td>NaN</td>\n",
       "      <td>NaN</td>\n",
       "      <td>NaN</td>\n",
       "      <td>74.0</td>\n",
       "      <td>Moderate</td>\n",
       "      <td>Ozone</td>\n",
       "    </tr>\n",
       "    <tr>\n",
       "      <td>2</td>\n",
       "      <td>Alabama-Baldwin-2000-03-0300:00:00</td>\n",
       "      <td>Alabama</td>\n",
       "      <td>Baldwin</td>\n",
       "      <td>2000-03-03</td>\n",
       "      <td>0.034941</td>\n",
       "      <td>NaN</td>\n",
       "      <td>NaN</td>\n",
       "      <td>NaN</td>\n",
       "      <td>NaN</td>\n",
       "      <td>NaN</td>\n",
       "      <td>NaN</td>\n",
       "      <td>NaN</td>\n",
       "      <td>NaN</td>\n",
       "      <td>34.0</td>\n",
       "      <td>Good</td>\n",
       "      <td>Ozone</td>\n",
       "    </tr>\n",
       "    <tr>\n",
       "      <td>3</td>\n",
       "      <td>Alabama-Baldwin-2000-03-0400:00:00</td>\n",
       "      <td>Alabama</td>\n",
       "      <td>Baldwin</td>\n",
       "      <td>2000-03-04</td>\n",
       "      <td>0.028882</td>\n",
       "      <td>NaN</td>\n",
       "      <td>NaN</td>\n",
       "      <td>NaN</td>\n",
       "      <td>NaN</td>\n",
       "      <td>NaN</td>\n",
       "      <td>NaN</td>\n",
       "      <td>NaN</td>\n",
       "      <td>NaN</td>\n",
       "      <td>35.0</td>\n",
       "      <td>Good</td>\n",
       "      <td>Ozone</td>\n",
       "    </tr>\n",
       "    <tr>\n",
       "      <td>4</td>\n",
       "      <td>Alabama-Baldwin-2000-03-0500:00:00</td>\n",
       "      <td>Alabama</td>\n",
       "      <td>Baldwin</td>\n",
       "      <td>2000-03-05</td>\n",
       "      <td>0.036471</td>\n",
       "      <td>NaN</td>\n",
       "      <td>NaN</td>\n",
       "      <td>NaN</td>\n",
       "      <td>NaN</td>\n",
       "      <td>NaN</td>\n",
       "      <td>NaN</td>\n",
       "      <td>NaN</td>\n",
       "      <td>NaN</td>\n",
       "      <td>54.0</td>\n",
       "      <td>Moderate</td>\n",
       "      <td>Ozone</td>\n",
       "    </tr>\n",
       "  </tbody>\n",
       "</table>\n",
       "</div>"
      ],
      "text/plain": [
       "                         merge_column state_name county_name date_local  \\\n",
       "0  Alabama-Baldwin-2000-03-0100:00:00    Alabama     Baldwin 2000-03-01   \n",
       "1  Alabama-Baldwin-2000-03-0200:00:00    Alabama     Baldwin 2000-03-02   \n",
       "2  Alabama-Baldwin-2000-03-0300:00:00    Alabama     Baldwin 2000-03-03   \n",
       "3  Alabama-Baldwin-2000-03-0400:00:00    Alabama     Baldwin 2000-03-04   \n",
       "4  Alabama-Baldwin-2000-03-0500:00:00    Alabama     Baldwin 2000-03-05   \n",
       "\n",
       "         o3  co  no2  so2  pm10  pm25  pressure  temperature  wind   aqi  \\\n",
       "0  0.036471 NaN  NaN  NaN   NaN   NaN       NaN          NaN   NaN  43.0   \n",
       "1  0.037765 NaN  NaN  NaN   NaN   NaN       NaN          NaN   NaN  74.0   \n",
       "2  0.034941 NaN  NaN  NaN   NaN   NaN       NaN          NaN   NaN  34.0   \n",
       "3  0.028882 NaN  NaN  NaN   NaN   NaN       NaN          NaN   NaN  35.0   \n",
       "4  0.036471 NaN  NaN  NaN   NaN   NaN       NaN          NaN   NaN  54.0   \n",
       "\n",
       "   category defining_parameter  \n",
       "0      Good              Ozone  \n",
       "1  Moderate              Ozone  \n",
       "2      Good              Ozone  \n",
       "3      Good              Ozone  \n",
       "4  Moderate              Ozone  "
      ]
     },
     "execution_count": 121,
     "metadata": {},
     "output_type": "execute_result"
    }
   ],
   "source": [
    "final_merge.head()"
   ]
  },
  {
   "cell_type": "code",
   "execution_count": null,
   "metadata": {},
   "outputs": [],
   "source": [
    "final_merge.to_csv('final_merged_data.csv', index=False)"
   ]
  },
  {
   "cell_type": "code",
   "execution_count": 117,
   "metadata": {},
   "outputs": [
    {
     "ename": "MemoryError",
     "evalue": "",
     "output_type": "error",
     "traceback": [
      "\u001b[1;31m---------------------------------------------------------------------------\u001b[0m",
      "\u001b[1;31mMemoryError\u001b[0m                               Traceback (most recent call last)",
      "\u001b[1;32m<ipython-input-117-f9fb5c72efda>\u001b[0m in \u001b[0;36m<module>\u001b[1;34m\u001b[0m\n\u001b[1;32m----> 1\u001b[1;33m \u001b[0mfinal_merge\u001b[0m\u001b[1;33m.\u001b[0m\u001b[0misna\u001b[0m\u001b[1;33m(\u001b[0m\u001b[1;33m)\u001b[0m\u001b[1;33m.\u001b[0m\u001b[0msum\u001b[0m\u001b[1;33m(\u001b[0m\u001b[1;33m)\u001b[0m\u001b[1;33m\u001b[0m\u001b[1;33m\u001b[0m\u001b[0m\n\u001b[0m",
      "\u001b[1;32m~\\anaconda3\\envs\\learn-env\\lib\\site-packages\\pandas\\core\\frame.py\u001b[0m in \u001b[0;36misna\u001b[1;34m(self)\u001b[0m\n\u001b[0;32m   4703\u001b[0m     \u001b[1;33m@\u001b[0m\u001b[0mAppender\u001b[0m\u001b[1;33m(\u001b[0m\u001b[0m_shared_docs\u001b[0m\u001b[1;33m[\u001b[0m\u001b[1;34m\"isna\"\u001b[0m\u001b[1;33m]\u001b[0m \u001b[1;33m%\u001b[0m \u001b[0m_shared_doc_kwargs\u001b[0m\u001b[1;33m)\u001b[0m\u001b[1;33m\u001b[0m\u001b[1;33m\u001b[0m\u001b[0m\n\u001b[0;32m   4704\u001b[0m     \u001b[1;32mdef\u001b[0m \u001b[0misna\u001b[0m\u001b[1;33m(\u001b[0m\u001b[0mself\u001b[0m\u001b[1;33m)\u001b[0m\u001b[1;33m:\u001b[0m\u001b[1;33m\u001b[0m\u001b[1;33m\u001b[0m\u001b[0m\n\u001b[1;32m-> 4705\u001b[1;33m         \u001b[1;32mreturn\u001b[0m \u001b[0msuper\u001b[0m\u001b[1;33m(\u001b[0m\u001b[1;33m)\u001b[0m\u001b[1;33m.\u001b[0m\u001b[0misna\u001b[0m\u001b[1;33m(\u001b[0m\u001b[1;33m)\u001b[0m\u001b[1;33m\u001b[0m\u001b[1;33m\u001b[0m\u001b[0m\n\u001b[0m\u001b[0;32m   4706\u001b[0m \u001b[1;33m\u001b[0m\u001b[0m\n\u001b[0;32m   4707\u001b[0m     \u001b[1;33m@\u001b[0m\u001b[0mAppender\u001b[0m\u001b[1;33m(\u001b[0m\u001b[0m_shared_docs\u001b[0m\u001b[1;33m[\u001b[0m\u001b[1;34m\"isna\"\u001b[0m\u001b[1;33m]\u001b[0m \u001b[1;33m%\u001b[0m \u001b[0m_shared_doc_kwargs\u001b[0m\u001b[1;33m)\u001b[0m\u001b[1;33m\u001b[0m\u001b[1;33m\u001b[0m\u001b[0m\n",
      "\u001b[1;32m~\\anaconda3\\envs\\learn-env\\lib\\site-packages\\pandas\\core\\generic.py\u001b[0m in \u001b[0;36misna\u001b[1;34m(self)\u001b[0m\n\u001b[0;32m   7316\u001b[0m     \u001b[1;33m@\u001b[0m\u001b[0mAppender\u001b[0m\u001b[1;33m(\u001b[0m\u001b[0m_shared_docs\u001b[0m\u001b[1;33m[\u001b[0m\u001b[1;34m\"isna\"\u001b[0m\u001b[1;33m]\u001b[0m \u001b[1;33m%\u001b[0m \u001b[0m_shared_doc_kwargs\u001b[0m\u001b[1;33m)\u001b[0m\u001b[1;33m\u001b[0m\u001b[1;33m\u001b[0m\u001b[0m\n\u001b[0;32m   7317\u001b[0m     \u001b[1;32mdef\u001b[0m \u001b[0misna\u001b[0m\u001b[1;33m(\u001b[0m\u001b[0mself\u001b[0m\u001b[1;33m)\u001b[0m\u001b[1;33m:\u001b[0m\u001b[1;33m\u001b[0m\u001b[1;33m\u001b[0m\u001b[0m\n\u001b[1;32m-> 7318\u001b[1;33m         \u001b[1;32mreturn\u001b[0m \u001b[0misna\u001b[0m\u001b[1;33m(\u001b[0m\u001b[0mself\u001b[0m\u001b[1;33m)\u001b[0m\u001b[1;33m.\u001b[0m\u001b[0m__finalize__\u001b[0m\u001b[1;33m(\u001b[0m\u001b[0mself\u001b[0m\u001b[1;33m)\u001b[0m\u001b[1;33m\u001b[0m\u001b[1;33m\u001b[0m\u001b[0m\n\u001b[0m\u001b[0;32m   7319\u001b[0m \u001b[1;33m\u001b[0m\u001b[0m\n\u001b[0;32m   7320\u001b[0m     \u001b[1;33m@\u001b[0m\u001b[0mAppender\u001b[0m\u001b[1;33m(\u001b[0m\u001b[0m_shared_docs\u001b[0m\u001b[1;33m[\u001b[0m\u001b[1;34m\"isna\"\u001b[0m\u001b[1;33m]\u001b[0m \u001b[1;33m%\u001b[0m \u001b[0m_shared_doc_kwargs\u001b[0m\u001b[1;33m)\u001b[0m\u001b[1;33m\u001b[0m\u001b[1;33m\u001b[0m\u001b[0m\n",
      "\u001b[1;32m~\\anaconda3\\envs\\learn-env\\lib\\site-packages\\pandas\\core\\dtypes\\missing.py\u001b[0m in \u001b[0;36misna\u001b[1;34m(obj)\u001b[0m\n\u001b[0;32m    120\u001b[0m     \u001b[0mName\u001b[0m\u001b[1;33m:\u001b[0m \u001b[1;36m1\u001b[0m\u001b[1;33m,\u001b[0m \u001b[0mdtype\u001b[0m\u001b[1;33m:\u001b[0m \u001b[0mbool\u001b[0m\u001b[1;33m\u001b[0m\u001b[1;33m\u001b[0m\u001b[0m\n\u001b[0;32m    121\u001b[0m     \"\"\"\n\u001b[1;32m--> 122\u001b[1;33m     \u001b[1;32mreturn\u001b[0m \u001b[0m_isna\u001b[0m\u001b[1;33m(\u001b[0m\u001b[0mobj\u001b[0m\u001b[1;33m)\u001b[0m\u001b[1;33m\u001b[0m\u001b[1;33m\u001b[0m\u001b[0m\n\u001b[0m\u001b[0;32m    123\u001b[0m \u001b[1;33m\u001b[0m\u001b[0m\n\u001b[0;32m    124\u001b[0m \u001b[1;33m\u001b[0m\u001b[0m\n",
      "\u001b[1;32m~\\anaconda3\\envs\\learn-env\\lib\\site-packages\\pandas\\core\\dtypes\\missing.py\u001b[0m in \u001b[0;36m_isna_new\u001b[1;34m(obj)\u001b[0m\n\u001b[0;32m    147\u001b[0m         \u001b[1;32mreturn\u001b[0m \u001b[0m_isna_ndarraylike\u001b[0m\u001b[1;33m(\u001b[0m\u001b[0mobj\u001b[0m\u001b[1;33m)\u001b[0m\u001b[1;33m\u001b[0m\u001b[1;33m\u001b[0m\u001b[0m\n\u001b[0;32m    148\u001b[0m     \u001b[1;32melif\u001b[0m \u001b[0misinstance\u001b[0m\u001b[1;33m(\u001b[0m\u001b[0mobj\u001b[0m\u001b[1;33m,\u001b[0m \u001b[0mABCGeneric\u001b[0m\u001b[1;33m)\u001b[0m\u001b[1;33m:\u001b[0m\u001b[1;33m\u001b[0m\u001b[1;33m\u001b[0m\u001b[0m\n\u001b[1;32m--> 149\u001b[1;33m         \u001b[1;32mreturn\u001b[0m \u001b[0mobj\u001b[0m\u001b[1;33m.\u001b[0m\u001b[0m_constructor\u001b[0m\u001b[1;33m(\u001b[0m\u001b[0mobj\u001b[0m\u001b[1;33m.\u001b[0m\u001b[0m_data\u001b[0m\u001b[1;33m.\u001b[0m\u001b[0misna\u001b[0m\u001b[1;33m(\u001b[0m\u001b[0mfunc\u001b[0m\u001b[1;33m=\u001b[0m\u001b[0misna\u001b[0m\u001b[1;33m)\u001b[0m\u001b[1;33m)\u001b[0m\u001b[1;33m\u001b[0m\u001b[1;33m\u001b[0m\u001b[0m\n\u001b[0m\u001b[0;32m    150\u001b[0m     \u001b[1;32melif\u001b[0m \u001b[0misinstance\u001b[0m\u001b[1;33m(\u001b[0m\u001b[0mobj\u001b[0m\u001b[1;33m,\u001b[0m \u001b[0mlist\u001b[0m\u001b[1;33m)\u001b[0m\u001b[1;33m:\u001b[0m\u001b[1;33m\u001b[0m\u001b[1;33m\u001b[0m\u001b[0m\n\u001b[0;32m    151\u001b[0m         \u001b[1;32mreturn\u001b[0m \u001b[0m_isna_ndarraylike\u001b[0m\u001b[1;33m(\u001b[0m\u001b[0mnp\u001b[0m\u001b[1;33m.\u001b[0m\u001b[0masarray\u001b[0m\u001b[1;33m(\u001b[0m\u001b[0mobj\u001b[0m\u001b[1;33m,\u001b[0m \u001b[0mdtype\u001b[0m\u001b[1;33m=\u001b[0m\u001b[0mobject\u001b[0m\u001b[1;33m)\u001b[0m\u001b[1;33m)\u001b[0m\u001b[1;33m\u001b[0m\u001b[1;33m\u001b[0m\u001b[0m\n",
      "\u001b[1;32m~\\anaconda3\\envs\\learn-env\\lib\\site-packages\\pandas\\core\\internals\\managers.py\u001b[0m in \u001b[0;36misna\u001b[1;34m(self, func, **kwargs)\u001b[0m\n\u001b[0;32m    552\u001b[0m \u001b[1;33m\u001b[0m\u001b[0m\n\u001b[0;32m    553\u001b[0m     \u001b[1;32mdef\u001b[0m \u001b[0misna\u001b[0m\u001b[1;33m(\u001b[0m\u001b[0mself\u001b[0m\u001b[1;33m,\u001b[0m \u001b[0mfunc\u001b[0m\u001b[1;33m,\u001b[0m \u001b[1;33m**\u001b[0m\u001b[0mkwargs\u001b[0m\u001b[1;33m)\u001b[0m\u001b[1;33m:\u001b[0m\u001b[1;33m\u001b[0m\u001b[1;33m\u001b[0m\u001b[0m\n\u001b[1;32m--> 554\u001b[1;33m         \u001b[1;32mreturn\u001b[0m \u001b[0mself\u001b[0m\u001b[1;33m.\u001b[0m\u001b[0mapply\u001b[0m\u001b[1;33m(\u001b[0m\u001b[1;34m\"apply\"\u001b[0m\u001b[1;33m,\u001b[0m \u001b[0mfunc\u001b[0m\u001b[1;33m=\u001b[0m\u001b[0mfunc\u001b[0m\u001b[1;33m,\u001b[0m \u001b[1;33m**\u001b[0m\u001b[0mkwargs\u001b[0m\u001b[1;33m)\u001b[0m\u001b[1;33m\u001b[0m\u001b[1;33m\u001b[0m\u001b[0m\n\u001b[0m\u001b[0;32m    555\u001b[0m \u001b[1;33m\u001b[0m\u001b[0m\n\u001b[0;32m    556\u001b[0m     \u001b[1;32mdef\u001b[0m \u001b[0mwhere\u001b[0m\u001b[1;33m(\u001b[0m\u001b[0mself\u001b[0m\u001b[1;33m,\u001b[0m \u001b[1;33m**\u001b[0m\u001b[0mkwargs\u001b[0m\u001b[1;33m)\u001b[0m\u001b[1;33m:\u001b[0m\u001b[1;33m\u001b[0m\u001b[1;33m\u001b[0m\u001b[0m\n",
      "\u001b[1;32m~\\anaconda3\\envs\\learn-env\\lib\\site-packages\\pandas\\core\\internals\\managers.py\u001b[0m in \u001b[0;36mapply\u001b[1;34m(self, f, axes, filter, do_integrity_check, consolidate, **kwargs)\u001b[0m\n\u001b[0;32m    392\u001b[0m \u001b[1;33m\u001b[0m\u001b[0m\n\u001b[0;32m    393\u001b[0m         \u001b[1;32mif\u001b[0m \u001b[0mconsolidate\u001b[0m\u001b[1;33m:\u001b[0m\u001b[1;33m\u001b[0m\u001b[1;33m\u001b[0m\u001b[0m\n\u001b[1;32m--> 394\u001b[1;33m             \u001b[0mself\u001b[0m\u001b[1;33m.\u001b[0m\u001b[0m_consolidate_inplace\u001b[0m\u001b[1;33m(\u001b[0m\u001b[1;33m)\u001b[0m\u001b[1;33m\u001b[0m\u001b[1;33m\u001b[0m\u001b[0m\n\u001b[0m\u001b[0;32m    395\u001b[0m \u001b[1;33m\u001b[0m\u001b[0m\n\u001b[0;32m    396\u001b[0m         \u001b[1;32mif\u001b[0m \u001b[0mf\u001b[0m \u001b[1;33m==\u001b[0m \u001b[1;34m\"where\"\u001b[0m\u001b[1;33m:\u001b[0m\u001b[1;33m\u001b[0m\u001b[1;33m\u001b[0m\u001b[0m\n",
      "\u001b[1;32m~\\anaconda3\\envs\\learn-env\\lib\\site-packages\\pandas\\core\\internals\\managers.py\u001b[0m in \u001b[0;36m_consolidate_inplace\u001b[1;34m(self)\u001b[0m\n\u001b[0;32m    935\u001b[0m     \u001b[1;32mdef\u001b[0m \u001b[0m_consolidate_inplace\u001b[0m\u001b[1;33m(\u001b[0m\u001b[0mself\u001b[0m\u001b[1;33m)\u001b[0m\u001b[1;33m:\u001b[0m\u001b[1;33m\u001b[0m\u001b[1;33m\u001b[0m\u001b[0m\n\u001b[0;32m    936\u001b[0m         \u001b[1;32mif\u001b[0m \u001b[1;32mnot\u001b[0m \u001b[0mself\u001b[0m\u001b[1;33m.\u001b[0m\u001b[0mis_consolidated\u001b[0m\u001b[1;33m(\u001b[0m\u001b[1;33m)\u001b[0m\u001b[1;33m:\u001b[0m\u001b[1;33m\u001b[0m\u001b[1;33m\u001b[0m\u001b[0m\n\u001b[1;32m--> 937\u001b[1;33m             \u001b[0mself\u001b[0m\u001b[1;33m.\u001b[0m\u001b[0mblocks\u001b[0m \u001b[1;33m=\u001b[0m \u001b[0mtuple\u001b[0m\u001b[1;33m(\u001b[0m\u001b[0m_consolidate\u001b[0m\u001b[1;33m(\u001b[0m\u001b[0mself\u001b[0m\u001b[1;33m.\u001b[0m\u001b[0mblocks\u001b[0m\u001b[1;33m)\u001b[0m\u001b[1;33m)\u001b[0m\u001b[1;33m\u001b[0m\u001b[1;33m\u001b[0m\u001b[0m\n\u001b[0m\u001b[0;32m    938\u001b[0m             \u001b[0mself\u001b[0m\u001b[1;33m.\u001b[0m\u001b[0m_is_consolidated\u001b[0m \u001b[1;33m=\u001b[0m \u001b[1;32mTrue\u001b[0m\u001b[1;33m\u001b[0m\u001b[1;33m\u001b[0m\u001b[0m\n\u001b[0;32m    939\u001b[0m             \u001b[0mself\u001b[0m\u001b[1;33m.\u001b[0m\u001b[0m_known_consolidated\u001b[0m \u001b[1;33m=\u001b[0m \u001b[1;32mTrue\u001b[0m\u001b[1;33m\u001b[0m\u001b[1;33m\u001b[0m\u001b[0m\n",
      "\u001b[1;32m~\\anaconda3\\envs\\learn-env\\lib\\site-packages\\pandas\\core\\internals\\managers.py\u001b[0m in \u001b[0;36m_consolidate\u001b[1;34m(blocks)\u001b[0m\n\u001b[0;32m   1911\u001b[0m     \u001b[1;32mfor\u001b[0m \u001b[1;33m(\u001b[0m\u001b[0m_can_consolidate\u001b[0m\u001b[1;33m,\u001b[0m \u001b[0mdtype\u001b[0m\u001b[1;33m)\u001b[0m\u001b[1;33m,\u001b[0m \u001b[0mgroup_blocks\u001b[0m \u001b[1;32min\u001b[0m \u001b[0mgrouper\u001b[0m\u001b[1;33m:\u001b[0m\u001b[1;33m\u001b[0m\u001b[1;33m\u001b[0m\u001b[0m\n\u001b[0;32m   1912\u001b[0m         merged_blocks = _merge_blocks(\n\u001b[1;32m-> 1913\u001b[1;33m             \u001b[0mlist\u001b[0m\u001b[1;33m(\u001b[0m\u001b[0mgroup_blocks\u001b[0m\u001b[1;33m)\u001b[0m\u001b[1;33m,\u001b[0m \u001b[0mdtype\u001b[0m\u001b[1;33m=\u001b[0m\u001b[0mdtype\u001b[0m\u001b[1;33m,\u001b[0m \u001b[0m_can_consolidate\u001b[0m\u001b[1;33m=\u001b[0m\u001b[0m_can_consolidate\u001b[0m\u001b[1;33m\u001b[0m\u001b[1;33m\u001b[0m\u001b[0m\n\u001b[0m\u001b[0;32m   1914\u001b[0m         )\n\u001b[0;32m   1915\u001b[0m         \u001b[0mnew_blocks\u001b[0m \u001b[1;33m=\u001b[0m \u001b[0m_extend_blocks\u001b[0m\u001b[1;33m(\u001b[0m\u001b[0mmerged_blocks\u001b[0m\u001b[1;33m,\u001b[0m \u001b[0mnew_blocks\u001b[0m\u001b[1;33m)\u001b[0m\u001b[1;33m\u001b[0m\u001b[1;33m\u001b[0m\u001b[0m\n",
      "\u001b[1;32m~\\anaconda3\\envs\\learn-env\\lib\\site-packages\\pandas\\core\\internals\\blocks.py\u001b[0m in \u001b[0;36m_merge_blocks\u001b[1;34m(blocks, dtype, _can_consolidate)\u001b[0m\n\u001b[0;32m   3318\u001b[0m         \u001b[1;31m# combination of those slices is a slice, too.\u001b[0m\u001b[1;33m\u001b[0m\u001b[1;33m\u001b[0m\u001b[1;33m\u001b[0m\u001b[0m\n\u001b[0;32m   3319\u001b[0m         \u001b[0mnew_mgr_locs\u001b[0m \u001b[1;33m=\u001b[0m \u001b[0mnp\u001b[0m\u001b[1;33m.\u001b[0m\u001b[0mconcatenate\u001b[0m\u001b[1;33m(\u001b[0m\u001b[1;33m[\u001b[0m\u001b[0mb\u001b[0m\u001b[1;33m.\u001b[0m\u001b[0mmgr_locs\u001b[0m\u001b[1;33m.\u001b[0m\u001b[0mas_array\u001b[0m \u001b[1;32mfor\u001b[0m \u001b[0mb\u001b[0m \u001b[1;32min\u001b[0m \u001b[0mblocks\u001b[0m\u001b[1;33m]\u001b[0m\u001b[1;33m)\u001b[0m\u001b[1;33m\u001b[0m\u001b[1;33m\u001b[0m\u001b[0m\n\u001b[1;32m-> 3320\u001b[1;33m         \u001b[0mnew_values\u001b[0m \u001b[1;33m=\u001b[0m \u001b[0mnp\u001b[0m\u001b[1;33m.\u001b[0m\u001b[0mvstack\u001b[0m\u001b[1;33m(\u001b[0m\u001b[1;33m[\u001b[0m\u001b[0mb\u001b[0m\u001b[1;33m.\u001b[0m\u001b[0mvalues\u001b[0m \u001b[1;32mfor\u001b[0m \u001b[0mb\u001b[0m \u001b[1;32min\u001b[0m \u001b[0mblocks\u001b[0m\u001b[1;33m]\u001b[0m\u001b[1;33m)\u001b[0m\u001b[1;33m\u001b[0m\u001b[1;33m\u001b[0m\u001b[0m\n\u001b[0m\u001b[0;32m   3321\u001b[0m \u001b[1;33m\u001b[0m\u001b[0m\n\u001b[0;32m   3322\u001b[0m         \u001b[0margsort\u001b[0m \u001b[1;33m=\u001b[0m \u001b[0mnp\u001b[0m\u001b[1;33m.\u001b[0m\u001b[0margsort\u001b[0m\u001b[1;33m(\u001b[0m\u001b[0mnew_mgr_locs\u001b[0m\u001b[1;33m)\u001b[0m\u001b[1;33m\u001b[0m\u001b[1;33m\u001b[0m\u001b[0m\n",
      "\u001b[1;32m~\\anaconda3\\envs\\learn-env\\lib\\site-packages\\numpy\\core\\shape_base.py\u001b[0m in \u001b[0;36mvstack\u001b[1;34m(tup)\u001b[0m\n\u001b[0;32m    281\u001b[0m     \"\"\"\n\u001b[0;32m    282\u001b[0m     \u001b[0m_warn_for_nonsequence\u001b[0m\u001b[1;33m(\u001b[0m\u001b[0mtup\u001b[0m\u001b[1;33m)\u001b[0m\u001b[1;33m\u001b[0m\u001b[1;33m\u001b[0m\u001b[0m\n\u001b[1;32m--> 283\u001b[1;33m     \u001b[1;32mreturn\u001b[0m \u001b[0m_nx\u001b[0m\u001b[1;33m.\u001b[0m\u001b[0mconcatenate\u001b[0m\u001b[1;33m(\u001b[0m\u001b[1;33m[\u001b[0m\u001b[0matleast_2d\u001b[0m\u001b[1;33m(\u001b[0m\u001b[0m_m\u001b[0m\u001b[1;33m)\u001b[0m \u001b[1;32mfor\u001b[0m \u001b[0m_m\u001b[0m \u001b[1;32min\u001b[0m \u001b[0mtup\u001b[0m\u001b[1;33m]\u001b[0m\u001b[1;33m,\u001b[0m \u001b[1;36m0\u001b[0m\u001b[1;33m)\u001b[0m\u001b[1;33m\u001b[0m\u001b[1;33m\u001b[0m\u001b[0m\n\u001b[0m\u001b[0;32m    284\u001b[0m \u001b[1;33m\u001b[0m\u001b[0m\n\u001b[0;32m    285\u001b[0m \u001b[1;33m\u001b[0m\u001b[0m\n",
      "\u001b[1;31mMemoryError\u001b[0m: "
     ]
    }
   ],
   "source": [
    "final_merge.isna().sum()"
   ]
  },
  {
   "cell_type": "markdown",
   "metadata": {},
   "source": [
    "full_merge = pd.merge(o3_merged,co_merged,\n",
    "                      on=['merge_column', 'state_name', 'county_name', 'date_local'], how='outer')"
   ]
  },
  {
   "cell_type": "markdown",
   "metadata": {},
   "source": [
    "full_merge = pd.merge(full_merge,no2_merged[['merge_column', 'no2']],\n",
    "                      on=['merge_column', 'state_name', 'county_name', 'date_local'], how='outer')"
   ]
  },
  {
   "cell_type": "markdown",
   "metadata": {},
   "source": [
    "full_merge = pd.merge(full_merge,so2_merged[['merge_column', 'so2']],\n",
    "                      on=['merge_column', 'state_name', 'county_name', 'date_local'], how='outer')"
   ]
  },
  {
   "cell_type": "markdown",
   "metadata": {},
   "source": [
    "full_merge = pd.merge(full_merge,pm10_merged[['merge_column', 'pm10']],\n",
    "                      on=['merge_column', 'state_name', 'county_name', 'date_local'], how='outer')"
   ]
  },
  {
   "cell_type": "markdown",
   "metadata": {},
   "source": [
    "full_merge = pd.merge(full_merge,pm25_merged[['merge_column', 'pm25']],\n",
    "                      on=['merge_column', 'state_name', 'county_name', 'date_local'], how='outer')"
   ]
  },
  {
   "cell_type": "markdown",
   "metadata": {},
   "source": [
    "full_merge = pd.merge(full_merge,pressure_merged[['merge_column', 'pressure']],\n",
    "                      on=['merge_column', 'state_name', 'county_name', 'date_local'], how='outer')"
   ]
  },
  {
   "cell_type": "markdown",
   "metadata": {},
   "source": [
    "full_merge = pd.merge(full_merge,temperature_merged[['merge_column', 'temperature']],\n",
    "                      on=['merge_column', 'state_name', 'county_name', 'date_local'], how='outer')"
   ]
  },
  {
   "cell_type": "markdown",
   "metadata": {},
   "source": [
    "full_merge = pd.merge(full_merge,wind_merged[['merge_column', 'wind']],\n",
    "                      on=['merge_column', 'state_name', 'county_name', 'date_local'], how='outer')"
   ]
  },
  {
   "cell_type": "markdown",
   "metadata": {},
   "source": [
    "final_merge = pd.merge(full_merge,aqi_short[['merge_column', 'aqi']],\n",
    "                       on=['merge_column', 'state_name', 'county_name', 'date_local'], how='outer')"
   ]
  },
  {
   "cell_type": "markdown",
   "metadata": {},
   "source": [
    "full_merge.head()"
   ]
  },
  {
   "cell_type": "markdown",
   "metadata": {
    "scrolled": true
   },
   "source": [
    "full_merge.shape"
   ]
  },
  {
   "cell_type": "markdown",
   "metadata": {},
   "source": [
    "final_merge.shape"
   ]
  },
  {
   "cell_type": "code",
   "execution_count": 136,
   "metadata": {},
   "outputs": [
    {
     "data": {
      "text/html": [
       "<div>\n",
       "<style scoped>\n",
       "    .dataframe tbody tr th:only-of-type {\n",
       "        vertical-align: middle;\n",
       "    }\n",
       "\n",
       "    .dataframe tbody tr th {\n",
       "        vertical-align: top;\n",
       "    }\n",
       "\n",
       "    .dataframe thead th {\n",
       "        text-align: right;\n",
       "    }\n",
       "</style>\n",
       "<table border=\"1\" class=\"dataframe\">\n",
       "  <thead>\n",
       "    <tr style=\"text-align: right;\">\n",
       "      <th></th>\n",
       "      <th>merge_column</th>\n",
       "      <th>state_name</th>\n",
       "      <th>county_name</th>\n",
       "      <th>date_local</th>\n",
       "      <th>o3</th>\n",
       "      <th>co</th>\n",
       "      <th>no2</th>\n",
       "      <th>so2</th>\n",
       "      <th>pm10</th>\n",
       "      <th>pm25</th>\n",
       "      <th>pressure</th>\n",
       "      <th>temperature</th>\n",
       "      <th>wind</th>\n",
       "      <th>aqi</th>\n",
       "    </tr>\n",
       "  </thead>\n",
       "  <tbody>\n",
       "    <tr>\n",
       "      <td>0</td>\n",
       "      <td>Alabama-Baldwin-2000-02-2900:00:00</td>\n",
       "      <td>Alabama</td>\n",
       "      <td>Baldwin</td>\n",
       "      <td>2000-02-29</td>\n",
       "      <td>0.023000</td>\n",
       "      <td>NaN</td>\n",
       "      <td>NaN</td>\n",
       "      <td>NaN</td>\n",
       "      <td>NaN</td>\n",
       "      <td>NaN</td>\n",
       "      <td>NaN</td>\n",
       "      <td>NaN</td>\n",
       "      <td>NaN</td>\n",
       "      <td>NaN</td>\n",
       "    </tr>\n",
       "    <tr>\n",
       "      <td>1</td>\n",
       "      <td>Alabama-Baldwin-2000-03-0100:00:00</td>\n",
       "      <td>Alabama</td>\n",
       "      <td>Baldwin</td>\n",
       "      <td>2000-03-01</td>\n",
       "      <td>0.036471</td>\n",
       "      <td>NaN</td>\n",
       "      <td>NaN</td>\n",
       "      <td>NaN</td>\n",
       "      <td>NaN</td>\n",
       "      <td>NaN</td>\n",
       "      <td>NaN</td>\n",
       "      <td>NaN</td>\n",
       "      <td>NaN</td>\n",
       "      <td>43.0</td>\n",
       "    </tr>\n",
       "    <tr>\n",
       "      <td>2</td>\n",
       "      <td>Alabama-Baldwin-2000-03-0200:00:00</td>\n",
       "      <td>Alabama</td>\n",
       "      <td>Baldwin</td>\n",
       "      <td>2000-03-02</td>\n",
       "      <td>0.037765</td>\n",
       "      <td>NaN</td>\n",
       "      <td>NaN</td>\n",
       "      <td>NaN</td>\n",
       "      <td>NaN</td>\n",
       "      <td>NaN</td>\n",
       "      <td>NaN</td>\n",
       "      <td>NaN</td>\n",
       "      <td>NaN</td>\n",
       "      <td>74.0</td>\n",
       "    </tr>\n",
       "    <tr>\n",
       "      <td>3</td>\n",
       "      <td>Alabama-Baldwin-2000-03-0300:00:00</td>\n",
       "      <td>Alabama</td>\n",
       "      <td>Baldwin</td>\n",
       "      <td>2000-03-03</td>\n",
       "      <td>0.034941</td>\n",
       "      <td>NaN</td>\n",
       "      <td>NaN</td>\n",
       "      <td>NaN</td>\n",
       "      <td>NaN</td>\n",
       "      <td>NaN</td>\n",
       "      <td>NaN</td>\n",
       "      <td>NaN</td>\n",
       "      <td>NaN</td>\n",
       "      <td>34.0</td>\n",
       "    </tr>\n",
       "    <tr>\n",
       "      <td>4</td>\n",
       "      <td>Alabama-Baldwin-2000-03-0400:00:00</td>\n",
       "      <td>Alabama</td>\n",
       "      <td>Baldwin</td>\n",
       "      <td>2000-03-04</td>\n",
       "      <td>0.028882</td>\n",
       "      <td>NaN</td>\n",
       "      <td>NaN</td>\n",
       "      <td>NaN</td>\n",
       "      <td>NaN</td>\n",
       "      <td>NaN</td>\n",
       "      <td>NaN</td>\n",
       "      <td>NaN</td>\n",
       "      <td>NaN</td>\n",
       "      <td>35.0</td>\n",
       "    </tr>\n",
       "  </tbody>\n",
       "</table>\n",
       "</div>"
      ],
      "text/plain": [
       "                         merge_column state_name county_name date_local  \\\n",
       "0  Alabama-Baldwin-2000-02-2900:00:00    Alabama     Baldwin 2000-02-29   \n",
       "1  Alabama-Baldwin-2000-03-0100:00:00    Alabama     Baldwin 2000-03-01   \n",
       "2  Alabama-Baldwin-2000-03-0200:00:00    Alabama     Baldwin 2000-03-02   \n",
       "3  Alabama-Baldwin-2000-03-0300:00:00    Alabama     Baldwin 2000-03-03   \n",
       "4  Alabama-Baldwin-2000-03-0400:00:00    Alabama     Baldwin 2000-03-04   \n",
       "\n",
       "         o3  co  no2  so2  pm10  pm25  pressure  temperature  wind   aqi  \n",
       "0  0.023000 NaN  NaN  NaN   NaN   NaN       NaN          NaN   NaN   NaN  \n",
       "1  0.036471 NaN  NaN  NaN   NaN   NaN       NaN          NaN   NaN  43.0  \n",
       "2  0.037765 NaN  NaN  NaN   NaN   NaN       NaN          NaN   NaN  74.0  \n",
       "3  0.034941 NaN  NaN  NaN   NaN   NaN       NaN          NaN   NaN  34.0  \n",
       "4  0.028882 NaN  NaN  NaN   NaN   NaN       NaN          NaN   NaN  35.0  "
      ]
     },
     "execution_count": 136,
     "metadata": {},
     "output_type": "execute_result"
    }
   ],
   "source": [
    "final_merge.head()"
   ]
  },
  {
   "cell_type": "code",
   "execution_count": 123,
   "metadata": {},
   "outputs": [
    {
     "name": "stdout",
     "output_type": "stream",
     "text": [
      "0\n",
      "Length of dataframe 6589563\n"
     ]
    },
    {
     "ename": "MemoryError",
     "evalue": "",
     "output_type": "error",
     "traceback": [
      "\u001b[1;31m---------------------------------------------------------------------------\u001b[0m",
      "\u001b[1;31mMemoryError\u001b[0m                               Traceback (most recent call last)",
      "\u001b[1;32m<ipython-input-123-8e0a7bc16f25>\u001b[0m in \u001b[0;36m<module>\u001b[1;34m\u001b[0m\n\u001b[1;32m----> 1\u001b[1;33m \u001b[0mcheck_for_duplicates\u001b[0m\u001b[1;33m(\u001b[0m\u001b[1;33m[\u001b[0m\u001b[0mfinal_merge\u001b[0m\u001b[1;33m]\u001b[0m\u001b[1;33m)\u001b[0m\u001b[1;33m\u001b[0m\u001b[1;33m\u001b[0m\u001b[0m\n\u001b[0m",
      "\u001b[1;32m<ipython-input-62-5f39e00abe51>\u001b[0m in \u001b[0;36mcheck_for_duplicates\u001b[1;34m(dfs)\u001b[0m\n\u001b[0;32m     14\u001b[0m         \u001b[0mprint\u001b[0m\u001b[1;33m(\u001b[0m\u001b[1;34mf'Length of dataframe {len(df)}'\u001b[0m\u001b[1;33m)\u001b[0m\u001b[1;33m\u001b[0m\u001b[1;33m\u001b[0m\u001b[0m\n\u001b[0;32m     15\u001b[0m         \u001b[0mduplicates\u001b[0m \u001b[1;33m=\u001b[0m \u001b[0mpd\u001b[0m\u001b[1;33m.\u001b[0m\u001b[0mDataFrame\u001b[0m\u001b[1;33m(\u001b[0m\u001b[1;33m)\u001b[0m\u001b[1;33m\u001b[0m\u001b[1;33m\u001b[0m\u001b[0m\n\u001b[1;32m---> 16\u001b[1;33m         \u001b[0mduplicates\u001b[0m \u001b[1;33m=\u001b[0m \u001b[0mdf\u001b[0m\u001b[1;33m[\u001b[0m\u001b[0mdf\u001b[0m\u001b[1;33m.\u001b[0m\u001b[0mduplicated\u001b[0m\u001b[1;33m(\u001b[0m\u001b[1;33m[\u001b[0m\u001b[1;34m'merge_column'\u001b[0m\u001b[1;33m]\u001b[0m\u001b[1;33m,\u001b[0m \u001b[0mkeep\u001b[0m\u001b[1;33m=\u001b[0m\u001b[1;32mFalse\u001b[0m\u001b[1;33m)\u001b[0m\u001b[1;33m]\u001b[0m\u001b[1;33m\u001b[0m\u001b[1;33m\u001b[0m\u001b[0m\n\u001b[0m\u001b[0;32m     17\u001b[0m         \u001b[0mprint\u001b[0m\u001b[1;33m(\u001b[0m\u001b[1;34mf'Number of duplicates in merge_column: {len(duplicates)}'\u001b[0m\u001b[1;33m)\u001b[0m\u001b[1;33m\u001b[0m\u001b[1;33m\u001b[0m\u001b[0m\n\u001b[0;32m     18\u001b[0m         \u001b[0mprint\u001b[0m\u001b[1;33m(\u001b[0m\u001b[1;34mf'Percent of duplicates in merge_column: {len(duplicates)/len(df) * 100}'\u001b[0m\u001b[1;33m)\u001b[0m\u001b[1;33m\u001b[0m\u001b[1;33m\u001b[0m\u001b[0m\n",
      "\u001b[1;32m~\\anaconda3\\envs\\learn-env\\lib\\site-packages\\pandas\\core\\frame.py\u001b[0m in \u001b[0;36mduplicated\u001b[1;34m(self, subset, keep)\u001b[0m\n\u001b[0;32m   4952\u001b[0m \u001b[1;33m\u001b[0m\u001b[0m\n\u001b[0;32m   4953\u001b[0m         \u001b[0mvals\u001b[0m \u001b[1;33m=\u001b[0m \u001b[1;33m(\u001b[0m\u001b[0mcol\u001b[0m\u001b[1;33m.\u001b[0m\u001b[0mvalues\u001b[0m \u001b[1;32mfor\u001b[0m \u001b[0mname\u001b[0m\u001b[1;33m,\u001b[0m \u001b[0mcol\u001b[0m \u001b[1;32min\u001b[0m \u001b[0mself\u001b[0m\u001b[1;33m.\u001b[0m\u001b[0mitems\u001b[0m\u001b[1;33m(\u001b[0m\u001b[1;33m)\u001b[0m \u001b[1;32mif\u001b[0m \u001b[0mname\u001b[0m \u001b[1;32min\u001b[0m \u001b[0msubset\u001b[0m\u001b[1;33m)\u001b[0m\u001b[1;33m\u001b[0m\u001b[1;33m\u001b[0m\u001b[0m\n\u001b[1;32m-> 4954\u001b[1;33m         \u001b[0mlabels\u001b[0m\u001b[1;33m,\u001b[0m \u001b[0mshape\u001b[0m \u001b[1;33m=\u001b[0m \u001b[0mmap\u001b[0m\u001b[1;33m(\u001b[0m\u001b[0mlist\u001b[0m\u001b[1;33m,\u001b[0m \u001b[0mzip\u001b[0m\u001b[1;33m(\u001b[0m\u001b[1;33m*\u001b[0m\u001b[0mmap\u001b[0m\u001b[1;33m(\u001b[0m\u001b[0mf\u001b[0m\u001b[1;33m,\u001b[0m \u001b[0mvals\u001b[0m\u001b[1;33m)\u001b[0m\u001b[1;33m)\u001b[0m\u001b[1;33m)\u001b[0m\u001b[1;33m\u001b[0m\u001b[1;33m\u001b[0m\u001b[0m\n\u001b[0m\u001b[0;32m   4955\u001b[0m \u001b[1;33m\u001b[0m\u001b[0m\n\u001b[0;32m   4956\u001b[0m         \u001b[0mids\u001b[0m \u001b[1;33m=\u001b[0m \u001b[0mget_group_index\u001b[0m\u001b[1;33m(\u001b[0m\u001b[0mlabels\u001b[0m\u001b[1;33m,\u001b[0m \u001b[0mshape\u001b[0m\u001b[1;33m,\u001b[0m \u001b[0msort\u001b[0m\u001b[1;33m=\u001b[0m\u001b[1;32mFalse\u001b[0m\u001b[1;33m,\u001b[0m \u001b[0mxnull\u001b[0m\u001b[1;33m=\u001b[0m\u001b[1;32mFalse\u001b[0m\u001b[1;33m)\u001b[0m\u001b[1;33m\u001b[0m\u001b[1;33m\u001b[0m\u001b[0m\n",
      "\u001b[1;32m~\\anaconda3\\envs\\learn-env\\lib\\site-packages\\pandas\\core\\frame.py\u001b[0m in \u001b[0;36mf\u001b[1;34m(vals)\u001b[0m\n\u001b[0;32m   4930\u001b[0m         \u001b[1;32mdef\u001b[0m \u001b[0mf\u001b[0m\u001b[1;33m(\u001b[0m\u001b[0mvals\u001b[0m\u001b[1;33m)\u001b[0m\u001b[1;33m:\u001b[0m\u001b[1;33m\u001b[0m\u001b[1;33m\u001b[0m\u001b[0m\n\u001b[0;32m   4931\u001b[0m             labels, shape = algorithms.factorize(\n\u001b[1;32m-> 4932\u001b[1;33m                 \u001b[0mvals\u001b[0m\u001b[1;33m,\u001b[0m \u001b[0msize_hint\u001b[0m\u001b[1;33m=\u001b[0m\u001b[0mmin\u001b[0m\u001b[1;33m(\u001b[0m\u001b[0mlen\u001b[0m\u001b[1;33m(\u001b[0m\u001b[0mself\u001b[0m\u001b[1;33m)\u001b[0m\u001b[1;33m,\u001b[0m \u001b[0m_SIZE_HINT_LIMIT\u001b[0m\u001b[1;33m)\u001b[0m\u001b[1;33m\u001b[0m\u001b[1;33m\u001b[0m\u001b[0m\n\u001b[0m\u001b[0;32m   4933\u001b[0m             )\n\u001b[0;32m   4934\u001b[0m             \u001b[1;32mreturn\u001b[0m \u001b[0mlabels\u001b[0m\u001b[1;33m.\u001b[0m\u001b[0mastype\u001b[0m\u001b[1;33m(\u001b[0m\u001b[1;34m\"i8\"\u001b[0m\u001b[1;33m,\u001b[0m \u001b[0mcopy\u001b[0m\u001b[1;33m=\u001b[0m\u001b[1;32mFalse\u001b[0m\u001b[1;33m)\u001b[0m\u001b[1;33m,\u001b[0m \u001b[0mlen\u001b[0m\u001b[1;33m(\u001b[0m\u001b[0mshape\u001b[0m\u001b[1;33m)\u001b[0m\u001b[1;33m\u001b[0m\u001b[1;33m\u001b[0m\u001b[0m\n",
      "\u001b[1;32m~\\anaconda3\\envs\\learn-env\\lib\\site-packages\\pandas\\util\\_decorators.py\u001b[0m in \u001b[0;36mwrapper\u001b[1;34m(*args, **kwargs)\u001b[0m\n\u001b[0;32m    206\u001b[0m                 \u001b[1;32melse\u001b[0m\u001b[1;33m:\u001b[0m\u001b[1;33m\u001b[0m\u001b[1;33m\u001b[0m\u001b[0m\n\u001b[0;32m    207\u001b[0m                     \u001b[0mkwargs\u001b[0m\u001b[1;33m[\u001b[0m\u001b[0mnew_arg_name\u001b[0m\u001b[1;33m]\u001b[0m \u001b[1;33m=\u001b[0m \u001b[0mnew_arg_value\u001b[0m\u001b[1;33m\u001b[0m\u001b[1;33m\u001b[0m\u001b[0m\n\u001b[1;32m--> 208\u001b[1;33m             \u001b[1;32mreturn\u001b[0m \u001b[0mfunc\u001b[0m\u001b[1;33m(\u001b[0m\u001b[1;33m*\u001b[0m\u001b[0margs\u001b[0m\u001b[1;33m,\u001b[0m \u001b[1;33m**\u001b[0m\u001b[0mkwargs\u001b[0m\u001b[1;33m)\u001b[0m\u001b[1;33m\u001b[0m\u001b[1;33m\u001b[0m\u001b[0m\n\u001b[0m\u001b[0;32m    209\u001b[0m \u001b[1;33m\u001b[0m\u001b[0m\n\u001b[0;32m    210\u001b[0m         \u001b[1;32mreturn\u001b[0m \u001b[0mwrapper\u001b[0m\u001b[1;33m\u001b[0m\u001b[1;33m\u001b[0m\u001b[0m\n",
      "\u001b[1;32m~\\anaconda3\\envs\\learn-env\\lib\\site-packages\\pandas\\core\\algorithms.py\u001b[0m in \u001b[0;36mfactorize\u001b[1;34m(values, sort, order, na_sentinel, size_hint)\u001b[0m\n\u001b[0;32m    670\u001b[0m \u001b[1;33m\u001b[0m\u001b[0m\n\u001b[0;32m    671\u001b[0m         labels, uniques = _factorize_array(\n\u001b[1;32m--> 672\u001b[1;33m             \u001b[0mvalues\u001b[0m\u001b[1;33m,\u001b[0m \u001b[0mna_sentinel\u001b[0m\u001b[1;33m=\u001b[0m\u001b[0mna_sentinel\u001b[0m\u001b[1;33m,\u001b[0m \u001b[0msize_hint\u001b[0m\u001b[1;33m=\u001b[0m\u001b[0msize_hint\u001b[0m\u001b[1;33m,\u001b[0m \u001b[0mna_value\u001b[0m\u001b[1;33m=\u001b[0m\u001b[0mna_value\u001b[0m\u001b[1;33m\u001b[0m\u001b[1;33m\u001b[0m\u001b[0m\n\u001b[0m\u001b[0;32m    673\u001b[0m         )\n\u001b[0;32m    674\u001b[0m \u001b[1;33m\u001b[0m\u001b[0m\n",
      "\u001b[1;32m~\\anaconda3\\envs\\learn-env\\lib\\site-packages\\pandas\\core\\algorithms.py\u001b[0m in \u001b[0;36m_factorize_array\u001b[1;34m(values, na_sentinel, size_hint, na_value)\u001b[0m\n\u001b[0;32m    506\u001b[0m     \u001b[0mtable\u001b[0m \u001b[1;33m=\u001b[0m \u001b[0mhash_klass\u001b[0m\u001b[1;33m(\u001b[0m\u001b[0msize_hint\u001b[0m \u001b[1;32mor\u001b[0m \u001b[0mlen\u001b[0m\u001b[1;33m(\u001b[0m\u001b[0mvalues\u001b[0m\u001b[1;33m)\u001b[0m\u001b[1;33m)\u001b[0m\u001b[1;33m\u001b[0m\u001b[1;33m\u001b[0m\u001b[0m\n\u001b[0;32m    507\u001b[0m     uniques, labels = table.factorize(\n\u001b[1;32m--> 508\u001b[1;33m         \u001b[0mvalues\u001b[0m\u001b[1;33m,\u001b[0m \u001b[0mna_sentinel\u001b[0m\u001b[1;33m=\u001b[0m\u001b[0mna_sentinel\u001b[0m\u001b[1;33m,\u001b[0m \u001b[0mna_value\u001b[0m\u001b[1;33m=\u001b[0m\u001b[0mna_value\u001b[0m\u001b[1;33m\u001b[0m\u001b[1;33m\u001b[0m\u001b[0m\n\u001b[0m\u001b[0;32m    509\u001b[0m     )\n\u001b[0;32m    510\u001b[0m \u001b[1;33m\u001b[0m\u001b[0m\n",
      "\u001b[1;32mpandas\\_libs\\hashtable_class_helper.pxi\u001b[0m in \u001b[0;36mpandas._libs.hashtable.StringHashTable.factorize\u001b[1;34m()\u001b[0m\n",
      "\u001b[1;32mpandas\\_libs\\hashtable_class_helper.pxi\u001b[0m in \u001b[0;36mpandas._libs.hashtable.StringHashTable._unique\u001b[1;34m()\u001b[0m\n",
      "\u001b[1;31mMemoryError\u001b[0m: "
     ]
    }
   ],
   "source": [
    "check_for_duplicates([final_merge])"
   ]
  },
  {
   "cell_type": "code",
   "execution_count": 124,
   "metadata": {},
   "outputs": [
    {
     "ename": "MemoryError",
     "evalue": "",
     "output_type": "error",
     "traceback": [
      "\u001b[1;31m---------------------------------------------------------------------------\u001b[0m",
      "\u001b[1;31mMemoryError\u001b[0m                               Traceback (most recent call last)",
      "\u001b[1;32m<ipython-input-124-6bbacc4ba3ad>\u001b[0m in \u001b[0;36m<module>\u001b[1;34m\u001b[0m\n\u001b[1;32m----> 1\u001b[1;33m \u001b[0mcheck_nulls\u001b[0m\u001b[1;33m(\u001b[0m\u001b[0mfinal_merge\u001b[0m\u001b[1;33m)\u001b[0m\u001b[1;33m\u001b[0m\u001b[1;33m\u001b[0m\u001b[0m\n\u001b[0m",
      "\u001b[1;32m<ipython-input-17-eed7ef7b3341>\u001b[0m in \u001b[0;36mcheck_nulls\u001b[1;34m(measure, as_percent)\u001b[0m\n\u001b[0;32m      8\u001b[0m         \u001b[1;32mreturn\u001b[0m \u001b[0mmeasure\u001b[0m\u001b[1;33m.\u001b[0m\u001b[0misna\u001b[0m\u001b[1;33m(\u001b[0m\u001b[1;33m)\u001b[0m\u001b[1;33m.\u001b[0m\u001b[0msum\u001b[0m\u001b[1;33m(\u001b[0m\u001b[1;33m)\u001b[0m\u001b[1;33m/\u001b[0m\u001b[0mlen\u001b[0m\u001b[1;33m(\u001b[0m\u001b[0mmeasure\u001b[0m\u001b[1;33m)\u001b[0m\u001b[1;33m\u001b[0m\u001b[1;33m\u001b[0m\u001b[0m\n\u001b[0;32m      9\u001b[0m     \u001b[1;32melse\u001b[0m\u001b[1;33m:\u001b[0m\u001b[1;33m\u001b[0m\u001b[1;33m\u001b[0m\u001b[0m\n\u001b[1;32m---> 10\u001b[1;33m         \u001b[1;32mreturn\u001b[0m \u001b[0mmeasure\u001b[0m\u001b[1;33m.\u001b[0m\u001b[0misna\u001b[0m\u001b[1;33m(\u001b[0m\u001b[1;33m)\u001b[0m\u001b[1;33m.\u001b[0m\u001b[0msum\u001b[0m\u001b[1;33m(\u001b[0m\u001b[1;33m)\u001b[0m\u001b[1;33m\u001b[0m\u001b[1;33m\u001b[0m\u001b[0m\n\u001b[0m",
      "\u001b[1;32m~\\anaconda3\\envs\\learn-env\\lib\\site-packages\\pandas\\core\\frame.py\u001b[0m in \u001b[0;36misna\u001b[1;34m(self)\u001b[0m\n\u001b[0;32m   4703\u001b[0m     \u001b[1;33m@\u001b[0m\u001b[0mAppender\u001b[0m\u001b[1;33m(\u001b[0m\u001b[0m_shared_docs\u001b[0m\u001b[1;33m[\u001b[0m\u001b[1;34m\"isna\"\u001b[0m\u001b[1;33m]\u001b[0m \u001b[1;33m%\u001b[0m \u001b[0m_shared_doc_kwargs\u001b[0m\u001b[1;33m)\u001b[0m\u001b[1;33m\u001b[0m\u001b[1;33m\u001b[0m\u001b[0m\n\u001b[0;32m   4704\u001b[0m     \u001b[1;32mdef\u001b[0m \u001b[0misna\u001b[0m\u001b[1;33m(\u001b[0m\u001b[0mself\u001b[0m\u001b[1;33m)\u001b[0m\u001b[1;33m:\u001b[0m\u001b[1;33m\u001b[0m\u001b[1;33m\u001b[0m\u001b[0m\n\u001b[1;32m-> 4705\u001b[1;33m         \u001b[1;32mreturn\u001b[0m \u001b[0msuper\u001b[0m\u001b[1;33m(\u001b[0m\u001b[1;33m)\u001b[0m\u001b[1;33m.\u001b[0m\u001b[0misna\u001b[0m\u001b[1;33m(\u001b[0m\u001b[1;33m)\u001b[0m\u001b[1;33m\u001b[0m\u001b[1;33m\u001b[0m\u001b[0m\n\u001b[0m\u001b[0;32m   4706\u001b[0m \u001b[1;33m\u001b[0m\u001b[0m\n\u001b[0;32m   4707\u001b[0m     \u001b[1;33m@\u001b[0m\u001b[0mAppender\u001b[0m\u001b[1;33m(\u001b[0m\u001b[0m_shared_docs\u001b[0m\u001b[1;33m[\u001b[0m\u001b[1;34m\"isna\"\u001b[0m\u001b[1;33m]\u001b[0m \u001b[1;33m%\u001b[0m \u001b[0m_shared_doc_kwargs\u001b[0m\u001b[1;33m)\u001b[0m\u001b[1;33m\u001b[0m\u001b[1;33m\u001b[0m\u001b[0m\n",
      "\u001b[1;32m~\\anaconda3\\envs\\learn-env\\lib\\site-packages\\pandas\\core\\generic.py\u001b[0m in \u001b[0;36misna\u001b[1;34m(self)\u001b[0m\n\u001b[0;32m   7316\u001b[0m     \u001b[1;33m@\u001b[0m\u001b[0mAppender\u001b[0m\u001b[1;33m(\u001b[0m\u001b[0m_shared_docs\u001b[0m\u001b[1;33m[\u001b[0m\u001b[1;34m\"isna\"\u001b[0m\u001b[1;33m]\u001b[0m \u001b[1;33m%\u001b[0m \u001b[0m_shared_doc_kwargs\u001b[0m\u001b[1;33m)\u001b[0m\u001b[1;33m\u001b[0m\u001b[1;33m\u001b[0m\u001b[0m\n\u001b[0;32m   7317\u001b[0m     \u001b[1;32mdef\u001b[0m \u001b[0misna\u001b[0m\u001b[1;33m(\u001b[0m\u001b[0mself\u001b[0m\u001b[1;33m)\u001b[0m\u001b[1;33m:\u001b[0m\u001b[1;33m\u001b[0m\u001b[1;33m\u001b[0m\u001b[0m\n\u001b[1;32m-> 7318\u001b[1;33m         \u001b[1;32mreturn\u001b[0m \u001b[0misna\u001b[0m\u001b[1;33m(\u001b[0m\u001b[0mself\u001b[0m\u001b[1;33m)\u001b[0m\u001b[1;33m.\u001b[0m\u001b[0m__finalize__\u001b[0m\u001b[1;33m(\u001b[0m\u001b[0mself\u001b[0m\u001b[1;33m)\u001b[0m\u001b[1;33m\u001b[0m\u001b[1;33m\u001b[0m\u001b[0m\n\u001b[0m\u001b[0;32m   7319\u001b[0m \u001b[1;33m\u001b[0m\u001b[0m\n\u001b[0;32m   7320\u001b[0m     \u001b[1;33m@\u001b[0m\u001b[0mAppender\u001b[0m\u001b[1;33m(\u001b[0m\u001b[0m_shared_docs\u001b[0m\u001b[1;33m[\u001b[0m\u001b[1;34m\"isna\"\u001b[0m\u001b[1;33m]\u001b[0m \u001b[1;33m%\u001b[0m \u001b[0m_shared_doc_kwargs\u001b[0m\u001b[1;33m)\u001b[0m\u001b[1;33m\u001b[0m\u001b[1;33m\u001b[0m\u001b[0m\n",
      "\u001b[1;32m~\\anaconda3\\envs\\learn-env\\lib\\site-packages\\pandas\\core\\dtypes\\missing.py\u001b[0m in \u001b[0;36misna\u001b[1;34m(obj)\u001b[0m\n\u001b[0;32m    120\u001b[0m     \u001b[0mName\u001b[0m\u001b[1;33m:\u001b[0m \u001b[1;36m1\u001b[0m\u001b[1;33m,\u001b[0m \u001b[0mdtype\u001b[0m\u001b[1;33m:\u001b[0m \u001b[0mbool\u001b[0m\u001b[1;33m\u001b[0m\u001b[1;33m\u001b[0m\u001b[0m\n\u001b[0;32m    121\u001b[0m     \"\"\"\n\u001b[1;32m--> 122\u001b[1;33m     \u001b[1;32mreturn\u001b[0m \u001b[0m_isna\u001b[0m\u001b[1;33m(\u001b[0m\u001b[0mobj\u001b[0m\u001b[1;33m)\u001b[0m\u001b[1;33m\u001b[0m\u001b[1;33m\u001b[0m\u001b[0m\n\u001b[0m\u001b[0;32m    123\u001b[0m \u001b[1;33m\u001b[0m\u001b[0m\n\u001b[0;32m    124\u001b[0m \u001b[1;33m\u001b[0m\u001b[0m\n",
      "\u001b[1;32m~\\anaconda3\\envs\\learn-env\\lib\\site-packages\\pandas\\core\\dtypes\\missing.py\u001b[0m in \u001b[0;36m_isna_new\u001b[1;34m(obj)\u001b[0m\n\u001b[0;32m    147\u001b[0m         \u001b[1;32mreturn\u001b[0m \u001b[0m_isna_ndarraylike\u001b[0m\u001b[1;33m(\u001b[0m\u001b[0mobj\u001b[0m\u001b[1;33m)\u001b[0m\u001b[1;33m\u001b[0m\u001b[1;33m\u001b[0m\u001b[0m\n\u001b[0;32m    148\u001b[0m     \u001b[1;32melif\u001b[0m \u001b[0misinstance\u001b[0m\u001b[1;33m(\u001b[0m\u001b[0mobj\u001b[0m\u001b[1;33m,\u001b[0m \u001b[0mABCGeneric\u001b[0m\u001b[1;33m)\u001b[0m\u001b[1;33m:\u001b[0m\u001b[1;33m\u001b[0m\u001b[1;33m\u001b[0m\u001b[0m\n\u001b[1;32m--> 149\u001b[1;33m         \u001b[1;32mreturn\u001b[0m \u001b[0mobj\u001b[0m\u001b[1;33m.\u001b[0m\u001b[0m_constructor\u001b[0m\u001b[1;33m(\u001b[0m\u001b[0mobj\u001b[0m\u001b[1;33m.\u001b[0m\u001b[0m_data\u001b[0m\u001b[1;33m.\u001b[0m\u001b[0misna\u001b[0m\u001b[1;33m(\u001b[0m\u001b[0mfunc\u001b[0m\u001b[1;33m=\u001b[0m\u001b[0misna\u001b[0m\u001b[1;33m)\u001b[0m\u001b[1;33m)\u001b[0m\u001b[1;33m\u001b[0m\u001b[1;33m\u001b[0m\u001b[0m\n\u001b[0m\u001b[0;32m    150\u001b[0m     \u001b[1;32melif\u001b[0m \u001b[0misinstance\u001b[0m\u001b[1;33m(\u001b[0m\u001b[0mobj\u001b[0m\u001b[1;33m,\u001b[0m \u001b[0mlist\u001b[0m\u001b[1;33m)\u001b[0m\u001b[1;33m:\u001b[0m\u001b[1;33m\u001b[0m\u001b[1;33m\u001b[0m\u001b[0m\n\u001b[0;32m    151\u001b[0m         \u001b[1;32mreturn\u001b[0m \u001b[0m_isna_ndarraylike\u001b[0m\u001b[1;33m(\u001b[0m\u001b[0mnp\u001b[0m\u001b[1;33m.\u001b[0m\u001b[0masarray\u001b[0m\u001b[1;33m(\u001b[0m\u001b[0mobj\u001b[0m\u001b[1;33m,\u001b[0m \u001b[0mdtype\u001b[0m\u001b[1;33m=\u001b[0m\u001b[0mobject\u001b[0m\u001b[1;33m)\u001b[0m\u001b[1;33m)\u001b[0m\u001b[1;33m\u001b[0m\u001b[1;33m\u001b[0m\u001b[0m\n",
      "\u001b[1;32m~\\anaconda3\\envs\\learn-env\\lib\\site-packages\\pandas\\core\\internals\\managers.py\u001b[0m in \u001b[0;36misna\u001b[1;34m(self, func, **kwargs)\u001b[0m\n\u001b[0;32m    552\u001b[0m \u001b[1;33m\u001b[0m\u001b[0m\n\u001b[0;32m    553\u001b[0m     \u001b[1;32mdef\u001b[0m \u001b[0misna\u001b[0m\u001b[1;33m(\u001b[0m\u001b[0mself\u001b[0m\u001b[1;33m,\u001b[0m \u001b[0mfunc\u001b[0m\u001b[1;33m,\u001b[0m \u001b[1;33m**\u001b[0m\u001b[0mkwargs\u001b[0m\u001b[1;33m)\u001b[0m\u001b[1;33m:\u001b[0m\u001b[1;33m\u001b[0m\u001b[1;33m\u001b[0m\u001b[0m\n\u001b[1;32m--> 554\u001b[1;33m         \u001b[1;32mreturn\u001b[0m \u001b[0mself\u001b[0m\u001b[1;33m.\u001b[0m\u001b[0mapply\u001b[0m\u001b[1;33m(\u001b[0m\u001b[1;34m\"apply\"\u001b[0m\u001b[1;33m,\u001b[0m \u001b[0mfunc\u001b[0m\u001b[1;33m=\u001b[0m\u001b[0mfunc\u001b[0m\u001b[1;33m,\u001b[0m \u001b[1;33m**\u001b[0m\u001b[0mkwargs\u001b[0m\u001b[1;33m)\u001b[0m\u001b[1;33m\u001b[0m\u001b[1;33m\u001b[0m\u001b[0m\n\u001b[0m\u001b[0;32m    555\u001b[0m \u001b[1;33m\u001b[0m\u001b[0m\n\u001b[0;32m    556\u001b[0m     \u001b[1;32mdef\u001b[0m \u001b[0mwhere\u001b[0m\u001b[1;33m(\u001b[0m\u001b[0mself\u001b[0m\u001b[1;33m,\u001b[0m \u001b[1;33m**\u001b[0m\u001b[0mkwargs\u001b[0m\u001b[1;33m)\u001b[0m\u001b[1;33m:\u001b[0m\u001b[1;33m\u001b[0m\u001b[1;33m\u001b[0m\u001b[0m\n",
      "\u001b[1;32m~\\anaconda3\\envs\\learn-env\\lib\\site-packages\\pandas\\core\\internals\\managers.py\u001b[0m in \u001b[0;36mapply\u001b[1;34m(self, f, axes, filter, do_integrity_check, consolidate, **kwargs)\u001b[0m\n\u001b[0;32m    392\u001b[0m \u001b[1;33m\u001b[0m\u001b[0m\n\u001b[0;32m    393\u001b[0m         \u001b[1;32mif\u001b[0m \u001b[0mconsolidate\u001b[0m\u001b[1;33m:\u001b[0m\u001b[1;33m\u001b[0m\u001b[1;33m\u001b[0m\u001b[0m\n\u001b[1;32m--> 394\u001b[1;33m             \u001b[0mself\u001b[0m\u001b[1;33m.\u001b[0m\u001b[0m_consolidate_inplace\u001b[0m\u001b[1;33m(\u001b[0m\u001b[1;33m)\u001b[0m\u001b[1;33m\u001b[0m\u001b[1;33m\u001b[0m\u001b[0m\n\u001b[0m\u001b[0;32m    395\u001b[0m \u001b[1;33m\u001b[0m\u001b[0m\n\u001b[0;32m    396\u001b[0m         \u001b[1;32mif\u001b[0m \u001b[0mf\u001b[0m \u001b[1;33m==\u001b[0m \u001b[1;34m\"where\"\u001b[0m\u001b[1;33m:\u001b[0m\u001b[1;33m\u001b[0m\u001b[1;33m\u001b[0m\u001b[0m\n",
      "\u001b[1;32m~\\anaconda3\\envs\\learn-env\\lib\\site-packages\\pandas\\core\\internals\\managers.py\u001b[0m in \u001b[0;36m_consolidate_inplace\u001b[1;34m(self)\u001b[0m\n\u001b[0;32m    935\u001b[0m     \u001b[1;32mdef\u001b[0m \u001b[0m_consolidate_inplace\u001b[0m\u001b[1;33m(\u001b[0m\u001b[0mself\u001b[0m\u001b[1;33m)\u001b[0m\u001b[1;33m:\u001b[0m\u001b[1;33m\u001b[0m\u001b[1;33m\u001b[0m\u001b[0m\n\u001b[0;32m    936\u001b[0m         \u001b[1;32mif\u001b[0m \u001b[1;32mnot\u001b[0m \u001b[0mself\u001b[0m\u001b[1;33m.\u001b[0m\u001b[0mis_consolidated\u001b[0m\u001b[1;33m(\u001b[0m\u001b[1;33m)\u001b[0m\u001b[1;33m:\u001b[0m\u001b[1;33m\u001b[0m\u001b[1;33m\u001b[0m\u001b[0m\n\u001b[1;32m--> 937\u001b[1;33m             \u001b[0mself\u001b[0m\u001b[1;33m.\u001b[0m\u001b[0mblocks\u001b[0m \u001b[1;33m=\u001b[0m \u001b[0mtuple\u001b[0m\u001b[1;33m(\u001b[0m\u001b[0m_consolidate\u001b[0m\u001b[1;33m(\u001b[0m\u001b[0mself\u001b[0m\u001b[1;33m.\u001b[0m\u001b[0mblocks\u001b[0m\u001b[1;33m)\u001b[0m\u001b[1;33m)\u001b[0m\u001b[1;33m\u001b[0m\u001b[1;33m\u001b[0m\u001b[0m\n\u001b[0m\u001b[0;32m    938\u001b[0m             \u001b[0mself\u001b[0m\u001b[1;33m.\u001b[0m\u001b[0m_is_consolidated\u001b[0m \u001b[1;33m=\u001b[0m \u001b[1;32mTrue\u001b[0m\u001b[1;33m\u001b[0m\u001b[1;33m\u001b[0m\u001b[0m\n\u001b[0;32m    939\u001b[0m             \u001b[0mself\u001b[0m\u001b[1;33m.\u001b[0m\u001b[0m_known_consolidated\u001b[0m \u001b[1;33m=\u001b[0m \u001b[1;32mTrue\u001b[0m\u001b[1;33m\u001b[0m\u001b[1;33m\u001b[0m\u001b[0m\n",
      "\u001b[1;32m~\\anaconda3\\envs\\learn-env\\lib\\site-packages\\pandas\\core\\internals\\managers.py\u001b[0m in \u001b[0;36m_consolidate\u001b[1;34m(blocks)\u001b[0m\n\u001b[0;32m   1911\u001b[0m     \u001b[1;32mfor\u001b[0m \u001b[1;33m(\u001b[0m\u001b[0m_can_consolidate\u001b[0m\u001b[1;33m,\u001b[0m \u001b[0mdtype\u001b[0m\u001b[1;33m)\u001b[0m\u001b[1;33m,\u001b[0m \u001b[0mgroup_blocks\u001b[0m \u001b[1;32min\u001b[0m \u001b[0mgrouper\u001b[0m\u001b[1;33m:\u001b[0m\u001b[1;33m\u001b[0m\u001b[1;33m\u001b[0m\u001b[0m\n\u001b[0;32m   1912\u001b[0m         merged_blocks = _merge_blocks(\n\u001b[1;32m-> 1913\u001b[1;33m             \u001b[0mlist\u001b[0m\u001b[1;33m(\u001b[0m\u001b[0mgroup_blocks\u001b[0m\u001b[1;33m)\u001b[0m\u001b[1;33m,\u001b[0m \u001b[0mdtype\u001b[0m\u001b[1;33m=\u001b[0m\u001b[0mdtype\u001b[0m\u001b[1;33m,\u001b[0m \u001b[0m_can_consolidate\u001b[0m\u001b[1;33m=\u001b[0m\u001b[0m_can_consolidate\u001b[0m\u001b[1;33m\u001b[0m\u001b[1;33m\u001b[0m\u001b[0m\n\u001b[0m\u001b[0;32m   1914\u001b[0m         )\n\u001b[0;32m   1915\u001b[0m         \u001b[0mnew_blocks\u001b[0m \u001b[1;33m=\u001b[0m \u001b[0m_extend_blocks\u001b[0m\u001b[1;33m(\u001b[0m\u001b[0mmerged_blocks\u001b[0m\u001b[1;33m,\u001b[0m \u001b[0mnew_blocks\u001b[0m\u001b[1;33m)\u001b[0m\u001b[1;33m\u001b[0m\u001b[1;33m\u001b[0m\u001b[0m\n",
      "\u001b[1;32m~\\anaconda3\\envs\\learn-env\\lib\\site-packages\\pandas\\core\\internals\\blocks.py\u001b[0m in \u001b[0;36m_merge_blocks\u001b[1;34m(blocks, dtype, _can_consolidate)\u001b[0m\n\u001b[0;32m   3318\u001b[0m         \u001b[1;31m# combination of those slices is a slice, too.\u001b[0m\u001b[1;33m\u001b[0m\u001b[1;33m\u001b[0m\u001b[1;33m\u001b[0m\u001b[0m\n\u001b[0;32m   3319\u001b[0m         \u001b[0mnew_mgr_locs\u001b[0m \u001b[1;33m=\u001b[0m \u001b[0mnp\u001b[0m\u001b[1;33m.\u001b[0m\u001b[0mconcatenate\u001b[0m\u001b[1;33m(\u001b[0m\u001b[1;33m[\u001b[0m\u001b[0mb\u001b[0m\u001b[1;33m.\u001b[0m\u001b[0mmgr_locs\u001b[0m\u001b[1;33m.\u001b[0m\u001b[0mas_array\u001b[0m \u001b[1;32mfor\u001b[0m \u001b[0mb\u001b[0m \u001b[1;32min\u001b[0m \u001b[0mblocks\u001b[0m\u001b[1;33m]\u001b[0m\u001b[1;33m)\u001b[0m\u001b[1;33m\u001b[0m\u001b[1;33m\u001b[0m\u001b[0m\n\u001b[1;32m-> 3320\u001b[1;33m         \u001b[0mnew_values\u001b[0m \u001b[1;33m=\u001b[0m \u001b[0mnp\u001b[0m\u001b[1;33m.\u001b[0m\u001b[0mvstack\u001b[0m\u001b[1;33m(\u001b[0m\u001b[1;33m[\u001b[0m\u001b[0mb\u001b[0m\u001b[1;33m.\u001b[0m\u001b[0mvalues\u001b[0m \u001b[1;32mfor\u001b[0m \u001b[0mb\u001b[0m \u001b[1;32min\u001b[0m \u001b[0mblocks\u001b[0m\u001b[1;33m]\u001b[0m\u001b[1;33m)\u001b[0m\u001b[1;33m\u001b[0m\u001b[1;33m\u001b[0m\u001b[0m\n\u001b[0m\u001b[0;32m   3321\u001b[0m \u001b[1;33m\u001b[0m\u001b[0m\n\u001b[0;32m   3322\u001b[0m         \u001b[0margsort\u001b[0m \u001b[1;33m=\u001b[0m \u001b[0mnp\u001b[0m\u001b[1;33m.\u001b[0m\u001b[0margsort\u001b[0m\u001b[1;33m(\u001b[0m\u001b[0mnew_mgr_locs\u001b[0m\u001b[1;33m)\u001b[0m\u001b[1;33m\u001b[0m\u001b[1;33m\u001b[0m\u001b[0m\n",
      "\u001b[1;32m~\\anaconda3\\envs\\learn-env\\lib\\site-packages\\numpy\\core\\shape_base.py\u001b[0m in \u001b[0;36mvstack\u001b[1;34m(tup)\u001b[0m\n\u001b[0;32m    281\u001b[0m     \"\"\"\n\u001b[0;32m    282\u001b[0m     \u001b[0m_warn_for_nonsequence\u001b[0m\u001b[1;33m(\u001b[0m\u001b[0mtup\u001b[0m\u001b[1;33m)\u001b[0m\u001b[1;33m\u001b[0m\u001b[1;33m\u001b[0m\u001b[0m\n\u001b[1;32m--> 283\u001b[1;33m     \u001b[1;32mreturn\u001b[0m \u001b[0m_nx\u001b[0m\u001b[1;33m.\u001b[0m\u001b[0mconcatenate\u001b[0m\u001b[1;33m(\u001b[0m\u001b[1;33m[\u001b[0m\u001b[0matleast_2d\u001b[0m\u001b[1;33m(\u001b[0m\u001b[0m_m\u001b[0m\u001b[1;33m)\u001b[0m \u001b[1;32mfor\u001b[0m \u001b[0m_m\u001b[0m \u001b[1;32min\u001b[0m \u001b[0mtup\u001b[0m\u001b[1;33m]\u001b[0m\u001b[1;33m,\u001b[0m \u001b[1;36m0\u001b[0m\u001b[1;33m)\u001b[0m\u001b[1;33m\u001b[0m\u001b[1;33m\u001b[0m\u001b[0m\n\u001b[0m\u001b[0;32m    284\u001b[0m \u001b[1;33m\u001b[0m\u001b[0m\n\u001b[0;32m    285\u001b[0m \u001b[1;33m\u001b[0m\u001b[0m\n",
      "\u001b[1;31mMemoryError\u001b[0m: "
     ]
    }
   ],
   "source": [
    "check_nulls(final_merge)"
   ]
  },
  {
   "cell_type": "markdown",
   "metadata": {},
   "source": [
    "# Check for Null Values"
   ]
  },
  {
   "cell_type": "code",
   "execution_count": 82,
   "metadata": {},
   "outputs": [
    {
     "data": {
      "text/plain": [
       "merge_column          0\n",
       "state_name      2280036\n",
       "county_name     2280036\n",
       "date_local      2280036\n",
       "o3              2280036\n",
       "co              5202094\n",
       "no2             4947769\n",
       "so2             4375782\n",
       "pm10            5967801\n",
       "pm25            4986259\n",
       "pressure        5385280\n",
       "temperature     4052874\n",
       "wind            4590210\n",
       "aqi              258012\n",
       "dtype: int64"
      ]
     },
     "execution_count": 82,
     "metadata": {},
     "output_type": "execute_result"
    }
   ],
   "source": [
    "final_merge.isna().sum()"
   ]
  },
  {
   "cell_type": "code",
   "execution_count": 83,
   "metadata": {
    "scrolled": true
   },
   "outputs": [
    {
     "data": {
      "text/plain": [
       "(6610675, 14)"
      ]
     },
     "execution_count": 83,
     "metadata": {},
     "output_type": "execute_result"
    }
   ],
   "source": [
    "final_merge.shape"
   ]
  },
  {
   "cell_type": "code",
   "execution_count": 85,
   "metadata": {},
   "outputs": [],
   "source": [
    "final_merge.to_csv('merged_data.csv', index=False)"
   ]
  },
  {
   "cell_type": "code",
   "execution_count": 86,
   "metadata": {},
   "outputs": [
    {
     "data": {
      "text/plain": [
       "(392440, 14)"
      ]
     },
     "execution_count": 86,
     "metadata": {},
     "output_type": "execute_result"
    }
   ],
   "source": [
    "test = final_merge.dropna(thresh=12)\n",
    "test.shape"
   ]
  },
  {
   "cell_type": "code",
   "execution_count": 87,
   "metadata": {},
   "outputs": [
    {
     "data": {
      "text/plain": [
       "merge_column         0\n",
       "state_name           0\n",
       "county_name          0\n",
       "date_local           0\n",
       "o3                   0\n",
       "co               25427\n",
       "no2              21483\n",
       "so2              30721\n",
       "pm10            246818\n",
       "pm25             99312\n",
       "pressure         81134\n",
       "temperature       6212\n",
       "wind             56298\n",
       "aqi                  0\n",
       "dtype: int64"
      ]
     },
     "execution_count": 87,
     "metadata": {},
     "output_type": "execute_result"
    }
   ],
   "source": [
    "test.isna().sum()"
   ]
  },
  {
   "cell_type": "code",
   "execution_count": 88,
   "metadata": {
    "scrolled": true
   },
   "outputs": [
    {
     "data": {
      "text/plain": [
       "(42842, 14)"
      ]
     },
     "execution_count": 88,
     "metadata": {},
     "output_type": "execute_result"
    }
   ],
   "source": [
    "full_rows = final_merge.dropna()\n",
    "full_rows.shape"
   ]
  },
  {
   "cell_type": "code",
   "execution_count": 89,
   "metadata": {
    "scrolled": true
   },
   "outputs": [
    {
     "data": {
      "text/plain": [
       "array(['Alabama', 'Alaska', 'California', 'Colorado', 'Connecticut',\n",
       "       'District Of Columbia', 'Illinois', 'Indiana', 'Iowa', 'Kansas',\n",
       "       'Louisiana', 'Maryland', 'Massachusetts', 'Michigan', 'Missouri',\n",
       "       'Nevada', 'New Hampshire', 'New Jersey', 'New Mexico', 'New York',\n",
       "       'North Carolina', 'Ohio', 'Oregon', 'Pennsylvania', 'Rhode Island',\n",
       "       'Tennessee', 'Texas', 'Utah', 'Vermont', 'Virginia', 'Washington',\n",
       "       'Wisconsin', 'Wyoming'], dtype=object)"
      ]
     },
     "execution_count": 89,
     "metadata": {},
     "output_type": "execute_result"
    }
   ],
   "source": [
    "full_rows.state_name.unique()"
   ]
  },
  {
   "cell_type": "code",
   "execution_count": 90,
   "metadata": {
    "scrolled": true
   },
   "outputs": [
    {
     "data": {
      "text/html": [
       "<div>\n",
       "<style scoped>\n",
       "    .dataframe tbody tr th:only-of-type {\n",
       "        vertical-align: middle;\n",
       "    }\n",
       "\n",
       "    .dataframe tbody tr th {\n",
       "        vertical-align: top;\n",
       "    }\n",
       "\n",
       "    .dataframe thead th {\n",
       "        text-align: right;\n",
       "    }\n",
       "</style>\n",
       "<table border=\"1\" class=\"dataframe\">\n",
       "  <thead>\n",
       "    <tr style=\"text-align: right;\">\n",
       "      <th></th>\n",
       "      <th>merge_column</th>\n",
       "      <th>state_name</th>\n",
       "      <th>county_name</th>\n",
       "      <th>date_local</th>\n",
       "      <th>o3</th>\n",
       "      <th>co</th>\n",
       "      <th>no2</th>\n",
       "      <th>so2</th>\n",
       "      <th>pm10</th>\n",
       "      <th>pm25</th>\n",
       "      <th>pressure</th>\n",
       "      <th>temperature</th>\n",
       "      <th>wind</th>\n",
       "      <th>aqi</th>\n",
       "    </tr>\n",
       "  </thead>\n",
       "  <tbody>\n",
       "    <tr>\n",
       "      <th>35829</th>\n",
       "      <td>Alabama-Jefferson-2013-12-0600:00:00</td>\n",
       "      <td>Alabama</td>\n",
       "      <td>Jefferson</td>\n",
       "      <td>2013-12-06</td>\n",
       "      <td>0.001412</td>\n",
       "      <td>0.224293</td>\n",
       "      <td>6.050000</td>\n",
       "      <td>0.370833</td>\n",
       "      <td>10.625000</td>\n",
       "      <td>5.333333</td>\n",
       "      <td>993.362500</td>\n",
       "      <td>11.962500</td>\n",
       "      <td>138.008334</td>\n",
       "      <td>26.0</td>\n",
       "    </tr>\n",
       "    <tr>\n",
       "      <th>35835</th>\n",
       "      <td>Alabama-Jefferson-2013-12-1200:00:00</td>\n",
       "      <td>Alabama</td>\n",
       "      <td>Jefferson</td>\n",
       "      <td>2013-12-12</td>\n",
       "      <td>0.012235</td>\n",
       "      <td>0.234672</td>\n",
       "      <td>12.108333</td>\n",
       "      <td>1.100379</td>\n",
       "      <td>13.750000</td>\n",
       "      <td>8.955556</td>\n",
       "      <td>1005.854167</td>\n",
       "      <td>1.833333</td>\n",
       "      <td>78.425000</td>\n",
       "      <td>44.0</td>\n",
       "    </tr>\n",
       "    <tr>\n",
       "      <th>35841</th>\n",
       "      <td>Alabama-Jefferson-2013-12-1800:00:00</td>\n",
       "      <td>Alabama</td>\n",
       "      <td>Jefferson</td>\n",
       "      <td>2013-12-18</td>\n",
       "      <td>0.009647</td>\n",
       "      <td>0.358279</td>\n",
       "      <td>21.283333</td>\n",
       "      <td>2.290151</td>\n",
       "      <td>22.857143</td>\n",
       "      <td>13.077778</td>\n",
       "      <td>1001.154167</td>\n",
       "      <td>6.529167</td>\n",
       "      <td>48.220833</td>\n",
       "      <td>66.0</td>\n",
       "    </tr>\n",
       "    <tr>\n",
       "      <th>35847</th>\n",
       "      <td>Alabama-Jefferson-2013-12-2400:00:00</td>\n",
       "      <td>Alabama</td>\n",
       "      <td>Jefferson</td>\n",
       "      <td>2013-12-24</td>\n",
       "      <td>0.020000</td>\n",
       "      <td>0.018384</td>\n",
       "      <td>4.504167</td>\n",
       "      <td>0.498106</td>\n",
       "      <td>9.500000</td>\n",
       "      <td>7.511111</td>\n",
       "      <td>1004.775000</td>\n",
       "      <td>-0.262500</td>\n",
       "      <td>116.585417</td>\n",
       "      <td>38.0</td>\n",
       "    </tr>\n",
       "    <tr>\n",
       "      <th>35853</th>\n",
       "      <td>Alabama-Jefferson-2013-12-3000:00:00</td>\n",
       "      <td>Alabama</td>\n",
       "      <td>Jefferson</td>\n",
       "      <td>2013-12-30</td>\n",
       "      <td>0.009294</td>\n",
       "      <td>0.164667</td>\n",
       "      <td>9.179167</td>\n",
       "      <td>0.835909</td>\n",
       "      <td>16.875000</td>\n",
       "      <td>11.566667</td>\n",
       "      <td>996.966667</td>\n",
       "      <td>5.645833</td>\n",
       "      <td>104.816666</td>\n",
       "      <td>55.0</td>\n",
       "    </tr>\n",
       "  </tbody>\n",
       "</table>\n",
       "</div>"
      ],
      "text/plain": [
       "                               merge_column state_name county_name date_local  \\\n",
       "35829  Alabama-Jefferson-2013-12-0600:00:00    Alabama   Jefferson 2013-12-06   \n",
       "35835  Alabama-Jefferson-2013-12-1200:00:00    Alabama   Jefferson 2013-12-12   \n",
       "35841  Alabama-Jefferson-2013-12-1800:00:00    Alabama   Jefferson 2013-12-18   \n",
       "35847  Alabama-Jefferson-2013-12-2400:00:00    Alabama   Jefferson 2013-12-24   \n",
       "35853  Alabama-Jefferson-2013-12-3000:00:00    Alabama   Jefferson 2013-12-30   \n",
       "\n",
       "             o3        co        no2       so2       pm10       pm25  \\\n",
       "35829  0.001412  0.224293   6.050000  0.370833  10.625000   5.333333   \n",
       "35835  0.012235  0.234672  12.108333  1.100379  13.750000   8.955556   \n",
       "35841  0.009647  0.358279  21.283333  2.290151  22.857143  13.077778   \n",
       "35847  0.020000  0.018384   4.504167  0.498106   9.500000   7.511111   \n",
       "35853  0.009294  0.164667   9.179167  0.835909  16.875000  11.566667   \n",
       "\n",
       "          pressure  temperature        wind   aqi  \n",
       "35829   993.362500    11.962500  138.008334  26.0  \n",
       "35835  1005.854167     1.833333   78.425000  44.0  \n",
       "35841  1001.154167     6.529167   48.220833  66.0  \n",
       "35847  1004.775000    -0.262500  116.585417  38.0  \n",
       "35853   996.966667     5.645833  104.816666  55.0  "
      ]
     },
     "execution_count": 90,
     "metadata": {},
     "output_type": "execute_result"
    }
   ],
   "source": [
    "full_rows.head()"
   ]
  },
  {
   "cell_type": "code",
   "execution_count": 91,
   "metadata": {},
   "outputs": [
    {
     "data": {
      "text/plain": [
       "1108.0"
      ]
     },
     "execution_count": 91,
     "metadata": {},
     "output_type": "execute_result"
    }
   ],
   "source": [
    "full_rows.aqi.max()"
   ]
  },
  {
   "cell_type": "code",
   "execution_count": 92,
   "metadata": {},
   "outputs": [
    {
     "data": {
      "text/html": [
       "<div>\n",
       "<style scoped>\n",
       "    .dataframe tbody tr th:only-of-type {\n",
       "        vertical-align: middle;\n",
       "    }\n",
       "\n",
       "    .dataframe tbody tr th {\n",
       "        vertical-align: top;\n",
       "    }\n",
       "\n",
       "    .dataframe thead th {\n",
       "        text-align: right;\n",
       "    }\n",
       "</style>\n",
       "<table border=\"1\" class=\"dataframe\">\n",
       "  <thead>\n",
       "    <tr style=\"text-align: right;\">\n",
       "      <th></th>\n",
       "      <th>merge_column</th>\n",
       "      <th>state_name</th>\n",
       "      <th>county_name</th>\n",
       "      <th>date_local</th>\n",
       "      <th>o3</th>\n",
       "      <th>co</th>\n",
       "      <th>no2</th>\n",
       "      <th>so2</th>\n",
       "      <th>pm10</th>\n",
       "      <th>pm25</th>\n",
       "      <th>pressure</th>\n",
       "      <th>temperature</th>\n",
       "      <th>wind</th>\n",
       "      <th>aqi</th>\n",
       "    </tr>\n",
       "  </thead>\n",
       "  <tbody>\n",
       "    <tr>\n",
       "      <th>378074</th>\n",
       "      <td>California-Riverside-2007-10-2100:00:00</td>\n",
       "      <td>California</td>\n",
       "      <td>Riverside</td>\n",
       "      <td>2007-10-21</td>\n",
       "      <td>0.038597</td>\n",
       "      <td>0.228261</td>\n",
       "      <td>4.619565</td>\n",
       "      <td>2.0</td>\n",
       "      <td>481.166667</td>\n",
       "      <td>8.96</td>\n",
       "      <td>27.479167</td>\n",
       "      <td>65.586174</td>\n",
       "      <td>68.926768</td>\n",
       "      <td>1108.0</td>\n",
       "    </tr>\n",
       "  </tbody>\n",
       "</table>\n",
       "</div>"
      ],
      "text/plain": [
       "                                   merge_column  state_name county_name  \\\n",
       "378074  California-Riverside-2007-10-2100:00:00  California   Riverside   \n",
       "\n",
       "       date_local        o3        co       no2  so2        pm10  pm25  \\\n",
       "378074 2007-10-21  0.038597  0.228261  4.619565  2.0  481.166667  8.96   \n",
       "\n",
       "         pressure  temperature       wind     aqi  \n",
       "378074  27.479167    65.586174  68.926768  1108.0  "
      ]
     },
     "execution_count": 92,
     "metadata": {},
     "output_type": "execute_result"
    }
   ],
   "source": [
    "full_rows.loc[full_rows.aqi == 1108]"
   ]
  },
  {
   "cell_type": "code",
   "execution_count": 93,
   "metadata": {
    "scrolled": true
   },
   "outputs": [
    {
     "data": {
      "text/html": [
       "<div>\n",
       "<style scoped>\n",
       "    .dataframe tbody tr th:only-of-type {\n",
       "        vertical-align: middle;\n",
       "    }\n",
       "\n",
       "    .dataframe tbody tr th {\n",
       "        vertical-align: top;\n",
       "    }\n",
       "\n",
       "    .dataframe thead th {\n",
       "        text-align: right;\n",
       "    }\n",
       "</style>\n",
       "<table border=\"1\" class=\"dataframe\">\n",
       "  <thead>\n",
       "    <tr style=\"text-align: right;\">\n",
       "      <th></th>\n",
       "      <th>merge_column</th>\n",
       "      <th>state_name</th>\n",
       "      <th>county_name</th>\n",
       "      <th>date_local</th>\n",
       "      <th>o3</th>\n",
       "      <th>co</th>\n",
       "      <th>no2</th>\n",
       "      <th>so2</th>\n",
       "      <th>pm10</th>\n",
       "      <th>pm25</th>\n",
       "      <th>pressure</th>\n",
       "      <th>temperature</th>\n",
       "      <th>wind</th>\n",
       "      <th>aqi</th>\n",
       "      <th>target</th>\n",
       "    </tr>\n",
       "  </thead>\n",
       "  <tbody>\n",
       "    <tr>\n",
       "      <th>35829</th>\n",
       "      <td>Alabama-Jefferson-2013-12-0600:00:00</td>\n",
       "      <td>Alabama</td>\n",
       "      <td>Jefferson</td>\n",
       "      <td>2013-12-06</td>\n",
       "      <td>0.001412</td>\n",
       "      <td>0.224293</td>\n",
       "      <td>6.050000</td>\n",
       "      <td>0.370833</td>\n",
       "      <td>10.625000</td>\n",
       "      <td>5.333333</td>\n",
       "      <td>993.362500</td>\n",
       "      <td>11.962500</td>\n",
       "      <td>138.008334</td>\n",
       "      <td>26.0</td>\n",
       "      <td>0</td>\n",
       "    </tr>\n",
       "    <tr>\n",
       "      <th>35835</th>\n",
       "      <td>Alabama-Jefferson-2013-12-1200:00:00</td>\n",
       "      <td>Alabama</td>\n",
       "      <td>Jefferson</td>\n",
       "      <td>2013-12-12</td>\n",
       "      <td>0.012235</td>\n",
       "      <td>0.234672</td>\n",
       "      <td>12.108333</td>\n",
       "      <td>1.100379</td>\n",
       "      <td>13.750000</td>\n",
       "      <td>8.955556</td>\n",
       "      <td>1005.854167</td>\n",
       "      <td>1.833333</td>\n",
       "      <td>78.425000</td>\n",
       "      <td>44.0</td>\n",
       "      <td>0</td>\n",
       "    </tr>\n",
       "    <tr>\n",
       "      <th>35841</th>\n",
       "      <td>Alabama-Jefferson-2013-12-1800:00:00</td>\n",
       "      <td>Alabama</td>\n",
       "      <td>Jefferson</td>\n",
       "      <td>2013-12-18</td>\n",
       "      <td>0.009647</td>\n",
       "      <td>0.358279</td>\n",
       "      <td>21.283333</td>\n",
       "      <td>2.290151</td>\n",
       "      <td>22.857143</td>\n",
       "      <td>13.077778</td>\n",
       "      <td>1001.154167</td>\n",
       "      <td>6.529167</td>\n",
       "      <td>48.220833</td>\n",
       "      <td>66.0</td>\n",
       "      <td>1</td>\n",
       "    </tr>\n",
       "    <tr>\n",
       "      <th>35847</th>\n",
       "      <td>Alabama-Jefferson-2013-12-2400:00:00</td>\n",
       "      <td>Alabama</td>\n",
       "      <td>Jefferson</td>\n",
       "      <td>2013-12-24</td>\n",
       "      <td>0.020000</td>\n",
       "      <td>0.018384</td>\n",
       "      <td>4.504167</td>\n",
       "      <td>0.498106</td>\n",
       "      <td>9.500000</td>\n",
       "      <td>7.511111</td>\n",
       "      <td>1004.775000</td>\n",
       "      <td>-0.262500</td>\n",
       "      <td>116.585417</td>\n",
       "      <td>38.0</td>\n",
       "      <td>0</td>\n",
       "    </tr>\n",
       "    <tr>\n",
       "      <th>35853</th>\n",
       "      <td>Alabama-Jefferson-2013-12-3000:00:00</td>\n",
       "      <td>Alabama</td>\n",
       "      <td>Jefferson</td>\n",
       "      <td>2013-12-30</td>\n",
       "      <td>0.009294</td>\n",
       "      <td>0.164667</td>\n",
       "      <td>9.179167</td>\n",
       "      <td>0.835909</td>\n",
       "      <td>16.875000</td>\n",
       "      <td>11.566667</td>\n",
       "      <td>996.966667</td>\n",
       "      <td>5.645833</td>\n",
       "      <td>104.816666</td>\n",
       "      <td>55.0</td>\n",
       "      <td>1</td>\n",
       "    </tr>\n",
       "  </tbody>\n",
       "</table>\n",
       "</div>"
      ],
      "text/plain": [
       "                               merge_column state_name county_name date_local  \\\n",
       "35829  Alabama-Jefferson-2013-12-0600:00:00    Alabama   Jefferson 2013-12-06   \n",
       "35835  Alabama-Jefferson-2013-12-1200:00:00    Alabama   Jefferson 2013-12-12   \n",
       "35841  Alabama-Jefferson-2013-12-1800:00:00    Alabama   Jefferson 2013-12-18   \n",
       "35847  Alabama-Jefferson-2013-12-2400:00:00    Alabama   Jefferson 2013-12-24   \n",
       "35853  Alabama-Jefferson-2013-12-3000:00:00    Alabama   Jefferson 2013-12-30   \n",
       "\n",
       "             o3        co        no2       so2       pm10       pm25  \\\n",
       "35829  0.001412  0.224293   6.050000  0.370833  10.625000   5.333333   \n",
       "35835  0.012235  0.234672  12.108333  1.100379  13.750000   8.955556   \n",
       "35841  0.009647  0.358279  21.283333  2.290151  22.857143  13.077778   \n",
       "35847  0.020000  0.018384   4.504167  0.498106   9.500000   7.511111   \n",
       "35853  0.009294  0.164667   9.179167  0.835909  16.875000  11.566667   \n",
       "\n",
       "          pressure  temperature        wind   aqi target  \n",
       "35829   993.362500    11.962500  138.008334  26.0      0  \n",
       "35835  1005.854167     1.833333   78.425000  44.0      0  \n",
       "35841  1001.154167     6.529167   48.220833  66.0      1  \n",
       "35847  1004.775000    -0.262500  116.585417  38.0      0  \n",
       "35853   996.966667     5.645833  104.816666  55.0      1  "
      ]
     },
     "execution_count": 93,
     "metadata": {},
     "output_type": "execute_result"
    }
   ],
   "source": [
    "full_rows['target'] = pd.cut(x=full_rows['aqi'], bins=[0, 50, 100, 150, 200, 300, 2000], labels=[0,1,2,3,4,5])\n",
    "full_rows.head()"
   ]
  },
  {
   "cell_type": "code",
   "execution_count": 94,
   "metadata": {
    "scrolled": true
   },
   "outputs": [
    {
     "data": {
      "text/plain": [
       "1    21108\n",
       "0    16800\n",
       "2     3581\n",
       "3     1133\n",
       "4      199\n",
       "5       21\n",
       "Name: target, dtype: int64"
      ]
     },
     "execution_count": 94,
     "metadata": {},
     "output_type": "execute_result"
    }
   ],
   "source": [
    "full_rows.target.value_counts()"
   ]
  },
  {
   "cell_type": "code",
   "execution_count": 95,
   "metadata": {},
   "outputs": [
    {
     "data": {
      "text/html": [
       "<div>\n",
       "<style scoped>\n",
       "    .dataframe tbody tr th:only-of-type {\n",
       "        vertical-align: middle;\n",
       "    }\n",
       "\n",
       "    .dataframe tbody tr th {\n",
       "        vertical-align: top;\n",
       "    }\n",
       "\n",
       "    .dataframe thead th {\n",
       "        text-align: right;\n",
       "    }\n",
       "</style>\n",
       "<table border=\"1\" class=\"dataframe\">\n",
       "  <thead>\n",
       "    <tr style=\"text-align: right;\">\n",
       "      <th></th>\n",
       "      <th>merge_column</th>\n",
       "      <th>state_name</th>\n",
       "      <th>county_name</th>\n",
       "      <th>date_local</th>\n",
       "      <th>o3</th>\n",
       "      <th>co</th>\n",
       "      <th>no2</th>\n",
       "      <th>so2</th>\n",
       "      <th>pm10</th>\n",
       "      <th>pm25</th>\n",
       "      <th>pressure</th>\n",
       "      <th>temperature</th>\n",
       "      <th>wind</th>\n",
       "      <th>aqi</th>\n",
       "      <th>target</th>\n",
       "    </tr>\n",
       "  </thead>\n",
       "  <tbody>\n",
       "    <tr>\n",
       "      <th>35829</th>\n",
       "      <td>Alabama-Jefferson-2013-12-0600:00:00</td>\n",
       "      <td>Alabama</td>\n",
       "      <td>Jefferson</td>\n",
       "      <td>2013-12-06</td>\n",
       "      <td>0.001412</td>\n",
       "      <td>0.224293</td>\n",
       "      <td>6.050000</td>\n",
       "      <td>0.370833</td>\n",
       "      <td>10.625000</td>\n",
       "      <td>5.333333</td>\n",
       "      <td>993.362500</td>\n",
       "      <td>11.962500</td>\n",
       "      <td>138.008334</td>\n",
       "      <td>26.0</td>\n",
       "      <td>0</td>\n",
       "    </tr>\n",
       "    <tr>\n",
       "      <th>35835</th>\n",
       "      <td>Alabama-Jefferson-2013-12-1200:00:00</td>\n",
       "      <td>Alabama</td>\n",
       "      <td>Jefferson</td>\n",
       "      <td>2013-12-12</td>\n",
       "      <td>0.012235</td>\n",
       "      <td>0.234672</td>\n",
       "      <td>12.108333</td>\n",
       "      <td>1.100379</td>\n",
       "      <td>13.750000</td>\n",
       "      <td>8.955556</td>\n",
       "      <td>1005.854167</td>\n",
       "      <td>1.833333</td>\n",
       "      <td>78.425000</td>\n",
       "      <td>44.0</td>\n",
       "      <td>0</td>\n",
       "    </tr>\n",
       "    <tr>\n",
       "      <th>35841</th>\n",
       "      <td>Alabama-Jefferson-2013-12-1800:00:00</td>\n",
       "      <td>Alabama</td>\n",
       "      <td>Jefferson</td>\n",
       "      <td>2013-12-18</td>\n",
       "      <td>0.009647</td>\n",
       "      <td>0.358279</td>\n",
       "      <td>21.283333</td>\n",
       "      <td>2.290151</td>\n",
       "      <td>22.857143</td>\n",
       "      <td>13.077778</td>\n",
       "      <td>1001.154167</td>\n",
       "      <td>6.529167</td>\n",
       "      <td>48.220833</td>\n",
       "      <td>66.0</td>\n",
       "      <td>1</td>\n",
       "    </tr>\n",
       "    <tr>\n",
       "      <th>35847</th>\n",
       "      <td>Alabama-Jefferson-2013-12-2400:00:00</td>\n",
       "      <td>Alabama</td>\n",
       "      <td>Jefferson</td>\n",
       "      <td>2013-12-24</td>\n",
       "      <td>0.020000</td>\n",
       "      <td>0.018384</td>\n",
       "      <td>4.504167</td>\n",
       "      <td>0.498106</td>\n",
       "      <td>9.500000</td>\n",
       "      <td>7.511111</td>\n",
       "      <td>1004.775000</td>\n",
       "      <td>-0.262500</td>\n",
       "      <td>116.585417</td>\n",
       "      <td>38.0</td>\n",
       "      <td>0</td>\n",
       "    </tr>\n",
       "    <tr>\n",
       "      <th>35853</th>\n",
       "      <td>Alabama-Jefferson-2013-12-3000:00:00</td>\n",
       "      <td>Alabama</td>\n",
       "      <td>Jefferson</td>\n",
       "      <td>2013-12-30</td>\n",
       "      <td>0.009294</td>\n",
       "      <td>0.164667</td>\n",
       "      <td>9.179167</td>\n",
       "      <td>0.835909</td>\n",
       "      <td>16.875000</td>\n",
       "      <td>11.566667</td>\n",
       "      <td>996.966667</td>\n",
       "      <td>5.645833</td>\n",
       "      <td>104.816666</td>\n",
       "      <td>55.0</td>\n",
       "      <td>1</td>\n",
       "    </tr>\n",
       "    <tr>\n",
       "      <th>35859</th>\n",
       "      <td>Alabama-Jefferson-2014-01-0500:00:00</td>\n",
       "      <td>Alabama</td>\n",
       "      <td>Jefferson</td>\n",
       "      <td>2014-01-05</td>\n",
       "      <td>0.023667</td>\n",
       "      <td>0.177256</td>\n",
       "      <td>12.839130</td>\n",
       "      <td>1.358334</td>\n",
       "      <td>13.875000</td>\n",
       "      <td>8.570000</td>\n",
       "      <td>991.166667</td>\n",
       "      <td>45.395833</td>\n",
       "      <td>64.483333</td>\n",
       "      <td>42.0</td>\n",
       "      <td>0</td>\n",
       "    </tr>\n",
       "    <tr>\n",
       "      <th>35865</th>\n",
       "      <td>Alabama-Jefferson-2014-01-1100:00:00</td>\n",
       "      <td>Alabama</td>\n",
       "      <td>Jefferson</td>\n",
       "      <td>2014-01-11</td>\n",
       "      <td>0.014875</td>\n",
       "      <td>0.391377</td>\n",
       "      <td>4.778261</td>\n",
       "      <td>2.250000</td>\n",
       "      <td>10.571429</td>\n",
       "      <td>4.010000</td>\n",
       "      <td>988.103533</td>\n",
       "      <td>57.510417</td>\n",
       "      <td>106.288542</td>\n",
       "      <td>44.0</td>\n",
       "      <td>0</td>\n",
       "    </tr>\n",
       "    <tr>\n",
       "      <th>35868</th>\n",
       "      <td>Alabama-Jefferson-2014-01-1400:00:00</td>\n",
       "      <td>Alabama</td>\n",
       "      <td>Jefferson</td>\n",
       "      <td>2014-01-14</td>\n",
       "      <td>0.015647</td>\n",
       "      <td>0.272314</td>\n",
       "      <td>8.756522</td>\n",
       "      <td>0.861213</td>\n",
       "      <td>14.500000</td>\n",
       "      <td>4.900000</td>\n",
       "      <td>992.207971</td>\n",
       "      <td>51.266667</td>\n",
       "      <td>110.721875</td>\n",
       "      <td>30.0</td>\n",
       "      <td>0</td>\n",
       "    </tr>\n",
       "    <tr>\n",
       "      <th>35871</th>\n",
       "      <td>Alabama-Jefferson-2014-01-1700:00:00</td>\n",
       "      <td>Alabama</td>\n",
       "      <td>Jefferson</td>\n",
       "      <td>2014-01-17</td>\n",
       "      <td>0.027000</td>\n",
       "      <td>0.385202</td>\n",
       "      <td>8.160000</td>\n",
       "      <td>2.435227</td>\n",
       "      <td>29.833333</td>\n",
       "      <td>6.275000</td>\n",
       "      <td>993.727651</td>\n",
       "      <td>39.766305</td>\n",
       "      <td>120.921830</td>\n",
       "      <td>59.0</td>\n",
       "      <td>1</td>\n",
       "    </tr>\n",
       "    <tr>\n",
       "      <th>35876</th>\n",
       "      <td>Alabama-Jefferson-2014-01-2300:00:00</td>\n",
       "      <td>Alabama</td>\n",
       "      <td>Jefferson</td>\n",
       "      <td>2014-01-23</td>\n",
       "      <td>0.027176</td>\n",
       "      <td>0.329816</td>\n",
       "      <td>17.900000</td>\n",
       "      <td>0.616008</td>\n",
       "      <td>17.571429</td>\n",
       "      <td>8.987500</td>\n",
       "      <td>1005.664583</td>\n",
       "      <td>29.556250</td>\n",
       "      <td>111.167708</td>\n",
       "      <td>48.0</td>\n",
       "      <td>0</td>\n",
       "    </tr>\n",
       "    <tr>\n",
       "      <th>35882</th>\n",
       "      <td>Alabama-Jefferson-2014-01-2900:00:00</td>\n",
       "      <td>Alabama</td>\n",
       "      <td>Jefferson</td>\n",
       "      <td>2014-01-29</td>\n",
       "      <td>0.012529</td>\n",
       "      <td>0.199515</td>\n",
       "      <td>7.304348</td>\n",
       "      <td>0.924053</td>\n",
       "      <td>10.857143</td>\n",
       "      <td>7.800000</td>\n",
       "      <td>1003.510417</td>\n",
       "      <td>19.812500</td>\n",
       "      <td>112.914583</td>\n",
       "      <td>48.0</td>\n",
       "      <td>0</td>\n",
       "    </tr>\n",
       "    <tr>\n",
       "      <th>35886</th>\n",
       "      <td>Alabama-Jefferson-2014-02-0400:00:00</td>\n",
       "      <td>Alabama</td>\n",
       "      <td>Jefferson</td>\n",
       "      <td>2014-02-04</td>\n",
       "      <td>0.005000</td>\n",
       "      <td>0.304872</td>\n",
       "      <td>6.185000</td>\n",
       "      <td>2.299243</td>\n",
       "      <td>12.285714</td>\n",
       "      <td>9.757143</td>\n",
       "      <td>992.997917</td>\n",
       "      <td>48.420834</td>\n",
       "      <td>64.531250</td>\n",
       "      <td>45.0</td>\n",
       "      <td>0</td>\n",
       "    </tr>\n",
       "    <tr>\n",
       "      <th>35892</th>\n",
       "      <td>Alabama-Jefferson-2014-02-1000:00:00</td>\n",
       "      <td>Alabama</td>\n",
       "      <td>Jefferson</td>\n",
       "      <td>2014-02-10</td>\n",
       "      <td>0.015765</td>\n",
       "      <td>0.199567</td>\n",
       "      <td>4.226087</td>\n",
       "      <td>0.487917</td>\n",
       "      <td>17.714286</td>\n",
       "      <td>15.812500</td>\n",
       "      <td>997.089583</td>\n",
       "      <td>39.018750</td>\n",
       "      <td>109.222917</td>\n",
       "      <td>61.0</td>\n",
       "      <td>1</td>\n",
       "    </tr>\n",
       "    <tr>\n",
       "      <th>35898</th>\n",
       "      <td>Alabama-Jefferson-2014-02-1600:00:00</td>\n",
       "      <td>Alabama</td>\n",
       "      <td>Jefferson</td>\n",
       "      <td>2014-02-16</td>\n",
       "      <td>0.010500</td>\n",
       "      <td>0.438184</td>\n",
       "      <td>11.578261</td>\n",
       "      <td>1.903030</td>\n",
       "      <td>19.571429</td>\n",
       "      <td>11.614286</td>\n",
       "      <td>996.664583</td>\n",
       "      <td>48.852083</td>\n",
       "      <td>77.547916</td>\n",
       "      <td>66.0</td>\n",
       "      <td>1</td>\n",
       "    </tr>\n",
       "    <tr>\n",
       "      <th>35904</th>\n",
       "      <td>Alabama-Jefferson-2014-02-2200:00:00</td>\n",
       "      <td>Alabama</td>\n",
       "      <td>Jefferson</td>\n",
       "      <td>2014-02-22</td>\n",
       "      <td>0.020176</td>\n",
       "      <td>0.441480</td>\n",
       "      <td>13.581069</td>\n",
       "      <td>1.770909</td>\n",
       "      <td>13.857143</td>\n",
       "      <td>8.825000</td>\n",
       "      <td>996.164583</td>\n",
       "      <td>53.012500</td>\n",
       "      <td>58.571875</td>\n",
       "      <td>54.0</td>\n",
       "      <td>1</td>\n",
       "    </tr>\n",
       "    <tr>\n",
       "      <th>35910</th>\n",
       "      <td>Alabama-Jefferson-2014-02-2800:00:00</td>\n",
       "      <td>Alabama</td>\n",
       "      <td>Jefferson</td>\n",
       "      <td>2014-02-28</td>\n",
       "      <td>0.018400</td>\n",
       "      <td>0.371761</td>\n",
       "      <td>14.583479</td>\n",
       "      <td>2.191667</td>\n",
       "      <td>18.142857</td>\n",
       "      <td>11.887500</td>\n",
       "      <td>994.843750</td>\n",
       "      <td>44.085417</td>\n",
       "      <td>39.610417</td>\n",
       "      <td>55.0</td>\n",
       "      <td>1</td>\n",
       "    </tr>\n",
       "    <tr>\n",
       "      <th>35916</th>\n",
       "      <td>Alabama-Jefferson-2014-03-0600:00:00</td>\n",
       "      <td>Alabama</td>\n",
       "      <td>Jefferson</td>\n",
       "      <td>2014-03-06</td>\n",
       "      <td>0.024879</td>\n",
       "      <td>0.233004</td>\n",
       "      <td>13.351838</td>\n",
       "      <td>0.553869</td>\n",
       "      <td>12.571429</td>\n",
       "      <td>9.012500</td>\n",
       "      <td>993.531250</td>\n",
       "      <td>42.864583</td>\n",
       "      <td>74.227083</td>\n",
       "      <td>47.0</td>\n",
       "      <td>0</td>\n",
       "    </tr>\n",
       "    <tr>\n",
       "      <th>35922</th>\n",
       "      <td>Alabama-Jefferson-2014-03-1200:00:00</td>\n",
       "      <td>Alabama</td>\n",
       "      <td>Jefferson</td>\n",
       "      <td>2014-03-12</td>\n",
       "      <td>0.030366</td>\n",
       "      <td>0.195674</td>\n",
       "      <td>7.200564</td>\n",
       "      <td>0.635417</td>\n",
       "      <td>17.285714</td>\n",
       "      <td>7.187500</td>\n",
       "      <td>987.337500</td>\n",
       "      <td>53.202083</td>\n",
       "      <td>122.088542</td>\n",
       "      <td>51.0</td>\n",
       "      <td>1</td>\n",
       "    </tr>\n",
       "    <tr>\n",
       "      <th>35928</th>\n",
       "      <td>Alabama-Jefferson-2014-03-1800:00:00</td>\n",
       "      <td>Alabama</td>\n",
       "      <td>Jefferson</td>\n",
       "      <td>2014-03-18</td>\n",
       "      <td>0.018353</td>\n",
       "      <td>0.264773</td>\n",
       "      <td>7.309028</td>\n",
       "      <td>1.437469</td>\n",
       "      <td>10.714286</td>\n",
       "      <td>7.937500</td>\n",
       "      <td>990.364583</td>\n",
       "      <td>47.841667</td>\n",
       "      <td>65.833333</td>\n",
       "      <td>44.0</td>\n",
       "      <td>0</td>\n",
       "    </tr>\n",
       "    <tr>\n",
       "      <th>35934</th>\n",
       "      <td>Alabama-Jefferson-2014-03-2400:00:00</td>\n",
       "      <td>Alabama</td>\n",
       "      <td>Jefferson</td>\n",
       "      <td>2014-03-24</td>\n",
       "      <td>0.036765</td>\n",
       "      <td>0.222786</td>\n",
       "      <td>8.500895</td>\n",
       "      <td>1.732083</td>\n",
       "      <td>14.428571</td>\n",
       "      <td>8.262500</td>\n",
       "      <td>996.375000</td>\n",
       "      <td>50.664583</td>\n",
       "      <td>111.909375</td>\n",
       "      <td>44.0</td>\n",
       "      <td>0</td>\n",
       "    </tr>\n",
       "    <tr>\n",
       "      <th>35940</th>\n",
       "      <td>Alabama-Jefferson-2014-03-3000:00:00</td>\n",
       "      <td>Alabama</td>\n",
       "      <td>Jefferson</td>\n",
       "      <td>2014-03-30</td>\n",
       "      <td>0.025265</td>\n",
       "      <td>0.200304</td>\n",
       "      <td>8.138769</td>\n",
       "      <td>0.582955</td>\n",
       "      <td>11.714286</td>\n",
       "      <td>7.912500</td>\n",
       "      <td>998.768750</td>\n",
       "      <td>52.664583</td>\n",
       "      <td>113.988542</td>\n",
       "      <td>43.0</td>\n",
       "      <td>0</td>\n",
       "    </tr>\n",
       "    <tr>\n",
       "      <th>35946</th>\n",
       "      <td>Alabama-Jefferson-2014-04-0500:00:00</td>\n",
       "      <td>Alabama</td>\n",
       "      <td>Jefferson</td>\n",
       "      <td>2014-04-05</td>\n",
       "      <td>0.038098</td>\n",
       "      <td>0.217628</td>\n",
       "      <td>3.609692</td>\n",
       "      <td>0.631629</td>\n",
       "      <td>10.428571</td>\n",
       "      <td>6.037500</td>\n",
       "      <td>995.370834</td>\n",
       "      <td>54.756250</td>\n",
       "      <td>121.779167</td>\n",
       "      <td>54.0</td>\n",
       "      <td>1</td>\n",
       "    </tr>\n",
       "    <tr>\n",
       "      <th>35952</th>\n",
       "      <td>Alabama-Jefferson-2014-04-1100:00:00</td>\n",
       "      <td>Alabama</td>\n",
       "      <td>Jefferson</td>\n",
       "      <td>2014-04-11</td>\n",
       "      <td>0.031837</td>\n",
       "      <td>0.362909</td>\n",
       "      <td>17.344203</td>\n",
       "      <td>1.083144</td>\n",
       "      <td>25.571429</td>\n",
       "      <td>15.875000</td>\n",
       "      <td>999.520833</td>\n",
       "      <td>64.520834</td>\n",
       "      <td>112.681250</td>\n",
       "      <td>78.0</td>\n",
       "      <td>1</td>\n",
       "    </tr>\n",
       "    <tr>\n",
       "      <th>35958</th>\n",
       "      <td>Alabama-Jefferson-2014-04-1700:00:00</td>\n",
       "      <td>Alabama</td>\n",
       "      <td>Jefferson</td>\n",
       "      <td>2014-04-17</td>\n",
       "      <td>0.043176</td>\n",
       "      <td>0.260773</td>\n",
       "      <td>9.291486</td>\n",
       "      <td>1.870644</td>\n",
       "      <td>16.000000</td>\n",
       "      <td>9.275000</td>\n",
       "      <td>1002.907638</td>\n",
       "      <td>55.311111</td>\n",
       "      <td>42.809028</td>\n",
       "      <td>63.0</td>\n",
       "      <td>1</td>\n",
       "    </tr>\n",
       "    <tr>\n",
       "      <th>35964</th>\n",
       "      <td>Alabama-Jefferson-2014-04-2300:00:00</td>\n",
       "      <td>Alabama</td>\n",
       "      <td>Jefferson</td>\n",
       "      <td>2014-04-23</td>\n",
       "      <td>0.036133</td>\n",
       "      <td>0.306119</td>\n",
       "      <td>11.336956</td>\n",
       "      <td>1.099432</td>\n",
       "      <td>20.428571</td>\n",
       "      <td>10.820000</td>\n",
       "      <td>991.908333</td>\n",
       "      <td>65.987500</td>\n",
       "      <td>68.493750</td>\n",
       "      <td>71.0</td>\n",
       "      <td>1</td>\n",
       "    </tr>\n",
       "    <tr>\n",
       "      <th>35970</th>\n",
       "      <td>Alabama-Jefferson-2014-04-2900:00:00</td>\n",
       "      <td>Alabama</td>\n",
       "      <td>Jefferson</td>\n",
       "      <td>2014-04-29</td>\n",
       "      <td>0.028088</td>\n",
       "      <td>0.353201</td>\n",
       "      <td>9.213826</td>\n",
       "      <td>0.622159</td>\n",
       "      <td>13.750000</td>\n",
       "      <td>6.400000</td>\n",
       "      <td>986.314286</td>\n",
       "      <td>72.178571</td>\n",
       "      <td>73.314286</td>\n",
       "      <td>60.0</td>\n",
       "      <td>1</td>\n",
       "    </tr>\n",
       "    <tr>\n",
       "      <th>35976</th>\n",
       "      <td>Alabama-Jefferson-2014-05-0500:00:00</td>\n",
       "      <td>Alabama</td>\n",
       "      <td>Jefferson</td>\n",
       "      <td>2014-05-05</td>\n",
       "      <td>0.035252</td>\n",
       "      <td>0.445318</td>\n",
       "      <td>15.973160</td>\n",
       "      <td>1.414167</td>\n",
       "      <td>35.625000</td>\n",
       "      <td>13.110000</td>\n",
       "      <td>993.995834</td>\n",
       "      <td>76.806250</td>\n",
       "      <td>90.097917</td>\n",
       "      <td>77.0</td>\n",
       "      <td>1</td>\n",
       "    </tr>\n",
       "    <tr>\n",
       "      <th>35982</th>\n",
       "      <td>Alabama-Jefferson-2014-05-1100:00:00</td>\n",
       "      <td>Alabama</td>\n",
       "      <td>Jefferson</td>\n",
       "      <td>2014-05-11</td>\n",
       "      <td>0.021985</td>\n",
       "      <td>0.322164</td>\n",
       "      <td>6.775000</td>\n",
       "      <td>0.868750</td>\n",
       "      <td>19.875000</td>\n",
       "      <td>11.840000</td>\n",
       "      <td>996.833333</td>\n",
       "      <td>75.895833</td>\n",
       "      <td>50.144791</td>\n",
       "      <td>81.0</td>\n",
       "      <td>1</td>\n",
       "    </tr>\n",
       "    <tr>\n",
       "      <th>35988</th>\n",
       "      <td>Alabama-Jefferson-2014-05-1700:00:00</td>\n",
       "      <td>Alabama</td>\n",
       "      <td>Jefferson</td>\n",
       "      <td>2014-05-17</td>\n",
       "      <td>0.040773</td>\n",
       "      <td>0.383661</td>\n",
       "      <td>12.157881</td>\n",
       "      <td>1.937689</td>\n",
       "      <td>19.375000</td>\n",
       "      <td>13.140000</td>\n",
       "      <td>998.222917</td>\n",
       "      <td>62.389584</td>\n",
       "      <td>76.269792</td>\n",
       "      <td>88.0</td>\n",
       "      <td>1</td>\n",
       "    </tr>\n",
       "    <tr>\n",
       "      <th>35994</th>\n",
       "      <td>Alabama-Jefferson-2014-05-2300:00:00</td>\n",
       "      <td>Alabama</td>\n",
       "      <td>Jefferson</td>\n",
       "      <td>2014-05-23</td>\n",
       "      <td>0.030227</td>\n",
       "      <td>0.424089</td>\n",
       "      <td>15.028986</td>\n",
       "      <td>1.385417</td>\n",
       "      <td>34.250000</td>\n",
       "      <td>14.500000</td>\n",
       "      <td>997.327083</td>\n",
       "      <td>79.425000</td>\n",
       "      <td>115.642708</td>\n",
       "      <td>101.0</td>\n",
       "      <td>2</td>\n",
       "    </tr>\n",
       "  </tbody>\n",
       "</table>\n",
       "</div>"
      ],
      "text/plain": [
       "                               merge_column state_name county_name date_local  \\\n",
       "35829  Alabama-Jefferson-2013-12-0600:00:00    Alabama   Jefferson 2013-12-06   \n",
       "35835  Alabama-Jefferson-2013-12-1200:00:00    Alabama   Jefferson 2013-12-12   \n",
       "35841  Alabama-Jefferson-2013-12-1800:00:00    Alabama   Jefferson 2013-12-18   \n",
       "35847  Alabama-Jefferson-2013-12-2400:00:00    Alabama   Jefferson 2013-12-24   \n",
       "35853  Alabama-Jefferson-2013-12-3000:00:00    Alabama   Jefferson 2013-12-30   \n",
       "35859  Alabama-Jefferson-2014-01-0500:00:00    Alabama   Jefferson 2014-01-05   \n",
       "35865  Alabama-Jefferson-2014-01-1100:00:00    Alabama   Jefferson 2014-01-11   \n",
       "35868  Alabama-Jefferson-2014-01-1400:00:00    Alabama   Jefferson 2014-01-14   \n",
       "35871  Alabama-Jefferson-2014-01-1700:00:00    Alabama   Jefferson 2014-01-17   \n",
       "35876  Alabama-Jefferson-2014-01-2300:00:00    Alabama   Jefferson 2014-01-23   \n",
       "35882  Alabama-Jefferson-2014-01-2900:00:00    Alabama   Jefferson 2014-01-29   \n",
       "35886  Alabama-Jefferson-2014-02-0400:00:00    Alabama   Jefferson 2014-02-04   \n",
       "35892  Alabama-Jefferson-2014-02-1000:00:00    Alabama   Jefferson 2014-02-10   \n",
       "35898  Alabama-Jefferson-2014-02-1600:00:00    Alabama   Jefferson 2014-02-16   \n",
       "35904  Alabama-Jefferson-2014-02-2200:00:00    Alabama   Jefferson 2014-02-22   \n",
       "35910  Alabama-Jefferson-2014-02-2800:00:00    Alabama   Jefferson 2014-02-28   \n",
       "35916  Alabama-Jefferson-2014-03-0600:00:00    Alabama   Jefferson 2014-03-06   \n",
       "35922  Alabama-Jefferson-2014-03-1200:00:00    Alabama   Jefferson 2014-03-12   \n",
       "35928  Alabama-Jefferson-2014-03-1800:00:00    Alabama   Jefferson 2014-03-18   \n",
       "35934  Alabama-Jefferson-2014-03-2400:00:00    Alabama   Jefferson 2014-03-24   \n",
       "35940  Alabama-Jefferson-2014-03-3000:00:00    Alabama   Jefferson 2014-03-30   \n",
       "35946  Alabama-Jefferson-2014-04-0500:00:00    Alabama   Jefferson 2014-04-05   \n",
       "35952  Alabama-Jefferson-2014-04-1100:00:00    Alabama   Jefferson 2014-04-11   \n",
       "35958  Alabama-Jefferson-2014-04-1700:00:00    Alabama   Jefferson 2014-04-17   \n",
       "35964  Alabama-Jefferson-2014-04-2300:00:00    Alabama   Jefferson 2014-04-23   \n",
       "35970  Alabama-Jefferson-2014-04-2900:00:00    Alabama   Jefferson 2014-04-29   \n",
       "35976  Alabama-Jefferson-2014-05-0500:00:00    Alabama   Jefferson 2014-05-05   \n",
       "35982  Alabama-Jefferson-2014-05-1100:00:00    Alabama   Jefferson 2014-05-11   \n",
       "35988  Alabama-Jefferson-2014-05-1700:00:00    Alabama   Jefferson 2014-05-17   \n",
       "35994  Alabama-Jefferson-2014-05-2300:00:00    Alabama   Jefferson 2014-05-23   \n",
       "\n",
       "             o3        co        no2       so2       pm10       pm25  \\\n",
       "35829  0.001412  0.224293   6.050000  0.370833  10.625000   5.333333   \n",
       "35835  0.012235  0.234672  12.108333  1.100379  13.750000   8.955556   \n",
       "35841  0.009647  0.358279  21.283333  2.290151  22.857143  13.077778   \n",
       "35847  0.020000  0.018384   4.504167  0.498106   9.500000   7.511111   \n",
       "35853  0.009294  0.164667   9.179167  0.835909  16.875000  11.566667   \n",
       "35859  0.023667  0.177256  12.839130  1.358334  13.875000   8.570000   \n",
       "35865  0.014875  0.391377   4.778261  2.250000  10.571429   4.010000   \n",
       "35868  0.015647  0.272314   8.756522  0.861213  14.500000   4.900000   \n",
       "35871  0.027000  0.385202   8.160000  2.435227  29.833333   6.275000   \n",
       "35876  0.027176  0.329816  17.900000  0.616008  17.571429   8.987500   \n",
       "35882  0.012529  0.199515   7.304348  0.924053  10.857143   7.800000   \n",
       "35886  0.005000  0.304872   6.185000  2.299243  12.285714   9.757143   \n",
       "35892  0.015765  0.199567   4.226087  0.487917  17.714286  15.812500   \n",
       "35898  0.010500  0.438184  11.578261  1.903030  19.571429  11.614286   \n",
       "35904  0.020176  0.441480  13.581069  1.770909  13.857143   8.825000   \n",
       "35910  0.018400  0.371761  14.583479  2.191667  18.142857  11.887500   \n",
       "35916  0.024879  0.233004  13.351838  0.553869  12.571429   9.012500   \n",
       "35922  0.030366  0.195674   7.200564  0.635417  17.285714   7.187500   \n",
       "35928  0.018353  0.264773   7.309028  1.437469  10.714286   7.937500   \n",
       "35934  0.036765  0.222786   8.500895  1.732083  14.428571   8.262500   \n",
       "35940  0.025265  0.200304   8.138769  0.582955  11.714286   7.912500   \n",
       "35946  0.038098  0.217628   3.609692  0.631629  10.428571   6.037500   \n",
       "35952  0.031837  0.362909  17.344203  1.083144  25.571429  15.875000   \n",
       "35958  0.043176  0.260773   9.291486  1.870644  16.000000   9.275000   \n",
       "35964  0.036133  0.306119  11.336956  1.099432  20.428571  10.820000   \n",
       "35970  0.028088  0.353201   9.213826  0.622159  13.750000   6.400000   \n",
       "35976  0.035252  0.445318  15.973160  1.414167  35.625000  13.110000   \n",
       "35982  0.021985  0.322164   6.775000  0.868750  19.875000  11.840000   \n",
       "35988  0.040773  0.383661  12.157881  1.937689  19.375000  13.140000   \n",
       "35994  0.030227  0.424089  15.028986  1.385417  34.250000  14.500000   \n",
       "\n",
       "          pressure  temperature        wind    aqi target  \n",
       "35829   993.362500    11.962500  138.008334   26.0      0  \n",
       "35835  1005.854167     1.833333   78.425000   44.0      0  \n",
       "35841  1001.154167     6.529167   48.220833   66.0      1  \n",
       "35847  1004.775000    -0.262500  116.585417   38.0      0  \n",
       "35853   996.966667     5.645833  104.816666   55.0      1  \n",
       "35859   991.166667    45.395833   64.483333   42.0      0  \n",
       "35865   988.103533    57.510417  106.288542   44.0      0  \n",
       "35868   992.207971    51.266667  110.721875   30.0      0  \n",
       "35871   993.727651    39.766305  120.921830   59.0      1  \n",
       "35876  1005.664583    29.556250  111.167708   48.0      0  \n",
       "35882  1003.510417    19.812500  112.914583   48.0      0  \n",
       "35886   992.997917    48.420834   64.531250   45.0      0  \n",
       "35892   997.089583    39.018750  109.222917   61.0      1  \n",
       "35898   996.664583    48.852083   77.547916   66.0      1  \n",
       "35904   996.164583    53.012500   58.571875   54.0      1  \n",
       "35910   994.843750    44.085417   39.610417   55.0      1  \n",
       "35916   993.531250    42.864583   74.227083   47.0      0  \n",
       "35922   987.337500    53.202083  122.088542   51.0      1  \n",
       "35928   990.364583    47.841667   65.833333   44.0      0  \n",
       "35934   996.375000    50.664583  111.909375   44.0      0  \n",
       "35940   998.768750    52.664583  113.988542   43.0      0  \n",
       "35946   995.370834    54.756250  121.779167   54.0      1  \n",
       "35952   999.520833    64.520834  112.681250   78.0      1  \n",
       "35958  1002.907638    55.311111   42.809028   63.0      1  \n",
       "35964   991.908333    65.987500   68.493750   71.0      1  \n",
       "35970   986.314286    72.178571   73.314286   60.0      1  \n",
       "35976   993.995834    76.806250   90.097917   77.0      1  \n",
       "35982   996.833333    75.895833   50.144791   81.0      1  \n",
       "35988   998.222917    62.389584   76.269792   88.0      1  \n",
       "35994   997.327083    79.425000  115.642708  101.0      2  "
      ]
     },
     "execution_count": 95,
     "metadata": {},
     "output_type": "execute_result"
    }
   ],
   "source": [
    "full_rows.head(30)"
   ]
  },
  {
   "cell_type": "code",
   "execution_count": 96,
   "metadata": {},
   "outputs": [],
   "source": [
    "final_merge.to_csv('nonnull_binned_data.csv', index=False)"
   ]
  },
  {
   "cell_type": "markdown",
   "metadata": {},
   "source": [
    "### Success!\n",
    "\n",
    "I have now combined the 200 files into just 2 files: `merged_data.csv` and `nonnull_binned_data.csv`."
   ]
  },
  {
   "cell_type": "code",
   "execution_count": 97,
   "metadata": {},
   "outputs": [
    {
     "data": {
      "text/plain": [
       "(5097760, 30)"
      ]
     },
     "execution_count": 97,
     "metadata": {},
     "output_type": "execute_result"
    }
   ],
   "source": [
    "temperature.shape"
   ]
  },
  {
   "cell_type": "code",
   "execution_count": 98,
   "metadata": {},
   "outputs": [
    {
     "data": {
      "text/plain": [
       "(2557801, 5)"
      ]
     },
     "execution_count": 98,
     "metadata": {},
     "output_type": "execute_result"
    }
   ],
   "source": [
    "temperature_merged.shape"
   ]
  },
  {
   "cell_type": "code",
   "execution_count": 100,
   "metadata": {},
   "outputs": [
    {
     "data": {
      "text/html": [
       "<div>\n",
       "<style scoped>\n",
       "    .dataframe tbody tr th:only-of-type {\n",
       "        vertical-align: middle;\n",
       "    }\n",
       "\n",
       "    .dataframe tbody tr th {\n",
       "        vertical-align: top;\n",
       "    }\n",
       "\n",
       "    .dataframe thead th {\n",
       "        text-align: right;\n",
       "    }\n",
       "</style>\n",
       "<table border=\"1\" class=\"dataframe\">\n",
       "  <thead>\n",
       "    <tr style=\"text-align: right;\">\n",
       "      <th></th>\n",
       "      <th>state_code</th>\n",
       "      <th>county_code</th>\n",
       "      <th>site_num</th>\n",
       "      <th>parameter_code</th>\n",
       "      <th>poc</th>\n",
       "      <th>latitude</th>\n",
       "      <th>longitude</th>\n",
       "      <th>datum</th>\n",
       "      <th>parameter_name</th>\n",
       "      <th>sample_duration</th>\n",
       "      <th>pollutant_standard</th>\n",
       "      <th>date_local</th>\n",
       "      <th>units_of_measure</th>\n",
       "      <th>event_type</th>\n",
       "      <th>observation_count</th>\n",
       "      <th>observation_percent</th>\n",
       "      <th>arithmetic_mean</th>\n",
       "      <th>1st_max_value</th>\n",
       "      <th>1st_max_hour</th>\n",
       "      <th>aqi</th>\n",
       "      <th>method_code</th>\n",
       "      <th>method_name</th>\n",
       "      <th>local_site_name</th>\n",
       "      <th>address</th>\n",
       "      <th>state_name</th>\n",
       "      <th>county_name</th>\n",
       "      <th>city_name</th>\n",
       "      <th>cbsa_name</th>\n",
       "      <th>date_of_last_change</th>\n",
       "      <th>merge_column</th>\n",
       "    </tr>\n",
       "  </thead>\n",
       "  <tbody>\n",
       "    <tr>\n",
       "      <th>0</th>\n",
       "      <td>2</td>\n",
       "      <td>68</td>\n",
       "      <td>3</td>\n",
       "      <td>62101</td>\n",
       "      <td>1</td>\n",
       "      <td>63.7232</td>\n",
       "      <td>-148.9676</td>\n",
       "      <td>WGS84</td>\n",
       "      <td>Outdoor Temperature</td>\n",
       "      <td>1 HOUR</td>\n",
       "      <td>NaN</td>\n",
       "      <td>2000-01-01</td>\n",
       "      <td>Degrees Fahrenheit</td>\n",
       "      <td>None</td>\n",
       "      <td>24</td>\n",
       "      <td>100.0</td>\n",
       "      <td>-25.541667</td>\n",
       "      <td>-18.0</td>\n",
       "      <td>23</td>\n",
       "      <td>NaN</td>\n",
       "      <td>41</td>\n",
       "      <td>INSTRUMENTAL - ELEC. OR MACH. AVG. LEVEL 1</td>\n",
       "      <td>Denali NP &amp; PRES - Headquarters</td>\n",
       "      <td>DENALI NATIONAL PARK</td>\n",
       "      <td>Alaska</td>\n",
       "      <td>Denali</td>\n",
       "      <td>Not in a city</td>\n",
       "      <td>NaN</td>\n",
       "      <td>2013-06-11</td>\n",
       "      <td>Alaska-Denali-2000-01-0100:00:00</td>\n",
       "    </tr>\n",
       "  </tbody>\n",
       "</table>\n",
       "</div>"
      ],
      "text/plain": [
       "   state_code  county_code  site_num  parameter_code  poc  latitude  \\\n",
       "0           2           68         3           62101    1   63.7232   \n",
       "\n",
       "   longitude  datum       parameter_name sample_duration  pollutant_standard  \\\n",
       "0  -148.9676  WGS84  Outdoor Temperature          1 HOUR                 NaN   \n",
       "\n",
       "  date_local    units_of_measure event_type  observation_count  \\\n",
       "0 2000-01-01  Degrees Fahrenheit       None                 24   \n",
       "\n",
       "   observation_percent  arithmetic_mean  1st_max_value  1st_max_hour  aqi  \\\n",
       "0                100.0       -25.541667          -18.0            23  NaN   \n",
       "\n",
       "   method_code                                 method_name  \\\n",
       "0           41  INSTRUMENTAL - ELEC. OR MACH. AVG. LEVEL 1   \n",
       "\n",
       "                   local_site_name               address state_name  \\\n",
       "0  Denali NP & PRES - Headquarters  DENALI NATIONAL PARK     Alaska   \n",
       "\n",
       "  county_name      city_name cbsa_name date_of_last_change  \\\n",
       "0     Denali   Not in a city       NaN          2013-06-11   \n",
       "\n",
       "                       merge_column  \n",
       "0  Alaska-Denali-2000-01-0100:00:00  "
      ]
     },
     "execution_count": 100,
     "metadata": {},
     "output_type": "execute_result"
    }
   ],
   "source": [
    "check_merge_column(temperature, 'Alaska-Denali-2000-01-0100:00:00')"
   ]
  },
  {
   "cell_type": "code",
   "execution_count": 99,
   "metadata": {},
   "outputs": [
    {
     "data": {
      "text/html": [
       "<div>\n",
       "<style scoped>\n",
       "    .dataframe tbody tr th:only-of-type {\n",
       "        vertical-align: middle;\n",
       "    }\n",
       "\n",
       "    .dataframe tbody tr th {\n",
       "        vertical-align: top;\n",
       "    }\n",
       "\n",
       "    .dataframe thead th {\n",
       "        text-align: right;\n",
       "    }\n",
       "</style>\n",
       "<table border=\"1\" class=\"dataframe\">\n",
       "  <thead>\n",
       "    <tr style=\"text-align: right;\">\n",
       "      <th></th>\n",
       "      <th>state_code</th>\n",
       "      <th>county_code</th>\n",
       "      <th>site_num</th>\n",
       "      <th>parameter_code</th>\n",
       "      <th>poc</th>\n",
       "      <th>latitude</th>\n",
       "      <th>longitude</th>\n",
       "      <th>datum</th>\n",
       "      <th>parameter_name</th>\n",
       "      <th>sample_duration</th>\n",
       "      <th>pollutant_standard</th>\n",
       "      <th>date_local</th>\n",
       "      <th>units_of_measure</th>\n",
       "      <th>event_type</th>\n",
       "      <th>observation_count</th>\n",
       "      <th>observation_percent</th>\n",
       "      <th>arithmetic_mean</th>\n",
       "      <th>1st_max_value</th>\n",
       "      <th>1st_max_hour</th>\n",
       "      <th>aqi</th>\n",
       "      <th>method_code</th>\n",
       "      <th>method_name</th>\n",
       "      <th>local_site_name</th>\n",
       "      <th>address</th>\n",
       "      <th>state_name</th>\n",
       "      <th>county_name</th>\n",
       "      <th>city_name</th>\n",
       "      <th>cbsa_name</th>\n",
       "      <th>date_of_last_change</th>\n",
       "      <th>merge_column</th>\n",
       "    </tr>\n",
       "  </thead>\n",
       "  <tbody>\n",
       "    <tr>\n",
       "      <th>0</th>\n",
       "      <td>2</td>\n",
       "      <td>68</td>\n",
       "      <td>3</td>\n",
       "      <td>62101</td>\n",
       "      <td>1</td>\n",
       "      <td>63.7232</td>\n",
       "      <td>-148.9676</td>\n",
       "      <td>WGS84</td>\n",
       "      <td>Outdoor Temperature</td>\n",
       "      <td>1 HOUR</td>\n",
       "      <td>NaN</td>\n",
       "      <td>2000-01-01</td>\n",
       "      <td>Degrees Fahrenheit</td>\n",
       "      <td>None</td>\n",
       "      <td>24</td>\n",
       "      <td>100.0</td>\n",
       "      <td>-25.541667</td>\n",
       "      <td>-18.0</td>\n",
       "      <td>23</td>\n",
       "      <td>NaN</td>\n",
       "      <td>41</td>\n",
       "      <td>INSTRUMENTAL - ELEC. OR MACH. AVG. LEVEL 1</td>\n",
       "      <td>Denali NP &amp; PRES - Headquarters</td>\n",
       "      <td>DENALI NATIONAL PARK</td>\n",
       "      <td>Alaska</td>\n",
       "      <td>Denali</td>\n",
       "      <td>Not in a city</td>\n",
       "      <td>NaN</td>\n",
       "      <td>2013-06-11</td>\n",
       "      <td>Alaska-Denali-2000-01-0100:00:00</td>\n",
       "    </tr>\n",
       "    <tr>\n",
       "      <th>1</th>\n",
       "      <td>2</td>\n",
       "      <td>68</td>\n",
       "      <td>3</td>\n",
       "      <td>62101</td>\n",
       "      <td>1</td>\n",
       "      <td>63.7232</td>\n",
       "      <td>-148.9676</td>\n",
       "      <td>WGS84</td>\n",
       "      <td>Outdoor Temperature</td>\n",
       "      <td>1 HOUR</td>\n",
       "      <td>NaN</td>\n",
       "      <td>2000-01-02</td>\n",
       "      <td>Degrees Fahrenheit</td>\n",
       "      <td>None</td>\n",
       "      <td>24</td>\n",
       "      <td>100.0</td>\n",
       "      <td>-13.416667</td>\n",
       "      <td>-6.0</td>\n",
       "      <td>20</td>\n",
       "      <td>NaN</td>\n",
       "      <td>41</td>\n",
       "      <td>INSTRUMENTAL - ELEC. OR MACH. AVG. LEVEL 1</td>\n",
       "      <td>Denali NP &amp; PRES - Headquarters</td>\n",
       "      <td>DENALI NATIONAL PARK</td>\n",
       "      <td>Alaska</td>\n",
       "      <td>Denali</td>\n",
       "      <td>Not in a city</td>\n",
       "      <td>NaN</td>\n",
       "      <td>2013-06-11</td>\n",
       "      <td>Alaska-Denali-2000-01-0200:00:00</td>\n",
       "    </tr>\n",
       "    <tr>\n",
       "      <th>2</th>\n",
       "      <td>2</td>\n",
       "      <td>68</td>\n",
       "      <td>3</td>\n",
       "      <td>62101</td>\n",
       "      <td>1</td>\n",
       "      <td>63.7232</td>\n",
       "      <td>-148.9676</td>\n",
       "      <td>WGS84</td>\n",
       "      <td>Outdoor Temperature</td>\n",
       "      <td>1 HOUR</td>\n",
       "      <td>NaN</td>\n",
       "      <td>2000-01-03</td>\n",
       "      <td>Degrees Fahrenheit</td>\n",
       "      <td>None</td>\n",
       "      <td>24</td>\n",
       "      <td>100.0</td>\n",
       "      <td>-6.875000</td>\n",
       "      <td>-3.0</td>\n",
       "      <td>15</td>\n",
       "      <td>NaN</td>\n",
       "      <td>41</td>\n",
       "      <td>INSTRUMENTAL - ELEC. OR MACH. AVG. LEVEL 1</td>\n",
       "      <td>Denali NP &amp; PRES - Headquarters</td>\n",
       "      <td>DENALI NATIONAL PARK</td>\n",
       "      <td>Alaska</td>\n",
       "      <td>Denali</td>\n",
       "      <td>Not in a city</td>\n",
       "      <td>NaN</td>\n",
       "      <td>2013-06-11</td>\n",
       "      <td>Alaska-Denali-2000-01-0300:00:00</td>\n",
       "    </tr>\n",
       "    <tr>\n",
       "      <th>3</th>\n",
       "      <td>2</td>\n",
       "      <td>68</td>\n",
       "      <td>3</td>\n",
       "      <td>62101</td>\n",
       "      <td>1</td>\n",
       "      <td>63.7232</td>\n",
       "      <td>-148.9676</td>\n",
       "      <td>WGS84</td>\n",
       "      <td>Outdoor Temperature</td>\n",
       "      <td>1 HOUR</td>\n",
       "      <td>NaN</td>\n",
       "      <td>2000-01-04</td>\n",
       "      <td>Degrees Fahrenheit</td>\n",
       "      <td>None</td>\n",
       "      <td>24</td>\n",
       "      <td>100.0</td>\n",
       "      <td>-23.375000</td>\n",
       "      <td>-18.0</td>\n",
       "      <td>0</td>\n",
       "      <td>NaN</td>\n",
       "      <td>41</td>\n",
       "      <td>INSTRUMENTAL - ELEC. OR MACH. AVG. LEVEL 1</td>\n",
       "      <td>Denali NP &amp; PRES - Headquarters</td>\n",
       "      <td>DENALI NATIONAL PARK</td>\n",
       "      <td>Alaska</td>\n",
       "      <td>Denali</td>\n",
       "      <td>Not in a city</td>\n",
       "      <td>NaN</td>\n",
       "      <td>2013-06-11</td>\n",
       "      <td>Alaska-Denali-2000-01-0400:00:00</td>\n",
       "    </tr>\n",
       "    <tr>\n",
       "      <th>4</th>\n",
       "      <td>2</td>\n",
       "      <td>68</td>\n",
       "      <td>3</td>\n",
       "      <td>62101</td>\n",
       "      <td>1</td>\n",
       "      <td>63.7232</td>\n",
       "      <td>-148.9676</td>\n",
       "      <td>WGS84</td>\n",
       "      <td>Outdoor Temperature</td>\n",
       "      <td>1 HOUR</td>\n",
       "      <td>NaN</td>\n",
       "      <td>2000-01-05</td>\n",
       "      <td>Degrees Fahrenheit</td>\n",
       "      <td>None</td>\n",
       "      <td>24</td>\n",
       "      <td>100.0</td>\n",
       "      <td>-13.750000</td>\n",
       "      <td>-4.0</td>\n",
       "      <td>18</td>\n",
       "      <td>NaN</td>\n",
       "      <td>41</td>\n",
       "      <td>INSTRUMENTAL - ELEC. OR MACH. AVG. LEVEL 1</td>\n",
       "      <td>Denali NP &amp; PRES - Headquarters</td>\n",
       "      <td>DENALI NATIONAL PARK</td>\n",
       "      <td>Alaska</td>\n",
       "      <td>Denali</td>\n",
       "      <td>Not in a city</td>\n",
       "      <td>NaN</td>\n",
       "      <td>2013-06-11</td>\n",
       "      <td>Alaska-Denali-2000-01-0500:00:00</td>\n",
       "    </tr>\n",
       "  </tbody>\n",
       "</table>\n",
       "</div>"
      ],
      "text/plain": [
       "   state_code  county_code  site_num  parameter_code  poc  latitude  \\\n",
       "0           2           68         3           62101    1   63.7232   \n",
       "1           2           68         3           62101    1   63.7232   \n",
       "2           2           68         3           62101    1   63.7232   \n",
       "3           2           68         3           62101    1   63.7232   \n",
       "4           2           68         3           62101    1   63.7232   \n",
       "\n",
       "   longitude  datum       parameter_name sample_duration  pollutant_standard  \\\n",
       "0  -148.9676  WGS84  Outdoor Temperature          1 HOUR                 NaN   \n",
       "1  -148.9676  WGS84  Outdoor Temperature          1 HOUR                 NaN   \n",
       "2  -148.9676  WGS84  Outdoor Temperature          1 HOUR                 NaN   \n",
       "3  -148.9676  WGS84  Outdoor Temperature          1 HOUR                 NaN   \n",
       "4  -148.9676  WGS84  Outdoor Temperature          1 HOUR                 NaN   \n",
       "\n",
       "  date_local    units_of_measure event_type  observation_count  \\\n",
       "0 2000-01-01  Degrees Fahrenheit       None                 24   \n",
       "1 2000-01-02  Degrees Fahrenheit       None                 24   \n",
       "2 2000-01-03  Degrees Fahrenheit       None                 24   \n",
       "3 2000-01-04  Degrees Fahrenheit       None                 24   \n",
       "4 2000-01-05  Degrees Fahrenheit       None                 24   \n",
       "\n",
       "   observation_percent  arithmetic_mean  1st_max_value  1st_max_hour  aqi  \\\n",
       "0                100.0       -25.541667          -18.0            23  NaN   \n",
       "1                100.0       -13.416667           -6.0            20  NaN   \n",
       "2                100.0        -6.875000           -3.0            15  NaN   \n",
       "3                100.0       -23.375000          -18.0             0  NaN   \n",
       "4                100.0       -13.750000           -4.0            18  NaN   \n",
       "\n",
       "   method_code                                 method_name  \\\n",
       "0           41  INSTRUMENTAL - ELEC. OR MACH. AVG. LEVEL 1   \n",
       "1           41  INSTRUMENTAL - ELEC. OR MACH. AVG. LEVEL 1   \n",
       "2           41  INSTRUMENTAL - ELEC. OR MACH. AVG. LEVEL 1   \n",
       "3           41  INSTRUMENTAL - ELEC. OR MACH. AVG. LEVEL 1   \n",
       "4           41  INSTRUMENTAL - ELEC. OR MACH. AVG. LEVEL 1   \n",
       "\n",
       "                   local_site_name               address state_name  \\\n",
       "0  Denali NP & PRES - Headquarters  DENALI NATIONAL PARK     Alaska   \n",
       "1  Denali NP & PRES - Headquarters  DENALI NATIONAL PARK     Alaska   \n",
       "2  Denali NP & PRES - Headquarters  DENALI NATIONAL PARK     Alaska   \n",
       "3  Denali NP & PRES - Headquarters  DENALI NATIONAL PARK     Alaska   \n",
       "4  Denali NP & PRES - Headquarters  DENALI NATIONAL PARK     Alaska   \n",
       "\n",
       "  county_name      city_name cbsa_name date_of_last_change  \\\n",
       "0     Denali   Not in a city       NaN          2013-06-11   \n",
       "1     Denali   Not in a city       NaN          2013-06-11   \n",
       "2     Denali   Not in a city       NaN          2013-06-11   \n",
       "3     Denali   Not in a city       NaN          2013-06-11   \n",
       "4     Denali   Not in a city       NaN          2013-06-11   \n",
       "\n",
       "                       merge_column  \n",
       "0  Alaska-Denali-2000-01-0100:00:00  \n",
       "1  Alaska-Denali-2000-01-0200:00:00  \n",
       "2  Alaska-Denali-2000-01-0300:00:00  \n",
       "3  Alaska-Denali-2000-01-0400:00:00  \n",
       "4  Alaska-Denali-2000-01-0500:00:00  "
      ]
     },
     "execution_count": 99,
     "metadata": {},
     "output_type": "execute_result"
    }
   ],
   "source": [
    "temperature.head()"
   ]
  },
  {
   "cell_type": "code",
   "execution_count": null,
   "metadata": {},
   "outputs": [],
   "source": []
  }
 ],
 "metadata": {
  "kernelspec": {
   "display_name": "Python 3",
   "language": "python",
   "name": "python3"
  },
  "language_info": {
   "codemirror_mode": {
    "name": "ipython",
    "version": 3
   },
   "file_extension": ".py",
   "mimetype": "text/x-python",
   "name": "python",
   "nbconvert_exporter": "python",
   "pygments_lexer": "ipython3",
   "version": "3.7.6"
  }
 },
 "nbformat": 4,
 "nbformat_minor": 2
}
